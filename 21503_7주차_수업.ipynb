{
  "nbformat": 4,
  "nbformat_minor": 0,
  "metadata": {
    "colab": {
      "name": "21503_7주차 수업",
      "provenance": [],
      "authorship_tag": "ABX9TyOfKkqY8hJZi+BXkv8xDihd",
      "include_colab_link": true
    },
    "kernelspec": {
      "name": "python3",
      "display_name": "Python 3"
    },
    "language_info": {
      "name": "python"
    }
  },
  "cells": [
    {
      "cell_type": "markdown",
      "metadata": {
        "id": "view-in-github",
        "colab_type": "text"
      },
      "source": [
        "<a href=\"https://colab.research.google.com/github/sinwooo/bmt_python/blob/main/21503_7%EC%A3%BC%EC%B0%A8_%EC%88%98%EC%97%85.ipynb\" target=\"_parent\"><img src=\"https://colab.research.google.com/assets/colab-badge.svg\" alt=\"Open In Colab\"/></a>"
      ]
    },
    {
      "cell_type": "code",
      "metadata": {
        "colab": {
          "base_uri": "https://localhost:8080/"
        },
        "id": "hk6vMZgpIZGo",
        "outputId": "26a3f01c-547e-4964-af7e-9506ad40c7c1"
      },
      "source": [
        "x= int(input('값 입력 : '))\n"
      ],
      "execution_count": 9,
      "outputs": [
        {
          "output_type": "stream",
          "text": [
            "값 입력 : 4\n"
          ],
          "name": "stdout"
        }
      ]
    },
    {
      "cell_type": "code",
      "metadata": {
        "colab": {
          "base_uri": "https://localhost:8080/"
        },
        "id": "SNanRpELKBet",
        "outputId": "5cdc9362-5b41-4e26-afd8-431633b10c40"
      },
      "source": [
        "x"
      ],
      "execution_count": 10,
      "outputs": [
        {
          "output_type": "execute_result",
          "data": {
            "text/plain": [
              "4"
            ]
          },
          "metadata": {
            "tags": []
          },
          "execution_count": 10
        }
      ]
    },
    {
      "cell_type": "code",
      "metadata": {
        "colab": {
          "base_uri": "https://localhost:8080/"
        },
        "id": "Fe8ScEjNKE3l",
        "outputId": "29a38ec1-54d8-4d86-9e9e-92e13dd9ff75"
      },
      "source": [
        "if x % 2==0:\n",
        "  print(f'{x} : even')\n",
        "  print('babo')\n",
        "print('hello')"
      ],
      "execution_count": 11,
      "outputs": [
        {
          "output_type": "stream",
          "text": [
            "4 : even\n",
            "babo\n",
            "hello\n"
          ],
          "name": "stdout"
        }
      ]
    },
    {
      "cell_type": "code",
      "metadata": {
        "colab": {
          "base_uri": "https://localhost:8080/"
        },
        "id": "eQDRqzQ-KfnW",
        "outputId": "107722d5-6e17-4a27-ae16-d65492cce3da"
      },
      "source": [
        "  x= int(input('값 입력 : '))\n",
        "  if x %2==0:\n",
        "    print(f'{x}: 짝수')\n",
        "  elif x % 2==1:\n",
        "    print(f'{x}: 홀수')\n"
      ],
      "execution_count": 15,
      "outputs": [
        {
          "output_type": "stream",
          "text": [
            "값 입력 : 2\n",
            "2: 짝수\n"
          ],
          "name": "stdout"
        }
      ]
    },
    {
      "cell_type": "code",
      "metadata": {
        "colab": {
          "base_uri": "https://localhost:8080/"
        },
        "id": "MkbRxm9hKnFW",
        "outputId": "2f10f76b-6df0-474f-fc6d-30a715a5717c"
      },
      "source": [
        "x = float(input('  성적입력 : ' ))\n",
        "\n",
        "if x >=70:\n",
        "  print(f'{x} : PASS')\n",
        "elif x >=60:\n",
        "  print(f'{x} : RETEST')\n",
        "else:\n",
        "  print(f'{x} : FAIL')"
      ],
      "execution_count": 19,
      "outputs": [
        {
          "output_type": "stream",
          "text": [
            "  성적입력 : 70\n",
            "70.0 : PASS\n"
          ],
          "name": "stdout"
        }
      ]
    },
    {
      "cell_type": "code",
      "metadata": {
        "colab": {
          "base_uri": "https://localhost:8080/"
        },
        "id": "ln17C34pMTk9",
        "outputId": "7eede1ed-c030-4984-ae5a-66bc80dd9a84"
      },
      "source": [
        "str ='안녕하세여'\n",
        "'안' in str"
      ],
      "execution_count": 22,
      "outputs": [
        {
          "output_type": "execute_result",
          "data": {
            "text/plain": [
              "True"
            ]
          },
          "metadata": {
            "tags": []
          },
          "execution_count": 22
        }
      ]
    },
    {
      "cell_type": "code",
      "metadata": {
        "colab": {
          "base_uri": "https://localhost:8080/"
        },
        "id": "RVhzjK3KNp-m",
        "outputId": "ac271d8d-f15e-4d85-ef7a-a1935f890e66"
      },
      "source": [
        "1 in [1,2,3]\n"
      ],
      "execution_count": 23,
      "outputs": [
        {
          "output_type": "execute_result",
          "data": {
            "text/plain": [
              "True"
            ]
          },
          "metadata": {
            "tags": []
          },
          "execution_count": 23
        }
      ]
    },
    {
      "cell_type": "code",
      "metadata": {
        "colab": {
          "base_uri": "https://localhost:8080/"
        },
        "id": "LzWgfhPdN0bG",
        "outputId": "74c6883b-0ecc-4ad1-f0f3-5b1d4bb15849"
      },
      "source": [
        "str = '안녕하세요'\n",
        "for i in str:\n",
        "  print(i)"
      ],
      "execution_count": 26,
      "outputs": [
        {
          "output_type": "stream",
          "text": [
            "안\n",
            "녕\n",
            "하\n",
            "세\n",
            "요\n"
          ],
          "name": "stdout"
        }
      ]
    },
    {
      "cell_type": "code",
      "metadata": {
        "colab": {
          "base_uri": "https://localhost:8080/"
        },
        "id": "UPFbWtPnOOXG",
        "outputId": "849fbe34-211f-4727-dae5-73e19b01300d"
      },
      "source": [
        "lst = [0,1,2,3,4]\n",
        "lst=list(range(5))\n",
        "for i in lst:\n",
        "    print(i)"
      ],
      "execution_count": 28,
      "outputs": [
        {
          "output_type": "stream",
          "text": [
            "0\n",
            "1\n",
            "2\n",
            "3\n",
            "4\n"
          ],
          "name": "stdout"
        }
      ]
    },
    {
      "cell_type": "code",
      "metadata": {
        "colab": {
          "base_uri": "https://localhost:8080/"
        },
        "id": "xjhHQ8vUOaVt",
        "outputId": "50cc9444-0d45-40a6-e2b3-3a2bdc6e3e3d"
      },
      "source": [
        "for i in range(5):\n",
        "   print(i, end=\" \")\n",
        "   print(i*2,  end=\" \")\n",
        "   print(i**2,  end=\" \")\n",
        "   print()"
      ],
      "execution_count": 38,
      "outputs": [
        {
          "output_type": "stream",
          "text": [
            "0 0 0 \n",
            "1 2 1 \n",
            "2 4 4 \n",
            "3 6 9 \n",
            "4 8 16 \n"
          ],
          "name": "stdout"
        }
      ]
    },
    {
      "cell_type": "code",
      "metadata": {
        "colab": {
          "base_uri": "https://localhost:8080/"
        },
        "id": "jFH6hZeOOmyW",
        "outputId": "c6d9f53d-8f7a-4ea4-d47f-7c27b1bf6c08"
      },
      "source": [
        "d={'a':1, 'b':2}\n",
        "\n",
        "for i in d:\n",
        "  print(i)"
      ],
      "execution_count": 43,
      "outputs": [
        {
          "output_type": "stream",
          "text": [
            "a\n",
            "b\n"
          ],
          "name": "stdout"
        }
      ]
    },
    {
      "cell_type": "markdown",
      "metadata": {
        "id": "-wFr7S-rPMj3"
      },
      "source": [
        "\n",
        "\n",
        "\n",
        "saddas\n"
      ]
    },
    {
      "cell_type": "code",
      "metadata": {
        "colab": {
          "base_uri": "https://localhost:8080/"
        },
        "id": "dDiPRg-GPq0n",
        "outputId": "5fcb73c4-f7f2-4ca9-a12d-2bb1fb92eb50"
      },
      "source": [
        "for i in d.values():\n",
        "  print(i)"
      ],
      "execution_count": 44,
      "outputs": [
        {
          "output_type": "stream",
          "text": [
            "1\n",
            "2\n"
          ],
          "name": "stdout"
        }
      ]
    },
    {
      "cell_type": "code",
      "metadata": {
        "colab": {
          "base_uri": "https://localhost:8080/"
        },
        "id": "F8IvxzLnPr1G",
        "outputId": "781dbd18-51f4-4aaf-e95b-794925aa1e4b"
      },
      "source": [
        "for i in d.keys():\n",
        "  print(i)"
      ],
      "execution_count": 48,
      "outputs": [
        {
          "output_type": "stream",
          "text": [
            "a\n",
            "b\n"
          ],
          "name": "stdout"
        }
      ]
    },
    {
      "cell_type": "code",
      "metadata": {
        "colab": {
          "base_uri": "https://localhost:8080/"
        },
        "id": "_wqBkXyBPxom",
        "outputId": "77ece0a2-55fa-4898-c2e2-a4162792ddc5"
      },
      "source": [
        "for key, value in d.items():\n",
        "  print(key, value)"
      ],
      "execution_count": 53,
      "outputs": [
        {
          "output_type": "stream",
          "text": [
            "a 1\n",
            "b 2\n"
          ],
          "name": "stdout"
        }
      ]
    },
    {
      "cell_type": "code",
      "metadata": {
        "id": "tJtC3H-mQOuH"
      },
      "source": [
        "xlist=range(10)"
      ],
      "execution_count": 54,
      "outputs": []
    },
    {
      "cell_type": "code",
      "metadata": {
        "colab": {
          "base_uri": "https://localhost:8080/"
        },
        "id": "MRSqyoE3Q5D2",
        "outputId": "9f04b6c7-c0e8-4330-8ecc-7fa76338fbd2"
      },
      "source": [
        "list(xlist)"
      ],
      "execution_count": 58,
      "outputs": [
        {
          "output_type": "execute_result",
          "data": {
            "text/plain": [
              "[0, 1, 2, 3, 4, 5, 6, 7, 8, 9]"
            ]
          },
          "metadata": {
            "tags": []
          },
          "execution_count": 58
        }
      ]
    },
    {
      "cell_type": "code",
      "metadata": {
        "colab": {
          "base_uri": "https://localhost:8080/"
        },
        "id": "jyMImiQFQ50G",
        "outputId": "5d9a6d25-d2d9-4935-d510-a78435992f48"
      },
      "source": [
        "for item in xlist:\n",
        "  print(item,end=\" \")"
      ],
      "execution_count": 60,
      "outputs": [
        {
          "output_type": "stream",
          "text": [
            "0 1 2 3 4 5 6 7 8 9 "
          ],
          "name": "stdout"
        }
      ]
    },
    {
      "cell_type": "code",
      "metadata": {
        "id": "rw6nryfgRO32"
      },
      "source": [
        "xlist =['1','2']\n",
        "\n",
        "xlist=[int(item) for item in xlist]"
      ],
      "execution_count": 61,
      "outputs": []
    },
    {
      "cell_type": "code",
      "metadata": {
        "colab": {
          "base_uri": "https://localhost:8080/"
        },
        "id": "3x2DEaVyR3Hn",
        "outputId": "fe43aae4-0388-4ecd-f001-007fc9e6b3f0"
      },
      "source": [
        "xlist"
      ],
      "execution_count": 62,
      "outputs": [
        {
          "output_type": "execute_result",
          "data": {
            "text/plain": [
              "[1, 2]"
            ]
          },
          "metadata": {
            "tags": []
          },
          "execution_count": 62
        }
      ]
    },
    {
      "cell_type": "code",
      "metadata": {
        "colab": {
          "base_uri": "https://localhost:8080/"
        },
        "id": "zrGdcxyWR3v3",
        "outputId": "84fa3616-71dd-454d-fc74-276875cec5dc"
      },
      "source": [
        "i = 1\n",
        "\n",
        "while i <= 5 :\n",
        "  print(i)\n",
        "  i = i + 1"
      ],
      "execution_count": 63,
      "outputs": [
        {
          "output_type": "stream",
          "text": [
            "1\n",
            "2\n",
            "3\n",
            "4\n",
            "5\n"
          ],
          "name": "stdout"
        }
      ]
    },
    {
      "cell_type": "code",
      "metadata": {
        "colab": {
          "base_uri": "https://localhost:8080/"
        },
        "id": "tKrvSNZxS_pG",
        "outputId": "7d53d6b3-988c-4bb8-c4f1-6b6d7f6f3600"
      },
      "source": [
        "i = 0\n",
        "\n",
        "while i <= 5 :\n",
        "  i = i + 1\n",
        "  if i == 2 : continue\n",
        "  \n",
        "  print(i)\n",
        "\n",
        "  if i == 4 : break"
      ],
      "execution_count": 64,
      "outputs": [
        {
          "output_type": "stream",
          "text": [
            "1\n",
            "3\n",
            "4\n"
          ],
          "name": "stdout"
        }
      ]
    },
    {
      "cell_type": "code",
      "metadata": {
        "id": "iKVmX4NQTA5W"
      },
      "source": [
        ""
      ],
      "execution_count": null,
      "outputs": []
    }
  ]
}