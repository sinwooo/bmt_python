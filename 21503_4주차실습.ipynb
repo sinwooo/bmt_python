{
  "nbformat": 4,
  "nbformat_minor": 0,
  "metadata": {
    "colab": {
      "name": "21503_4주차실습.ipynb",
      "provenance": [],
      "authorship_tag": "ABX9TyPYZR6QM+1pOJljOqJ1WKR7",
      "include_colab_link": true
    },
    "kernelspec": {
      "name": "python3",
      "display_name": "Python 3"
    },
    "language_info": {
      "name": "python"
    }
  },
  "cells": [
    {
      "cell_type": "markdown",
      "metadata": {
        "id": "view-in-github",
        "colab_type": "text"
      },
      "source": [
        "<a href=\"https://colab.research.google.com/github/sinwooo/bmt_python/blob/main/21503_4%EC%A3%BC%EC%B0%A8%EC%8B%A4%EC%8A%B5.ipynb\" target=\"_parent\"><img src=\"https://colab.research.google.com/assets/colab-badge.svg\" alt=\"Open In Colab\"/></a>"
      ]
    },
    {
      "cell_type": "code",
      "metadata": {
        "colab": {
          "base_uri": "https://localhost:8080/"
        },
        "id": "BcdS04sfNSng",
        "outputId": "a6387ed6-384b-4af2-fec1-db5085eb16c2"
      },
      "source": [
        "import csv\n",
        "\n",
        "f=open('age.csv','r',encoding='cp949')\n",
        "\n",
        "data=csv.reader(f)\n",
        "\n",
        "head=next(data)\n",
        "\n",
        "print(head)"
      ],
      "execution_count": 3,
      "outputs": [
        {
          "output_type": "stream",
          "name": "stdout",
          "text": [
            "['행정구역', '2020년09월_계_총인구수', '2020년09월_계_연령구간인구수', '2020년09월_계_0세', '2020년09월_계_1세', '2020년09월_계_2세', '2020년09월_계_3세', '2020년09월_계_4세', '2020년09월_계_5세', '2020년09월_계_6세', '2020년09월_계_7세', '2020년09월_계_8세', '2020년09월_계_9세', '2020년09월_계_10세', '2020년09월_계_11세', '2020년09월_계_12세', '2020년09월_계_13세', '2020년09월_계_14세', '2020년09월_계_15세', '2020년09월_계_16세', '2020년09월_계_17세', '2020년09월_계_18세', '2020년09월_계_19세', '2020년09월_계_20세', '2020년09월_계_21세', '2020년09월_계_22세', '2020년09월_계_23세', '2020년09월_계_24세', '2020년09월_계_25세', '2020년09월_계_26세', '2020년09월_계_27세', '2020년09월_계_28세', '2020년09월_계_29세', '2020년09월_계_30세', '2020년09월_계_31세', '2020년09월_계_32세', '2020년09월_계_33세', '2020년09월_계_34세', '2020년09월_계_35세', '2020년09월_계_36세', '2020년09월_계_37세', '2020년09월_계_38세', '2020년09월_계_39세', '2020년09월_계_40세', '2020년09월_계_41세', '2020년09월_계_42세', '2020년09월_계_43세', '2020년09월_계_44세', '2020년09월_계_45세', '2020년09월_계_46세', '2020년09월_계_47세', '2020년09월_계_48세', '2020년09월_계_49세', '2020년09월_계_50세', '2020년09월_계_51세', '2020년09월_계_52세', '2020년09월_계_53세', '2020년09월_계_54세', '2020년09월_계_55세', '2020년09월_계_56세', '2020년09월_계_57세', '2020년09월_계_58세', '2020년09월_계_59세', '2020년09월_계_60세', '2020년09월_계_61세', '2020년09월_계_62세', '2020년09월_계_63세', '2020년09월_계_64세', '2020년09월_계_65세', '2020년09월_계_66세', '2020년09월_계_67세', '2020년09월_계_68세', '2020년09월_계_69세', '2020년09월_계_70세', '2020년09월_계_71세', '2020년09월_계_72세', '2020년09월_계_73세', '2020년09월_계_74세', '2020년09월_계_75세', '2020년09월_계_76세', '2020년09월_계_77세', '2020년09월_계_78세', '2020년09월_계_79세', '2020년09월_계_80세', '2020년09월_계_81세', '2020년09월_계_82세', '2020년09월_계_83세', '2020년09월_계_84세', '2020년09월_계_85세', '2020년09월_계_86세', '2020년09월_계_87세', '2020년09월_계_88세', '2020년09월_계_89세', '2020년09월_계_90세', '2020년09월_계_91세', '2020년09월_계_92세', '2020년09월_계_93세', '2020년09월_계_94세', '2020년09월_계_95세', '2020년09월_계_96세', '2020년09월_계_97세', '2020년09월_계_98세', '2020년09월_계_99세', '2020년09월_계_100세 이상']\n"
          ]
        }
      ]
    },
    {
      "cell_type": "code",
      "metadata": {
        "id": "5eNVIL2uSRzW"
      },
      "source": [
        "import csv\n",
        "\n",
        "f=open('age.csv','r',encoding='cp949')\n",
        "\n",
        "data=csv.reader(f)\n",
        "\n",
        "head=next(data)\n",
        "\n",
        "for row in data:\n",
        "\n",
        "  print(row)\n",
        "\n",
        "f.close"
      ],
      "execution_count": null,
      "outputs": []
    },
    {
      "cell_type": "code",
      "metadata": {
        "colab": {
          "base_uri": "https://localhost:8080/"
        },
        "id": "DAUYWO2jTVwE",
        "outputId": "bcb4f4e1-1326-4879-cec1-22a1ad5353d2"
      },
      "source": [
        "import csv\n",
        "\n",
        "f=open('age.csv','r',encoding='cp949')\n",
        "\n",
        "data=csv.reader(f)\n",
        "\n",
        "header=next(data)\n",
        "\n",
        "for row in data:\n",
        "  if '부산광역시 해운대구 우제1동(2635051000)'==row[0]:\n",
        "    \n",
        "    print(row)\n",
        "\n",
        "f.close"
      ],
      "execution_count": 5,
      "outputs": [
        {
          "output_type": "stream",
          "name": "stdout",
          "text": [
            "['부산광역시 해운대구 우제1동(2635051000)', '23254 ', '23254 ', '101 ', '111 ', '112 ', '112 ', '157 ', '154 ', '133 ', '156 ', '154 ', '156 ', '151 ', '140 ', '169 ', '152 ', '132 ', '147 ', '165 ', '172 ', '194 ', '213 ', '245 ', '297 ', '280 ', '284 ', '315 ', '336 ', '311 ', '351 ', '325 ', '356 ', '322 ', '280 ', '255 ', '257 ', '315 ', '260 ', '306 ', '310 ', '358 ', '334 ', '358 ', '332 ', '303 ', '319 ', '295 ', '338 ', '356 ', '417 ', '394 ', '442 ', '396 ', '429 ', '380 ', '398 ', '383 ', '365 ', '339 ', '412 ', '387 ', '419 ', '478 ', '394 ', '399 ', '413 ', '381 ', '389 ', '316 ', '301 ', '330 ', '244 ', '249 ', '302 ', '294 ', '260 ', '162 ', '187 ', '189 ', '191 ', '170 ', '159 ', '126 ', '132 ', '95 ', '102 ', '80 ', '71 ', '56 ', '39 ', '36 ', '35 ', '25 ', '25 ', '17 ', '17 ', '8 ', '3 ', '5 ', '5 ', '2 ', '1 ', '26 ']\n"
          ]
        },
        {
          "output_type": "execute_result",
          "data": {
            "text/plain": [
              "<function TextIOWrapper.close>"
            ]
          },
          "metadata": {},
          "execution_count": 5
        }
      ]
    },
    {
      "cell_type": "code",
      "metadata": {
        "colab": {
          "base_uri": "https://localhost:8080/"
        },
        "id": "DqErz22YURWj",
        "outputId": "2c60aa8a-dddd-46aa-f05d-619c729070d8"
      },
      "source": [
        "import csv \n",
        "f=open('age.csv','r',encoding='cp949')\n",
        "\n",
        "data=csv.reader(f)\n",
        "\n",
        "header=next(data)\n",
        "\n",
        "for row in data:\n",
        "\n",
        "  if '좌제2동' in row[0]:\n",
        "\n",
        "    print(row)\n",
        "    \n",
        "f.close"
      ],
      "execution_count": 8,
      "outputs": [
        {
          "output_type": "stream",
          "name": "stdout",
          "text": [
            "['서울특별시 서대문구 남가좌제2동(1141070000)', '30016 ', '30016 ', '182 ', '231 ', '243 ', '278 ', '295 ', '336 ', '304 ', '293 ', '281 ', '249 ', '244 ', '229 ', '222 ', '231 ', '199 ', '232 ', '256 ', '260 ', '232 ', '339 ', '392 ', '372 ', '440 ', '447 ', '476 ', '467 ', '440 ', '464 ', '407 ', '417 ', '398 ', '385 ', '417 ', '407 ', '420 ', '487 ', '479 ', '521 ', '554 ', '572 ', '508 ', '498 ', '472 ', '472 ', '447 ', '453 ', '483 ', '525 ', '509 ', '542 ', '541 ', '478 ', '492 ', '423 ', '442 ', '456 ', '369 ', '387 ', '401 ', '441 ', '439 ', '371 ', '367 ', '344 ', '325 ', '356 ', '284 ', '286 ', '283 ', '233 ', '242 ', '226 ', '234 ', '267 ', '209 ', '206 ', '171 ', '219 ', '226 ', '172 ', '151 ', '150 ', '137 ', '128 ', '98 ', '85 ', '58 ', '53 ', '52 ', '36 ', '29 ', '34 ', '17 ', '17 ', '11 ', '10 ', '6 ', '9 ', '8 ', '6 ', '24 ']\n",
            "['서울특별시 서대문구 북가좌제2동(1141072000)', '32827 ', '32827 ', '125 ', '128 ', '157 ', '142 ', '175 ', '179 ', '181 ', '209 ', '220 ', '215 ', '190 ', '198 ', '202 ', '220 ', '236 ', '239 ', '268 ', '284 ', '287 ', '357 ', '368 ', '406 ', '420 ', '449 ', '497 ', '532 ', '526 ', '578 ', '584 ', '495 ', '452 ', '425 ', '443 ', '391 ', '398 ', '423 ', '421 ', '430 ', '513 ', '526 ', '505 ', '458 ', '435 ', '430 ', '472 ', '510 ', '554 ', '557 ', '551 ', '592 ', '558 ', '593 ', '569 ', '524 ', '528 ', '499 ', '513 ', '541 ', '569 ', '582 ', '576 ', '592 ', '526 ', '470 ', '444 ', '503 ', '418 ', '363 ', '380 ', '307 ', '311 ', '345 ', '349 ', '352 ', '267 ', '272 ', '261 ', '263 ', '311 ', '213 ', '202 ', '157 ', '160 ', '138 ', '123 ', '104 ', '89 ', '60 ', '49 ', '35 ', '41 ', '27 ', '23 ', '15 ', '13 ', '7 ', '7 ', '6 ', '8 ', '1 ', '10 ']\n",
            "['부산광역시 해운대구 좌제2동(2635055200)', '32354 ', '32354 ', '168 ', '175 ', '185 ', '184 ', '214 ', '226 ', '225 ', '230 ', '245 ', '274 ', '247 ', '271 ', '266 ', '296 ', '278 ', '260 ', '308 ', '306 ', '339 ', '380 ', '418 ', '414 ', '447 ', '484 ', '553 ', '561 ', '599 ', '542 ', '600 ', '485 ', '474 ', '475 ', '446 ', '428 ', '429 ', '414 ', '409 ', '435 ', '489 ', '495 ', '528 ', '443 ', '460 ', '472 ', '415 ', '479 ', '530 ', '558 ', '614 ', '603 ', '618 ', '583 ', '645 ', '583 ', '568 ', '551 ', '513 ', '585 ', '542 ', '577 ', '540 ', '467 ', '446 ', '423 ', '400 ', '388 ', '321 ', '280 ', '269 ', '181 ', '217 ', '217 ', '250 ', '225 ', '170 ', '167 ', '168 ', '187 ', '193 ', '166 ', '143 ', '153 ', '129 ', '112 ', '102 ', '95 ', '80 ', '85 ', '72 ', '46 ', '37 ', '16 ', '21 ', '11 ', '9 ', '10 ', '11 ', '1 ', '3 ', '1 ', '1 ']\n"
          ]
        },
        {
          "output_type": "execute_result",
          "data": {
            "text/plain": [
              "<function TextIOWrapper.close>"
            ]
          },
          "metadata": {},
          "execution_count": 8
        }
      ]
    },
    {
      "cell_type": "code",
      "metadata": {
        "colab": {
          "base_uri": "https://localhost:8080/"
        },
        "id": "1nr2HjrYhsl0",
        "outputId": "7b517c45-bb9e-45ec-a900-a3cfc37de915"
      },
      "source": [
        "import csv\n",
        "\n",
        "f=open('age.csv','r',encoding='cp949')\n",
        "data=csv.reader(f)\n",
        "\n",
        "for row in data:\n",
        "\n",
        "  if '좌제2동' in row[0]:\n",
        "    for i in row[3:]:\n",
        "    \n",
        "      print(i,end=' ')\n",
        "f.close()\n"
      ],
      "execution_count": 12,
      "outputs": [
        {
          "output_type": "stream",
          "name": "stdout",
          "text": [
            "182  231  243  278  295  336  304  293  281  249  244  229  222  231  199  232  256  260  232  339  392  372  440  447  476  467  440  464  407  417  398  385  417  407  420  487  479  521  554  572  508  498  472  472  447  453  483  525  509  542  541  478  492  423  442  456  369  387  401  441  439  371  367  344  325  356  284  286  283  233  242  226  234  267  209  206  171  219  226  172  151  150  137  128  98  85  58  53  52  36  29  34  17  17  11  10  6  9  8  6  24  125  128  157  142  175  179  181  209  220  215  190  198  202  220  236  239  268  284  287  357  368  406  420  449  497  532  526  578  584  495  452  425  443  391  398  423  421  430  513  526  505  458  435  430  472  510  554  557  551  592  558  593  569  524  528  499  513  541  569  582  576  592  526  470  444  503  418  363  380  307  311  345  349  352  267  272  261  263  311  213  202  157  160  138  123  104  89  60  49  35  41  27  23  15  13  7  7  6  8  1  10  168  175  185  184  214  226  225  230  245  274  247  271  266  296  278  260  308  306  339  380  418  414  447  484  553  561  599  542  600  485  474  475  446  428  429  414  409  435  489  495  528  443  460  472  415  479  530  558  614  603  618  583  645  583  568  551  513  585  542  577  540  467  446  423  400  388  321  280  269  181  217  217  250  225  170  167  168  187  193  166  143  153  129  112  102  95  80  85  72  46  37  16  21  11  9  10  11  1  3  1  1  "
          ]
        }
      ]
    },
    {
      "cell_type": "code",
      "metadata": {
        "colab": {
          "base_uri": "https://localhost:8080/",
          "height": 265
        },
        "id": "_J8_VK7Jiilt",
        "outputId": "f135da44-676a-46b8-af22-e3eb4d8c3d7f"
      },
      "source": [
        "import csv\n",
        "\n",
        "f=open('age.csv','r',encoding='cp949')\n",
        "\n",
        "data=csv.reader(f)\n",
        "\n",
        "header=next(data)\n",
        "\n",
        "result=[]\n",
        "\n",
        "for row in data:\n",
        "\n",
        "  if '좌제2동' in row[0]:\n",
        "      for i in row[3:]:\n",
        "\n",
        "        result.append(int(i))\n",
        "\n",
        "f.close()\n",
        "import matplotlib.pyplot as plt\n",
        "plt.style.use('ggplot')\n",
        "plt.plot(result)\n",
        "plt.show()"
      ],
      "execution_count": 15,
      "outputs": [
        {
          "output_type": "display_data",
          "data": {
            "image/png": "[encoded data removed]",
            "text/plain": [
              "<Figure size 432x288 with 1 Axes>"
            ]
          },
          "metadata": {}
        }
      ]
    },
    {
      "cell_type": "code",
      "metadata": {
        "id": "AJpeP8RbjyCt"
      },
      "source": [
        ""
      ],
      "execution_count": null,
      "outputs": []
    }
  ]
}