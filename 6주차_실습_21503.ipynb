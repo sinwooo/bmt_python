{
  "nbformat": 4,
  "nbformat_minor": 0,
  "metadata": {
    "colab": {
      "name": "6주차 실습_21503",
      "provenance": [],
      "authorship_tag": "ABX9TyPMR/SuvXGk2MscIjG2ZPz3",
      "include_colab_link": true
    },
    "kernelspec": {
      "name": "python3",
      "display_name": "Python 3"
    },
    "language_info": {
      "name": "python"
    }
  },
  "cells": [
    {
      "cell_type": "markdown",
      "metadata": {
        "id": "view-in-github",
        "colab_type": "text"
      },
      "source": [
        "<a href=\"https://colab.research.google.com/github/sinwooo/bmt_python/blob/main/6%EC%A3%BC%EC%B0%A8_%EC%8B%A4%EC%8A%B5_21503.ipynb\" target=\"_parent\"><img src=\"https://colab.research.google.com/assets/colab-badge.svg\" alt=\"Open In Colab\"/></a>"
      ]
    },
    {
      "cell_type": "code",
      "metadata": {
        "colab": {
          "base_uri": "https://localhost:8080/"
        },
        "id": "4OQNNB8tX4bW",
        "outputId": "9add01d1-3642-442d-9747-c3c089473500"
      },
      "source": [
        "import csv\n",
        "\n",
        "f=open('gender.csv','r',encoding='cp949')\n",
        "\n",
        "data=csv.reader(f)\n",
        "\n",
        "header=next(data)\n",
        "\n",
        "loc_name=input('지역 입력 해라 : ')\n",
        "\n",
        "male=[]\n",
        "\n",
        "female=[]\n",
        "\n",
        "for row in data:\n",
        " \n",
        "  if loc_name in row[0]:\n",
        "    \n",
        "    for i in range(0,101) :\n",
        "\n",
        "      male.append(int(row[i+3]))\n",
        "\n",
        "      female.append(int(row[-(i+1)]))\n",
        "female.reverse()\n",
        "\n",
        "f.close\n",
        "\n",
        "print(f'남성의 연령별 인구수 : {male}')\n",
        "\n",
        "print(f'여성의 연령별 인구수 : {female}')"
      ],
      "execution_count": 18,
      "outputs": [
        {
          "output_type": "stream",
          "name": "stdout",
          "text": [
            "지역 입력 해라 : 우제1동\n",
            "남성의 연령별 인구수 : [48, 60, 51, 50, 74, 71, 74, 80, 85, 75, 78, 74, 84, 65, 74, 74, 84, 93, 94, 118, 115, 161, 141, 145, 146, 171, 155, 179, 163, 173, 175, 134, 124, 133, 158, 119, 158, 143, 176, 161, 171, 164, 166, 165, 145, 145, 177, 192, 188, 201, 191, 210, 178, 187, 178, 161, 165, 189, 198, 173, 233, 178, 189, 177, 195, 169, 148, 137, 153, 115, 106, 136, 154, 120, 71, 93, 94, 85, 69, 75, 63, 58, 31, 43, 26, 30, 28, 12, 13, 13, 3, 5, 4, 5, 1, 0, 2, 0, 1, 1, 7]\n",
            "여성의 연령별 인구수 : [53, 51, 61, 62, 83, 83, 59, 76, 69, 81, 73, 66, 85, 87, 58, 73, 81, 79, 100, 95, 130, 136, 139, 139, 169, 165, 156, 172, 162, 183, 147, 146, 131, 124, 157, 141, 148, 167, 182, 173, 187, 168, 137, 154, 150, 193, 179, 225, 206, 241, 205, 219, 202, 211, 205, 204, 174, 223, 189, 246, 245, 216, 210, 236, 186, 220, 168, 164, 177, 129, 143, 166, 140, 140, 91, 94, 95, 106, 101, 84, 63, 74, 64, 59, 54, 41, 28, 27, 23, 22, 22, 20, 13, 12, 7, 3, 3, 5, 1, 0, 19]\n"
          ]
        }
      ]
    },
    {
      "cell_type": "code",
      "metadata": {
        "colab": {
          "base_uri": "https://localhost:8080/"
        },
        "id": "c4YhuIhcoFaa",
        "outputId": "603d6b45-4e82-4a3c-96c3-aa976ff518ca"
      },
      "source": [
        "import csv\n",
        "\n",
        "f=open('gender.csv','r',encoding='cp949')\n",
        "\n",
        "data=csv.reader(f)\n",
        "\n",
        "header=next(data)\n",
        "\n",
        "loc_name=input('지역 입력 해라 : ')\n",
        "\n",
        "male=[]\n",
        "\n",
        "female=[]\n",
        "\n",
        "for row in data:\n",
        " \n",
        "  if loc_name in row[0]:\n",
        "    \n",
        "    for i in range(0,101) :\n",
        "\n",
        "      male.append(int(row[i+3]))\n",
        "\n",
        "      female.append(int(row[(i+106)]))\n",
        "female.reverse()\n",
        "\n",
        "f.close\n",
        "\n",
        "print(f'남성의 연령별 인구수 : {male}')\n",
        "\n",
        "print(f'여성의 연령별 인구수 : {female}')"
      ],
      "execution_count": 17,
      "outputs": [
        {
          "output_type": "stream",
          "name": "stdout",
          "text": [
            "지역 입력 해라 : 우제1동\n",
            "남성의 연령별 인구수 : [48, 60, 51, 50, 74, 71, 74, 80, 85, 75, 78, 74, 84, 65, 74, 74, 84, 93, 94, 118, 115, 161, 141, 145, 146, 171, 155, 179, 163, 173, 175, 134, 124, 133, 158, 119, 158, 143, 176, 161, 171, 164, 166, 165, 145, 145, 177, 192, 188, 201, 191, 210, 178, 187, 178, 161, 165, 189, 198, 173, 233, 178, 189, 177, 195, 169, 148, 137, 153, 115, 106, 136, 154, 120, 71, 93, 94, 85, 69, 75, 63, 58, 31, 43, 26, 30, 28, 12, 13, 13, 3, 5, 4, 5, 1, 0, 2, 0, 1, 1, 7]\n",
            "여성의 연령별 인구수 : [19, 0, 1, 5, 3, 3, 7, 12, 13, 20, 22, 22, 23, 27, 28, 41, 54, 59, 64, 74, 63, 84, 101, 106, 95, 94, 91, 140, 140, 166, 143, 129, 177, 164, 168, 220, 186, 236, 210, 216, 245, 246, 189, 223, 174, 204, 205, 211, 202, 219, 205, 241, 206, 225, 179, 193, 150, 154, 137, 168, 187, 173, 182, 167, 148, 141, 157, 124, 131, 146, 147, 183, 162, 172, 156, 165, 169, 139, 139, 136, 130, 95, 100, 79, 81, 73, 58, 87, 85, 66, 73, 81, 69, 76, 59, 83, 83, 62, 61, 51, 53]\n"
          ]
        }
      ]
    },
    {
      "cell_type": "code",
      "metadata": {
        "colab": {
          "base_uri": "https://localhost:8080/",
          "height": 535
        },
        "id": "I8p3chKZoViz",
        "outputId": "5a979893-ea7e-4c46-86b5-e9adf6d7d09a"
      },
      "source": [
        "import csv\n",
        "\n",
        "f=open('gender.csv','r', encoding='cp949')\n",
        "\n",
        "data=csv.reader(f)\n",
        "\n",
        "header=next(data)\n",
        "\n",
        "loc_name=input('지역 입력 해라 : ')\n",
        "\n",
        "male=[]\n",
        "\n",
        "female=[]\n",
        "\n",
        "for row in data:\n",
        " \n",
        "  if loc_name in row[0]:\n",
        "    \n",
        "    for i in range(0,101) :\n",
        "\n",
        "      male.append(int(row[i+3]))\n",
        "\n",
        "\n",
        "      female.append(int(row[-(i+1)]))\n",
        "female.reverse()\n",
        "\n",
        "f.close\n",
        "\n",
        "import matplotlib.pyplot as plt\n",
        "\n",
        "plt.figure(figsize=(12,8))\n",
        "\n",
        "plt.title('male and female population calc')\n",
        "\n",
        "plt.barh(range(101),male,label='남성')\n",
        "plt.barh(range(101),female,label='야성')"
      ],
      "execution_count": 16,
      "outputs": [
        {
          "name": "stdout",
          "output_type": "stream",
          "text": [
            "지역 입력 해라 : 우제1동\n"
          ]
        },
        {
          "output_type": "execute_result",
          "data": {
            "text/plain": [
              "<BarContainer object of 101 artists>"
            ]
          },
          "metadata": {},
          "execution_count": 16
        },
        {
          "output_type": "display_data",
          "data": {
            "image/png": "[encoded data removed]",
            "text/plain": [
              "<Figure size 864x576 with 1 Axes>"
            ]
          },
          "metadata": {
            "needs_background": "light"
          }
        }
      ]
    },
    {
      "cell_type": "code",
      "metadata": {
        "colab": {
          "base_uri": "https://localhost:8080/",
          "height": 517
        },
        "id": "VpcyrFR-oubD",
        "outputId": "800c96ef-5cd9-494e-f8a5-3696d1b3a860"
      },
      "source": [
        "import csv\n",
        "\n",
        "f=open('gender.csv','r', encoding='cp949')\n",
        "\n",
        "data=csv.reader(f)\n",
        "\n",
        "header=next(data)\n",
        "\n",
        "loc_name=input('지역 입력 해라 : ')\n",
        "\n",
        "male=[]\n",
        "\n",
        "female=[]\n",
        "\n",
        "for row in data:\n",
        " \n",
        "  if loc_name in row[0]:\n",
        "    \n",
        "    for i in range(0,101) :\n",
        "\n",
        "      male.append(int(row[i+3]))\n",
        "\n",
        "\n",
        "      female.append(int(row[-(i+1)]))\n",
        "      \n",
        "female.reverse()\n",
        "\n",
        "f.close\n",
        "\n",
        "import matplotlib.pyplot as plt\n",
        "\n",
        "plt.figure(figsize=(12,8))\n",
        "\n",
        "plt.title('male and female population calc')\n",
        "\n",
        "plt.barh(range(101), male, label='male')\n",
        "\n",
        "plt.barh(range(101),female,label='female')\n",
        "\n",
        "plt.legend()\n",
        "\n",
        "plt.show()"
      ],
      "execution_count": 19,
      "outputs": [
        {
          "name": "stdout",
          "output_type": "stream",
          "text": [
            "지역 입력 해라 : 우제1동\n"
          ]
        },
        {
          "output_type": "display_data",
          "data": {
            "image/png": "[encoded data removed]",
            "text/plain": [
              "<Figure size 864x576 with 1 Axes>"
            ]
          },
          "metadata": {
            "needs_background": "light"
          }
        }
      ]
    },
    {
      "cell_type": "code",
      "metadata": {
        "id": "LU7uTqpVprRJ",
        "colab": {
          "base_uri": "https://localhost:8080/",
          "height": 535
        },
        "outputId": "1621919a-f946-4a81-cbfb-4960a67d2f75"
      },
      "source": [
        "import csv\n",
        "\n",
        "f=open('gender.csv','r', encoding='cp949')\n",
        "\n",
        "data=csv.reader(f)\n",
        "\n",
        "header=next(data)\n",
        "\n",
        "loc_name=input('지역 입력 해라 : ')\n",
        "\n",
        "male=[]\n",
        "\n",
        "female=[]\n",
        "\n",
        "for row in data:\n",
        " \n",
        "  if loc_name in row[0]:\n",
        "    \n",
        "    for i in range(0,101) :\n",
        "\n",
        "      male.append(-int(row[i+3]))\n",
        "\n",
        "\n",
        "      female.append(int(row[-(i+1)]))\n",
        "female.reverse()\n",
        "\n",
        "f.close\n",
        "\n",
        "import matplotlib.pyplot as plt\n",
        "\n",
        "plt.figure(figsize=(12,8))\n",
        "\n",
        "plt.title('male and female population calc')\n",
        "\n",
        "plt.barh(range(101),male,label='남성')\n",
        "plt.barh(range(101),female,label='야성')"
      ],
      "execution_count": 11,
      "outputs": [
        {
          "name": "stdout",
          "output_type": "stream",
          "text": [
            "지역 입력 해라 : 우제1\n"
          ]
        },
        {
          "output_type": "execute_result",
          "data": {
            "text/plain": [
              "<BarContainer object of 101 artists>"
            ]
          },
          "metadata": {},
          "execution_count": 11
        },
        {
          "output_type": "display_data",
          "data": {
            "image/png": "[encoded data removed]",
            "text/plain": [
              "<Figure size 864x576 with 1 Axes>"
            ]
          },
          "metadata": {
            "needs_background": "light"
          }
        }
      ]
    },
    {
      "cell_type": "code",
      "metadata": {
        "id": "NxqIrBSbpthz"
      },
      "source": [
        ""
      ],
      "execution_count": null,
      "outputs": []
    }
  ]
}