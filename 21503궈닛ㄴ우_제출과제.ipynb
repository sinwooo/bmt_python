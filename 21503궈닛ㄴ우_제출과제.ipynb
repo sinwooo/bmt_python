{
  "nbformat": 4,
  "nbformat_minor": 0,
  "metadata": {
    "colab": {
      "name": "21503궈닛ㄴ우 제출과제",
      "provenance": [],
      "authorship_tag": "ABX9TyNOyrYgtaP7XxDVIjfQLnFl",
      "include_colab_link": true
    },
    "kernelspec": {
      "name": "python3",
      "display_name": "Python 3"
    }
  },
  "cells": [
    {
      "cell_type": "markdown",
      "metadata": {
        "id": "view-in-github",
        "colab_type": "text"
      },
      "source": [
        "<a href=\"https://colab.research.google.com/github/sinwooo/bmt_python/blob/main/21503%EA%B6%88%EB%8B%9B%E3%84%B4%EC%9A%B0_%EC%A0%9C%EC%B6%9C%EA%B3%BC%EC%A0%9C.ipynb\" target=\"_parent\"><img src=\"https://colab.research.google.com/assets/colab-badge.svg\" alt=\"Open In Colab\"/></a>"
      ]
    },
    {
      "cell_type": "code",
      "metadata": {
        "id": "JvIfhtVV-_PD"
      },
      "source": [
        "\r\n",
        "\r\n",
        "\r\n",
        "\r\n",
        "  "
      ],
      "execution_count": null,
      "outputs": []
    },
    {
      "cell_type": "code",
      "metadata": {
        "id": "yCF_32Ou_AH6"
      },
      "source": [
        "안녕하세요ㅕ"
      ],
      "execution_count": null,
      "outputs": []
    }
  ]
}