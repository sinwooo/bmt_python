{
  "nbformat": 4,
  "nbformat_minor": 0,
  "metadata": {
    "colab": {
      "name": "21503_9주차 실습",
      "provenance": [],
      "mount_file_id": "1GLu7UOmIOu4GXlqT9w-rG1dS2G9oaboL",
      "authorship_tag": "ABX9TyMmqu5sPwQ9NIqnI8CjMmUj",
      "include_colab_link": true
    },
    "kernelspec": {
      "name": "python3",
      "display_name": "Python 3"
    },
    "language_info": {
      "name": "python"
    }
  },
  "cells": [
    {
      "cell_type": "markdown",
      "metadata": {
        "id": "view-in-github",
        "colab_type": "text"
      },
      "source": [
        "<a href=\"https://colab.research.google.com/github/sinwooo/bmt_python/blob/main/21503_9%EC%A3%BC%EC%B0%A8_%EC%8B%A4%EC%8A%B5.ipynb\" target=\"_parent\"><img src=\"https://colab.research.google.com/assets/colab-badge.svg\" alt=\"Open In Colab\"/></a>"
      ]
    },
    {
      "cell_type": "code",
      "metadata": {
        "id": "WC0nVU17CPmt"
      },
      "source": [
        "fp=open('지역평균기온.txt')\n",
        "data= fp.read()\n",
        "fp.close()"
      ],
      "execution_count": 1,
      "outputs": []
    },
    {
      "cell_type": "code",
      "metadata": {
        "colab": {
          "base_uri": "https://localhost:8080/",
          "height": 53
        },
        "id": "LHROUppiE7-E",
        "outputId": "5e53c36c-b310-4111-cbbe-9f3f5f116c64"
      },
      "source": [
        "data"
      ],
      "execution_count": 2,
      "outputs": [
        {
          "output_type": "execute_result",
          "data": {
            "application/vnd.google.colaboratory.intrinsic+json": {
              "type": "string"
            },
            "text/plain": [
              "'서울,20\\n부산,26\\n대구,24\\n인천,24\\n광주,25\\n대전,22\\n울산,26\\n세종,23\\n경기,24\\n강원,23\\n충북,26\\n충남,22\\n전북,24\\n전남,23\\n경북,28\\n경남,29\\n제주,26'"
            ]
          },
          "metadata": {
            "tags": []
          },
          "execution_count": 2
        }
      ]
    },
    {
      "cell_type": "code",
      "metadata": {
        "colab": {
          "base_uri": "https://localhost:8080/"
        },
        "id": "8U32Uu0fFAEh",
        "outputId": "da2c036e-df82-4b64-eacc-7ffd6dc48a29"
      },
      "source": [
        "print(data)"
      ],
      "execution_count": 3,
      "outputs": [
        {
          "output_type": "stream",
          "text": [
            "서울,20\n",
            "부산,26\n",
            "대구,24\n",
            "인천,24\n",
            "광주,25\n",
            "대전,22\n",
            "울산,26\n",
            "세종,23\n",
            "경기,24\n",
            "강원,23\n",
            "충북,26\n",
            "충남,22\n",
            "전북,24\n",
            "전남,23\n",
            "경북,28\n",
            "경남,29\n",
            "제주,26\n"
          ],
          "name": "stdout"
        }
      ]
    },
    {
      "cell_type": "code",
      "metadata": {
        "colab": {
          "base_uri": "https://localhost:8080/"
        },
        "id": "Htq7TpurFGG6",
        "outputId": "a5cd9c0b-8121-49bb-fa4c-202f0b29b158"
      },
      "source": [
        "fp=open('지역평균기온.txt')\n",
        "data=fp.readlines()\n",
        "fp.close()\n",
        "dt={}\n",
        "for line in data:\n",
        "  line=line.replace('\\n',\" \")\n",
        "  items=line.split(\",\")\n",
        "  #####dt[키값]=값\n",
        "  dt[items[0]]=int(items[1])\n",
        "dt"
      ],
      "execution_count": 4,
      "outputs": [
        {
          "output_type": "execute_result",
          "data": {
            "text/plain": [
              "{'강원': 23,\n",
              " '경기': 24,\n",
              " '경남': 29,\n",
              " '경북': 28,\n",
              " '광주': 25,\n",
              " '대구': 24,\n",
              " '대전': 22,\n",
              " '부산': 26,\n",
              " '서울': 20,\n",
              " '세종': 23,\n",
              " '울산': 26,\n",
              " '인천': 24,\n",
              " '전남': 23,\n",
              " '전북': 24,\n",
              " '제주': 26,\n",
              " '충남': 22,\n",
              " '충북': 26}"
            ]
          },
          "metadata": {
            "tags": []
          },
          "execution_count": 4
        }
      ]
    },
    {
      "cell_type": "code",
      "metadata": {
        "id": "dzrBaiAoGM95"
      },
      "source": [
        "# Colab에서 한글 글꼴 쓰기\n",
        "!sudo apt-get install -y fonts-nanum\n",
        "!sudo fc-cache -fv\n",
        "!rm ~/.cache/matplotlib -rf\n",
        "# 이후 런타임 재실행\n"
      ],
      "execution_count": null,
      "outputs": []
    },
    {
      "cell_type": "code",
      "metadata": {
        "colab": {
          "base_uri": "https://localhost:8080/",
          "height": 392
        },
        "id": "qCSMlaZyHZzS",
        "outputId": "82b303d9-b0b9-437e-ec8f-af0f98b6ca0c"
      },
      "source": [
        "fp=open('지역평균기온.txt')\n",
        "data=fp.readlines()\n",
        "fp.close()\n",
        "dt={}\n",
        "for line in data:\n",
        "  line=line.replace('\\n',\" \")\n",
        "  items=line.split(\",\")\n",
        "  #####dt[키값]=값\n",
        "  dt[items[0]]=int(items[1])\n",
        "area=list(dt.keys())\n",
        "temp=list(dt.values())\n",
        "print(area)\n",
        "print(temp)\n",
        "import matplotlib.pyplot as plt\n",
        "plt.rc('font', family='NanumBarunGothic') # 한글 글꼴 설정\n",
        "plt.style.use('ggplot')\n",
        "plt.figure(figsize=(10,5))\n",
        "plt.scatter(area, temp, color='red')\n",
        "plt.plot(area, temp,'g--')\n",
        "plt.xticks(rotation=180)\n",
        "plt.title('지역평균기온')\n",
        "\n",
        "plt.show()\n"
      ],
      "execution_count": 30,
      "outputs": [
        {
          "output_type": "stream",
          "text": [
            "['서울', '부산', '대구', '인천', '광주', '대전', '울산', '세종', '경기', '강원', '충북', '충남', '전북', '전남', '경북', '경남', '제주']\n",
            "[20, 26, 24, 24, 25, 22, 26, 23, 24, 23, 26, 22, 24, 23, 28, 29, 26]\n"
          ],
          "name": "stdout"
        },
        {
          "output_type": "display_data",
          "data": {
            "image/png": "[encoded data removed]",
            "text/plain": [
              "<Figure size 720x360 with 1 Axes>"
            ]
          },
          "metadata": {
            "tags": []
          }
        }
      ]
    },
    {
      "cell_type": "code",
      "metadata": {
        "id": "DycaJ5WMIQKO"
      },
      "source": [
        "import pandas as pd\n",
        "import numpy as np\n",
        "import matplotlib.pyplot as plt\n"
      ],
      "execution_count": 33,
      "outputs": []
    },
    {
      "cell_type": "code",
      "metadata": {
        "id": "aggzTQl5RHND"
      },
      "source": [
        ""
      ],
      "execution_count": null,
      "outputs": []
    },
    {
      "cell_type": "code",
      "metadata": {
        "id": "gOlpX_WHQxgt"
      },
      "source": [
        " s= pd.Series([1,3,5,np.nan,6,8])"
      ],
      "execution_count": 36,
      "outputs": []
    },
    {
      "cell_type": "code",
      "metadata": {
        "colab": {
          "base_uri": "https://localhost:8080/"
        },
        "id": "g00957RERGnf",
        "outputId": "8b98d290-b5e3-43a0-cbdd-82882d22a69d"
      },
      "source": [
        "s"
      ],
      "execution_count": 37,
      "outputs": [
        {
          "output_type": "execute_result",
          "data": {
            "text/plain": [
              "0    1.0\n",
              "1    3.0\n",
              "2    5.0\n",
              "3    NaN\n",
              "4    6.0\n",
              "5    8.0\n",
              "dtype: float64"
            ]
          },
          "metadata": {
            "tags": []
          },
          "execution_count": 37
        }
      ]
    },
    {
      "cell_type": "code",
      "metadata": {
        "colab": {
          "base_uri": "https://localhost:8080/"
        },
        "id": "0FGeWsTXRZRG",
        "outputId": "1659f55a-eaa8-413f-b236-9f68e75f83ab"
      },
      "source": [
        "type(s)"
      ],
      "execution_count": 38,
      "outputs": [
        {
          "output_type": "execute_result",
          "data": {
            "text/plain": [
              "pandas.core.series.Series"
            ]
          },
          "metadata": {
            "tags": []
          },
          "execution_count": 38
        }
      ]
    },
    {
      "cell_type": "code",
      "metadata": {
        "id": "pGQM4-I8Rl2L"
      },
      "source": [
        "dates=pd.date_range('20210430',periods=6)"
      ],
      "execution_count": 39,
      "outputs": []
    },
    {
      "cell_type": "code",
      "metadata": {
        "colab": {
          "base_uri": "https://localhost:8080/"
        },
        "id": "oOOgkWkkSBKs",
        "outputId": "d0b7382e-e4d2-433e-ac22-d2d4a1721bfe"
      },
      "source": [
        "dates"
      ],
      "execution_count": 40,
      "outputs": [
        {
          "output_type": "execute_result",
          "data": {
            "text/plain": [
              "DatetimeIndex(['2021-04-30', '2021-05-01', '2021-05-02', '2021-05-03',\n",
              "               '2021-05-04', '2021-05-05'],\n",
              "              dtype='datetime64[ns]', freq='D')"
            ]
          },
          "metadata": {
            "tags": []
          },
          "execution_count": 40
        }
      ]
    },
    {
      "cell_type": "code",
      "metadata": {
        "colab": {
          "base_uri": "https://localhost:8080/"
        },
        "id": "3k3uUHZMSCv8",
        "outputId": "3e642e7a-bd21-43e3-ec85-17ef52dd8870"
      },
      "source": [
        "type(dates)"
      ],
      "execution_count": 41,
      "outputs": [
        {
          "output_type": "execute_result",
          "data": {
            "text/plain": [
              "pandas.core.indexes.datetimes.DatetimeIndex"
            ]
          },
          "metadata": {
            "tags": []
          },
          "execution_count": 41
        }
      ]
    },
    {
      "cell_type": "code",
      "metadata": {
        "id": "Iqv5HQEJSGtc"
      },
      "source": [
        "f = pd.DataFrame(np.random.randn(6,4), index=dates, columns=list('ABCD')) "
      ],
      "execution_count": 47,
      "outputs": []
    },
    {
      "cell_type": "code",
      "metadata": {
        "colab": {
          "base_uri": "https://localhost:8080/",
          "height": 235
        },
        "id": "EByORhm-Sgi5",
        "outputId": "666b5466-4f35-4882-e01d-261c15510067"
      },
      "source": [
        "df"
      ],
      "execution_count": 48,
      "outputs": [
        {
          "output_type": "execute_result",
          "data": {
            "text/html": [
              "<div>\n",
              "<style scoped>\n",
              "    .dataframe tbody tr th:only-of-type {\n",
              "        vertical-align: middle;\n",
              "    }\n",
              "\n",
              "    .dataframe tbody tr th {\n",
              "        vertical-align: top;\n",
              "    }\n",
              "\n",
              "    .dataframe thead th {\n",
              "        text-align: right;\n",
              "    }\n",
              "</style>\n",
              "<table border=\"1\" class=\"dataframe\">\n",
              "  <thead>\n",
              "    <tr style=\"text-align: right;\">\n",
              "      <th></th>\n",
              "      <th>0</th>\n",
              "      <th>1</th>\n",
              "      <th>2</th>\n",
              "      <th>3</th>\n",
              "    </tr>\n",
              "  </thead>\n",
              "  <tbody>\n",
              "    <tr>\n",
              "      <th>0</th>\n",
              "      <td>0.171890</td>\n",
              "      <td>1.996934</td>\n",
              "      <td>1.508075</td>\n",
              "      <td>1.292320</td>\n",
              "    </tr>\n",
              "    <tr>\n",
              "      <th>1</th>\n",
              "      <td>1.105912</td>\n",
              "      <td>0.725215</td>\n",
              "      <td>-0.838000</td>\n",
              "      <td>-0.715019</td>\n",
              "    </tr>\n",
              "    <tr>\n",
              "      <th>2</th>\n",
              "      <td>2.207899</td>\n",
              "      <td>-2.539336</td>\n",
              "      <td>-0.143872</td>\n",
              "      <td>0.397150</td>\n",
              "    </tr>\n",
              "    <tr>\n",
              "      <th>3</th>\n",
              "      <td>-0.546993</td>\n",
              "      <td>0.176661</td>\n",
              "      <td>-0.331522</td>\n",
              "      <td>-0.009738</td>\n",
              "    </tr>\n",
              "    <tr>\n",
              "      <th>4</th>\n",
              "      <td>0.838583</td>\n",
              "      <td>1.042593</td>\n",
              "      <td>0.163570</td>\n",
              "      <td>1.002517</td>\n",
              "    </tr>\n",
              "    <tr>\n",
              "      <th>5</th>\n",
              "      <td>2.143614</td>\n",
              "      <td>0.676118</td>\n",
              "      <td>0.075273</td>\n",
              "      <td>0.246693</td>\n",
              "    </tr>\n",
              "  </tbody>\n",
              "</table>\n",
              "</div>"
            ],
            "text/plain": [
              "          0         1         2         3\n",
              "0  0.171890  1.996934  1.508075  1.292320\n",
              "1  1.105912  0.725215 -0.838000 -0.715019\n",
              "2  2.207899 -2.539336 -0.143872  0.397150\n",
              "3 -0.546993  0.176661 -0.331522 -0.009738\n",
              "4  0.838583  1.042593  0.163570  1.002517\n",
              "5  2.143614  0.676118  0.075273  0.246693"
            ]
          },
          "metadata": {
            "tags": []
          },
          "execution_count": 48
        }
      ]
    },
    {
      "cell_type": "code",
      "metadata": {
        "id": "HVUOQOL4SolS"
      },
      "source": [
        "df2=pd.DataFrame({\n",
        "    \n",
        "        'A': 1.,\n",
        "        'B': pd.Timestamp('20210430'),\n",
        "        'C': pd.Series(1, index=list(range(4)), dtype='float32'),\n",
        "        'D': np.array([3] * 4, dtype='int32'),\n",
        "        'E': pd.Categorical([\"test\", \"train\", \"test\", \"train\"]),\n",
        "        'F': 'foo'\n",
        "})"
      ],
      "execution_count": 49,
      "outputs": []
    },
    {
      "cell_type": "code",
      "metadata": {
        "colab": {
          "base_uri": "https://localhost:8080/",
          "height": 173
        },
        "id": "tsoqDbgoUnOX",
        "outputId": "c6b753df-9808-4773-99f6-71579e8e9565"
      },
      "source": [
        "df2"
      ],
      "execution_count": 50,
      "outputs": [
        {
          "output_type": "execute_result",
          "data": {
            "text/html": [
              "<div>\n",
              "<style scoped>\n",
              "    .dataframe tbody tr th:only-of-type {\n",
              "        vertical-align: middle;\n",
              "    }\n",
              "\n",
              "    .dataframe tbody tr th {\n",
              "        vertical-align: top;\n",
              "    }\n",
              "\n",
              "    .dataframe thead th {\n",
              "        text-align: right;\n",
              "    }\n",
              "</style>\n",
              "<table border=\"1\" class=\"dataframe\">\n",
              "  <thead>\n",
              "    <tr style=\"text-align: right;\">\n",
              "      <th></th>\n",
              "      <th>A</th>\n",
              "      <th>B</th>\n",
              "      <th>C</th>\n",
              "      <th>D</th>\n",
              "      <th>E</th>\n",
              "      <th>F</th>\n",
              "    </tr>\n",
              "  </thead>\n",
              "  <tbody>\n",
              "    <tr>\n",
              "      <th>0</th>\n",
              "      <td>1.0</td>\n",
              "      <td>2021-04-30</td>\n",
              "      <td>1.0</td>\n",
              "      <td>3</td>\n",
              "      <td>test</td>\n",
              "      <td>foo</td>\n",
              "    </tr>\n",
              "    <tr>\n",
              "      <th>1</th>\n",
              "      <td>1.0</td>\n",
              "      <td>2021-04-30</td>\n",
              "      <td>1.0</td>\n",
              "      <td>3</td>\n",
              "      <td>train</td>\n",
              "      <td>foo</td>\n",
              "    </tr>\n",
              "    <tr>\n",
              "      <th>2</th>\n",
              "      <td>1.0</td>\n",
              "      <td>2021-04-30</td>\n",
              "      <td>1.0</td>\n",
              "      <td>3</td>\n",
              "      <td>test</td>\n",
              "      <td>foo</td>\n",
              "    </tr>\n",
              "    <tr>\n",
              "      <th>3</th>\n",
              "      <td>1.0</td>\n",
              "      <td>2021-04-30</td>\n",
              "      <td>1.0</td>\n",
              "      <td>3</td>\n",
              "      <td>train</td>\n",
              "      <td>foo</td>\n",
              "    </tr>\n",
              "  </tbody>\n",
              "</table>\n",
              "</div>"
            ],
            "text/plain": [
              "     A          B    C  D      E    F\n",
              "0  1.0 2021-04-30  1.0  3   test  foo\n",
              "1  1.0 2021-04-30  1.0  3  train  foo\n",
              "2  1.0 2021-04-30  1.0  3   test  foo\n",
              "3  1.0 2021-04-30  1.0  3  train  foo"
            ]
          },
          "metadata": {
            "tags": []
          },
          "execution_count": 50
        }
      ]
    },
    {
      "cell_type": "code",
      "metadata": {
        "colab": {
          "base_uri": "https://localhost:8080/",
          "height": 172
        },
        "id": "K43bI6hQUoO9",
        "outputId": "a1a7378d-05e8-4b7b-fe70-6a0316d80b5d"
      },
      "source": [
        "dt2,dtypes"
      ],
      "execution_count": 52,
      "outputs": [
        {
          "output_type": "error",
          "ename": "NameError",
          "evalue": "ignored",
          "traceback": [
            "\u001b[0;31m---------------------------------------------------------------------------\u001b[0m",
            "\u001b[0;31mNameError\u001b[0m                                 Traceback (most recent call last)",
            "\u001b[0;32m<ipython-input-52-97e024a86883>\u001b[0m in \u001b[0;36m<module>\u001b[0;34m()\u001b[0m\n\u001b[0;32m----> 1\u001b[0;31m \u001b[0mdt2\u001b[0m\u001b[0;34m,\u001b[0m\u001b[0mdtypes\u001b[0m\u001b[0;34m\u001b[0m\u001b[0;34m\u001b[0m\u001b[0m\n\u001b[0m",
            "\u001b[0;31mNameError\u001b[0m: name 'dt2' is not defined"
          ]
        }
      ]
    },
    {
      "cell_type": "code",
      "metadata": {
        "colab": {
          "base_uri": "https://localhost:8080/"
        },
        "id": "QXRCTomhU_51",
        "outputId": "740c3fff-5ed2-4fe4-e3a7-5b645c4bec3f"
      },
      "source": [
        "dates"
      ],
      "execution_count": 53,
      "outputs": [
        {
          "output_type": "execute_result",
          "data": {
            "text/plain": [
              "DatetimeIndex(['2021-04-30', '2021-05-01', '2021-05-02', '2021-05-03',\n",
              "               '2021-05-04', '2021-05-05'],\n",
              "              dtype='datetime64[ns]', freq='D')"
            ]
          },
          "metadata": {
            "tags": []
          },
          "execution_count": 53
        }
      ]
    },
    {
      "cell_type": "code",
      "metadata": {
        "id": "xaiOQWgRVWxl"
      },
      "source": [
        "dates=pd.date_range('20210430', periods=6)"
      ],
      "execution_count": 55,
      "outputs": []
    },
    {
      "cell_type": "code",
      "metadata": {
        "id": "fSZgijL3VgBd"
      },
      "source": [
        "df = pd.DataFrame(np.random.randn(6,4), index=dates, columns=list('ABCD')) \n"
      ],
      "execution_count": 59,
      "outputs": []
    },
    {
      "cell_type": "markdown",
      "metadata": {
        "id": "_nJwa9Y2WAj9"
      },
      "source": [
        "df"
      ]
    },
    {
      "cell_type": "code",
      "metadata": {
        "colab": {
          "base_uri": "https://localhost:8080/",
          "height": 235
        },
        "id": "F9SHAoXYV0pl",
        "outputId": "f830c8ab-6fde-4f52-b576-c0fafdce3e55"
      },
      "source": [
        "df"
      ],
      "execution_count": 60,
      "outputs": [
        {
          "output_type": "execute_result",
          "data": {
            "text/html": [
              "<div>\n",
              "<style scoped>\n",
              "    .dataframe tbody tr th:only-of-type {\n",
              "        vertical-align: middle;\n",
              "    }\n",
              "\n",
              "    .dataframe tbody tr th {\n",
              "        vertical-align: top;\n",
              "    }\n",
              "\n",
              "    .dataframe thead th {\n",
              "        text-align: right;\n",
              "    }\n",
              "</style>\n",
              "<table border=\"1\" class=\"dataframe\">\n",
              "  <thead>\n",
              "    <tr style=\"text-align: right;\">\n",
              "      <th></th>\n",
              "      <th>A</th>\n",
              "      <th>B</th>\n",
              "      <th>C</th>\n",
              "      <th>D</th>\n",
              "    </tr>\n",
              "  </thead>\n",
              "  <tbody>\n",
              "    <tr>\n",
              "      <th>2021-04-30</th>\n",
              "      <td>0.640636</td>\n",
              "      <td>-0.578857</td>\n",
              "      <td>1.610669</td>\n",
              "      <td>-0.882656</td>\n",
              "    </tr>\n",
              "    <tr>\n",
              "      <th>2021-05-01</th>\n",
              "      <td>-0.321681</td>\n",
              "      <td>0.510944</td>\n",
              "      <td>0.677454</td>\n",
              "      <td>-0.128934</td>\n",
              "    </tr>\n",
              "    <tr>\n",
              "      <th>2021-05-02</th>\n",
              "      <td>0.639265</td>\n",
              "      <td>-0.421344</td>\n",
              "      <td>0.685911</td>\n",
              "      <td>0.977876</td>\n",
              "    </tr>\n",
              "    <tr>\n",
              "      <th>2021-05-03</th>\n",
              "      <td>-1.265655</td>\n",
              "      <td>-0.086968</td>\n",
              "      <td>0.274877</td>\n",
              "      <td>-0.060370</td>\n",
              "    </tr>\n",
              "    <tr>\n",
              "      <th>2021-05-04</th>\n",
              "      <td>0.854226</td>\n",
              "      <td>-0.531045</td>\n",
              "      <td>-0.822353</td>\n",
              "      <td>0.017833</td>\n",
              "    </tr>\n",
              "    <tr>\n",
              "      <th>2021-05-05</th>\n",
              "      <td>0.040565</td>\n",
              "      <td>1.232266</td>\n",
              "      <td>-0.530389</td>\n",
              "      <td>-1.928127</td>\n",
              "    </tr>\n",
              "  </tbody>\n",
              "</table>\n",
              "</div>"
            ],
            "text/plain": [
              "                   A         B         C         D\n",
              "2021-04-30  0.640636 -0.578857  1.610669 -0.882656\n",
              "2021-05-01 -0.321681  0.510944  0.677454 -0.128934\n",
              "2021-05-02  0.639265 -0.421344  0.685911  0.977876\n",
              "2021-05-03 -1.265655 -0.086968  0.274877 -0.060370\n",
              "2021-05-04  0.854226 -0.531045 -0.822353  0.017833\n",
              "2021-05-05  0.040565  1.232266 -0.530389 -1.928127"
            ]
          },
          "metadata": {
            "tags": []
          },
          "execution_count": 60
        }
      ]
    },
    {
      "cell_type": "code",
      "metadata": {
        "colab": {
          "base_uri": "https://localhost:8080/",
          "height": 235
        },
        "id": "TWZ3Yvo1WBMF",
        "outputId": "163eeb35-236b-4085-a979-24c821060117"
      },
      "source": [
        "df.head(6)"
      ],
      "execution_count": 67,
      "outputs": [
        {
          "output_type": "execute_result",
          "data": {
            "text/html": [
              "<div>\n",
              "<style scoped>\n",
              "    .dataframe tbody tr th:only-of-type {\n",
              "        vertical-align: middle;\n",
              "    }\n",
              "\n",
              "    .dataframe tbody tr th {\n",
              "        vertical-align: top;\n",
              "    }\n",
              "\n",
              "    .dataframe thead th {\n",
              "        text-align: right;\n",
              "    }\n",
              "</style>\n",
              "<table border=\"1\" class=\"dataframe\">\n",
              "  <thead>\n",
              "    <tr style=\"text-align: right;\">\n",
              "      <th></th>\n",
              "      <th>A</th>\n",
              "      <th>B</th>\n",
              "      <th>C</th>\n",
              "      <th>D</th>\n",
              "    </tr>\n",
              "  </thead>\n",
              "  <tbody>\n",
              "    <tr>\n",
              "      <th>2021-04-30</th>\n",
              "      <td>0.640636</td>\n",
              "      <td>-0.578857</td>\n",
              "      <td>1.610669</td>\n",
              "      <td>-0.882656</td>\n",
              "    </tr>\n",
              "    <tr>\n",
              "      <th>2021-05-01</th>\n",
              "      <td>-0.321681</td>\n",
              "      <td>0.510944</td>\n",
              "      <td>0.677454</td>\n",
              "      <td>-0.128934</td>\n",
              "    </tr>\n",
              "    <tr>\n",
              "      <th>2021-05-02</th>\n",
              "      <td>0.639265</td>\n",
              "      <td>-0.421344</td>\n",
              "      <td>0.685911</td>\n",
              "      <td>0.977876</td>\n",
              "    </tr>\n",
              "    <tr>\n",
              "      <th>2021-05-03</th>\n",
              "      <td>-1.265655</td>\n",
              "      <td>-0.086968</td>\n",
              "      <td>0.274877</td>\n",
              "      <td>-0.060370</td>\n",
              "    </tr>\n",
              "    <tr>\n",
              "      <th>2021-05-04</th>\n",
              "      <td>0.854226</td>\n",
              "      <td>-0.531045</td>\n",
              "      <td>-0.822353</td>\n",
              "      <td>0.017833</td>\n",
              "    </tr>\n",
              "    <tr>\n",
              "      <th>2021-05-05</th>\n",
              "      <td>0.040565</td>\n",
              "      <td>1.232266</td>\n",
              "      <td>-0.530389</td>\n",
              "      <td>-1.928127</td>\n",
              "    </tr>\n",
              "  </tbody>\n",
              "</table>\n",
              "</div>"
            ],
            "text/plain": [
              "                   A         B         C         D\n",
              "2021-04-30  0.640636 -0.578857  1.610669 -0.882656\n",
              "2021-05-01 -0.321681  0.510944  0.677454 -0.128934\n",
              "2021-05-02  0.639265 -0.421344  0.685911  0.977876\n",
              "2021-05-03 -1.265655 -0.086968  0.274877 -0.060370\n",
              "2021-05-04  0.854226 -0.531045 -0.822353  0.017833\n",
              "2021-05-05  0.040565  1.232266 -0.530389 -1.928127"
            ]
          },
          "metadata": {
            "tags": []
          },
          "execution_count": 67
        }
      ]
    },
    {
      "cell_type": "code",
      "metadata": {
        "colab": {
          "base_uri": "https://localhost:8080/",
          "height": 111
        },
        "id": "W94TaefQWK-E",
        "outputId": "b29a2af8-1e45-48c6-cee1-a5cfdcdddce0"
      },
      "source": [
        "df.tail(2)"
      ],
      "execution_count": 66,
      "outputs": [
        {
          "output_type": "execute_result",
          "data": {
            "text/html": [
              "<div>\n",
              "<style scoped>\n",
              "    .dataframe tbody tr th:only-of-type {\n",
              "        vertical-align: middle;\n",
              "    }\n",
              "\n",
              "    .dataframe tbody tr th {\n",
              "        vertical-align: top;\n",
              "    }\n",
              "\n",
              "    .dataframe thead th {\n",
              "        text-align: right;\n",
              "    }\n",
              "</style>\n",
              "<table border=\"1\" class=\"dataframe\">\n",
              "  <thead>\n",
              "    <tr style=\"text-align: right;\">\n",
              "      <th></th>\n",
              "      <th>A</th>\n",
              "      <th>B</th>\n",
              "      <th>C</th>\n",
              "      <th>D</th>\n",
              "    </tr>\n",
              "  </thead>\n",
              "  <tbody>\n",
              "    <tr>\n",
              "      <th>2021-05-04</th>\n",
              "      <td>0.854226</td>\n",
              "      <td>-0.531045</td>\n",
              "      <td>-0.822353</td>\n",
              "      <td>0.017833</td>\n",
              "    </tr>\n",
              "    <tr>\n",
              "      <th>2021-05-05</th>\n",
              "      <td>0.040565</td>\n",
              "      <td>1.232266</td>\n",
              "      <td>-0.530389</td>\n",
              "      <td>-1.928127</td>\n",
              "    </tr>\n",
              "  </tbody>\n",
              "</table>\n",
              "</div>"
            ],
            "text/plain": [
              "                   A         B         C         D\n",
              "2021-05-04  0.854226 -0.531045 -0.822353  0.017833\n",
              "2021-05-05  0.040565  1.232266 -0.530389 -1.928127"
            ]
          },
          "metadata": {
            "tags": []
          },
          "execution_count": 66
        }
      ]
    },
    {
      "cell_type": "code",
      "metadata": {
        "colab": {
          "base_uri": "https://localhost:8080/",
          "height": 142
        },
        "id": "cRs1rzWrWRDX",
        "outputId": "99d2d41f-5aa2-4721-d7a3-4d3ba3eaefe4"
      },
      "source": [
        "\n",
        "df.head(3)"
      ],
      "execution_count": 68,
      "outputs": [
        {
          "output_type": "execute_result",
          "data": {
            "text/html": [
              "<div>\n",
              "<style scoped>\n",
              "    .dataframe tbody tr th:only-of-type {\n",
              "        vertical-align: middle;\n",
              "    }\n",
              "\n",
              "    .dataframe tbody tr th {\n",
              "        vertical-align: top;\n",
              "    }\n",
              "\n",
              "    .dataframe thead th {\n",
              "        text-align: right;\n",
              "    }\n",
              "</style>\n",
              "<table border=\"1\" class=\"dataframe\">\n",
              "  <thead>\n",
              "    <tr style=\"text-align: right;\">\n",
              "      <th></th>\n",
              "      <th>A</th>\n",
              "      <th>B</th>\n",
              "      <th>C</th>\n",
              "      <th>D</th>\n",
              "    </tr>\n",
              "  </thead>\n",
              "  <tbody>\n",
              "    <tr>\n",
              "      <th>2021-04-30</th>\n",
              "      <td>0.640636</td>\n",
              "      <td>-0.578857</td>\n",
              "      <td>1.610669</td>\n",
              "      <td>-0.882656</td>\n",
              "    </tr>\n",
              "    <tr>\n",
              "      <th>2021-05-01</th>\n",
              "      <td>-0.321681</td>\n",
              "      <td>0.510944</td>\n",
              "      <td>0.677454</td>\n",
              "      <td>-0.128934</td>\n",
              "    </tr>\n",
              "    <tr>\n",
              "      <th>2021-05-02</th>\n",
              "      <td>0.639265</td>\n",
              "      <td>-0.421344</td>\n",
              "      <td>0.685911</td>\n",
              "      <td>0.977876</td>\n",
              "    </tr>\n",
              "  </tbody>\n",
              "</table>\n",
              "</div>"
            ],
            "text/plain": [
              "                   A         B         C         D\n",
              "2021-04-30  0.640636 -0.578857  1.610669 -0.882656\n",
              "2021-05-01 -0.321681  0.510944  0.677454 -0.128934\n",
              "2021-05-02  0.639265 -0.421344  0.685911  0.977876"
            ]
          },
          "metadata": {
            "tags": []
          },
          "execution_count": 68
        }
      ]
    },
    {
      "cell_type": "code",
      "metadata": {
        "colab": {
          "base_uri": "https://localhost:8080/"
        },
        "id": "5EoI4siXWmK1",
        "outputId": "1eb1e681-41dc-40a0-9259-d94d3c120977"
      },
      "source": [
        "dates"
      ],
      "execution_count": 69,
      "outputs": [
        {
          "output_type": "execute_result",
          "data": {
            "text/plain": [
              "DatetimeIndex(['2021-04-30', '2021-05-01', '2021-05-02', '2021-05-03',\n",
              "               '2021-05-04', '2021-05-05'],\n",
              "              dtype='datetime64[ns]', freq='D')"
            ]
          },
          "metadata": {
            "tags": []
          },
          "execution_count": 69
        }
      ]
    },
    {
      "cell_type": "code",
      "metadata": {
        "colab": {
          "base_uri": "https://localhost:8080/",
          "height": 235
        },
        "id": "atBrMk7dWptN",
        "outputId": "b3a08c92-49b0-423f-9c09-b1965c833946"
      },
      "source": [
        "df"
      ],
      "execution_count": 70,
      "outputs": [
        {
          "output_type": "execute_result",
          "data": {
            "text/html": [
              "<div>\n",
              "<style scoped>\n",
              "    .dataframe tbody tr th:only-of-type {\n",
              "        vertical-align: middle;\n",
              "    }\n",
              "\n",
              "    .dataframe tbody tr th {\n",
              "        vertical-align: top;\n",
              "    }\n",
              "\n",
              "    .dataframe thead th {\n",
              "        text-align: right;\n",
              "    }\n",
              "</style>\n",
              "<table border=\"1\" class=\"dataframe\">\n",
              "  <thead>\n",
              "    <tr style=\"text-align: right;\">\n",
              "      <th></th>\n",
              "      <th>A</th>\n",
              "      <th>B</th>\n",
              "      <th>C</th>\n",
              "      <th>D</th>\n",
              "    </tr>\n",
              "  </thead>\n",
              "  <tbody>\n",
              "    <tr>\n",
              "      <th>2021-04-30</th>\n",
              "      <td>0.640636</td>\n",
              "      <td>-0.578857</td>\n",
              "      <td>1.610669</td>\n",
              "      <td>-0.882656</td>\n",
              "    </tr>\n",
              "    <tr>\n",
              "      <th>2021-05-01</th>\n",
              "      <td>-0.321681</td>\n",
              "      <td>0.510944</td>\n",
              "      <td>0.677454</td>\n",
              "      <td>-0.128934</td>\n",
              "    </tr>\n",
              "    <tr>\n",
              "      <th>2021-05-02</th>\n",
              "      <td>0.639265</td>\n",
              "      <td>-0.421344</td>\n",
              "      <td>0.685911</td>\n",
              "      <td>0.977876</td>\n",
              "    </tr>\n",
              "    <tr>\n",
              "      <th>2021-05-03</th>\n",
              "      <td>-1.265655</td>\n",
              "      <td>-0.086968</td>\n",
              "      <td>0.274877</td>\n",
              "      <td>-0.060370</td>\n",
              "    </tr>\n",
              "    <tr>\n",
              "      <th>2021-05-04</th>\n",
              "      <td>0.854226</td>\n",
              "      <td>-0.531045</td>\n",
              "      <td>-0.822353</td>\n",
              "      <td>0.017833</td>\n",
              "    </tr>\n",
              "    <tr>\n",
              "      <th>2021-05-05</th>\n",
              "      <td>0.040565</td>\n",
              "      <td>1.232266</td>\n",
              "      <td>-0.530389</td>\n",
              "      <td>-1.928127</td>\n",
              "    </tr>\n",
              "  </tbody>\n",
              "</table>\n",
              "</div>"
            ],
            "text/plain": [
              "                   A         B         C         D\n",
              "2021-04-30  0.640636 -0.578857  1.610669 -0.882656\n",
              "2021-05-01 -0.321681  0.510944  0.677454 -0.128934\n",
              "2021-05-02  0.639265 -0.421344  0.685911  0.977876\n",
              "2021-05-03 -1.265655 -0.086968  0.274877 -0.060370\n",
              "2021-05-04  0.854226 -0.531045 -0.822353  0.017833\n",
              "2021-05-05  0.040565  1.232266 -0.530389 -1.928127"
            ]
          },
          "metadata": {
            "tags": []
          },
          "execution_count": 70
        }
      ]
    },
    {
      "cell_type": "code",
      "metadata": {
        "colab": {
          "base_uri": "https://localhost:8080/"
        },
        "id": "PszzbW9nWqHF",
        "outputId": "c5bf4b9f-756a-44d3-a02f-a93106fd0e50"
      },
      "source": [
        "df.index"
      ],
      "execution_count": 71,
      "outputs": [
        {
          "output_type": "execute_result",
          "data": {
            "text/plain": [
              "DatetimeIndex(['2021-04-30', '2021-05-01', '2021-05-02', '2021-05-03',\n",
              "               '2021-05-04', '2021-05-05'],\n",
              "              dtype='datetime64[ns]', freq='D')"
            ]
          },
          "metadata": {
            "tags": []
          },
          "execution_count": 71
        }
      ]
    },
    {
      "cell_type": "code",
      "metadata": {
        "colab": {
          "base_uri": "https://localhost:8080/"
        },
        "id": "8ypLOscOW0dF",
        "outputId": "bd0002d2-e61a-434d-fb13-43e911cd1a81"
      },
      "source": [
        "df.columns"
      ],
      "execution_count": 72,
      "outputs": [
        {
          "output_type": "execute_result",
          "data": {
            "text/plain": [
              "Index(['A', 'B', 'C', 'D'], dtype='object')"
            ]
          },
          "metadata": {
            "tags": []
          },
          "execution_count": 72
        }
      ]
    },
    {
      "cell_type": "code",
      "metadata": {
        "colab": {
          "base_uri": "https://localhost:8080/"
        },
        "id": "STnFYhqqXFK0",
        "outputId": "4fe9d0be-1220-49e7-8038-1bf70e914866"
      },
      "source": [
        "df.values"
      ],
      "execution_count": 73,
      "outputs": [
        {
          "output_type": "execute_result",
          "data": {
            "text/plain": [
              "array([[ 0.64063574, -0.57885728,  1.61066909, -0.88265641],\n",
              "       [-0.32168065,  0.51094361,  0.6774539 , -0.12893433],\n",
              "       [ 0.63926464, -0.42134427,  0.6859107 ,  0.97787595],\n",
              "       [-1.26565548, -0.08696811,  0.27487695, -0.06036998],\n",
              "       [ 0.85422553, -0.53104501, -0.82235275,  0.01783329],\n",
              "       [ 0.04056534,  1.23226578, -0.53038942, -1.92812692]])"
            ]
          },
          "metadata": {
            "tags": []
          },
          "execution_count": 73
        }
      ]
    },
    {
      "cell_type": "code",
      "metadata": {
        "colab": {
          "base_uri": "https://localhost:8080/",
          "height": 297
        },
        "id": "HhCCMTJvXJ98",
        "outputId": "17d1d1cc-3677-4651-ca98-17c56a7b1293"
      },
      "source": [
        "df.describe()"
      ],
      "execution_count": 76,
      "outputs": [
        {
          "output_type": "execute_result",
          "data": {
            "text/html": [
              "<div>\n",
              "<style scoped>\n",
              "    .dataframe tbody tr th:only-of-type {\n",
              "        vertical-align: middle;\n",
              "    }\n",
              "\n",
              "    .dataframe tbody tr th {\n",
              "        vertical-align: top;\n",
              "    }\n",
              "\n",
              "    .dataframe thead th {\n",
              "        text-align: right;\n",
              "    }\n",
              "</style>\n",
              "<table border=\"1\" class=\"dataframe\">\n",
              "  <thead>\n",
              "    <tr style=\"text-align: right;\">\n",
              "      <th></th>\n",
              "      <th>A</th>\n",
              "      <th>B</th>\n",
              "      <th>C</th>\n",
              "      <th>D</th>\n",
              "    </tr>\n",
              "  </thead>\n",
              "  <tbody>\n",
              "    <tr>\n",
              "      <th>count</th>\n",
              "      <td>6.000000</td>\n",
              "      <td>6.000000</td>\n",
              "      <td>6.000000</td>\n",
              "      <td>6.000000</td>\n",
              "    </tr>\n",
              "    <tr>\n",
              "      <th>mean</th>\n",
              "      <td>0.097893</td>\n",
              "      <td>0.020832</td>\n",
              "      <td>0.316028</td>\n",
              "      <td>-0.334063</td>\n",
              "    </tr>\n",
              "    <tr>\n",
              "      <th>std</th>\n",
              "      <td>0.799786</td>\n",
              "      <td>0.718209</td>\n",
              "      <td>0.889670</td>\n",
              "      <td>0.980204</td>\n",
              "    </tr>\n",
              "    <tr>\n",
              "      <th>min</th>\n",
              "      <td>-1.265655</td>\n",
              "      <td>-0.578857</td>\n",
              "      <td>-0.822353</td>\n",
              "      <td>-1.928127</td>\n",
              "    </tr>\n",
              "    <tr>\n",
              "      <th>25%</th>\n",
              "      <td>-0.231119</td>\n",
              "      <td>-0.503620</td>\n",
              "      <td>-0.329073</td>\n",
              "      <td>-0.694226</td>\n",
              "    </tr>\n",
              "    <tr>\n",
              "      <th>50%</th>\n",
              "      <td>0.339915</td>\n",
              "      <td>-0.254156</td>\n",
              "      <td>0.476165</td>\n",
              "      <td>-0.094652</td>\n",
              "    </tr>\n",
              "    <tr>\n",
              "      <th>75%</th>\n",
              "      <td>0.640293</td>\n",
              "      <td>0.361466</td>\n",
              "      <td>0.683796</td>\n",
              "      <td>-0.001718</td>\n",
              "    </tr>\n",
              "    <tr>\n",
              "      <th>max</th>\n",
              "      <td>0.854226</td>\n",
              "      <td>1.232266</td>\n",
              "      <td>1.610669</td>\n",
              "      <td>0.977876</td>\n",
              "    </tr>\n",
              "  </tbody>\n",
              "</table>\n",
              "</div>"
            ],
            "text/plain": [
              "              A         B         C         D\n",
              "count  6.000000  6.000000  6.000000  6.000000\n",
              "mean   0.097893  0.020832  0.316028 -0.334063\n",
              "std    0.799786  0.718209  0.889670  0.980204\n",
              "min   -1.265655 -0.578857 -0.822353 -1.928127\n",
              "25%   -0.231119 -0.503620 -0.329073 -0.694226\n",
              "50%    0.339915 -0.254156  0.476165 -0.094652\n",
              "75%    0.640293  0.361466  0.683796 -0.001718\n",
              "max    0.854226  1.232266  1.610669  0.977876"
            ]
          },
          "metadata": {
            "tags": []
          },
          "execution_count": 76
        }
      ]
    },
    {
      "cell_type": "code",
      "metadata": {
        "colab": {
          "base_uri": "https://localhost:8080/",
          "height": 235
        },
        "id": "XTD3SqnNXUOV",
        "outputId": "27664cdd-b81d-4b18-f332-889f82649c0b"
      },
      "source": [
        "df"
      ],
      "execution_count": 77,
      "outputs": [
        {
          "output_type": "execute_result",
          "data": {
            "text/html": [
              "<div>\n",
              "<style scoped>\n",
              "    .dataframe tbody tr th:only-of-type {\n",
              "        vertical-align: middle;\n",
              "    }\n",
              "\n",
              "    .dataframe tbody tr th {\n",
              "        vertical-align: top;\n",
              "    }\n",
              "\n",
              "    .dataframe thead th {\n",
              "        text-align: right;\n",
              "    }\n",
              "</style>\n",
              "<table border=\"1\" class=\"dataframe\">\n",
              "  <thead>\n",
              "    <tr style=\"text-align: right;\">\n",
              "      <th></th>\n",
              "      <th>A</th>\n",
              "      <th>B</th>\n",
              "      <th>C</th>\n",
              "      <th>D</th>\n",
              "    </tr>\n",
              "  </thead>\n",
              "  <tbody>\n",
              "    <tr>\n",
              "      <th>2021-04-30</th>\n",
              "      <td>0.640636</td>\n",
              "      <td>-0.578857</td>\n",
              "      <td>1.610669</td>\n",
              "      <td>-0.882656</td>\n",
              "    </tr>\n",
              "    <tr>\n",
              "      <th>2021-05-01</th>\n",
              "      <td>-0.321681</td>\n",
              "      <td>0.510944</td>\n",
              "      <td>0.677454</td>\n",
              "      <td>-0.128934</td>\n",
              "    </tr>\n",
              "    <tr>\n",
              "      <th>2021-05-02</th>\n",
              "      <td>0.639265</td>\n",
              "      <td>-0.421344</td>\n",
              "      <td>0.685911</td>\n",
              "      <td>0.977876</td>\n",
              "    </tr>\n",
              "    <tr>\n",
              "      <th>2021-05-03</th>\n",
              "      <td>-1.265655</td>\n",
              "      <td>-0.086968</td>\n",
              "      <td>0.274877</td>\n",
              "      <td>-0.060370</td>\n",
              "    </tr>\n",
              "    <tr>\n",
              "      <th>2021-05-04</th>\n",
              "      <td>0.854226</td>\n",
              "      <td>-0.531045</td>\n",
              "      <td>-0.822353</td>\n",
              "      <td>0.017833</td>\n",
              "    </tr>\n",
              "    <tr>\n",
              "      <th>2021-05-05</th>\n",
              "      <td>0.040565</td>\n",
              "      <td>1.232266</td>\n",
              "      <td>-0.530389</td>\n",
              "      <td>-1.928127</td>\n",
              "    </tr>\n",
              "  </tbody>\n",
              "</table>\n",
              "</div>"
            ],
            "text/plain": [
              "                   A         B         C         D\n",
              "2021-04-30  0.640636 -0.578857  1.610669 -0.882656\n",
              "2021-05-01 -0.321681  0.510944  0.677454 -0.128934\n",
              "2021-05-02  0.639265 -0.421344  0.685911  0.977876\n",
              "2021-05-03 -1.265655 -0.086968  0.274877 -0.060370\n",
              "2021-05-04  0.854226 -0.531045 -0.822353  0.017833\n",
              "2021-05-05  0.040565  1.232266 -0.530389 -1.928127"
            ]
          },
          "metadata": {
            "tags": []
          },
          "execution_count": 77
        }
      ]
    },
    {
      "cell_type": "code",
      "metadata": {
        "colab": {
          "base_uri": "https://localhost:8080/",
          "height": 173
        },
        "id": "__1-Ca18XxLl",
        "outputId": "92a042c5-b07f-4859-bca4-9746d2a6d066"
      },
      "source": [
        "df.T.T.T"
      ],
      "execution_count": 80,
      "outputs": [
        {
          "output_type": "execute_result",
          "data": {
            "text/html": [
              "<div>\n",
              "<style scoped>\n",
              "    .dataframe tbody tr th:only-of-type {\n",
              "        vertical-align: middle;\n",
              "    }\n",
              "\n",
              "    .dataframe tbody tr th {\n",
              "        vertical-align: top;\n",
              "    }\n",
              "\n",
              "    .dataframe thead th {\n",
              "        text-align: right;\n",
              "    }\n",
              "</style>\n",
              "<table border=\"1\" class=\"dataframe\">\n",
              "  <thead>\n",
              "    <tr style=\"text-align: right;\">\n",
              "      <th></th>\n",
              "      <th>2021-04-30</th>\n",
              "      <th>2021-05-01</th>\n",
              "      <th>2021-05-02</th>\n",
              "      <th>2021-05-03</th>\n",
              "      <th>2021-05-04</th>\n",
              "      <th>2021-05-05</th>\n",
              "    </tr>\n",
              "  </thead>\n",
              "  <tbody>\n",
              "    <tr>\n",
              "      <th>A</th>\n",
              "      <td>0.640636</td>\n",
              "      <td>-0.321681</td>\n",
              "      <td>0.639265</td>\n",
              "      <td>-1.265655</td>\n",
              "      <td>0.854226</td>\n",
              "      <td>0.040565</td>\n",
              "    </tr>\n",
              "    <tr>\n",
              "      <th>B</th>\n",
              "      <td>-0.578857</td>\n",
              "      <td>0.510944</td>\n",
              "      <td>-0.421344</td>\n",
              "      <td>-0.086968</td>\n",
              "      <td>-0.531045</td>\n",
              "      <td>1.232266</td>\n",
              "    </tr>\n",
              "    <tr>\n",
              "      <th>C</th>\n",
              "      <td>1.610669</td>\n",
              "      <td>0.677454</td>\n",
              "      <td>0.685911</td>\n",
              "      <td>0.274877</td>\n",
              "      <td>-0.822353</td>\n",
              "      <td>-0.530389</td>\n",
              "    </tr>\n",
              "    <tr>\n",
              "      <th>D</th>\n",
              "      <td>-0.882656</td>\n",
              "      <td>-0.128934</td>\n",
              "      <td>0.977876</td>\n",
              "      <td>-0.060370</td>\n",
              "      <td>0.017833</td>\n",
              "      <td>-1.928127</td>\n",
              "    </tr>\n",
              "  </tbody>\n",
              "</table>\n",
              "</div>"
            ],
            "text/plain": [
              "   2021-04-30  2021-05-01  2021-05-02  2021-05-03  2021-05-04  2021-05-05\n",
              "A    0.640636   -0.321681    0.639265   -1.265655    0.854226    0.040565\n",
              "B   -0.578857    0.510944   -0.421344   -0.086968   -0.531045    1.232266\n",
              "C    1.610669    0.677454    0.685911    0.274877   -0.822353   -0.530389\n",
              "D   -0.882656   -0.128934    0.977876   -0.060370    0.017833   -1.928127"
            ]
          },
          "metadata": {
            "tags": []
          },
          "execution_count": 80
        }
      ]
    },
    {
      "cell_type": "code",
      "metadata": {
        "colab": {
          "base_uri": "https://localhost:8080/",
          "height": 235
        },
        "id": "s9epUc37X2fG",
        "outputId": "34f41031-ebaa-473a-a1bb-d347e1483a8e"
      },
      "source": [
        "df.sort_index(axis=1,ascending=False)"
      ],
      "execution_count": 86,
      "outputs": [
        {
          "output_type": "execute_result",
          "data": {
            "text/html": [
              "<div>\n",
              "<style scoped>\n",
              "    .dataframe tbody tr th:only-of-type {\n",
              "        vertical-align: middle;\n",
              "    }\n",
              "\n",
              "    .dataframe tbody tr th {\n",
              "        vertical-align: top;\n",
              "    }\n",
              "\n",
              "    .dataframe thead th {\n",
              "        text-align: right;\n",
              "    }\n",
              "</style>\n",
              "<table border=\"1\" class=\"dataframe\">\n",
              "  <thead>\n",
              "    <tr style=\"text-align: right;\">\n",
              "      <th></th>\n",
              "      <th>D</th>\n",
              "      <th>C</th>\n",
              "      <th>B</th>\n",
              "      <th>A</th>\n",
              "    </tr>\n",
              "  </thead>\n",
              "  <tbody>\n",
              "    <tr>\n",
              "      <th>2021-04-30</th>\n",
              "      <td>-0.882656</td>\n",
              "      <td>1.610669</td>\n",
              "      <td>-0.578857</td>\n",
              "      <td>0.640636</td>\n",
              "    </tr>\n",
              "    <tr>\n",
              "      <th>2021-05-01</th>\n",
              "      <td>-0.128934</td>\n",
              "      <td>0.677454</td>\n",
              "      <td>0.510944</td>\n",
              "      <td>-0.321681</td>\n",
              "    </tr>\n",
              "    <tr>\n",
              "      <th>2021-05-02</th>\n",
              "      <td>0.977876</td>\n",
              "      <td>0.685911</td>\n",
              "      <td>-0.421344</td>\n",
              "      <td>0.639265</td>\n",
              "    </tr>\n",
              "    <tr>\n",
              "      <th>2021-05-03</th>\n",
              "      <td>-0.060370</td>\n",
              "      <td>0.274877</td>\n",
              "      <td>-0.086968</td>\n",
              "      <td>-1.265655</td>\n",
              "    </tr>\n",
              "    <tr>\n",
              "      <th>2021-05-04</th>\n",
              "      <td>0.017833</td>\n",
              "      <td>-0.822353</td>\n",
              "      <td>-0.531045</td>\n",
              "      <td>0.854226</td>\n",
              "    </tr>\n",
              "    <tr>\n",
              "      <th>2021-05-05</th>\n",
              "      <td>-1.928127</td>\n",
              "      <td>-0.530389</td>\n",
              "      <td>1.232266</td>\n",
              "      <td>0.040565</td>\n",
              "    </tr>\n",
              "  </tbody>\n",
              "</table>\n",
              "</div>"
            ],
            "text/plain": [
              "                   D         C         B         A\n",
              "2021-04-30 -0.882656  1.610669 -0.578857  0.640636\n",
              "2021-05-01 -0.128934  0.677454  0.510944 -0.321681\n",
              "2021-05-02  0.977876  0.685911 -0.421344  0.639265\n",
              "2021-05-03 -0.060370  0.274877 -0.086968 -1.265655\n",
              "2021-05-04  0.017833 -0.822353 -0.531045  0.854226\n",
              "2021-05-05 -1.928127 -0.530389  1.232266  0.040565"
            ]
          },
          "metadata": {
            "tags": []
          },
          "execution_count": 86
        }
      ]
    },
    {
      "cell_type": "code",
      "metadata": {
        "colab": {
          "base_uri": "https://localhost:8080/",
          "height": 235
        },
        "id": "OmYvjxEHY5i1",
        "outputId": "0fc337e7-7d5a-4d7d-bf89-e974f715977d"
      },
      "source": [
        "df.sort_index(axis=1,ascending=False)\n",
        "df.sort_index(axis=0,ascending=False)"
      ],
      "execution_count": 88,
      "outputs": [
        {
          "output_type": "execute_result",
          "data": {
            "text/html": [
              "<div>\n",
              "<style scoped>\n",
              "    .dataframe tbody tr th:only-of-type {\n",
              "        vertical-align: middle;\n",
              "    }\n",
              "\n",
              "    .dataframe tbody tr th {\n",
              "        vertical-align: top;\n",
              "    }\n",
              "\n",
              "    .dataframe thead th {\n",
              "        text-align: right;\n",
              "    }\n",
              "</style>\n",
              "<table border=\"1\" class=\"dataframe\">\n",
              "  <thead>\n",
              "    <tr style=\"text-align: right;\">\n",
              "      <th></th>\n",
              "      <th>A</th>\n",
              "      <th>B</th>\n",
              "      <th>C</th>\n",
              "      <th>D</th>\n",
              "    </tr>\n",
              "  </thead>\n",
              "  <tbody>\n",
              "    <tr>\n",
              "      <th>2021-05-05</th>\n",
              "      <td>0.040565</td>\n",
              "      <td>1.232266</td>\n",
              "      <td>-0.530389</td>\n",
              "      <td>-1.928127</td>\n",
              "    </tr>\n",
              "    <tr>\n",
              "      <th>2021-05-04</th>\n",
              "      <td>0.854226</td>\n",
              "      <td>-0.531045</td>\n",
              "      <td>-0.822353</td>\n",
              "      <td>0.017833</td>\n",
              "    </tr>\n",
              "    <tr>\n",
              "      <th>2021-05-03</th>\n",
              "      <td>-1.265655</td>\n",
              "      <td>-0.086968</td>\n",
              "      <td>0.274877</td>\n",
              "      <td>-0.060370</td>\n",
              "    </tr>\n",
              "    <tr>\n",
              "      <th>2021-05-02</th>\n",
              "      <td>0.639265</td>\n",
              "      <td>-0.421344</td>\n",
              "      <td>0.685911</td>\n",
              "      <td>0.977876</td>\n",
              "    </tr>\n",
              "    <tr>\n",
              "      <th>2021-05-01</th>\n",
              "      <td>-0.321681</td>\n",
              "      <td>0.510944</td>\n",
              "      <td>0.677454</td>\n",
              "      <td>-0.128934</td>\n",
              "    </tr>\n",
              "    <tr>\n",
              "      <th>2021-04-30</th>\n",
              "      <td>0.640636</td>\n",
              "      <td>-0.578857</td>\n",
              "      <td>1.610669</td>\n",
              "      <td>-0.882656</td>\n",
              "    </tr>\n",
              "  </tbody>\n",
              "</table>\n",
              "</div>"
            ],
            "text/plain": [
              "                   A         B         C         D\n",
              "2021-05-05  0.040565  1.232266 -0.530389 -1.928127\n",
              "2021-05-04  0.854226 -0.531045 -0.822353  0.017833\n",
              "2021-05-03 -1.265655 -0.086968  0.274877 -0.060370\n",
              "2021-05-02  0.639265 -0.421344  0.685911  0.977876\n",
              "2021-05-01 -0.321681  0.510944  0.677454 -0.128934\n",
              "2021-04-30  0.640636 -0.578857  1.610669 -0.882656"
            ]
          },
          "metadata": {
            "tags": []
          },
          "execution_count": 88
        }
      ]
    },
    {
      "cell_type": "code",
      "metadata": {
        "colab": {
          "base_uri": "https://localhost:8080/",
          "height": 136
        },
        "id": "StWizE6JYUrG",
        "outputId": "f1873bc1-463f-4d4b-e879-c3bd10c9bd6e"
      },
      "source": [
        "df.sort_values'B')"
      ],
      "execution_count": 89,
      "outputs": [
        {
          "output_type": "error",
          "ename": "SyntaxError",
          "evalue": "ignored",
          "traceback": [
            "\u001b[0;36m  File \u001b[0;32m\"<ipython-input-89-8bc074dc2a6c>\"\u001b[0;36m, line \u001b[0;32m1\u001b[0m\n\u001b[0;31m    df.sort_values'B')\u001b[0m\n\u001b[0m                    ^\u001b[0m\n\u001b[0;31mSyntaxError\u001b[0m\u001b[0;31m:\u001b[0m invalid syntax\n"
          ]
        }
      ]
    },
    {
      "cell_type": "code",
      "metadata": {
        "id": "_The4vTcZkw3"
      },
      "source": [
        ""
      ],
      "execution_count": null,
      "outputs": []
    }
  ]
}