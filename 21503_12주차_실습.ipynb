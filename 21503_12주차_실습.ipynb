{
  "nbformat": 4,
  "nbformat_minor": 0,
  "metadata": {
    "colab": {
      "name": "21503_12주차 실습",
      "provenance": [],
      "authorship_tag": "ABX9TyNhLJQD4l2v8lcq1EQTTYD8",
      "include_colab_link": true
    },
    "kernelspec": {
      "name": "python3",
      "display_name": "Python 3"
    },
    "language_info": {
      "name": "python"
    }
  },
  "cells": [
    {
      "cell_type": "markdown",
      "metadata": {
        "id": "view-in-github",
        "colab_type": "text"
      },
      "source": [
        "<a href=\"https://colab.research.google.com/github/sinwooo/bmt_python/blob/main/21503_12%EC%A3%BC%EC%B0%A8_%EC%8B%A4%EC%8A%B5.ipynb\" target=\"_parent\"><img src=\"https://colab.research.google.com/assets/colab-badge.svg\" alt=\"Open In Colab\"/></a>"
      ]
    },
    {
      "cell_type": "code",
      "metadata": {
        "id": "2JEta7OtKD_i"
      },
      "source": [
        "import pandas as pd\n",
        "import numpy as np\n",
        "import matplotlib.pyplot as plt"
      ],
      "execution_count": 2,
      "outputs": []
    },
    {
      "cell_type": "code",
      "metadata": {
        "id": "SXE14-9VN0Wc"
      },
      "source": [
        "dates = pd.date_range('20210521', periods=6)"
      ],
      "execution_count": 4,
      "outputs": []
    },
    {
      "cell_type": "code",
      "metadata": {
        "id": "T3NUwReYOQu6"
      },
      "source": [
        "df= pd.DataFrame(np.random.randn(6,4), index=dates, columns=list('ABCD'))"
      ],
      "execution_count": 6,
      "outputs": []
    },
    {
      "cell_type": "code",
      "metadata": {
        "colab": {
          "base_uri": "https://localhost:8080/",
          "height": 235
        },
        "id": "N6EPJpBOOnNC",
        "outputId": "f23b1323-f206-45f0-d552-01fb83143129"
      },
      "source": [
        "df"
      ],
      "execution_count": 7,
      "outputs": [
        {
          "output_type": "execute_result",
          "data": {
            "text/html": [
              "<div>\n",
              "<style scoped>\n",
              "    .dataframe tbody tr th:only-of-type {\n",
              "        vertical-align: middle;\n",
              "    }\n",
              "\n",
              "    .dataframe tbody tr th {\n",
              "        vertical-align: top;\n",
              "    }\n",
              "\n",
              "    .dataframe thead th {\n",
              "        text-align: right;\n",
              "    }\n",
              "</style>\n",
              "<table border=\"1\" class=\"dataframe\">\n",
              "  <thead>\n",
              "    <tr style=\"text-align: right;\">\n",
              "      <th></th>\n",
              "      <th>A</th>\n",
              "      <th>B</th>\n",
              "      <th>C</th>\n",
              "      <th>D</th>\n",
              "    </tr>\n",
              "  </thead>\n",
              "  <tbody>\n",
              "    <tr>\n",
              "      <th>2021-05-21</th>\n",
              "      <td>-1.125349</td>\n",
              "      <td>-0.699063</td>\n",
              "      <td>1.478367</td>\n",
              "      <td>1.380155</td>\n",
              "    </tr>\n",
              "    <tr>\n",
              "      <th>2021-05-22</th>\n",
              "      <td>0.034345</td>\n",
              "      <td>-1.232974</td>\n",
              "      <td>-0.574101</td>\n",
              "      <td>-0.524528</td>\n",
              "    </tr>\n",
              "    <tr>\n",
              "      <th>2021-05-23</th>\n",
              "      <td>0.028644</td>\n",
              "      <td>0.472376</td>\n",
              "      <td>-0.356975</td>\n",
              "      <td>0.213048</td>\n",
              "    </tr>\n",
              "    <tr>\n",
              "      <th>2021-05-24</th>\n",
              "      <td>-2.240955</td>\n",
              "      <td>-0.896321</td>\n",
              "      <td>0.723182</td>\n",
              "      <td>0.743538</td>\n",
              "    </tr>\n",
              "    <tr>\n",
              "      <th>2021-05-25</th>\n",
              "      <td>-0.765545</td>\n",
              "      <td>-0.453784</td>\n",
              "      <td>0.438914</td>\n",
              "      <td>-0.298539</td>\n",
              "    </tr>\n",
              "    <tr>\n",
              "      <th>2021-05-26</th>\n",
              "      <td>0.869462</td>\n",
              "      <td>0.517857</td>\n",
              "      <td>0.684852</td>\n",
              "      <td>-1.152638</td>\n",
              "    </tr>\n",
              "  </tbody>\n",
              "</table>\n",
              "</div>"
            ],
            "text/plain": [
              "                   A         B         C         D\n",
              "2021-05-21 -1.125349 -0.699063  1.478367  1.380155\n",
              "2021-05-22  0.034345 -1.232974 -0.574101 -0.524528\n",
              "2021-05-23  0.028644  0.472376 -0.356975  0.213048\n",
              "2021-05-24 -2.240955 -0.896321  0.723182  0.743538\n",
              "2021-05-25 -0.765545 -0.453784  0.438914 -0.298539\n",
              "2021-05-26  0.869462  0.517857  0.684852 -1.152638"
            ]
          },
          "metadata": {
            "tags": []
          },
          "execution_count": 7
        }
      ]
    },
    {
      "cell_type": "code",
      "metadata": {
        "id": "1C25juyoOrH5"
      },
      "source": [
        "s= pd.Series(np.random.randint(0,7, size=10))"
      ],
      "execution_count": 10,
      "outputs": []
    },
    {
      "cell_type": "code",
      "metadata": {
        "colab": {
          "base_uri": "https://localhost:8080/"
        },
        "id": "icTnbPuLO5Hq",
        "outputId": "08ebbe1b-4aac-4b07-c02e-de57a9180f79"
      },
      "source": [
        "s"
      ],
      "execution_count": 11,
      "outputs": [
        {
          "output_type": "execute_result",
          "data": {
            "text/plain": [
              "0    4\n",
              "1    2\n",
              "2    2\n",
              "3    5\n",
              "4    1\n",
              "5    2\n",
              "6    6\n",
              "7    2\n",
              "8    0\n",
              "9    3\n",
              "dtype: int64"
            ]
          },
          "metadata": {
            "tags": []
          },
          "execution_count": 11
        }
      ]
    },
    {
      "cell_type": "code",
      "metadata": {
        "id": "Saxi4_yyO_XT"
      },
      "source": [
        "s= pd.Series(np.random.randint(1,7, size=10000))"
      ],
      "execution_count": 18,
      "outputs": []
    },
    {
      "cell_type": "code",
      "metadata": {
        "colab": {
          "base_uri": "https://localhost:8080/"
        },
        "id": "RCoZikjSPGfa",
        "outputId": "3430b700-912e-4599-e83e-260b30a23c58"
      },
      "source": [
        "s"
      ],
      "execution_count": 19,
      "outputs": [
        {
          "output_type": "execute_result",
          "data": {
            "text/plain": [
              "0       6\n",
              "1       5\n",
              "2       5\n",
              "3       3\n",
              "4       6\n",
              "       ..\n",
              "9995    4\n",
              "9996    5\n",
              "9997    5\n",
              "9998    3\n",
              "9999    5\n",
              "Length: 10000, dtype: int64"
            ]
          },
          "metadata": {
            "tags": []
          },
          "execution_count": 19
        }
      ]
    },
    {
      "cell_type": "code",
      "metadata": {
        "colab": {
          "base_uri": "https://localhost:8080/"
        },
        "id": "grNVhjIjPG_K",
        "outputId": "1699608c-babe-4e73-af9d-7fecfdf163f9"
      },
      "source": [
        "s.value_counts()"
      ],
      "execution_count": 20,
      "outputs": [
        {
          "output_type": "execute_result",
          "data": {
            "text/plain": [
              "1    1738\n",
              "3    1685\n",
              "5    1668\n",
              "6    1649\n",
              "4    1631\n",
              "2    1629\n",
              "dtype: int64"
            ]
          },
          "metadata": {
            "tags": []
          },
          "execution_count": 20
        }
      ]
    },
    {
      "cell_type": "code",
      "metadata": {
        "colab": {
          "base_uri": "https://localhost:8080/",
          "height": 283
        },
        "id": "fX9SYPQOPSCi",
        "outputId": "f66b74b1-6678-4dfa-9df5-e8c5edef40b4"
      },
      "source": [
        "s.plot()\n"
      ],
      "execution_count": 23,
      "outputs": [
        {
          "output_type": "execute_result",
          "data": {
            "text/plain": [
              "<matplotlib.axes._subplots.AxesSubplot at 0x7fe1db3765d0>"
            ]
          },
          "metadata": {
            "tags": []
          },
          "execution_count": 23
        },
        {
          "output_type": "display_data",
          "data": {
            "image/png": "[encoded data removed]",
            "text/plain": [
              "<Figure size 432x288 with 1 Axes>"
            ]
          },
          "metadata": {
            "tags": [],
            "needs_background": "light"
          }
        }
      ]
    },
    {
      "cell_type": "code",
      "metadata": {
        "id": "8JP9Gv82Pm6y"
      },
      "source": [
        "s= pd.Series(np.random.randint(10.10, size=10))"
      ],
      "execution_count": 24,
      "outputs": []
    },
    {
      "cell_type": "code",
      "metadata": {
        "colab": {
          "base_uri": "https://localhost:8080/"
        },
        "id": "AQSaz1wGQEOi",
        "outputId": "a2a71add-b295-4f9f-dd5a-8e689d8728eb"
      },
      "source": [
        "s\n"
      ],
      "execution_count": 25,
      "outputs": [
        {
          "output_type": "execute_result",
          "data": {
            "text/plain": [
              "0    3\n",
              "1    8\n",
              "2    4\n",
              "3    8\n",
              "4    6\n",
              "5    6\n",
              "6    6\n",
              "7    4\n",
              "8    9\n",
              "9    1\n",
              "dtype: int64"
            ]
          },
          "metadata": {
            "tags": []
          },
          "execution_count": 25
        }
      ]
    },
    {
      "cell_type": "code",
      "metadata": {
        "id": "7MK2ciSjQE8i"
      },
      "source": [
        "df= pd.DataFrame(np.random.randn(10,10))"
      ],
      "execution_count": 29,
      "outputs": []
    },
    {
      "cell_type": "code",
      "metadata": {
        "colab": {
          "base_uri": "https://localhost:8080/",
          "height": 359
        },
        "id": "OAwH97B-QIXi",
        "outputId": "c3c2bb32-9bfc-40da-df49-0db3c2141f42"
      },
      "source": [
        "df"
      ],
      "execution_count": 30,
      "outputs": [
        {
          "output_type": "execute_result",
          "data": {
            "text/html": [
              "<div>\n",
              "<style scoped>\n",
              "    .dataframe tbody tr th:only-of-type {\n",
              "        vertical-align: middle;\n",
              "    }\n",
              "\n",
              "    .dataframe tbody tr th {\n",
              "        vertical-align: top;\n",
              "    }\n",
              "\n",
              "    .dataframe thead th {\n",
              "        text-align: right;\n",
              "    }\n",
              "</style>\n",
              "<table border=\"1\" class=\"dataframe\">\n",
              "  <thead>\n",
              "    <tr style=\"text-align: right;\">\n",
              "      <th></th>\n",
              "      <th>0</th>\n",
              "      <th>1</th>\n",
              "      <th>2</th>\n",
              "      <th>3</th>\n",
              "      <th>4</th>\n",
              "      <th>5</th>\n",
              "      <th>6</th>\n",
              "      <th>7</th>\n",
              "      <th>8</th>\n",
              "      <th>9</th>\n",
              "    </tr>\n",
              "  </thead>\n",
              "  <tbody>\n",
              "    <tr>\n",
              "      <th>0</th>\n",
              "      <td>-1.286371</td>\n",
              "      <td>-0.174110</td>\n",
              "      <td>1.799211</td>\n",
              "      <td>-0.597454</td>\n",
              "      <td>1.254075</td>\n",
              "      <td>0.312651</td>\n",
              "      <td>0.238462</td>\n",
              "      <td>0.409260</td>\n",
              "      <td>-0.998351</td>\n",
              "      <td>0.961388</td>\n",
              "    </tr>\n",
              "    <tr>\n",
              "      <th>1</th>\n",
              "      <td>-0.296061</td>\n",
              "      <td>1.985409</td>\n",
              "      <td>1.446844</td>\n",
              "      <td>1.773163</td>\n",
              "      <td>-0.083986</td>\n",
              "      <td>0.619472</td>\n",
              "      <td>1.392678</td>\n",
              "      <td>-1.661344</td>\n",
              "      <td>-0.456052</td>\n",
              "      <td>-0.165184</td>\n",
              "    </tr>\n",
              "    <tr>\n",
              "      <th>2</th>\n",
              "      <td>0.178225</td>\n",
              "      <td>0.113572</td>\n",
              "      <td>0.092783</td>\n",
              "      <td>-0.306406</td>\n",
              "      <td>-0.287397</td>\n",
              "      <td>-0.544874</td>\n",
              "      <td>0.962237</td>\n",
              "      <td>-1.022984</td>\n",
              "      <td>-0.453119</td>\n",
              "      <td>-0.064765</td>\n",
              "    </tr>\n",
              "    <tr>\n",
              "      <th>3</th>\n",
              "      <td>-0.464716</td>\n",
              "      <td>0.574152</td>\n",
              "      <td>0.896654</td>\n",
              "      <td>-1.869197</td>\n",
              "      <td>-1.455556</td>\n",
              "      <td>1.222897</td>\n",
              "      <td>0.843946</td>\n",
              "      <td>0.065884</td>\n",
              "      <td>-1.082743</td>\n",
              "      <td>-0.802682</td>\n",
              "    </tr>\n",
              "    <tr>\n",
              "      <th>4</th>\n",
              "      <td>-1.475173</td>\n",
              "      <td>0.897790</td>\n",
              "      <td>-1.322716</td>\n",
              "      <td>-1.597256</td>\n",
              "      <td>-0.561606</td>\n",
              "      <td>-0.399965</td>\n",
              "      <td>0.101261</td>\n",
              "      <td>1.975682</td>\n",
              "      <td>0.062533</td>\n",
              "      <td>-0.437167</td>\n",
              "    </tr>\n",
              "    <tr>\n",
              "      <th>5</th>\n",
              "      <td>0.028752</td>\n",
              "      <td>-2.086392</td>\n",
              "      <td>-0.665322</td>\n",
              "      <td>-0.363013</td>\n",
              "      <td>-0.788277</td>\n",
              "      <td>-0.860297</td>\n",
              "      <td>-0.508150</td>\n",
              "      <td>-0.069880</td>\n",
              "      <td>0.712384</td>\n",
              "      <td>0.391421</td>\n",
              "    </tr>\n",
              "    <tr>\n",
              "      <th>6</th>\n",
              "      <td>-0.734727</td>\n",
              "      <td>-0.634294</td>\n",
              "      <td>-1.070715</td>\n",
              "      <td>0.398776</td>\n",
              "      <td>0.216904</td>\n",
              "      <td>-0.506777</td>\n",
              "      <td>0.091096</td>\n",
              "      <td>-0.048406</td>\n",
              "      <td>0.141985</td>\n",
              "      <td>0.135715</td>\n",
              "    </tr>\n",
              "    <tr>\n",
              "      <th>7</th>\n",
              "      <td>1.412970</td>\n",
              "      <td>-0.003293</td>\n",
              "      <td>0.503951</td>\n",
              "      <td>-0.746377</td>\n",
              "      <td>-0.190675</td>\n",
              "      <td>0.617657</td>\n",
              "      <td>0.037163</td>\n",
              "      <td>0.585524</td>\n",
              "      <td>-0.692731</td>\n",
              "      <td>0.131569</td>\n",
              "    </tr>\n",
              "    <tr>\n",
              "      <th>8</th>\n",
              "      <td>-0.514343</td>\n",
              "      <td>0.655395</td>\n",
              "      <td>-2.010771</td>\n",
              "      <td>-0.022901</td>\n",
              "      <td>0.589599</td>\n",
              "      <td>0.579224</td>\n",
              "      <td>0.004692</td>\n",
              "      <td>-1.439401</td>\n",
              "      <td>1.169687</td>\n",
              "      <td>-0.540313</td>\n",
              "    </tr>\n",
              "    <tr>\n",
              "      <th>9</th>\n",
              "      <td>-2.073356</td>\n",
              "      <td>-0.407360</td>\n",
              "      <td>-0.931931</td>\n",
              "      <td>-0.522018</td>\n",
              "      <td>0.586405</td>\n",
              "      <td>1.907846</td>\n",
              "      <td>0.405282</td>\n",
              "      <td>0.441228</td>\n",
              "      <td>1.200198</td>\n",
              "      <td>0.193108</td>\n",
              "    </tr>\n",
              "  </tbody>\n",
              "</table>\n",
              "</div>"
            ],
            "text/plain": [
              "          0         1         2  ...         7         8         9\n",
              "0 -1.286371 -0.174110  1.799211  ...  0.409260 -0.998351  0.961388\n",
              "1 -0.296061  1.985409  1.446844  ... -1.661344 -0.456052 -0.165184\n",
              "2  0.178225  0.113572  0.092783  ... -1.022984 -0.453119 -0.064765\n",
              "3 -0.464716  0.574152  0.896654  ...  0.065884 -1.082743 -0.802682\n",
              "4 -1.475173  0.897790 -1.322716  ...  1.975682  0.062533 -0.437167\n",
              "5  0.028752 -2.086392 -0.665322  ... -0.069880  0.712384  0.391421\n",
              "6 -0.734727 -0.634294 -1.070715  ... -0.048406  0.141985  0.135715\n",
              "7  1.412970 -0.003293  0.503951  ...  0.585524 -0.692731  0.131569\n",
              "8 -0.514343  0.655395 -2.010771  ... -1.439401  1.169687 -0.540313\n",
              "9 -2.073356 -0.407360 -0.931931  ...  0.441228  1.200198  0.193108\n",
              "\n",
              "[10 rows x 10 columns]"
            ]
          },
          "metadata": {
            "tags": []
          },
          "execution_count": 30
        }
      ]
    },
    {
      "cell_type": "code",
      "metadata": {
        "colab": {
          "base_uri": "https://localhost:8080/",
          "height": 142
        },
        "id": "UXuXPMO-QKzC",
        "outputId": "1e2d34a6-0494-4a3b-e205-c84e578a4f0b"
      },
      "source": [
        "df[7:]"
      ],
      "execution_count": 31,
      "outputs": [
        {
          "output_type": "execute_result",
          "data": {
            "text/html": [
              "<div>\n",
              "<style scoped>\n",
              "    .dataframe tbody tr th:only-of-type {\n",
              "        vertical-align: middle;\n",
              "    }\n",
              "\n",
              "    .dataframe tbody tr th {\n",
              "        vertical-align: top;\n",
              "    }\n",
              "\n",
              "    .dataframe thead th {\n",
              "        text-align: right;\n",
              "    }\n",
              "</style>\n",
              "<table border=\"1\" class=\"dataframe\">\n",
              "  <thead>\n",
              "    <tr style=\"text-align: right;\">\n",
              "      <th></th>\n",
              "      <th>0</th>\n",
              "      <th>1</th>\n",
              "      <th>2</th>\n",
              "      <th>3</th>\n",
              "      <th>4</th>\n",
              "      <th>5</th>\n",
              "      <th>6</th>\n",
              "      <th>7</th>\n",
              "      <th>8</th>\n",
              "      <th>9</th>\n",
              "    </tr>\n",
              "  </thead>\n",
              "  <tbody>\n",
              "    <tr>\n",
              "      <th>7</th>\n",
              "      <td>1.412970</td>\n",
              "      <td>-0.003293</td>\n",
              "      <td>0.503951</td>\n",
              "      <td>-0.746377</td>\n",
              "      <td>-0.190675</td>\n",
              "      <td>0.617657</td>\n",
              "      <td>0.037163</td>\n",
              "      <td>0.585524</td>\n",
              "      <td>-0.692731</td>\n",
              "      <td>0.131569</td>\n",
              "    </tr>\n",
              "    <tr>\n",
              "      <th>8</th>\n",
              "      <td>-0.514343</td>\n",
              "      <td>0.655395</td>\n",
              "      <td>-2.010771</td>\n",
              "      <td>-0.022901</td>\n",
              "      <td>0.589599</td>\n",
              "      <td>0.579224</td>\n",
              "      <td>0.004692</td>\n",
              "      <td>-1.439401</td>\n",
              "      <td>1.169687</td>\n",
              "      <td>-0.540313</td>\n",
              "    </tr>\n",
              "    <tr>\n",
              "      <th>9</th>\n",
              "      <td>-2.073356</td>\n",
              "      <td>-0.407360</td>\n",
              "      <td>-0.931931</td>\n",
              "      <td>-0.522018</td>\n",
              "      <td>0.586405</td>\n",
              "      <td>1.907846</td>\n",
              "      <td>0.405282</td>\n",
              "      <td>0.441228</td>\n",
              "      <td>1.200198</td>\n",
              "      <td>0.193108</td>\n",
              "    </tr>\n",
              "  </tbody>\n",
              "</table>\n",
              "</div>"
            ],
            "text/plain": [
              "          0         1         2  ...         7         8         9\n",
              "7  1.412970 -0.003293  0.503951  ...  0.585524 -0.692731  0.131569\n",
              "8 -0.514343  0.655395 -2.010771  ... -1.439401  1.169687 -0.540313\n",
              "9 -2.073356 -0.407360 -0.931931  ...  0.441228  1.200198  0.193108\n",
              "\n",
              "[3 rows x 10 columns]"
            ]
          },
          "metadata": {
            "tags": []
          },
          "execution_count": 31
        }
      ]
    },
    {
      "cell_type": "code",
      "metadata": {
        "id": "bFYyB7tgQPBx"
      },
      "source": [
        "pieces=[df[:3],2,3]"
      ],
      "execution_count": 41,
      "outputs": []
    },
    {
      "cell_type": "code",
      "metadata": {
        "id": "vUbv2QRqQRay"
      },
      "source": [
        ""
      ],
      "execution_count": 36,
      "outputs": []
    },
    {
      "cell_type": "code",
      "metadata": {
        "colab": {
          "base_uri": "https://localhost:8080/"
        },
        "id": "OzAf54kVQZsq",
        "outputId": "674b56f9-ba3f-4905-d2e2-326d4eb783b4"
      },
      "source": [
        "pieces"
      ],
      "execution_count": 42,
      "outputs": [
        {
          "output_type": "execute_result",
          "data": {
            "text/plain": [
              "[          0         1         2  ...         7         8         9\n",
              " 0 -1.286371 -0.174110  1.799211  ...  0.409260 -0.998351  0.961388\n",
              " 1 -0.296061  1.985409  1.446844  ... -1.661344 -0.456052 -0.165184\n",
              " 2  0.178225  0.113572  0.092783  ... -1.022984 -0.453119 -0.064765\n",
              " \n",
              " [3 rows x 10 columns], 2, 3]"
            ]
          },
          "metadata": {
            "tags": []
          },
          "execution_count": 42
        }
      ]
    },
    {
      "cell_type": "code",
      "metadata": {
        "colab": {
          "base_uri": "https://localhost:8080/"
        },
        "id": "-OSkMo6YQbUh",
        "outputId": "ac06ba59-5aac-4c88-93c4-891216dba850"
      },
      "source": [
        "type(pisces[1])"
      ],
      "execution_count": 39,
      "outputs": [
        {
          "output_type": "execute_result",
          "data": {
            "text/plain": [
              "int"
            ]
          },
          "metadata": {
            "tags": []
          },
          "execution_count": 39
        }
      ]
    },
    {
      "cell_type": "code",
      "metadata": {
        "id": "J-FzVNM-QmhR"
      },
      "source": [
        "pieces= [df[:3],df[3:7],df[7:]]"
      ],
      "execution_count": 44,
      "outputs": []
    },
    {
      "cell_type": "code",
      "metadata": {
        "colab": {
          "base_uri": "https://localhost:8080/"
        },
        "id": "2PCYGr0KQ1Iq",
        "outputId": "867675bb-750d-4d70-8c4d-280daa3b6fc0"
      },
      "source": [
        "pieces"
      ],
      "execution_count": 45,
      "outputs": [
        {
          "output_type": "execute_result",
          "data": {
            "text/plain": [
              "[          0         1         2  ...         7         8         9\n",
              " 0 -1.286371 -0.174110  1.799211  ...  0.409260 -0.998351  0.961388\n",
              " 1 -0.296061  1.985409  1.446844  ... -1.661344 -0.456052 -0.165184\n",
              " 2  0.178225  0.113572  0.092783  ... -1.022984 -0.453119 -0.064765\n",
              " \n",
              " [3 rows x 10 columns],\n",
              "           0         1         2  ...         7         8         9\n",
              " 3 -0.464716  0.574152  0.896654  ...  0.065884 -1.082743 -0.802682\n",
              " 4 -1.475173  0.897790 -1.322716  ...  1.975682  0.062533 -0.437167\n",
              " 5  0.028752 -2.086392 -0.665322  ... -0.069880  0.712384  0.391421\n",
              " 6 -0.734727 -0.634294 -1.070715  ... -0.048406  0.141985  0.135715\n",
              " \n",
              " [4 rows x 10 columns],\n",
              "           0         1         2  ...         7         8         9\n",
              " 7  1.412970 -0.003293  0.503951  ...  0.585524 -0.692731  0.131569\n",
              " 8 -0.514343  0.655395 -2.010771  ... -1.439401  1.169687 -0.540313\n",
              " 9 -2.073356 -0.407360 -0.931931  ...  0.441228  1.200198  0.193108\n",
              " \n",
              " [3 rows x 10 columns]]"
            ]
          },
          "metadata": {
            "tags": []
          },
          "execution_count": 45
        }
      ]
    },
    {
      "cell_type": "code",
      "metadata": {
        "colab": {
          "base_uri": "https://localhost:8080/",
          "height": 359
        },
        "id": "mQkcnj-6Q_Zi",
        "outputId": "55ceaac3-51ea-427c-851f-3b97d8c812c5"
      },
      "source": [
        "pd.concat(pieces)"
      ],
      "execution_count": 47,
      "outputs": [
        {
          "output_type": "execute_result",
          "data": {
            "text/html": [
              "<div>\n",
              "<style scoped>\n",
              "    .dataframe tbody tr th:only-of-type {\n",
              "        vertical-align: middle;\n",
              "    }\n",
              "\n",
              "    .dataframe tbody tr th {\n",
              "        vertical-align: top;\n",
              "    }\n",
              "\n",
              "    .dataframe thead th {\n",
              "        text-align: right;\n",
              "    }\n",
              "</style>\n",
              "<table border=\"1\" class=\"dataframe\">\n",
              "  <thead>\n",
              "    <tr style=\"text-align: right;\">\n",
              "      <th></th>\n",
              "      <th>0</th>\n",
              "      <th>1</th>\n",
              "      <th>2</th>\n",
              "      <th>3</th>\n",
              "      <th>4</th>\n",
              "      <th>5</th>\n",
              "      <th>6</th>\n",
              "      <th>7</th>\n",
              "      <th>8</th>\n",
              "      <th>9</th>\n",
              "    </tr>\n",
              "  </thead>\n",
              "  <tbody>\n",
              "    <tr>\n",
              "      <th>0</th>\n",
              "      <td>-1.286371</td>\n",
              "      <td>-0.174110</td>\n",
              "      <td>1.799211</td>\n",
              "      <td>-0.597454</td>\n",
              "      <td>1.254075</td>\n",
              "      <td>0.312651</td>\n",
              "      <td>0.238462</td>\n",
              "      <td>0.409260</td>\n",
              "      <td>-0.998351</td>\n",
              "      <td>0.961388</td>\n",
              "    </tr>\n",
              "    <tr>\n",
              "      <th>1</th>\n",
              "      <td>-0.296061</td>\n",
              "      <td>1.985409</td>\n",
              "      <td>1.446844</td>\n",
              "      <td>1.773163</td>\n",
              "      <td>-0.083986</td>\n",
              "      <td>0.619472</td>\n",
              "      <td>1.392678</td>\n",
              "      <td>-1.661344</td>\n",
              "      <td>-0.456052</td>\n",
              "      <td>-0.165184</td>\n",
              "    </tr>\n",
              "    <tr>\n",
              "      <th>2</th>\n",
              "      <td>0.178225</td>\n",
              "      <td>0.113572</td>\n",
              "      <td>0.092783</td>\n",
              "      <td>-0.306406</td>\n",
              "      <td>-0.287397</td>\n",
              "      <td>-0.544874</td>\n",
              "      <td>0.962237</td>\n",
              "      <td>-1.022984</td>\n",
              "      <td>-0.453119</td>\n",
              "      <td>-0.064765</td>\n",
              "    </tr>\n",
              "    <tr>\n",
              "      <th>3</th>\n",
              "      <td>-0.464716</td>\n",
              "      <td>0.574152</td>\n",
              "      <td>0.896654</td>\n",
              "      <td>-1.869197</td>\n",
              "      <td>-1.455556</td>\n",
              "      <td>1.222897</td>\n",
              "      <td>0.843946</td>\n",
              "      <td>0.065884</td>\n",
              "      <td>-1.082743</td>\n",
              "      <td>-0.802682</td>\n",
              "    </tr>\n",
              "    <tr>\n",
              "      <th>4</th>\n",
              "      <td>-1.475173</td>\n",
              "      <td>0.897790</td>\n",
              "      <td>-1.322716</td>\n",
              "      <td>-1.597256</td>\n",
              "      <td>-0.561606</td>\n",
              "      <td>-0.399965</td>\n",
              "      <td>0.101261</td>\n",
              "      <td>1.975682</td>\n",
              "      <td>0.062533</td>\n",
              "      <td>-0.437167</td>\n",
              "    </tr>\n",
              "    <tr>\n",
              "      <th>5</th>\n",
              "      <td>0.028752</td>\n",
              "      <td>-2.086392</td>\n",
              "      <td>-0.665322</td>\n",
              "      <td>-0.363013</td>\n",
              "      <td>-0.788277</td>\n",
              "      <td>-0.860297</td>\n",
              "      <td>-0.508150</td>\n",
              "      <td>-0.069880</td>\n",
              "      <td>0.712384</td>\n",
              "      <td>0.391421</td>\n",
              "    </tr>\n",
              "    <tr>\n",
              "      <th>6</th>\n",
              "      <td>-0.734727</td>\n",
              "      <td>-0.634294</td>\n",
              "      <td>-1.070715</td>\n",
              "      <td>0.398776</td>\n",
              "      <td>0.216904</td>\n",
              "      <td>-0.506777</td>\n",
              "      <td>0.091096</td>\n",
              "      <td>-0.048406</td>\n",
              "      <td>0.141985</td>\n",
              "      <td>0.135715</td>\n",
              "    </tr>\n",
              "    <tr>\n",
              "      <th>7</th>\n",
              "      <td>1.412970</td>\n",
              "      <td>-0.003293</td>\n",
              "      <td>0.503951</td>\n",
              "      <td>-0.746377</td>\n",
              "      <td>-0.190675</td>\n",
              "      <td>0.617657</td>\n",
              "      <td>0.037163</td>\n",
              "      <td>0.585524</td>\n",
              "      <td>-0.692731</td>\n",
              "      <td>0.131569</td>\n",
              "    </tr>\n",
              "    <tr>\n",
              "      <th>8</th>\n",
              "      <td>-0.514343</td>\n",
              "      <td>0.655395</td>\n",
              "      <td>-2.010771</td>\n",
              "      <td>-0.022901</td>\n",
              "      <td>0.589599</td>\n",
              "      <td>0.579224</td>\n",
              "      <td>0.004692</td>\n",
              "      <td>-1.439401</td>\n",
              "      <td>1.169687</td>\n",
              "      <td>-0.540313</td>\n",
              "    </tr>\n",
              "    <tr>\n",
              "      <th>9</th>\n",
              "      <td>-2.073356</td>\n",
              "      <td>-0.407360</td>\n",
              "      <td>-0.931931</td>\n",
              "      <td>-0.522018</td>\n",
              "      <td>0.586405</td>\n",
              "      <td>1.907846</td>\n",
              "      <td>0.405282</td>\n",
              "      <td>0.441228</td>\n",
              "      <td>1.200198</td>\n",
              "      <td>0.193108</td>\n",
              "    </tr>\n",
              "  </tbody>\n",
              "</table>\n",
              "</div>"
            ],
            "text/plain": [
              "          0         1         2  ...         7         8         9\n",
              "0 -1.286371 -0.174110  1.799211  ...  0.409260 -0.998351  0.961388\n",
              "1 -0.296061  1.985409  1.446844  ... -1.661344 -0.456052 -0.165184\n",
              "2  0.178225  0.113572  0.092783  ... -1.022984 -0.453119 -0.064765\n",
              "3 -0.464716  0.574152  0.896654  ...  0.065884 -1.082743 -0.802682\n",
              "4 -1.475173  0.897790 -1.322716  ...  1.975682  0.062533 -0.437167\n",
              "5  0.028752 -2.086392 -0.665322  ... -0.069880  0.712384  0.391421\n",
              "6 -0.734727 -0.634294 -1.070715  ... -0.048406  0.141985  0.135715\n",
              "7  1.412970 -0.003293  0.503951  ...  0.585524 -0.692731  0.131569\n",
              "8 -0.514343  0.655395 -2.010771  ... -1.439401  1.169687 -0.540313\n",
              "9 -2.073356 -0.407360 -0.931931  ...  0.441228  1.200198  0.193108\n",
              "\n",
              "[10 rows x 10 columns]"
            ]
          },
          "metadata": {
            "tags": []
          },
          "execution_count": 47
        }
      ]
    },
    {
      "cell_type": "code",
      "metadata": {
        "id": "L-qTGECLRkQh"
      },
      "source": [
        "left=pd.DataFrame(\n",
        "    {\n",
        "        'key':['foo','foo'],\n",
        "     'lval' : [1,2]\n",
        "\n",
        "    }\n",
        ")\n",
        "right=pd.DataFrame(\n",
        "    {\n",
        "        'key':['foo','foo'], \n",
        "     'rval':[4,5]\n",
        "     }\n",
        "     )"
      ],
      "execution_count": 48,
      "outputs": []
    },
    {
      "cell_type": "code",
      "metadata": {
        "colab": {
          "base_uri": "https://localhost:8080/",
          "height": 111
        },
        "id": "5pqYYzuzSOqy",
        "outputId": "8b8f61de-55e5-45e2-c652-cb461850fc13"
      },
      "source": [
        "left"
      ],
      "execution_count": 49,
      "outputs": [
        {
          "output_type": "execute_result",
          "data": {
            "text/html": [
              "<div>\n",
              "<style scoped>\n",
              "    .dataframe tbody tr th:only-of-type {\n",
              "        vertical-align: middle;\n",
              "    }\n",
              "\n",
              "    .dataframe tbody tr th {\n",
              "        vertical-align: top;\n",
              "    }\n",
              "\n",
              "    .dataframe thead th {\n",
              "        text-align: right;\n",
              "    }\n",
              "</style>\n",
              "<table border=\"1\" class=\"dataframe\">\n",
              "  <thead>\n",
              "    <tr style=\"text-align: right;\">\n",
              "      <th></th>\n",
              "      <th>key</th>\n",
              "      <th>lval</th>\n",
              "    </tr>\n",
              "  </thead>\n",
              "  <tbody>\n",
              "    <tr>\n",
              "      <th>0</th>\n",
              "      <td>foo</td>\n",
              "      <td>1</td>\n",
              "    </tr>\n",
              "    <tr>\n",
              "      <th>1</th>\n",
              "      <td>foo</td>\n",
              "      <td>2</td>\n",
              "    </tr>\n",
              "  </tbody>\n",
              "</table>\n",
              "</div>"
            ],
            "text/plain": [
              "   key  lval\n",
              "0  foo     1\n",
              "1  foo     2"
            ]
          },
          "metadata": {
            "tags": []
          },
          "execution_count": 49
        }
      ]
    },
    {
      "cell_type": "code",
      "metadata": {
        "colab": {
          "base_uri": "https://localhost:8080/",
          "height": 111
        },
        "id": "p7pRvaXUSZ_q",
        "outputId": "9e48df05-307b-41f3-8153-e1e1393893a2"
      },
      "source": [
        "right"
      ],
      "execution_count": 50,
      "outputs": [
        {
          "output_type": "execute_result",
          "data": {
            "text/html": [
              "<div>\n",
              "<style scoped>\n",
              "    .dataframe tbody tr th:only-of-type {\n",
              "        vertical-align: middle;\n",
              "    }\n",
              "\n",
              "    .dataframe tbody tr th {\n",
              "        vertical-align: top;\n",
              "    }\n",
              "\n",
              "    .dataframe thead th {\n",
              "        text-align: right;\n",
              "    }\n",
              "</style>\n",
              "<table border=\"1\" class=\"dataframe\">\n",
              "  <thead>\n",
              "    <tr style=\"text-align: right;\">\n",
              "      <th></th>\n",
              "      <th>key</th>\n",
              "      <th>rval</th>\n",
              "    </tr>\n",
              "  </thead>\n",
              "  <tbody>\n",
              "    <tr>\n",
              "      <th>0</th>\n",
              "      <td>foo</td>\n",
              "      <td>4</td>\n",
              "    </tr>\n",
              "    <tr>\n",
              "      <th>1</th>\n",
              "      <td>foo</td>\n",
              "      <td>5</td>\n",
              "    </tr>\n",
              "  </tbody>\n",
              "</table>\n",
              "</div>"
            ],
            "text/plain": [
              "   key  rval\n",
              "0  foo     4\n",
              "1  foo     5"
            ]
          },
          "metadata": {
            "tags": []
          },
          "execution_count": 50
        }
      ]
    },
    {
      "cell_type": "code",
      "metadata": {
        "colab": {
          "base_uri": "https://localhost:8080/",
          "height": 173
        },
        "id": "N-ZsACf5Sc5y",
        "outputId": "fd603585-644d-47de-8c29-859d5f74f3cd"
      },
      "source": [
        "pd_merge=pd.merge(left,right,on='key')\n",
        "pd_merge"
      ],
      "execution_count": 51,
      "outputs": [
        {
          "output_type": "execute_result",
          "data": {
            "text/html": [
              "<div>\n",
              "<style scoped>\n",
              "    .dataframe tbody tr th:only-of-type {\n",
              "        vertical-align: middle;\n",
              "    }\n",
              "\n",
              "    .dataframe tbody tr th {\n",
              "        vertical-align: top;\n",
              "    }\n",
              "\n",
              "    .dataframe thead th {\n",
              "        text-align: right;\n",
              "    }\n",
              "</style>\n",
              "<table border=\"1\" class=\"dataframe\">\n",
              "  <thead>\n",
              "    <tr style=\"text-align: right;\">\n",
              "      <th></th>\n",
              "      <th>key</th>\n",
              "      <th>lval</th>\n",
              "      <th>rval</th>\n",
              "    </tr>\n",
              "  </thead>\n",
              "  <tbody>\n",
              "    <tr>\n",
              "      <th>0</th>\n",
              "      <td>foo</td>\n",
              "      <td>1</td>\n",
              "      <td>4</td>\n",
              "    </tr>\n",
              "    <tr>\n",
              "      <th>1</th>\n",
              "      <td>foo</td>\n",
              "      <td>1</td>\n",
              "      <td>5</td>\n",
              "    </tr>\n",
              "    <tr>\n",
              "      <th>2</th>\n",
              "      <td>foo</td>\n",
              "      <td>2</td>\n",
              "      <td>4</td>\n",
              "    </tr>\n",
              "    <tr>\n",
              "      <th>3</th>\n",
              "      <td>foo</td>\n",
              "      <td>2</td>\n",
              "      <td>5</td>\n",
              "    </tr>\n",
              "  </tbody>\n",
              "</table>\n",
              "</div>"
            ],
            "text/plain": [
              "   key  lval  rval\n",
              "0  foo     1     4\n",
              "1  foo     1     5\n",
              "2  foo     2     4\n",
              "3  foo     2     5"
            ]
          },
          "metadata": {
            "tags": []
          },
          "execution_count": 51
        }
      ]
    },
    {
      "cell_type": "code",
      "metadata": {
        "colab": {
          "base_uri": "https://localhost:8080/",
          "height": 173
        },
        "id": "KwN8sgE_TGGi",
        "outputId": "c9a31c4e-6d9a-4e48-e1a8-44f151e1566f"
      },
      "source": [
        "pd_merge=pd.merge(right,left,on='key')\n",
        "pd_merge"
      ],
      "execution_count": 52,
      "outputs": [
        {
          "output_type": "execute_result",
          "data": {
            "text/html": [
              "<div>\n",
              "<style scoped>\n",
              "    .dataframe tbody tr th:only-of-type {\n",
              "        vertical-align: middle;\n",
              "    }\n",
              "\n",
              "    .dataframe tbody tr th {\n",
              "        vertical-align: top;\n",
              "    }\n",
              "\n",
              "    .dataframe thead th {\n",
              "        text-align: right;\n",
              "    }\n",
              "</style>\n",
              "<table border=\"1\" class=\"dataframe\">\n",
              "  <thead>\n",
              "    <tr style=\"text-align: right;\">\n",
              "      <th></th>\n",
              "      <th>key</th>\n",
              "      <th>rval</th>\n",
              "      <th>lval</th>\n",
              "    </tr>\n",
              "  </thead>\n",
              "  <tbody>\n",
              "    <tr>\n",
              "      <th>0</th>\n",
              "      <td>foo</td>\n",
              "      <td>4</td>\n",
              "      <td>1</td>\n",
              "    </tr>\n",
              "    <tr>\n",
              "      <th>1</th>\n",
              "      <td>foo</td>\n",
              "      <td>4</td>\n",
              "      <td>2</td>\n",
              "    </tr>\n",
              "    <tr>\n",
              "      <th>2</th>\n",
              "      <td>foo</td>\n",
              "      <td>5</td>\n",
              "      <td>1</td>\n",
              "    </tr>\n",
              "    <tr>\n",
              "      <th>3</th>\n",
              "      <td>foo</td>\n",
              "      <td>5</td>\n",
              "      <td>2</td>\n",
              "    </tr>\n",
              "  </tbody>\n",
              "</table>\n",
              "</div>"
            ],
            "text/plain": [
              "   key  rval  lval\n",
              "0  foo     4     1\n",
              "1  foo     4     2\n",
              "2  foo     5     1\n",
              "3  foo     5     2"
            ]
          },
          "metadata": {
            "tags": []
          },
          "execution_count": 52
        }
      ]
    },
    {
      "cell_type": "code",
      "metadata": {
        "id": "On1WbGDZTboB"
      },
      "source": [
        "df = pd.DataFrame(np.random.randn(6,4), index=dates, columns=list('ABCD'))"
      ],
      "execution_count": 62,
      "outputs": []
    },
    {
      "cell_type": "code",
      "metadata": {
        "colab": {
          "base_uri": "https://localhost:8080/"
        },
        "id": "jJSRIwYBT21Z",
        "outputId": "f81996dc-df6d-4fdd-da30-325d4fbd255f"
      },
      "source": [
        "df.iloc[3]"
      ],
      "execution_count": 63,
      "outputs": [
        {
          "output_type": "execute_result",
          "data": {
            "text/plain": [
              "A    0.659320\n",
              "B   -0.009815\n",
              "C   -0.253271\n",
              "D   -2.441337\n",
              "Name: 2021-05-24 00:00:00, dtype: float64"
            ]
          },
          "metadata": {
            "tags": []
          },
          "execution_count": 63
        }
      ]
    },
    {
      "cell_type": "code",
      "metadata": {
        "id": "ZuQNUTO_T4yi"
      },
      "source": [
        "s=df.iloc[3]"
      ],
      "execution_count": 64,
      "outputs": []
    },
    {
      "cell_type": "code",
      "metadata": {
        "colab": {
          "base_uri": "https://localhost:8080/",
          "height": 136
        },
        "id": "-TTAFzrNUJOz",
        "outputId": "f9df9284-d982-47e9-f056-20804782da7a"
      },
      "source": [
        "df.appends(s=ignore_index=True)"
      ],
      "execution_count": 66,
      "outputs": [
        {
          "output_type": "error",
          "ename": "SyntaxError",
          "evalue": "ignored",
          "traceback": [
            "\u001b[0;36m  File \u001b[0;32m\"<ipython-input-66-9ac9322f40c3>\"\u001b[0;36m, line \u001b[0;32m1\u001b[0m\n\u001b[0;31m    df.appends(s=ignore_index=True)\u001b[0m\n\u001b[0m                             ^\u001b[0m\n\u001b[0;31mSyntaxError\u001b[0m\u001b[0;31m:\u001b[0m invalid syntax\n"
          ]
        }
      ]
    },
    {
      "cell_type": "code",
      "metadata": {
        "id": "h7gB1eCOUNSK"
      },
      "source": [
        "df = pd.DataFrame(\n",
        "    {\n",
        "        'A' : ['foo', 'bar', 'foo', 'bar', 'foo', 'bar', 'foo', 'bar'],\n",
        "        'B' : ['one', 'one', 'two', 'three', 'two', 'two', 'one', 'three'],\n",
        "        'C' : np.random.randn(8),\n",
        "        'D' : np.random.randn(8)\n",
        "    }\n",
        ")"
      ],
      "execution_count": 67,
      "outputs": []
    },
    {
      "cell_type": "code",
      "metadata": {
        "colab": {
          "base_uri": "https://localhost:8080/",
          "height": 297
        },
        "id": "BdqffWbAUjZJ",
        "outputId": "daa9ae66-39e1-4a8b-ecd1-59daf9fcbe8a"
      },
      "source": [
        "df"
      ],
      "execution_count": 68,
      "outputs": [
        {
          "output_type": "execute_result",
          "data": {
            "text/html": [
              "<div>\n",
              "<style scoped>\n",
              "    .dataframe tbody tr th:only-of-type {\n",
              "        vertical-align: middle;\n",
              "    }\n",
              "\n",
              "    .dataframe tbody tr th {\n",
              "        vertical-align: top;\n",
              "    }\n",
              "\n",
              "    .dataframe thead th {\n",
              "        text-align: right;\n",
              "    }\n",
              "</style>\n",
              "<table border=\"1\" class=\"dataframe\">\n",
              "  <thead>\n",
              "    <tr style=\"text-align: right;\">\n",
              "      <th></th>\n",
              "      <th>A</th>\n",
              "      <th>B</th>\n",
              "      <th>C</th>\n",
              "      <th>D</th>\n",
              "    </tr>\n",
              "  </thead>\n",
              "  <tbody>\n",
              "    <tr>\n",
              "      <th>0</th>\n",
              "      <td>foo</td>\n",
              "      <td>one</td>\n",
              "      <td>0.501397</td>\n",
              "      <td>0.600637</td>\n",
              "    </tr>\n",
              "    <tr>\n",
              "      <th>1</th>\n",
              "      <td>bar</td>\n",
              "      <td>one</td>\n",
              "      <td>0.293937</td>\n",
              "      <td>1.065024</td>\n",
              "    </tr>\n",
              "    <tr>\n",
              "      <th>2</th>\n",
              "      <td>foo</td>\n",
              "      <td>two</td>\n",
              "      <td>-0.516200</td>\n",
              "      <td>0.916846</td>\n",
              "    </tr>\n",
              "    <tr>\n",
              "      <th>3</th>\n",
              "      <td>bar</td>\n",
              "      <td>three</td>\n",
              "      <td>-1.991317</td>\n",
              "      <td>0.144177</td>\n",
              "    </tr>\n",
              "    <tr>\n",
              "      <th>4</th>\n",
              "      <td>foo</td>\n",
              "      <td>two</td>\n",
              "      <td>0.869598</td>\n",
              "      <td>-0.687343</td>\n",
              "    </tr>\n",
              "    <tr>\n",
              "      <th>5</th>\n",
              "      <td>bar</td>\n",
              "      <td>two</td>\n",
              "      <td>-0.944846</td>\n",
              "      <td>-1.348605</td>\n",
              "    </tr>\n",
              "    <tr>\n",
              "      <th>6</th>\n",
              "      <td>foo</td>\n",
              "      <td>one</td>\n",
              "      <td>-0.164775</td>\n",
              "      <td>0.751390</td>\n",
              "    </tr>\n",
              "    <tr>\n",
              "      <th>7</th>\n",
              "      <td>bar</td>\n",
              "      <td>three</td>\n",
              "      <td>-1.344820</td>\n",
              "      <td>-1.459754</td>\n",
              "    </tr>\n",
              "  </tbody>\n",
              "</table>\n",
              "</div>"
            ],
            "text/plain": [
              "     A      B         C         D\n",
              "0  foo    one  0.501397  0.600637\n",
              "1  bar    one  0.293937  1.065024\n",
              "2  foo    two -0.516200  0.916846\n",
              "3  bar  three -1.991317  0.144177\n",
              "4  foo    two  0.869598 -0.687343\n",
              "5  bar    two -0.944846 -1.348605\n",
              "6  foo    one -0.164775  0.751390\n",
              "7  bar  three -1.344820 -1.459754"
            ]
          },
          "metadata": {
            "tags": []
          },
          "execution_count": 68
        }
      ]
    },
    {
      "cell_type": "code",
      "metadata": {
        "colab": {
          "base_uri": "https://localhost:8080/",
          "height": 142
        },
        "id": "y7gegkH9UkBS",
        "outputId": "ad9d0b7f-0f23-4e7f-db7f-1befe9201534"
      },
      "source": [
        "df.groupby('A').sum()"
      ],
      "execution_count": 71,
      "outputs": [
        {
          "output_type": "execute_result",
          "data": {
            "text/html": [
              "<div>\n",
              "<style scoped>\n",
              "    .dataframe tbody tr th:only-of-type {\n",
              "        vertical-align: middle;\n",
              "    }\n",
              "\n",
              "    .dataframe tbody tr th {\n",
              "        vertical-align: top;\n",
              "    }\n",
              "\n",
              "    .dataframe thead th {\n",
              "        text-align: right;\n",
              "    }\n",
              "</style>\n",
              "<table border=\"1\" class=\"dataframe\">\n",
              "  <thead>\n",
              "    <tr style=\"text-align: right;\">\n",
              "      <th></th>\n",
              "      <th>C</th>\n",
              "      <th>D</th>\n",
              "    </tr>\n",
              "    <tr>\n",
              "      <th>A</th>\n",
              "      <th></th>\n",
              "      <th></th>\n",
              "    </tr>\n",
              "  </thead>\n",
              "  <tbody>\n",
              "    <tr>\n",
              "      <th>bar</th>\n",
              "      <td>-3.987045</td>\n",
              "      <td>-1.599158</td>\n",
              "    </tr>\n",
              "    <tr>\n",
              "      <th>foo</th>\n",
              "      <td>0.690020</td>\n",
              "      <td>1.581530</td>\n",
              "    </tr>\n",
              "  </tbody>\n",
              "</table>\n",
              "</div>"
            ],
            "text/plain": [
              "            C         D\n",
              "A                      \n",
              "bar -3.987045 -1.599158\n",
              "foo  0.690020  1.581530"
            ]
          },
          "metadata": {
            "tags": []
          },
          "execution_count": 71
        }
      ]
    },
    {
      "cell_type": "code",
      "metadata": {
        "colab": {
          "base_uri": "https://localhost:8080/",
          "height": 235
        },
        "id": "pKaFCcKWUz0i",
        "outputId": "55faa2f0-da0a-439e-cd35-015ae97a8064"
      },
      "source": [
        "df.groupby(['A','B']).sum()"
      ],
      "execution_count": 73,
      "outputs": [
        {
          "output_type": "execute_result",
          "data": {
            "text/html": [
              "<div>\n",
              "<style scoped>\n",
              "    .dataframe tbody tr th:only-of-type {\n",
              "        vertical-align: middle;\n",
              "    }\n",
              "\n",
              "    .dataframe tbody tr th {\n",
              "        vertical-align: top;\n",
              "    }\n",
              "\n",
              "    .dataframe thead th {\n",
              "        text-align: right;\n",
              "    }\n",
              "</style>\n",
              "<table border=\"1\" class=\"dataframe\">\n",
              "  <thead>\n",
              "    <tr style=\"text-align: right;\">\n",
              "      <th></th>\n",
              "      <th></th>\n",
              "      <th>C</th>\n",
              "      <th>D</th>\n",
              "    </tr>\n",
              "    <tr>\n",
              "      <th>A</th>\n",
              "      <th>B</th>\n",
              "      <th></th>\n",
              "      <th></th>\n",
              "    </tr>\n",
              "  </thead>\n",
              "  <tbody>\n",
              "    <tr>\n",
              "      <th rowspan=\"3\" valign=\"top\">bar</th>\n",
              "      <th>one</th>\n",
              "      <td>0.293937</td>\n",
              "      <td>1.065024</td>\n",
              "    </tr>\n",
              "    <tr>\n",
              "      <th>three</th>\n",
              "      <td>-3.336137</td>\n",
              "      <td>-1.315577</td>\n",
              "    </tr>\n",
              "    <tr>\n",
              "      <th>two</th>\n",
              "      <td>-0.944846</td>\n",
              "      <td>-1.348605</td>\n",
              "    </tr>\n",
              "    <tr>\n",
              "      <th rowspan=\"2\" valign=\"top\">foo</th>\n",
              "      <th>one</th>\n",
              "      <td>0.336623</td>\n",
              "      <td>1.352027</td>\n",
              "    </tr>\n",
              "    <tr>\n",
              "      <th>two</th>\n",
              "      <td>0.353398</td>\n",
              "      <td>0.229503</td>\n",
              "    </tr>\n",
              "  </tbody>\n",
              "</table>\n",
              "</div>"
            ],
            "text/plain": [
              "                  C         D\n",
              "A   B                        \n",
              "bar one    0.293937  1.065024\n",
              "    three -3.336137 -1.315577\n",
              "    two   -0.944846 -1.348605\n",
              "foo one    0.336623  1.352027\n",
              "    two    0.353398  0.229503"
            ]
          },
          "metadata": {
            "tags": []
          },
          "execution_count": 73
        }
      ]
    },
    {
      "cell_type": "code",
      "metadata": {
        "id": "zAiahGpdVnhC"
      },
      "source": [
        "x=[1,2,3]\n",
        "y=[4,5,6]"
      ],
      "execution_count": 81,
      "outputs": []
    },
    {
      "cell_type": "code",
      "metadata": {
        "colab": {
          "base_uri": "https://localhost:8080/"
        },
        "id": "u9in11hoXv9R",
        "outputId": "99c508cc-6d40-4b04-f165-a299fbf4f48d"
      },
      "source": [
        "x"
      ],
      "execution_count": 82,
      "outputs": [
        {
          "output_type": "execute_result",
          "data": {
            "text/plain": [
              "[1, 2, 3]"
            ]
          },
          "metadata": {
            "tags": []
          },
          "execution_count": 82
        }
      ]
    },
    {
      "cell_type": "code",
      "metadata": {
        "colab": {
          "base_uri": "https://localhost:8080/"
        },
        "id": "JLHPRRidXwJZ",
        "outputId": "15ffeac7-1a5f-4681-b9c9-7d3831e7a3ba"
      },
      "source": [
        "y"
      ],
      "execution_count": 83,
      "outputs": [
        {
          "output_type": "execute_result",
          "data": {
            "text/plain": [
              "[4, 5, 6]"
            ]
          },
          "metadata": {
            "tags": []
          },
          "execution_count": 83
        }
      ]
    },
    {
      "cell_type": "code",
      "metadata": {
        "id": "3sBMPOtQXwaL"
      },
      "source": [
        "zipped=zip(x,y)"
      ],
      "execution_count": 84,
      "outputs": []
    },
    {
      "cell_type": "code",
      "metadata": {
        "colab": {
          "base_uri": "https://localhost:8080/"
        },
        "id": "mvOvphDwX5Jh",
        "outputId": "8d482d88-9c74-4f5b-83de-129b903158ae"
      },
      "source": [
        "zip"
      ],
      "execution_count": 85,
      "outputs": [
        {
          "output_type": "execute_result",
          "data": {
            "text/plain": [
              "zip"
            ]
          },
          "metadata": {
            "tags": []
          },
          "execution_count": 85
        }
      ]
    },
    {
      "cell_type": "code",
      "metadata": {
        "colab": {
          "base_uri": "https://localhost:8080/"
        },
        "id": "a47y5cDkX6UA",
        "outputId": "feb11826-30ff-4bb5-d3df-10ac0f901734"
      },
      "source": [
        "zipped"
      ],
      "execution_count": 86,
      "outputs": [
        {
          "output_type": "execute_result",
          "data": {
            "text/plain": [
              "<zip at 0x7fe1d6d1b0f0>"
            ]
          },
          "metadata": {
            "tags": []
          },
          "execution_count": 86
        }
      ]
    },
    {
      "cell_type": "code",
      "metadata": {
        "colab": {
          "base_uri": "https://localhost:8080/"
        },
        "id": "Q3WK-9y2X7Dx",
        "outputId": "7fd4baa7-486f-4228-d67d-bed09fdab464"
      },
      "source": [
        "list(zipped)"
      ],
      "execution_count": 87,
      "outputs": [
        {
          "output_type": "execute_result",
          "data": {
            "text/plain": [
              "[(1, 4), (2, 5), (3, 6)]"
            ]
          },
          "metadata": {
            "tags": []
          },
          "execution_count": 87
        }
      ]
    },
    {
      "cell_type": "code",
      "metadata": {
        "id": "4l7TXzdiYDXQ"
      },
      "source": [
        "x2,y2=zip(*zip(x,y))"
      ],
      "execution_count": 93,
      "outputs": []
    },
    {
      "cell_type": "code",
      "metadata": {
        "colab": {
          "base_uri": "https://localhost:8080/"
        },
        "id": "IM2_9WOWYeuZ",
        "outputId": "1d506273-ae00-4931-e5c3-224471a18bec"
      },
      "source": [
        "x2"
      ],
      "execution_count": 94,
      "outputs": [
        {
          "output_type": "execute_result",
          "data": {
            "text/plain": [
              "(1, 2, 3)"
            ]
          },
          "metadata": {
            "tags": []
          },
          "execution_count": 94
        }
      ]
    },
    {
      "cell_type": "code",
      "metadata": {
        "colab": {
          "base_uri": "https://localhost:8080/"
        },
        "id": "tCNlCd6wZXgx",
        "outputId": "6e7200b5-052d-4a7f-bbf9-e83984f8ebb4"
      },
      "source": [
        "y2"
      ],
      "execution_count": 95,
      "outputs": [
        {
          "output_type": "execute_result",
          "data": {
            "text/plain": [
              "(4, 5, 6)"
            ]
          },
          "metadata": {
            "tags": []
          },
          "execution_count": 95
        }
      ]
    },
    {
      "cell_type": "code",
      "metadata": {
        "id": "etMkkZEdZZqq"
      },
      "source": [
        "df = pd.DataFrame(\n",
        "    {\n",
        "        'A' : ['one', 'one', 'two', 'three'] * 3,\n",
        "        'B' : ['A', 'B', 'C'] * 4,\n",
        "        'C' : ['foo', 'foo', 'foo', 'bar', 'bar', 'bar' ] * 2,\n",
        "        'D' : np.random.randn(12),\n",
        "        'E' : np.random.randn(12)\n",
        "    }\n",
        ")\n"
      ],
      "execution_count": 96,
      "outputs": []
    },
    {
      "cell_type": "code",
      "metadata": {
        "colab": {
          "base_uri": "https://localhost:8080/",
          "height": 172
        },
        "id": "EQokAWknZm0C",
        "outputId": "cf487ed8-ba7f-4788-8164-298ac3e4a192"
      },
      "source": [
        "DF"
      ],
      "execution_count": 97,
      "outputs": [
        {
          "output_type": "error",
          "ename": "NameError",
          "evalue": "ignored",
          "traceback": [
            "\u001b[0;31m---------------------------------------------------------------------------\u001b[0m",
            "\u001b[0;31mNameError\u001b[0m                                 Traceback (most recent call last)",
            "\u001b[0;32m<ipython-input-97-8d962b2673f1>\u001b[0m in \u001b[0;36m<module>\u001b[0;34m()\u001b[0m\n\u001b[0;32m----> 1\u001b[0;31m \u001b[0mDF\u001b[0m\u001b[0;34m\u001b[0m\u001b[0;34m\u001b[0m\u001b[0m\n\u001b[0m",
            "\u001b[0;31mNameError\u001b[0m: name 'DF' is not defined"
          ]
        }
      ]
    },
    {
      "cell_type": "code",
      "metadata": {
        "colab": {
          "base_uri": "https://localhost:8080/",
          "height": 421
        },
        "id": "mehPKvBLZnAh",
        "outputId": "8150603c-7bbb-4908-b982-e4f340b853a3"
      },
      "source": [
        "df"
      ],
      "execution_count": 98,
      "outputs": [
        {
          "output_type": "execute_result",
          "data": {
            "text/html": [
              "<div>\n",
              "<style scoped>\n",
              "    .dataframe tbody tr th:only-of-type {\n",
              "        vertical-align: middle;\n",
              "    }\n",
              "\n",
              "    .dataframe tbody tr th {\n",
              "        vertical-align: top;\n",
              "    }\n",
              "\n",
              "    .dataframe thead th {\n",
              "        text-align: right;\n",
              "    }\n",
              "</style>\n",
              "<table border=\"1\" class=\"dataframe\">\n",
              "  <thead>\n",
              "    <tr style=\"text-align: right;\">\n",
              "      <th></th>\n",
              "      <th>A</th>\n",
              "      <th>B</th>\n",
              "      <th>C</th>\n",
              "      <th>D</th>\n",
              "      <th>E</th>\n",
              "    </tr>\n",
              "  </thead>\n",
              "  <tbody>\n",
              "    <tr>\n",
              "      <th>0</th>\n",
              "      <td>one</td>\n",
              "      <td>A</td>\n",
              "      <td>foo</td>\n",
              "      <td>1.016713</td>\n",
              "      <td>-1.473992</td>\n",
              "    </tr>\n",
              "    <tr>\n",
              "      <th>1</th>\n",
              "      <td>one</td>\n",
              "      <td>B</td>\n",
              "      <td>foo</td>\n",
              "      <td>0.880416</td>\n",
              "      <td>0.173589</td>\n",
              "    </tr>\n",
              "    <tr>\n",
              "      <th>2</th>\n",
              "      <td>two</td>\n",
              "      <td>C</td>\n",
              "      <td>foo</td>\n",
              "      <td>1.820777</td>\n",
              "      <td>-1.111929</td>\n",
              "    </tr>\n",
              "    <tr>\n",
              "      <th>3</th>\n",
              "      <td>three</td>\n",
              "      <td>A</td>\n",
              "      <td>bar</td>\n",
              "      <td>-1.563933</td>\n",
              "      <td>0.217023</td>\n",
              "    </tr>\n",
              "    <tr>\n",
              "      <th>4</th>\n",
              "      <td>one</td>\n",
              "      <td>B</td>\n",
              "      <td>bar</td>\n",
              "      <td>0.338610</td>\n",
              "      <td>0.229730</td>\n",
              "    </tr>\n",
              "    <tr>\n",
              "      <th>5</th>\n",
              "      <td>one</td>\n",
              "      <td>C</td>\n",
              "      <td>bar</td>\n",
              "      <td>0.413082</td>\n",
              "      <td>0.961752</td>\n",
              "    </tr>\n",
              "    <tr>\n",
              "      <th>6</th>\n",
              "      <td>two</td>\n",
              "      <td>A</td>\n",
              "      <td>foo</td>\n",
              "      <td>-1.642283</td>\n",
              "      <td>0.750404</td>\n",
              "    </tr>\n",
              "    <tr>\n",
              "      <th>7</th>\n",
              "      <td>three</td>\n",
              "      <td>B</td>\n",
              "      <td>foo</td>\n",
              "      <td>-0.997337</td>\n",
              "      <td>-0.529810</td>\n",
              "    </tr>\n",
              "    <tr>\n",
              "      <th>8</th>\n",
              "      <td>one</td>\n",
              "      <td>C</td>\n",
              "      <td>foo</td>\n",
              "      <td>0.724681</td>\n",
              "      <td>0.932198</td>\n",
              "    </tr>\n",
              "    <tr>\n",
              "      <th>9</th>\n",
              "      <td>one</td>\n",
              "      <td>A</td>\n",
              "      <td>bar</td>\n",
              "      <td>-0.112288</td>\n",
              "      <td>-2.302882</td>\n",
              "    </tr>\n",
              "    <tr>\n",
              "      <th>10</th>\n",
              "      <td>two</td>\n",
              "      <td>B</td>\n",
              "      <td>bar</td>\n",
              "      <td>-0.501304</td>\n",
              "      <td>-0.454953</td>\n",
              "    </tr>\n",
              "    <tr>\n",
              "      <th>11</th>\n",
              "      <td>three</td>\n",
              "      <td>C</td>\n",
              "      <td>bar</td>\n",
              "      <td>-1.215182</td>\n",
              "      <td>0.204945</td>\n",
              "    </tr>\n",
              "  </tbody>\n",
              "</table>\n",
              "</div>"
            ],
            "text/plain": [
              "        A  B    C         D         E\n",
              "0     one  A  foo  1.016713 -1.473992\n",
              "1     one  B  foo  0.880416  0.173589\n",
              "2     two  C  foo  1.820777 -1.111929\n",
              "3   three  A  bar -1.563933  0.217023\n",
              "4     one  B  bar  0.338610  0.229730\n",
              "5     one  C  bar  0.413082  0.961752\n",
              "6     two  A  foo -1.642283  0.750404\n",
              "7   three  B  foo -0.997337 -0.529810\n",
              "8     one  C  foo  0.724681  0.932198\n",
              "9     one  A  bar -0.112288 -2.302882\n",
              "10    two  B  bar -0.501304 -0.454953\n",
              "11  three  C  bar -1.215182  0.204945"
            ]
          },
          "metadata": {
            "tags": []
          },
          "execution_count": 98
        }
      ]
    },
    {
      "cell_type": "code",
      "metadata": {
        "colab": {
          "base_uri": "https://localhost:8080/",
          "height": 359
        },
        "id": "mlioM5XLZnX6",
        "outputId": "6ddca276-a866-49ac-d833-a3da4b1694f3"
      },
      "source": [
        "pd.pivot_table(df, values = 'D', index = ['A', 'B'], columns = ['C'])"
      ],
      "execution_count": 101,
      "outputs": [
        {
          "output_type": "execute_result",
          "data": {
            "text/html": [
              "<div>\n",
              "<style scoped>\n",
              "    .dataframe tbody tr th:only-of-type {\n",
              "        vertical-align: middle;\n",
              "    }\n",
              "\n",
              "    .dataframe tbody tr th {\n",
              "        vertical-align: top;\n",
              "    }\n",
              "\n",
              "    .dataframe thead th {\n",
              "        text-align: right;\n",
              "    }\n",
              "</style>\n",
              "<table border=\"1\" class=\"dataframe\">\n",
              "  <thead>\n",
              "    <tr style=\"text-align: right;\">\n",
              "      <th></th>\n",
              "      <th>C</th>\n",
              "      <th>bar</th>\n",
              "      <th>foo</th>\n",
              "    </tr>\n",
              "    <tr>\n",
              "      <th>A</th>\n",
              "      <th>B</th>\n",
              "      <th></th>\n",
              "      <th></th>\n",
              "    </tr>\n",
              "  </thead>\n",
              "  <tbody>\n",
              "    <tr>\n",
              "      <th rowspan=\"3\" valign=\"top\">one</th>\n",
              "      <th>A</th>\n",
              "      <td>-0.112288</td>\n",
              "      <td>1.016713</td>\n",
              "    </tr>\n",
              "    <tr>\n",
              "      <th>B</th>\n",
              "      <td>0.338610</td>\n",
              "      <td>0.880416</td>\n",
              "    </tr>\n",
              "    <tr>\n",
              "      <th>C</th>\n",
              "      <td>0.413082</td>\n",
              "      <td>0.724681</td>\n",
              "    </tr>\n",
              "    <tr>\n",
              "      <th rowspan=\"3\" valign=\"top\">three</th>\n",
              "      <th>A</th>\n",
              "      <td>-1.563933</td>\n",
              "      <td>NaN</td>\n",
              "    </tr>\n",
              "    <tr>\n",
              "      <th>B</th>\n",
              "      <td>NaN</td>\n",
              "      <td>-0.997337</td>\n",
              "    </tr>\n",
              "    <tr>\n",
              "      <th>C</th>\n",
              "      <td>-1.215182</td>\n",
              "      <td>NaN</td>\n",
              "    </tr>\n",
              "    <tr>\n",
              "      <th rowspan=\"3\" valign=\"top\">two</th>\n",
              "      <th>A</th>\n",
              "      <td>NaN</td>\n",
              "      <td>-1.642283</td>\n",
              "    </tr>\n",
              "    <tr>\n",
              "      <th>B</th>\n",
              "      <td>-0.501304</td>\n",
              "      <td>NaN</td>\n",
              "    </tr>\n",
              "    <tr>\n",
              "      <th>C</th>\n",
              "      <td>NaN</td>\n",
              "      <td>1.820777</td>\n",
              "    </tr>\n",
              "  </tbody>\n",
              "</table>\n",
              "</div>"
            ],
            "text/plain": [
              "C             bar       foo\n",
              "A     B                    \n",
              "one   A -0.112288  1.016713\n",
              "      B  0.338610  0.880416\n",
              "      C  0.413082  0.724681\n",
              "three A -1.563933       NaN\n",
              "      B       NaN -0.997337\n",
              "      C -1.215182       NaN\n",
              "two   A       NaN -1.642283\n",
              "      B -0.501304       NaN\n",
              "      C       NaN  1.820777"
            ]
          },
          "metadata": {
            "tags": []
          },
          "execution_count": 101
        }
      ]
    },
    {
      "cell_type": "code",
      "metadata": {
        "colab": {
          "base_uri": "https://localhost:8080/"
        },
        "id": "G5rCCI98aWF8",
        "outputId": "ced837a6-9941-4cc5-9c49-1c8006b57ef8"
      },
      "source": [
        "rng=pd.date_range('20210521',periods=200,freq='s')\n",
        "rng"
      ],
      "execution_count": 123,
      "outputs": [
        {
          "output_type": "execute_result",
          "data": {
            "text/plain": [
              "DatetimeIndex(['2021-05-21 00:00:00', '2021-05-21 00:00:01',\n",
              "               '2021-05-21 00:00:02', '2021-05-21 00:00:03',\n",
              "               '2021-05-21 00:00:04', '2021-05-21 00:00:05',\n",
              "               '2021-05-21 00:00:06', '2021-05-21 00:00:07',\n",
              "               '2021-05-21 00:00:08', '2021-05-21 00:00:09',\n",
              "               ...\n",
              "               '2021-05-21 00:03:10', '2021-05-21 00:03:11',\n",
              "               '2021-05-21 00:03:12', '2021-05-21 00:03:13',\n",
              "               '2021-05-21 00:03:14', '2021-05-21 00:03:15',\n",
              "               '2021-05-21 00:03:16', '2021-05-21 00:03:17',\n",
              "               '2021-05-21 00:03:18', '2021-05-21 00:03:19'],\n",
              "              dtype='datetime64[ns]', length=200, freq='S')"
            ]
          },
          "metadata": {
            "tags": []
          },
          "execution_count": 123
        }
      ]
    },
    {
      "cell_type": "code",
      "metadata": {
        "colab": {
          "base_uri": "https://localhost:8080/"
        },
        "id": "o46XGt_BbTYp",
        "outputId": "15fb7c7f-5695-4ab2-88d9-ffd31e1a6bae"
      },
      "source": [
        "ts = pd.Series(np.random.randint(0, 200, len(rng)), index = rng) \n",
        "ts"
      ],
      "execution_count": 120,
      "outputs": [
        {
          "output_type": "execute_result",
          "data": {
            "text/plain": [
              "2021-05-21 00:00:00    171\n",
              "2021-05-21 00:00:01     71\n",
              "2021-05-21 00:00:02    196\n",
              "2021-05-21 00:00:03     48\n",
              "2021-05-21 00:00:04    170\n",
              "                      ... \n",
              "2021-05-21 00:01:35     58\n",
              "2021-05-21 00:01:36     74\n",
              "2021-05-21 00:01:37     77\n",
              "2021-05-21 00:01:38    188\n",
              "2021-05-21 00:01:39      7\n",
              "Freq: S, Length: 100, dtype: int64"
            ]
          },
          "metadata": {
            "tags": []
          },
          "execution_count": 120
        }
      ]
    },
    {
      "cell_type": "code",
      "metadata": {
        "colab": {
          "base_uri": "https://localhost:8080/"
        },
        "id": "Ce2opQnXcEbM",
        "outputId": "7f106688-2522-4288-aebf-32f10634b410"
      },
      "source": [
        "ts = pd.Series(np.random.randint(0, 10, len(rng)), index = rng) \n",
        "ts"
      ],
      "execution_count": 125,
      "outputs": [
        {
          "output_type": "execute_result",
          "data": {
            "text/plain": [
              "2021-05-21 00:00:00    1\n",
              "2021-05-21 00:00:01    8\n",
              "2021-05-21 00:00:02    8\n",
              "2021-05-21 00:00:03    9\n",
              "2021-05-21 00:00:04    1\n",
              "                      ..\n",
              "2021-05-21 00:03:15    4\n",
              "2021-05-21 00:03:16    9\n",
              "2021-05-21 00:03:17    9\n",
              "2021-05-21 00:03:18    4\n",
              "2021-05-21 00:03:19    5\n",
              "Freq: S, Length: 200, dtype: int64"
            ]
          },
          "metadata": {
            "tags": []
          },
          "execution_count": 125
        }
      ]
    },
    {
      "cell_type": "code",
      "metadata": {
        "colab": {
          "base_uri": "https://localhost:8080/"
        },
        "id": "2Ejc7FQxcR5J",
        "outputId": "03823004-a2fe-427a-c403-45c44ecfaf09"
      },
      "source": [
        "ts.resample('1min').sum()"
      ],
      "execution_count": 126,
      "outputs": [
        {
          "output_type": "execute_result",
          "data": {
            "text/plain": [
              "2021-05-21 00:00:00    236\n",
              "2021-05-21 00:01:00    278\n",
              "2021-05-21 00:02:00    283\n",
              "2021-05-21 00:03:00    104\n",
              "Freq: T, dtype: int64"
            ]
          },
          "metadata": {
            "tags": []
          },
          "execution_count": 126
        }
      ]
    },
    {
      "cell_type": "code",
      "metadata": {
        "colab": {
          "base_uri": "https://localhost:8080/"
        },
        "id": "XrDPGklKcic5",
        "outputId": "2e27f1b7-9c30-482a-cf22-eaa8c78731e9"
      },
      "source": [
        "rng = pd.date_range('11/14/2020', periods=5, freq='D')\n",
        "rng"
      ],
      "execution_count": 127,
      "outputs": [
        {
          "output_type": "execute_result",
          "data": {
            "text/plain": [
              "DatetimeIndex(['2020-11-14', '2020-11-15', '2020-11-16', '2020-11-17',\n",
              "               '2020-11-18'],\n",
              "              dtype='datetime64[ns]', freq='D')"
            ]
          },
          "metadata": {
            "tags": []
          },
          "execution_count": 127
        }
      ]
    },
    {
      "cell_type": "code",
      "metadata": {
        "colab": {
          "base_uri": "https://localhost:8080/"
        },
        "id": "qk37qV-MdwFJ",
        "outputId": "392ce0d0-4149-4985-a3fe-1fdb9818e94a"
      },
      "source": [
        "ts = pd.Series(np.random.randn(len(rng)), rng)\n",
        "ts"
      ],
      "execution_count": 128,
      "outputs": [
        {
          "output_type": "execute_result",
          "data": {
            "text/plain": [
              "2020-11-14    0.217320\n",
              "2020-11-15    0.224374\n",
              "2020-11-16   -0.505833\n",
              "2020-11-17   -1.001741\n",
              "2020-11-18   -0.699939\n",
              "Freq: D, dtype: float64"
            ]
          },
          "metadata": {
            "tags": []
          },
          "execution_count": 128
        }
      ]
    },
    {
      "cell_type": "code",
      "metadata": {
        "colab": {
          "base_uri": "https://localhost:8080/"
        },
        "id": "a1MgIlzad62x",
        "outputId": "6674e65b-f624-4b19-d9f4-6cdfd6843e11"
      },
      "source": [
        "ps =ts.to_period()\n",
        "ps"
      ],
      "execution_count": 132,
      "outputs": [
        {
          "output_type": "execute_result",
          "data": {
            "text/plain": [
              "2020-11-14    0.217320\n",
              "2020-11-15    0.224374\n",
              "2020-11-16   -0.505833\n",
              "2020-11-17   -1.001741\n",
              "2020-11-18   -0.699939\n",
              "Freq: D, dtype: float64"
            ]
          },
          "metadata": {
            "tags": []
          },
          "execution_count": 132
        }
      ]
    },
    {
      "cell_type": "code",
      "metadata": {
        "colab": {
          "base_uri": "https://localhost:8080/"
        },
        "id": "3AXVc9v4eEQ5",
        "outputId": "f07e683c-ae66-4cba-ce5f-7554070cba92"
      },
      "source": [
        "ps.to_timestamp()"
      ],
      "execution_count": 133,
      "outputs": [
        {
          "output_type": "execute_result",
          "data": {
            "text/plain": [
              "2020-11-14    0.217320\n",
              "2020-11-15    0.224374\n",
              "2020-11-16   -0.505833\n",
              "2020-11-17   -1.001741\n",
              "2020-11-18   -0.699939\n",
              "Freq: D, dtype: float64"
            ]
          },
          "metadata": {
            "tags": []
          },
          "execution_count": 133
        }
      ]
    },
    {
      "cell_type": "code",
      "metadata": {
        "colab": {
          "base_uri": "https://localhost:8080/"
        },
        "id": "zwfrQegBeVEp",
        "outputId": "aa5902ed-41be-4719-8a70-2e4fb4a22660"
      },
      "source": [
        "prng = pd.period_range('2020Q1', '2021Q4', freq='Q-NOV')\n",
        "prng"
      ],
      "execution_count": 135,
      "outputs": [
        {
          "output_type": "execute_result",
          "data": {
            "text/plain": [
              "PeriodIndex(['2020Q1', '2020Q2', '2020Q3', '2020Q4', '2021Q1', '2021Q2',\n",
              "             '2021Q3', '2021Q4'],\n",
              "            dtype='period[Q-NOV]', freq='Q-NOV')"
            ]
          },
          "metadata": {
            "tags": []
          },
          "execution_count": 135
        }
      ]
    },
    {
      "cell_type": "code",
      "metadata": {
        "id": "BWWaUFqEe0rZ"
      },
      "source": [
        "df = pd.DataFrame({\n",
        "    \"id\":[1, 2, 3, 4, 5, 6],\n",
        "    \"raw_grade\":['a', 'b', 'b', 'a', 'a', 'e']\n",
        "})"
      ],
      "execution_count": 136,
      "outputs": []
    },
    {
      "cell_type": "code",
      "metadata": {
        "colab": {
          "base_uri": "https://localhost:8080/",
          "height": 235
        },
        "id": "WQHzFdAwfI7S",
        "outputId": "2861c0ec-7f9a-4d8d-8649-ae96153ff77f"
      },
      "source": [
        "df"
      ],
      "execution_count": 137,
      "outputs": [
        {
          "output_type": "execute_result",
          "data": {
            "text/html": [
              "<div>\n",
              "<style scoped>\n",
              "    .dataframe tbody tr th:only-of-type {\n",
              "        vertical-align: middle;\n",
              "    }\n",
              "\n",
              "    .dataframe tbody tr th {\n",
              "        vertical-align: top;\n",
              "    }\n",
              "\n",
              "    .dataframe thead th {\n",
              "        text-align: right;\n",
              "    }\n",
              "</style>\n",
              "<table border=\"1\" class=\"dataframe\">\n",
              "  <thead>\n",
              "    <tr style=\"text-align: right;\">\n",
              "      <th></th>\n",
              "      <th>id</th>\n",
              "      <th>raw_grade</th>\n",
              "    </tr>\n",
              "  </thead>\n",
              "  <tbody>\n",
              "    <tr>\n",
              "      <th>0</th>\n",
              "      <td>1</td>\n",
              "      <td>a</td>\n",
              "    </tr>\n",
              "    <tr>\n",
              "      <th>1</th>\n",
              "      <td>2</td>\n",
              "      <td>b</td>\n",
              "    </tr>\n",
              "    <tr>\n",
              "      <th>2</th>\n",
              "      <td>3</td>\n",
              "      <td>b</td>\n",
              "    </tr>\n",
              "    <tr>\n",
              "      <th>3</th>\n",
              "      <td>4</td>\n",
              "      <td>a</td>\n",
              "    </tr>\n",
              "    <tr>\n",
              "      <th>4</th>\n",
              "      <td>5</td>\n",
              "      <td>a</td>\n",
              "    </tr>\n",
              "    <tr>\n",
              "      <th>5</th>\n",
              "      <td>6</td>\n",
              "      <td>e</td>\n",
              "    </tr>\n",
              "  </tbody>\n",
              "</table>\n",
              "</div>"
            ],
            "text/plain": [
              "   id raw_grade\n",
              "0   1         a\n",
              "1   2         b\n",
              "2   3         b\n",
              "3   4         a\n",
              "4   5         a\n",
              "5   6         e"
            ]
          },
          "metadata": {
            "tags": []
          },
          "execution_count": 137
        }
      ]
    },
    {
      "cell_type": "code",
      "metadata": {
        "id": "MWjg38_CfJCf"
      },
      "source": [
        "df[\"grade\"] = df[\"raw_grade\"].astype(\"category\")"
      ],
      "execution_count": 140,
      "outputs": []
    },
    {
      "cell_type": "code",
      "metadata": {
        "colab": {
          "base_uri": "https://localhost:8080/",
          "height": 235
        },
        "id": "sxqmrIE9fV05",
        "outputId": "bd03ebb2-b085-4e17-9977-d31d504e3fdc"
      },
      "source": [
        "df"
      ],
      "execution_count": 141,
      "outputs": [
        {
          "output_type": "execute_result",
          "data": {
            "text/html": [
              "<div>\n",
              "<style scoped>\n",
              "    .dataframe tbody tr th:only-of-type {\n",
              "        vertical-align: middle;\n",
              "    }\n",
              "\n",
              "    .dataframe tbody tr th {\n",
              "        vertical-align: top;\n",
              "    }\n",
              "\n",
              "    .dataframe thead th {\n",
              "        text-align: right;\n",
              "    }\n",
              "</style>\n",
              "<table border=\"1\" class=\"dataframe\">\n",
              "  <thead>\n",
              "    <tr style=\"text-align: right;\">\n",
              "      <th></th>\n",
              "      <th>id</th>\n",
              "      <th>raw_grade</th>\n",
              "      <th>grade</th>\n",
              "    </tr>\n",
              "  </thead>\n",
              "  <tbody>\n",
              "    <tr>\n",
              "      <th>0</th>\n",
              "      <td>1</td>\n",
              "      <td>a</td>\n",
              "      <td>a</td>\n",
              "    </tr>\n",
              "    <tr>\n",
              "      <th>1</th>\n",
              "      <td>2</td>\n",
              "      <td>b</td>\n",
              "      <td>b</td>\n",
              "    </tr>\n",
              "    <tr>\n",
              "      <th>2</th>\n",
              "      <td>3</td>\n",
              "      <td>b</td>\n",
              "      <td>b</td>\n",
              "    </tr>\n",
              "    <tr>\n",
              "      <th>3</th>\n",
              "      <td>4</td>\n",
              "      <td>a</td>\n",
              "      <td>a</td>\n",
              "    </tr>\n",
              "    <tr>\n",
              "      <th>4</th>\n",
              "      <td>5</td>\n",
              "      <td>a</td>\n",
              "      <td>a</td>\n",
              "    </tr>\n",
              "    <tr>\n",
              "      <th>5</th>\n",
              "      <td>6</td>\n",
              "      <td>e</td>\n",
              "      <td>e</td>\n",
              "    </tr>\n",
              "  </tbody>\n",
              "</table>\n",
              "</div>"
            ],
            "text/plain": [
              "   id raw_grade grade\n",
              "0   1         a     a\n",
              "1   2         b     b\n",
              "2   3         b     b\n",
              "3   4         a     a\n",
              "4   5         a     a\n",
              "5   6         e     e"
            ]
          },
          "metadata": {
            "tags": []
          },
          "execution_count": 141
        }
      ]
    },
    {
      "cell_type": "code",
      "metadata": {
        "colab": {
          "base_uri": "https://localhost:8080/"
        },
        "id": "2rggQIHpfWBp",
        "outputId": "725c56b9-ea04-4c8c-c518-f32281f9fb7a"
      },
      "source": [
        "df['raw_grade']"
      ],
      "execution_count": 142,
      "outputs": [
        {
          "output_type": "execute_result",
          "data": {
            "text/plain": [
              "0    a\n",
              "1    b\n",
              "2    b\n",
              "3    a\n",
              "4    a\n",
              "5    e\n",
              "Name: raw_grade, dtype: object"
            ]
          },
          "metadata": {
            "tags": []
          },
          "execution_count": 142
        }
      ]
    },
    {
      "cell_type": "code",
      "metadata": {
        "colab": {
          "base_uri": "https://localhost:8080/"
        },
        "id": "5CAxV9MYfe3S",
        "outputId": "93c1803a-774b-44b7-bcfc-7ae553976cd7"
      },
      "source": [
        "df['grade']"
      ],
      "execution_count": 143,
      "outputs": [
        {
          "output_type": "execute_result",
          "data": {
            "text/plain": [
              "0    a\n",
              "1    b\n",
              "2    b\n",
              "3    a\n",
              "4    a\n",
              "5    e\n",
              "Name: grade, dtype: category\n",
              "Categories (3, object): ['a', 'b', 'e']"
            ]
          },
          "metadata": {
            "tags": []
          },
          "execution_count": 143
        }
      ]
    },
    {
      "cell_type": "code",
      "metadata": {
        "colab": {
          "base_uri": "https://localhost:8080/",
          "height": 235
        },
        "id": "oiePVyttfgyJ",
        "outputId": "3b1360be-ce9a-4143-abf9-1c5add7be24e"
      },
      "source": [
        "df[\"grade\"].cat.categories = [\"very good\", \"good\", \"very bad\"]\n",
        "df"
      ],
      "execution_count": 145,
      "outputs": [
        {
          "output_type": "execute_result",
          "data": {
            "text/html": [
              "<div>\n",
              "<style scoped>\n",
              "    .dataframe tbody tr th:only-of-type {\n",
              "        vertical-align: middle;\n",
              "    }\n",
              "\n",
              "    .dataframe tbody tr th {\n",
              "        vertical-align: top;\n",
              "    }\n",
              "\n",
              "    .dataframe thead th {\n",
              "        text-align: right;\n",
              "    }\n",
              "</style>\n",
              "<table border=\"1\" class=\"dataframe\">\n",
              "  <thead>\n",
              "    <tr style=\"text-align: right;\">\n",
              "      <th></th>\n",
              "      <th>id</th>\n",
              "      <th>raw_grade</th>\n",
              "      <th>grade</th>\n",
              "    </tr>\n",
              "  </thead>\n",
              "  <tbody>\n",
              "    <tr>\n",
              "      <th>0</th>\n",
              "      <td>1</td>\n",
              "      <td>a</td>\n",
              "      <td>very good</td>\n",
              "    </tr>\n",
              "    <tr>\n",
              "      <th>1</th>\n",
              "      <td>2</td>\n",
              "      <td>b</td>\n",
              "      <td>good</td>\n",
              "    </tr>\n",
              "    <tr>\n",
              "      <th>2</th>\n",
              "      <td>3</td>\n",
              "      <td>b</td>\n",
              "      <td>good</td>\n",
              "    </tr>\n",
              "    <tr>\n",
              "      <th>3</th>\n",
              "      <td>4</td>\n",
              "      <td>a</td>\n",
              "      <td>very good</td>\n",
              "    </tr>\n",
              "    <tr>\n",
              "      <th>4</th>\n",
              "      <td>5</td>\n",
              "      <td>a</td>\n",
              "      <td>very good</td>\n",
              "    </tr>\n",
              "    <tr>\n",
              "      <th>5</th>\n",
              "      <td>6</td>\n",
              "      <td>e</td>\n",
              "      <td>very bad</td>\n",
              "    </tr>\n",
              "  </tbody>\n",
              "</table>\n",
              "</div>"
            ],
            "text/plain": [
              "   id raw_grade      grade\n",
              "0   1         a  very good\n",
              "1   2         b       good\n",
              "2   3         b       good\n",
              "3   4         a  very good\n",
              "4   5         a  very good\n",
              "5   6         e   very bad"
            ]
          },
          "metadata": {
            "tags": []
          },
          "execution_count": 145
        }
      ]
    },
    {
      "cell_type": "code",
      "metadata": {
        "id": "_8HgtU_Yf_27"
      },
      "source": [
        "df['grade2']=df['raw_grade'].astype('category')"
      ],
      "execution_count": 146,
      "outputs": []
    },
    {
      "cell_type": "code",
      "metadata": {
        "colab": {
          "base_uri": "https://localhost:8080/"
        },
        "id": "s7fyhg3HgcSy",
        "outputId": "c96c8107-0508-4b98-ed5d-76cd0abdacde"
      },
      "source": [
        "df['grade2']"
      ],
      "execution_count": 148,
      "outputs": [
        {
          "output_type": "execute_result",
          "data": {
            "text/plain": [
              "0    a\n",
              "1    b\n",
              "2    b\n",
              "3    a\n",
              "4    a\n",
              "5    e\n",
              "Name: grade2, dtype: category\n",
              "Categories (3, object): ['a', 'b', 'e']"
            ]
          },
          "metadata": {
            "tags": []
          },
          "execution_count": 148
        }
      ]
    },
    {
      "cell_type": "code",
      "metadata": {
        "id": "B-bnNC0_gcxK"
      },
      "source": [
        "df['grade2'].cat.categories=['참 잘했어요', '잘했어요', '더 노력해 보아여']"
      ],
      "execution_count": 149,
      "outputs": []
    },
    {
      "cell_type": "code",
      "metadata": {
        "colab": {
          "base_uri": "https://localhost:8080/",
          "height": 235
        },
        "id": "7VBiijFBgoWp",
        "outputId": "b7a0ef35-3a23-45bb-fc49-e629fdde7c6a"
      },
      "source": [
        "df"
      ],
      "execution_count": 150,
      "outputs": [
        {
          "output_type": "execute_result",
          "data": {
            "text/html": [
              "<div>\n",
              "<style scoped>\n",
              "    .dataframe tbody tr th:only-of-type {\n",
              "        vertical-align: middle;\n",
              "    }\n",
              "\n",
              "    .dataframe tbody tr th {\n",
              "        vertical-align: top;\n",
              "    }\n",
              "\n",
              "    .dataframe thead th {\n",
              "        text-align: right;\n",
              "    }\n",
              "</style>\n",
              "<table border=\"1\" class=\"dataframe\">\n",
              "  <thead>\n",
              "    <tr style=\"text-align: right;\">\n",
              "      <th></th>\n",
              "      <th>id</th>\n",
              "      <th>raw_grade</th>\n",
              "      <th>grade</th>\n",
              "      <th>grade2</th>\n",
              "    </tr>\n",
              "  </thead>\n",
              "  <tbody>\n",
              "    <tr>\n",
              "      <th>0</th>\n",
              "      <td>1</td>\n",
              "      <td>a</td>\n",
              "      <td>very good</td>\n",
              "      <td>참 잘했어요</td>\n",
              "    </tr>\n",
              "    <tr>\n",
              "      <th>1</th>\n",
              "      <td>2</td>\n",
              "      <td>b</td>\n",
              "      <td>good</td>\n",
              "      <td>잘했어요</td>\n",
              "    </tr>\n",
              "    <tr>\n",
              "      <th>2</th>\n",
              "      <td>3</td>\n",
              "      <td>b</td>\n",
              "      <td>good</td>\n",
              "      <td>잘했어요</td>\n",
              "    </tr>\n",
              "    <tr>\n",
              "      <th>3</th>\n",
              "      <td>4</td>\n",
              "      <td>a</td>\n",
              "      <td>very good</td>\n",
              "      <td>참 잘했어요</td>\n",
              "    </tr>\n",
              "    <tr>\n",
              "      <th>4</th>\n",
              "      <td>5</td>\n",
              "      <td>a</td>\n",
              "      <td>very good</td>\n",
              "      <td>참 잘했어요</td>\n",
              "    </tr>\n",
              "    <tr>\n",
              "      <th>5</th>\n",
              "      <td>6</td>\n",
              "      <td>e</td>\n",
              "      <td>very bad</td>\n",
              "      <td>더 노력해 보아여</td>\n",
              "    </tr>\n",
              "  </tbody>\n",
              "</table>\n",
              "</div>"
            ],
            "text/plain": [
              "   id raw_grade      grade     grade2\n",
              "0   1         a  very good     참 잘했어요\n",
              "1   2         b       good       잘했어요\n",
              "2   3         b       good       잘했어요\n",
              "3   4         a  very good     참 잘했어요\n",
              "4   5         a  very good     참 잘했어요\n",
              "5   6         e   very bad  더 노력해 보아여"
            ]
          },
          "metadata": {
            "tags": []
          },
          "execution_count": 150
        }
      ]
    },
    {
      "cell_type": "code",
      "metadata": {
        "id": "BnMFwJaAgpGJ"
      },
      "source": [
        "ts = pd.Series(np.random.randn(1000), index=pd.date_range('20210521', periods=1000))"
      ],
      "execution_count": 152,
      "outputs": []
    },
    {
      "cell_type": "code",
      "metadata": {
        "id": "2b1IDBhFhFlQ"
      },
      "source": [
        "ts = ts.cumsum()"
      ],
      "execution_count": 160,
      "outputs": []
    },
    {
      "cell_type": "code",
      "metadata": {
        "colab": {
          "base_uri": "https://localhost:8080/",
          "height": 295
        },
        "id": "GKBr1XuMhR6h",
        "outputId": "7dd97dac-c1e0-4634-d0a4-bc68592cea29"
      },
      "source": [
        "ts.plot()"
      ],
      "execution_count": 161,
      "outputs": [
        {
          "output_type": "execute_result",
          "data": {
            "text/plain": [
              "<matplotlib.axes._subplots.AxesSubplot at 0x7fe1d61df350>"
            ]
          },
          "metadata": {
            "tags": []
          },
          "execution_count": 161
        },
        {
          "output_type": "display_data",
          "data": {
            "image/png": "[encoded data removed]",
            "text/plain": [
              "<Figure size 432x288 with 1 Axes>"
            ]
          },
          "metadata": {
            "tags": [],
            "needs_background": "light"
          }
        }
      ]
    },
    {
      "cell_type": "code",
      "metadata": {
        "colab": {
          "base_uri": "https://localhost:8080/",
          "height": 172
        },
        "id": "xW40XNmshcWB",
        "outputId": "c5a1912c-03b0-4d55-acd3-4860a0f3f5fd"
      },
      "source": [
        "ts_cum.plot()"
      ],
      "execution_count": 162,
      "outputs": [
        {
          "output_type": "error",
          "ename": "NameError",
          "evalue": "ignored",
          "traceback": [
            "\u001b[0;31m---------------------------------------------------------------------------\u001b[0m",
            "\u001b[0;31mNameError\u001b[0m                                 Traceback (most recent call last)",
            "\u001b[0;32m<ipython-input-162-b01cbea279de>\u001b[0m in \u001b[0;36m<module>\u001b[0;34m()\u001b[0m\n\u001b[0;32m----> 1\u001b[0;31m \u001b[0mts_cum\u001b[0m\u001b[0;34m.\u001b[0m\u001b[0mplot\u001b[0m\u001b[0;34m(\u001b[0m\u001b[0;34m)\u001b[0m\u001b[0;34m\u001b[0m\u001b[0;34m\u001b[0m\u001b[0m\n\u001b[0m",
            "\u001b[0;31mNameError\u001b[0m: name 'ts_cum' is not defined"
          ]
        }
      ]
    },
    {
      "cell_type": "code",
      "metadata": {
        "id": "4oAuAjXBhe95"
      },
      "source": [
        "ts = pd.Series(np.random.randn(1000), index=pd.date_range('20210521', periods=1000))\n",
        "df = pd.DataFrame(np.random.randn(1000, 4), index=ts.index, columns = ['A', 'B', 'C', 'D'])"
      ],
      "execution_count": 163,
      "outputs": []
    },
    {
      "cell_type": "code",
      "metadata": {
        "colab": {
          "base_uri": "https://localhost:8080/",
          "height": 419
        },
        "id": "Q7aRgaI6h4Fx",
        "outputId": "02190de6-8a32-4779-c0f3-d1079d4fdc00"
      },
      "source": [
        "df"
      ],
      "execution_count": 164,
      "outputs": [
        {
          "output_type": "execute_result",
          "data": {
            "text/html": [
              "<div>\n",
              "<style scoped>\n",
              "    .dataframe tbody tr th:only-of-type {\n",
              "        vertical-align: middle;\n",
              "    }\n",
              "\n",
              "    .dataframe tbody tr th {\n",
              "        vertical-align: top;\n",
              "    }\n",
              "\n",
              "    .dataframe thead th {\n",
              "        text-align: right;\n",
              "    }\n",
              "</style>\n",
              "<table border=\"1\" class=\"dataframe\">\n",
              "  <thead>\n",
              "    <tr style=\"text-align: right;\">\n",
              "      <th></th>\n",
              "      <th>A</th>\n",
              "      <th>B</th>\n",
              "      <th>C</th>\n",
              "      <th>D</th>\n",
              "    </tr>\n",
              "  </thead>\n",
              "  <tbody>\n",
              "    <tr>\n",
              "      <th>2021-05-21</th>\n",
              "      <td>-0.886735</td>\n",
              "      <td>0.236194</td>\n",
              "      <td>0.813372</td>\n",
              "      <td>-0.276367</td>\n",
              "    </tr>\n",
              "    <tr>\n",
              "      <th>2021-05-22</th>\n",
              "      <td>-0.932535</td>\n",
              "      <td>-1.291784</td>\n",
              "      <td>1.380249</td>\n",
              "      <td>1.357234</td>\n",
              "    </tr>\n",
              "    <tr>\n",
              "      <th>2021-05-23</th>\n",
              "      <td>-1.173707</td>\n",
              "      <td>1.189050</td>\n",
              "      <td>-0.248402</td>\n",
              "      <td>0.918634</td>\n",
              "    </tr>\n",
              "    <tr>\n",
              "      <th>2021-05-24</th>\n",
              "      <td>0.020014</td>\n",
              "      <td>-0.637982</td>\n",
              "      <td>1.816404</td>\n",
              "      <td>0.336722</td>\n",
              "    </tr>\n",
              "    <tr>\n",
              "      <th>2021-05-25</th>\n",
              "      <td>1.460779</td>\n",
              "      <td>0.519021</td>\n",
              "      <td>0.897701</td>\n",
              "      <td>-0.629629</td>\n",
              "    </tr>\n",
              "    <tr>\n",
              "      <th>...</th>\n",
              "      <td>...</td>\n",
              "      <td>...</td>\n",
              "      <td>...</td>\n",
              "      <td>...</td>\n",
              "    </tr>\n",
              "    <tr>\n",
              "      <th>2024-02-10</th>\n",
              "      <td>-1.421933</td>\n",
              "      <td>1.053246</td>\n",
              "      <td>0.829306</td>\n",
              "      <td>0.484174</td>\n",
              "    </tr>\n",
              "    <tr>\n",
              "      <th>2024-02-11</th>\n",
              "      <td>1.040208</td>\n",
              "      <td>-1.692074</td>\n",
              "      <td>-1.334815</td>\n",
              "      <td>-1.066397</td>\n",
              "    </tr>\n",
              "    <tr>\n",
              "      <th>2024-02-12</th>\n",
              "      <td>1.400790</td>\n",
              "      <td>1.738072</td>\n",
              "      <td>0.793834</td>\n",
              "      <td>0.121610</td>\n",
              "    </tr>\n",
              "    <tr>\n",
              "      <th>2024-02-13</th>\n",
              "      <td>-0.493872</td>\n",
              "      <td>-1.116768</td>\n",
              "      <td>0.882287</td>\n",
              "      <td>0.786201</td>\n",
              "    </tr>\n",
              "    <tr>\n",
              "      <th>2024-02-14</th>\n",
              "      <td>-0.339004</td>\n",
              "      <td>-0.511419</td>\n",
              "      <td>-1.093424</td>\n",
              "      <td>-1.099631</td>\n",
              "    </tr>\n",
              "  </tbody>\n",
              "</table>\n",
              "<p>1000 rows × 4 columns</p>\n",
              "</div>"
            ],
            "text/plain": [
              "                   A         B         C         D\n",
              "2021-05-21 -0.886735  0.236194  0.813372 -0.276367\n",
              "2021-05-22 -0.932535 -1.291784  1.380249  1.357234\n",
              "2021-05-23 -1.173707  1.189050 -0.248402  0.918634\n",
              "2021-05-24  0.020014 -0.637982  1.816404  0.336722\n",
              "2021-05-25  1.460779  0.519021  0.897701 -0.629629\n",
              "...              ...       ...       ...       ...\n",
              "2024-02-10 -1.421933  1.053246  0.829306  0.484174\n",
              "2024-02-11  1.040208 -1.692074 -1.334815 -1.066397\n",
              "2024-02-12  1.400790  1.738072  0.793834  0.121610\n",
              "2024-02-13 -0.493872 -1.116768  0.882287  0.786201\n",
              "2024-02-14 -0.339004 -0.511419 -1.093424 -1.099631\n",
              "\n",
              "[1000 rows x 4 columns]"
            ]
          },
          "metadata": {
            "tags": []
          },
          "execution_count": 164
        }
      ]
    },
    {
      "cell_type": "code",
      "metadata": {
        "colab": {
          "base_uri": "https://localhost:8080/",
          "height": 204
        },
        "id": "qtKG7i3wh5PB",
        "outputId": "88a47a8e-4761-4508-b1ea-275b769339f8"
      },
      "source": [
        "df.head()"
      ],
      "execution_count": 165,
      "outputs": [
        {
          "output_type": "execute_result",
          "data": {
            "text/html": [
              "<div>\n",
              "<style scoped>\n",
              "    .dataframe tbody tr th:only-of-type {\n",
              "        vertical-align: middle;\n",
              "    }\n",
              "\n",
              "    .dataframe tbody tr th {\n",
              "        vertical-align: top;\n",
              "    }\n",
              "\n",
              "    .dataframe thead th {\n",
              "        text-align: right;\n",
              "    }\n",
              "</style>\n",
              "<table border=\"1\" class=\"dataframe\">\n",
              "  <thead>\n",
              "    <tr style=\"text-align: right;\">\n",
              "      <th></th>\n",
              "      <th>A</th>\n",
              "      <th>B</th>\n",
              "      <th>C</th>\n",
              "      <th>D</th>\n",
              "    </tr>\n",
              "  </thead>\n",
              "  <tbody>\n",
              "    <tr>\n",
              "      <th>2021-05-21</th>\n",
              "      <td>-0.886735</td>\n",
              "      <td>0.236194</td>\n",
              "      <td>0.813372</td>\n",
              "      <td>-0.276367</td>\n",
              "    </tr>\n",
              "    <tr>\n",
              "      <th>2021-05-22</th>\n",
              "      <td>-0.932535</td>\n",
              "      <td>-1.291784</td>\n",
              "      <td>1.380249</td>\n",
              "      <td>1.357234</td>\n",
              "    </tr>\n",
              "    <tr>\n",
              "      <th>2021-05-23</th>\n",
              "      <td>-1.173707</td>\n",
              "      <td>1.189050</td>\n",
              "      <td>-0.248402</td>\n",
              "      <td>0.918634</td>\n",
              "    </tr>\n",
              "    <tr>\n",
              "      <th>2021-05-24</th>\n",
              "      <td>0.020014</td>\n",
              "      <td>-0.637982</td>\n",
              "      <td>1.816404</td>\n",
              "      <td>0.336722</td>\n",
              "    </tr>\n",
              "    <tr>\n",
              "      <th>2021-05-25</th>\n",
              "      <td>1.460779</td>\n",
              "      <td>0.519021</td>\n",
              "      <td>0.897701</td>\n",
              "      <td>-0.629629</td>\n",
              "    </tr>\n",
              "  </tbody>\n",
              "</table>\n",
              "</div>"
            ],
            "text/plain": [
              "                   A         B         C         D\n",
              "2021-05-21 -0.886735  0.236194  0.813372 -0.276367\n",
              "2021-05-22 -0.932535 -1.291784  1.380249  1.357234\n",
              "2021-05-23 -1.173707  1.189050 -0.248402  0.918634\n",
              "2021-05-24  0.020014 -0.637982  1.816404  0.336722\n",
              "2021-05-25  1.460779  0.519021  0.897701 -0.629629"
            ]
          },
          "metadata": {
            "tags": []
          },
          "execution_count": 165
        }
      ]
    },
    {
      "cell_type": "code",
      "metadata": {
        "id": "lGU15rzWh6hp"
      },
      "source": [
        "df=df.cumsum()"
      ],
      "execution_count": 171,
      "outputs": []
    },
    {
      "cell_type": "code",
      "metadata": {
        "colab": {
          "base_uri": "https://localhost:8080/",
          "height": 295
        },
        "id": "up2s1IZch8tJ",
        "outputId": "97dc92eb-e2ca-4e5a-8395-9500d381254b"
      },
      "source": [
        "df.plot()"
      ],
      "execution_count": 172,
      "outputs": [
        {
          "output_type": "execute_result",
          "data": {
            "text/plain": [
              "<matplotlib.axes._subplots.AxesSubplot at 0x7fe1d60ba750>"
            ]
          },
          "metadata": {
            "tags": []
          },
          "execution_count": 172
        },
        {
          "output_type": "display_data",
          "data": {
            "image/png": "[encoded data removed]",
            "text/plain": [
              "<Figure size 432x288 with 1 Axes>"
            ]
          },
          "metadata": {
            "tags": [],
            "needs_background": "light"
          }
        }
      ]
    },
    {
      "cell_type": "code",
      "metadata": {
        "id": "QfrYip4-iNhx"
      },
      "source": [
        "df.to_csv('foo.csv')"
      ],
      "execution_count": 173,
      "outputs": []
    },
    {
      "cell_type": "code",
      "metadata": {
        "id": "MuR7h89aibeR"
      },
      "source": [
        "df.to_excel('foo.xlsx')"
      ],
      "execution_count": 176,
      "outputs": []
    },
    {
      "cell_type": "code",
      "metadata": {
        "id": "-bccCPFKijdh"
      },
      "source": [
        ""
      ],
      "execution_count": null,
      "outputs": []
    }
  ]
}