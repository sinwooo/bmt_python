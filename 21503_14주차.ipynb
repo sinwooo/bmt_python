{
  "nbformat": 4,
  "nbformat_minor": 0,
  "metadata": {
    "colab": {
      "name": "21503_14주차",
      "provenance": [],
      "authorship_tag": "ABX9TyPH1Q002HuSOMWLnfQopkcg",
      "include_colab_link": true
    },
    "kernelspec": {
      "name": "python3",
      "display_name": "Python 3"
    },
    "language_info": {
      "name": "python"
    }
  },
  "cells": [
    {
      "cell_type": "markdown",
      "metadata": {
        "id": "view-in-github",
        "colab_type": "text"
      },
      "source": [
        "<a href=\"https://colab.research.google.com/github/sinwooo/bmt_python/blob/main/21503_14%EC%A3%BC%EC%B0%A8.ipynb\" target=\"_parent\"><img src=\"https://colab.research.google.com/assets/colab-badge.svg\" alt=\"Open In Colab\"/></a>"
      ]
    },
    {
      "cell_type": "code",
      "metadata": {
        "colab": {
          "base_uri": "https://localhost:8080/"
        },
        "id": "P-320LjCS0dm",
        "outputId": "f68d8a9e-54f2-42a1-e809-d09a0c395378"
      },
      "source": [
        "import csv\n",
        "\n",
        "f = open('busan.csv','r' )\n",
        "data = csv.reader(f, delimiter=',')\n",
        "print(data)"
      ],
      "execution_count": 13,
      "outputs": [
        {
          "output_type": "stream",
          "text": [
            "<_csv.reader object at 0x7fde405a68d0>\n"
          ],
          "name": "stdout"
        }
      ]
    },
    {
      "cell_type": "code",
      "metadata": {
        "colab": {
          "base_uri": "https://localhost:8080/"
        },
        "id": "-PZqMic8gkx2",
        "outputId": "5d86a5b4-5e32-4705-eb0e-06d2c7007adf"
      },
      "source": [
        "weight=int(input('weight : '))\n",
        "height=int(input('height : '))\n",
        "BMI=weight/(height/100)**2\n",
        "print(f'BMI : {BMI:.2f}')"
      ],
      "execution_count": 14,
      "outputs": [
        {
          "output_type": "stream",
          "text": [
            "weight : 83\n",
            "height : 177\n",
            "BMI : 26.49\n"
          ],
          "name": "stdout"
        }
      ]
    },
    {
      "cell_type": "code",
      "metadata": {
        "colab": {
          "base_uri": "https://localhost:8080/"
        },
        "id": "VoAaorYUklS3",
        "outputId": "b6cbc58c-1ffe-4584-8e6b-dc267cab2e42"
      },
      "source": [
        "import csv\n",
        "\n",
        "f = open('busan.csv','r' )\n",
        "data = csv.reader(f, delimiter=',')\n",
        "\n",
        "header=next(data)\n",
        "\n",
        "for i in data:\n",
        "  print(i)\n",
        "print(header)\n",
        "f.close()"
      ],
      "execution_count": 19,
      "outputs": [
        {
          "output_type": "stream",
          "text": [
            "['2021-05-05', '18.5', '14.4', '23.2']\n",
            "['2021-05-06', '17.1', '11.5', '21.7']\n",
            "['2021-05-07', '17.4', '15.3', '20.3']\n",
            "['2021-05-08', '17', '12.2', '20.8']\n",
            "['2021-05-09', '17.9', '13.8', '22']\n",
            "['2021-05-10', '17.5', '14.8', '21.3']\n",
            "['2021-05-11', '16.4', '14.7', '18.8']\n",
            "['2021-05-12', '18.5', '15.8', '24.8']\n",
            "['2021-05-13', '19.7', '16.5', '25']\n",
            "['2021-05-14', '19.4', '16.4', '23.4']\n",
            "['2021-05-15', '18.8', '17.8', '20.3']\n",
            "['2021-05-16', '19.3', '15.4', '20.9']\n",
            "['2021-05-17', '14.7', '14.2', '16']\n",
            "['2021-05-18', '16.1', '14.2', '17.7']\n",
            "['2021-05-19', '19.3', '16', '23.6']\n",
            "['2021-05-20', '16.9', '15.9', '17.9']\n",
            "['2021-05-21', '18.4', '15.9', '22.7']\n",
            "['2021-05-22', '19', '15.1', '24.3']\n",
            "['2021-05-23', '21.5', '16.8', '26.5']\n",
            "['2021-05-24', '18.8', '16.9', '21.3']\n",
            "['2021-05-25', '19.9', '17', '25.5']\n",
            "['2021-05-26', '17.9', '15.5', '22.1']\n",
            "['2021-05-27', '16.9', '13.4', '20.9']\n",
            "['2021-05-28', '17.6', '15', '21.5']\n",
            "['2021-05-29', '18.7', '14.4', '22.8']\n",
            "['2021-05-30', '19.8', '16.4', '23.9']\n",
            "['2021-05-31', '20.3', '16.9', '24.9']\n",
            "['2021-06-01', '21.2', '16.6', '26.3']\n",
            "['2021-06-02', '21.4', '19.1', '25.6']\n",
            "['2021-06-03', '19.2', '18.2', '19.9']\n",
            "['날짜', '평균기온(℃)', '최저기온(℃)', '최고기온(℃)']\n"
          ],
          "name": "stdout"
        }
      ]
    },
    {
      "cell_type": "code",
      "metadata": {
        "colab": {
          "base_uri": "https://localhost:8080/"
        },
        "id": "0zg8tv1ClNwF",
        "outputId": "9bedd050-7fb5-40ab-95cd-56f84f16f1f0"
      },
      "source": [
        "\n",
        "import csv\n",
        "f = open('busan.csv', 'r')\n",
        "data = csv.reader(f)\n",
        "\n",
        "header = next(data)\n",
        "for row in data:\n",
        "  row[-1] = float(row[-1]) \n",
        "  print(row)\n",
        "\n",
        "f.close()"
      ],
      "execution_count": 21,
      "outputs": [
        {
          "output_type": "stream",
          "text": [
            "['2021-05-05', '18.5', '14.4', 23.2]\n",
            "['2021-05-06', '17.1', '11.5', 21.7]\n",
            "['2021-05-07', '17.4', '15.3', 20.3]\n",
            "['2021-05-08', '17', '12.2', 20.8]\n",
            "['2021-05-09', '17.9', '13.8', 22.0]\n",
            "['2021-05-10', '17.5', '14.8', 21.3]\n",
            "['2021-05-11', '16.4', '14.7', 18.8]\n",
            "['2021-05-12', '18.5', '15.8', 24.8]\n",
            "['2021-05-13', '19.7', '16.5', 25.0]\n",
            "['2021-05-14', '19.4', '16.4', 23.4]\n",
            "['2021-05-15', '18.8', '17.8', 20.3]\n",
            "['2021-05-16', '19.3', '15.4', 20.9]\n",
            "['2021-05-17', '14.7', '14.2', 16.0]\n",
            "['2021-05-18', '16.1', '14.2', 17.7]\n",
            "['2021-05-19', '19.3', '16', 23.6]\n",
            "['2021-05-20', '16.9', '15.9', 17.9]\n",
            "['2021-05-21', '18.4', '15.9', 22.7]\n",
            "['2021-05-22', '19', '15.1', 24.3]\n",
            "['2021-05-23', '21.5', '16.8', 26.5]\n",
            "['2021-05-24', '18.8', '16.9', 21.3]\n",
            "['2021-05-25', '19.9', '17', 25.5]\n",
            "['2021-05-26', '17.9', '15.5', 22.1]\n",
            "['2021-05-27', '16.9', '13.4', 20.9]\n",
            "['2021-05-28', '17.6', '15', 21.5]\n",
            "['2021-05-29', '18.7', '14.4', 22.8]\n",
            "['2021-05-30', '19.8', '16.4', 23.9]\n",
            "['2021-05-31', '20.3', '16.9', 24.9]\n",
            "['2021-06-01', '21.2', '16.6', 26.3]\n",
            "['2021-06-02', '21.4', '19.1', 25.6]\n",
            "['2021-06-03', '19.2', '18.2', 19.9]\n"
          ],
          "name": "stdout"
        }
      ]
    },
    {
      "cell_type": "code",
      "metadata": {
        "colab": {
          "base_uri": "https://localhost:8080/"
        },
        "id": "BVHH4Zmwmg3t",
        "outputId": "bb17cca9-57da-418a-d8bf-b86bac93c9d8"
      },
      "source": [
        "import csv\n",
        "f = open('busan.csv', 'r')\n",
        "data = csv.reader(f)\n",
        "\n",
        "header = next(data)\n",
        "max_temp = -999\n",
        "max_date = ''\n",
        "for row in data:\n",
        "    row[-1] = float(row[-1])\n",
        "    if max_temp < row[-1]:\n",
        "      max_date = row[0]\n",
        "      max_temp = row[-1]\n",
        "  \n",
        "f.close()\n",
        "print( f'기상 관측 이래 부산의 최고 기온이 가장 높았던 날은 {max_date}로, {max_temp}도 였습니다.')"
      ],
      "execution_count": 24,
      "outputs": [
        {
          "output_type": "stream",
          "text": [
            "기상 관측 이래 부산의 최고 기온이 가장 높았던 날은 2021-05-23로, 26.5도 였습니다.\n"
          ],
          "name": "stdout"
        }
      ]
    },
    {
      "cell_type": "code",
      "metadata": {
        "id": "sefrs9FspBhN"
      },
      "source": [
        ""
      ],
      "execution_count": null,
      "outputs": []
    }
  ]
}