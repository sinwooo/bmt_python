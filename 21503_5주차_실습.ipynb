{
  "nbformat": 4,
  "nbformat_minor": 0,
  "metadata": {
    "colab": {
      "name": "21503_5주차 실습",
      "provenance": [],
      "collapsed_sections": [],
      "authorship_tag": "ABX9TyNSz7mkGG8YzdcDoC0iQGQT",
      "include_colab_link": true
    },
    "kernelspec": {
      "name": "python3",
      "display_name": "Python 3"
    },
    "language_info": {
      "name": "python"
    }
  },
  "cells": [
    {
      "cell_type": "markdown",
      "metadata": {
        "id": "view-in-github",
        "colab_type": "text"
      },
      "source": [
        "<a href=\"https://colab.research.google.com/github/sinwooo/bmt_python/blob/main/21503_5%EC%A3%BC%EC%B0%A8_%EC%8B%A4%EC%8A%B5.ipynb\" target=\"_parent\"><img src=\"https://colab.research.google.com/assets/colab-badge.svg\" alt=\"Open In Colab\"/></a>"
      ]
    },
    {
      "cell_type": "code",
      "metadata": {
        "id": "xBWRquVR1ojI"
      },
      "source": [
        "corona = '''\n",
        "코로나(corona)는 라틴말로 왕관을 뜻하며 통상 태양을 둘러싼 외곽의 빛(광환)을 지칭한다.\n",
        "코로나 바이러스라는 이름은 전자현미경으로 이 바이러스를 관찰했을 때 마치 코로나와 유사한 모양을 띠어 붙여진 이름이다.\n",
        "이번에 중국의 우환에서 시작된 코로나 바이러스는 2019년에 발견된 새로운 코로나 바이러스라는 뜻으로 2019-nCov로 붙여졌다.\n",
        "nCov는 novel(새로운) Cov(코로나 바이러스)라는 뜻이다.\n",
        "'''"
      ],
      "execution_count": 1,
      "outputs": []
    },
    {
      "cell_type": "code",
      "metadata": {
        "colab": {
          "base_uri": "https://localhost:8080/",
          "height": 89
        },
        "id": "BfMmCFkZ2ebS",
        "outputId": "ae3bc203-8fbf-4555-c638-51e036778aaa"
      },
      "source": [
        "corona"
      ],
      "execution_count": 2,
      "outputs": [
        {
          "output_type": "execute_result",
          "data": {
            "application/vnd.google.colaboratory.intrinsic+json": {
              "type": "string"
            },
            "text/plain": [
              "'\\n코로나(corona)는 라틴말로 왕관을 뜻하며 통상 태양을 둘러싼 외곽의 빛(광환)을 지칭한다.\\n코로나 바이러스라는 이름은 전자현미경으로 이 바이러스를 관찰했을 때 마치 코로나와 유사한 모양을 띠어 붙여진 이름이다.\\n이번에 중국의 우환에서 시작된 코로나 바이러스는 2019년에 발견된 새로운 코로나 바이러스라는 뜻으로 2019-nCov로 붙여졌다.\\nnCov는 novel(새로운) Cov(코로나 바이러스)라는 뜻이다.\\n'"
            ]
          },
          "metadata": {
            "tags": []
          },
          "execution_count": 2
        }
      ]
    },
    {
      "cell_type": "code",
      "metadata": {
        "colab": {
          "base_uri": "https://localhost:8080/"
        },
        "id": "BGYwJJZA2gCA",
        "outputId": "dc2fd3b7-3a42-4e70-9851-f8adbff9855e"
      },
      "source": [
        "print('-'*50)"
      ],
      "execution_count": 4,
      "outputs": [
        {
          "output_type": "stream",
          "text": [
            "--------------------------------------------------\n"
          ],
          "name": "stdout"
        }
      ]
    },
    {
      "cell_type": "code",
      "metadata": {
        "colab": {
          "base_uri": "https://localhost:8080/"
        },
        "id": "yQ4TnFAh2pJ4",
        "outputId": "ec825953-df7f-4826-cd4d-c3fc3e73b363"
      },
      "source": [
        "sentence= corona.count('.')\n",
        "sentence"
      ],
      "execution_count": 5,
      "outputs": [
        {
          "output_type": "execute_result",
          "data": {
            "text/plain": [
              "4"
            ]
          },
          "metadata": {
            "tags": []
          },
          "execution_count": 5
        }
      ]
    },
    {
      "cell_type": "code",
      "metadata": {
        "colab": {
          "base_uri": "https://localhost:8080/"
        },
        "id": "C5DTy5Ch3Lnw",
        "outputId": "2c47bd51-bb0f-4777-b2bf-d34c42c1bc3e"
      },
      "source": [
        "print(f'{sentence}개의 문장으로 이루어진')"
      ],
      "execution_count": 7,
      "outputs": [
        {
          "output_type": "stream",
          "text": [
            "4개의 문장으로 이루어진\n"
          ],
          "name": "stdout"
        }
      ]
    },
    {
      "cell_type": "code",
      "metadata": {
        "colab": {
          "base_uri": "https://localhost:8080/",
          "height": 89
        },
        "id": "iJ0SJvN-3TYZ",
        "outputId": "d4849ec3-f273-46c1-ccba-03cede53b570"
      },
      "source": [
        "temp = corona.replace('\\n','')\n",
        "temp\n"
      ],
      "execution_count": 13,
      "outputs": [
        {
          "output_type": "execute_result",
          "data": {
            "application/vnd.google.colaboratory.intrinsic+json": {
              "type": "string"
            },
            "text/plain": [
              "'코로나(corona)는 라틴말로 왕관을 뜻하며 통상 태양을 둘러싼 외곽의 빛(광환)을 지칭한다.코로나 바이러스라는 이름은 전자현미경으로 이 바이러스를 관찰했을 때 마치 코로나와 유사한 모양을 띠어 붙여진 이름이다.이번에 중국의 우환에서 시작된 코로나 바이러스는 2019년에 발견된 새로운 코로나 바이러스라는 뜻으로 2019-nCov로 붙여졌다.nCov는 novel(새로운) Cov(코로나 바이러스)라는 뜻이다.'"
            ]
          },
          "metadata": {
            "tags": []
          },
          "execution_count": 13
        }
      ]
    },
    {
      "cell_type": "code",
      "metadata": {
        "colab": {
          "base_uri": "https://localhost:8080/"
        },
        "id": "AFz-38-339uo",
        "outputId": "b07b41c6-fe01-4da9-cf37-3fabcf738e99"
      },
      "source": [
        "temp1=temp.split('.')\n",
        "temp1"
      ],
      "execution_count": 16,
      "outputs": [
        {
          "output_type": "execute_result",
          "data": {
            "text/plain": [
              "['코로나(corona)는 라틴말로 왕관을 뜻하며 통상 태양을 둘러싼 외곽의 빛(광환)을 지칭한다',\n",
              " '코로나 바이러스라는 이름은 전자현미경으로 이 바이러스를 관찰했을 때 마치 코로나와 유사한 모양을 띠어 붙여진 이름이다',\n",
              " '이번에 중국의 우환에서 시작된 코로나 바이러스는 2019년에 발견된 새로운 코로나 바이러스라는 뜻으로 2019-nCov로 붙여졌다',\n",
              " 'nCov는 novel(새로운) Cov(코로나 바이러스)라는 뜻이다',\n",
              " '']"
            ]
          },
          "metadata": {
            "tags": []
          },
          "execution_count": 16
        }
      ]
    },
    {
      "cell_type": "code",
      "metadata": {
        "colab": {
          "base_uri": "https://localhost:8080/"
        },
        "id": "Baqsx60O4Biq",
        "outputId": "f1cc5472-ccd5-4242-db0e-6e07153c5404"
      },
      "source": [
        "len(temp1)"
      ],
      "execution_count": 18,
      "outputs": [
        {
          "output_type": "execute_result",
          "data": {
            "text/plain": [
              "5"
            ]
          },
          "metadata": {
            "tags": []
          },
          "execution_count": 18
        }
      ]
    },
    {
      "cell_type": "code",
      "metadata": {
        "colab": {
          "base_uri": "https://localhost:8080/",
          "height": 35
        },
        "id": "JzW5NOkd4idR",
        "outputId": "854441ce-6437-48ff-e3a0-758b538c021e"
      },
      "source": [
        "temp1[0]"
      ],
      "execution_count": 21,
      "outputs": [
        {
          "output_type": "execute_result",
          "data": {
            "application/vnd.google.colaboratory.intrinsic+json": {
              "type": "string"
            },
            "text/plain": [
              "'코로나(corona)는 라틴말로 왕관을 뜻하며 통상 태양을 둘러싼 외곽의 빛(광환)을 지칭한다'"
            ]
          },
          "metadata": {
            "tags": []
          },
          "execution_count": 21
        }
      ]
    },
    {
      "cell_type": "code",
      "metadata": {
        "colab": {
          "base_uri": "https://localhost:8080/"
        },
        "id": "jgzk6Boy4l-w",
        "outputId": "c3aba464-0e48-4368-9ef6-8d31b469953a"
      },
      "source": [
        "corona.replace('\\n',' ').split('.')"
      ],
      "execution_count": 25,
      "outputs": [
        {
          "output_type": "execute_result",
          "data": {
            "text/plain": [
              "[' 코로나(corona)는 라틴말로 왕관을 뜻하며 통상 태양을 둘러싼 외곽의 빛(광환)을 지칭한다',\n",
              " ' 코로나 바이러스라는 이름은 전자현미경으로 이 바이러스를 관찰했을 때 마치 코로나와 유사한 모양을 띠어 붙여진 이름이다',\n",
              " ' 이번에 중국의 우환에서 시작된 코로나 바이러스는 2019년에 발견된 새로운 코로나 바이러스라는 뜻으로 2019-nCov로 붙여졌다',\n",
              " ' nCov는 novel(새로운) Cov(코로나 바이러스)라는 뜻이다',\n",
              " ' ']"
            ]
          },
          "metadata": {
            "tags": []
          },
          "execution_count": 25
        }
      ]
    },
    {
      "cell_type": "code",
      "metadata": {
        "colab": {
          "base_uri": "https://localhost:8080/"
        },
        "id": "5qbTevxy4zdy",
        "outputId": "1ec4d357-16ae-4abf-ff69-aca25832f934"
      },
      "source": [
        "str_word=input('찾으려는 단어 입력 : ')"
      ],
      "execution_count": 26,
      "outputs": [
        {
          "output_type": "stream",
          "text": [
            "찾으려는 단어 입력 : 코로나\n"
          ],
          "name": "stdout"
        }
      ]
    },
    {
      "cell_type": "code",
      "metadata": {
        "colab": {
          "base_uri": "https://localhost:8080/"
        },
        "id": "OhNVYWbM5KsJ",
        "outputId": "ebd580b2-32d2-4434-85a8-e9b16c394960"
      },
      "source": [
        "corona.count(str_word)"
      ],
      "execution_count": 27,
      "outputs": [
        {
          "output_type": "execute_result",
          "data": {
            "text/plain": [
              "6"
            ]
          },
          "metadata": {
            "tags": []
          },
          "execution_count": 27
        }
      ]
    },
    {
      "cell_type": "code",
      "metadata": {
        "colab": {
          "base_uri": "https://localhost:8080/"
        },
        "id": "14aUDugL5TLh",
        "outputId": "26ab5b01-0ea9-4e3c-9c44-8d91ab1efab9"
      },
      "source": [
        "anysong = '''\n",
        "울려댔어 사이렌\n",
        "텅 빈 길거린엔\n",
        "도망치다 흘린 칼자루와 피가 흥건해\n",
        "우리 그때 어릴땐\n",
        "뭘 몰랐었지 Man\n",
        "그냥 힘쎈 형이 제일로 멋졌었지 그땐\n",
        "그래 우린 살아나왔어 지옥\n",
        "이제 어딜가든 다 비옥\n",
        "수도 없이 맛본 치욕\n",
        "어릴때부터 입에 붙은 쌍욕\n",
        "절대 할 수 없었지 신고\n",
        "할 수 있는게 오직 기도\n",
        "어떻게 느끼겠어 피곤\n",
        "붉게 물들지 않을려 내 흰옷\n",
        "아무 방법이 없어 No way\n",
        "돈만 준다면 해 노예\n",
        "내 믿음이 바뀌기 전에\n",
        "주변이 다 바뀌길 원해\n",
        "아직 죽지마 Ma bro\n",
        "달려왔어 짓밟고\n",
        "상처투성이된 몸\n",
        "씻기엔 피가 물든 손\n",
        "빈속에 피워대기엔 뻑뻑해\n",
        "눈뜨고 나니 전봇대\n",
        "일을 해도 Don't payback\n",
        "가난한게 Make me 죄인\n",
        "닥쳐 You know ma pain\n",
        "편히자 Now we safe\n",
        "벌어들여 다 Stack my chips\n",
        "남들앞에 마침내\n",
        "울려댔어 사이렌\n",
        "텅 빈 길거린엔\n",
        "도망치다 흘린 칼자루와 피가 흥건해\n",
        "우리 그때 어릴땐\n",
        "뭘 몰랐었지 Man\n",
        "그냥 힘쎈 형이 제일로 멋졌었지 그땐\n",
        "그래 우린 살아나왔어 지옥\n",
        "이제 어딜가든 다 비옥\n",
        "수도 없이 맛본 치욕\n",
        "어릴때부터 입에 붙은 쌍욕\n",
        "절대 할 수 없었지 신고\n",
        "할 수 있는게 오직 기도\n",
        "어떻게 느끼겠어 피곤\n",
        "붉게 물들지 않을려 내 흰옷\n",
        "진흙탕에서 STARTED\n",
        "바닥에서부터 클라이밍\n",
        "닥치는대로 다 TRY SHIT\n",
        "돈을 원했어 단지\n",
        "성공을 할수 있다면 고민 없이 걸어 내 모가지\n",
        "이젠 눈물없이 보지 못하겠어 내 어릴적 사진\n",
        "엄마 내가 돈 못벌면 파 호적\n",
        "차라리 죽는게 나으니\n",
        "얼른 가난을 졸업하고말꺼야\n",
        "난 반드시 변하지않아 나의 목적\n",
        "평생 한길만 팠으니\n",
        "멈추지않아 나의 도전\n",
        "난 잃을게 없는 하층민\n",
        "나의 친구들의 눈엔\n",
        "아직 슬픔이 담긴 흰자\n",
        "내 친구들을 꼰지를\n",
        "빠엔 앉아 전기의자\n",
        "어릴적에 생긴 상처들을 다\n",
        "명품옷으로 위장\n",
        "내가 죽는 한이 있더라도\n",
        "절대 잃지않아 희망\n",
        "울려댔어 사이렌\n",
        "텅 빈 길거린엔\n",
        "도망치다 흘린 칼자루와 피가 흥건해\n",
        "우리 그때 어릴땐\n",
        "뭘 몰랐었지 Man\n",
        "그냥 힘쎈 형이 제일로 멋졌었지 그땐\n",
        "그래 우린 살아나왔어 지옥\n",
        "이제 어딜가든 다 비옥\n",
        "수도 없이 맛본 치욕\n",
        "어릴때부터 입에 붙은 쌍욕\n",
        "절대 할 수 없었지 신고\n",
        "할 수 있는게 오직 기도\n",
        "어떻게 느끼겠어 피곤\n",
        "붉게 물들지 않을려 내 흰옷\n",
        "'''\n",
        "\n",
        "\n",
        "song =anysong.count('\\n')\n",
        "print(f'{song-1}개의 문장으로 이루어짐')"
      ],
      "execution_count": 33,
      "outputs": [
        {
          "output_type": "stream",
          "text": [
            "79개의 문장으로 이루어짐\n"
          ],
          "name": "stdout"
        }
      ]
    },
    {
      "cell_type": "code",
      "metadata": {
        "colab": {
          "base_uri": "https://localhost:8080/",
          "height": 136
        },
        "id": "MDg_0s2v55yC",
        "outputId": "3e3a2281-2b8d-4f0e-f9c1-82641c014b36"
      },
      "source": [
        "하."
      ],
      "execution_count": 34,
      "outputs": [
        {
          "output_type": "error",
          "ename": "SyntaxError",
          "evalue": "ignored",
          "traceback": [
            "\u001b[0;36m  File \u001b[0;32m\"<ipython-input-34-ef2a3b6341f8>\"\u001b[0;36m, line \u001b[0;32m1\u001b[0m\n\u001b[0;31m    하.\u001b[0m\n\u001b[0m      ^\u001b[0m\n\u001b[0;31mSyntaxError\u001b[0m\u001b[0;31m:\u001b[0m invalid syntax\n"
          ]
        }
      ]
    },
    {
      "cell_type": "code",
      "metadata": {
        "colab": {
          "base_uri": "https://localhost:8080/"
        },
        "id": "PqnEiIyv6xcy",
        "outputId": "3c7bc7eb-6581-41bc-8aaf-69851e36ecf4"
      },
      "source": [
        "lst=[]\n",
        "lst"
      ],
      "execution_count": 35,
      "outputs": [
        {
          "output_type": "execute_result",
          "data": {
            "text/plain": [
              "[]"
            ]
          },
          "metadata": {
            "tags": []
          },
          "execution_count": 35
        }
      ]
    },
    {
      "cell_type": "code",
      "metadata": {
        "colab": {
          "base_uri": "https://localhost:8080/"
        },
        "id": "qWnwV-uY7xt7",
        "outputId": "3ed8c99a-747f-44ba-db00-fa035098f139"
      },
      "source": [
        "lst1=list()\n",
        "lst1"
      ],
      "execution_count": 37,
      "outputs": [
        {
          "output_type": "execute_result",
          "data": {
            "text/plain": [
              "[]"
            ]
          },
          "metadata": {
            "tags": []
          },
          "execution_count": 37
        }
      ]
    },
    {
      "cell_type": "code",
      "metadata": {
        "colab": {
          "base_uri": "https://localhost:8080/"
        },
        "id": "8A9uf7EY73YT",
        "outputId": "60ac527b-ce47-46ce-f095-a30934978d6b"
      },
      "source": [
        "lst2=[10,20,30]\n",
        "lst2"
      ],
      "execution_count": 40,
      "outputs": [
        {
          "output_type": "execute_result",
          "data": {
            "text/plain": [
              "[10, 20, 30]"
            ]
          },
          "metadata": {
            "tags": []
          },
          "execution_count": 40
        }
      ]
    },
    {
      "cell_type": "code",
      "metadata": {
        "id": "EntS_gg67-jS"
      },
      "source": [
        "lst=lst2\n"
      ],
      "execution_count": 43,
      "outputs": []
    },
    {
      "cell_type": "code",
      "metadata": {
        "colab": {
          "base_uri": "https://localhost:8080/"
        },
        "id": "e9_Dpe7p8ILL",
        "outputId": "b8175952-d4ee-4a96-da15-e71f23abbc18"
      },
      "source": [
        "lst"
      ],
      "execution_count": 44,
      "outputs": [
        {
          "output_type": "execute_result",
          "data": {
            "text/plain": [
              "[10, 20, 30]"
            ]
          },
          "metadata": {
            "tags": []
          },
          "execution_count": 44
        }
      ]
    },
    {
      "cell_type": "code",
      "metadata": {
        "colab": {
          "base_uri": "https://localhost:8080/"
        },
        "id": "TiNXayaf8NSa",
        "outputId": "f8a1dd25-687e-4d9b-bfac-9dbb750a49ed"
      },
      "source": [
        "lst2"
      ],
      "execution_count": 45,
      "outputs": [
        {
          "output_type": "execute_result",
          "data": {
            "text/plain": [
              "[10, 20, 30]"
            ]
          },
          "metadata": {
            "tags": []
          },
          "execution_count": 45
        }
      ]
    },
    {
      "cell_type": "code",
      "metadata": {
        "id": "StLp_z598N2d"
      },
      "source": [
        "lst2[0]=100"
      ],
      "execution_count": 60,
      "outputs": []
    },
    {
      "cell_type": "code",
      "metadata": {
        "colab": {
          "base_uri": "https://localhost:8080/"
        },
        "id": "Cc2VH6Xh8RDz",
        "outputId": "4d655017-c520-4e93-82e9-9b1cf4317433"
      },
      "source": [
        "lst"
      ],
      "execution_count": 61,
      "outputs": [
        {
          "output_type": "execute_result",
          "data": {
            "text/plain": [
              "<function list.copy>"
            ]
          },
          "metadata": {
            "tags": []
          },
          "execution_count": 61
        }
      ]
    },
    {
      "cell_type": "code",
      "metadata": {
        "colab": {
          "base_uri": "https://localhost:8080/"
        },
        "id": "DmTh1Wlr8Ryj",
        "outputId": "9dc75672-bc5e-482a-a0e2-b1953c480ee8"
      },
      "source": [
        "lst2"
      ],
      "execution_count": 62,
      "outputs": [
        {
          "output_type": "execute_result",
          "data": {
            "text/plain": [
              "[100, 20, 30]"
            ]
          },
          "metadata": {
            "tags": []
          },
          "execution_count": 62
        }
      ]
    },
    {
      "cell_type": "code",
      "metadata": {
        "id": "4pY2PdxD8bjy"
      },
      "source": [
        "lst=lst2.copy()"
      ],
      "execution_count": 63,
      "outputs": []
    },
    {
      "cell_type": "code",
      "metadata": {
        "colab": {
          "base_uri": "https://localhost:8080/"
        },
        "id": "qkKjw6f18cXj",
        "outputId": "7538076d-a430-4105-f0a9-9009354debc7"
      },
      "source": [
        "lst2"
      ],
      "execution_count": 64,
      "outputs": [
        {
          "output_type": "execute_result",
          "data": {
            "text/plain": [
              "[100, 20, 30]"
            ]
          },
          "metadata": {
            "tags": []
          },
          "execution_count": 64
        }
      ]
    },
    {
      "cell_type": "code",
      "metadata": {
        "id": "vzUjSuEP8c8S"
      },
      "source": [
        "lst2[0]=10"
      ],
      "execution_count": 65,
      "outputs": []
    },
    {
      "cell_type": "code",
      "metadata": {
        "colab": {
          "base_uri": "https://localhost:8080/"
        },
        "id": "cFzfKQyA86d8",
        "outputId": "b80f5673-8c61-446a-8121-ea8fe4b816b5"
      },
      "source": [
        "lst"
      ],
      "execution_count": 66,
      "outputs": [
        {
          "output_type": "execute_result",
          "data": {
            "text/plain": [
              "[100, 20, 30]"
            ]
          },
          "metadata": {
            "tags": []
          },
          "execution_count": 66
        }
      ]
    },
    {
      "cell_type": "code",
      "metadata": {
        "colab": {
          "base_uri": "https://localhost:8080/"
        },
        "id": "HsCu3Bk687TU",
        "outputId": "2c1b1ee5-78eb-4de4-d294-e887c0094719"
      },
      "source": [
        "lst2"
      ],
      "execution_count": 67,
      "outputs": [
        {
          "output_type": "execute_result",
          "data": {
            "text/plain": [
              "[10, 20, 30]"
            ]
          },
          "metadata": {
            "tags": []
          },
          "execution_count": 67
        }
      ]
    },
    {
      "cell_type": "code",
      "metadata": {
        "id": "6qjkMgQ1874Z"
      },
      "source": [
        "lst[0]=10"
      ],
      "execution_count": 68,
      "outputs": []
    },
    {
      "cell_type": "code",
      "metadata": {
        "colab": {
          "base_uri": "https://localhost:8080/"
        },
        "id": "zgbTNeK_9EcE",
        "outputId": "51080a78-f5a6-4b9f-e51c-d13d173b9d2d"
      },
      "source": [
        "lst"
      ],
      "execution_count": 69,
      "outputs": [
        {
          "output_type": "execute_result",
          "data": {
            "text/plain": [
              "[10, 20, 30]"
            ]
          },
          "metadata": {
            "tags": []
          },
          "execution_count": 69
        }
      ]
    },
    {
      "cell_type": "code",
      "metadata": {
        "colab": {
          "base_uri": "https://localhost:8080/"
        },
        "id": "3tAmFhEE9ExD",
        "outputId": "dc40d7b0-302a-4d4e-997c-29ceb3b74cfd"
      },
      "source": [
        "lst[0]"
      ],
      "execution_count": 70,
      "outputs": [
        {
          "output_type": "execute_result",
          "data": {
            "text/plain": [
              "10"
            ]
          },
          "metadata": {
            "tags": []
          },
          "execution_count": 70
        }
      ]
    },
    {
      "cell_type": "code",
      "metadata": {
        "colab": {
          "base_uri": "https://localhost:8080/"
        },
        "id": "QGcsWqum9G0l",
        "outputId": "320fc588-15c8-4757-ca17-b0700c6d8c14"
      },
      "source": [
        "lst[-1]"
      ],
      "execution_count": 71,
      "outputs": [
        {
          "output_type": "execute_result",
          "data": {
            "text/plain": [
              "30"
            ]
          },
          "metadata": {
            "tags": []
          },
          "execution_count": 71
        }
      ]
    },
    {
      "cell_type": "code",
      "metadata": {
        "colab": {
          "base_uri": "https://localhost:8080/"
        },
        "id": "uPvKGDH69IEM",
        "outputId": "4de7872b-f6d7-42b6-d873-0ed1379b5243"
      },
      "source": [
        "lst[:]"
      ],
      "execution_count": 72,
      "outputs": [
        {
          "output_type": "execute_result",
          "data": {
            "text/plain": [
              "[10, 20, 30]"
            ]
          },
          "metadata": {
            "tags": []
          },
          "execution_count": 72
        }
      ]
    },
    {
      "cell_type": "code",
      "metadata": {
        "colab": {
          "base_uri": "https://localhost:8080/"
        },
        "id": "Ir2OrElG9NDD",
        "outputId": "0cd6b076-c08f-4c08-c4e8-8a0e8e432e8e"
      },
      "source": [
        "lst[1:2]"
      ],
      "execution_count": 73,
      "outputs": [
        {
          "output_type": "execute_result",
          "data": {
            "text/plain": [
              "[20]"
            ]
          },
          "metadata": {
            "tags": []
          },
          "execution_count": 73
        }
      ]
    },
    {
      "cell_type": "code",
      "metadata": {
        "colab": {
          "base_uri": "https://localhost:8080/"
        },
        "id": "_Rcg9Koq9O7b",
        "outputId": "19443f24-b1e3-40da-be8c-c54833657471"
      },
      "source": [
        "lst[1:]"
      ],
      "execution_count": 74,
      "outputs": [
        {
          "output_type": "execute_result",
          "data": {
            "text/plain": [
              "[20, 30]"
            ]
          },
          "metadata": {
            "tags": []
          },
          "execution_count": 74
        }
      ]
    },
    {
      "cell_type": "code",
      "metadata": {
        "colab": {
          "base_uri": "https://localhost:8080/"
        },
        "id": "7tgsN0Ro9TQ1",
        "outputId": "ef229508-d832-44da-ed62-ebec21c8bcfb"
      },
      "source": [
        "lst[:1]"
      ],
      "execution_count": 89,
      "outputs": [
        {
          "output_type": "execute_result",
          "data": {
            "text/plain": [
              "['a']"
            ]
          },
          "metadata": {
            "tags": []
          },
          "execution_count": 89
        }
      ]
    },
    {
      "cell_type": "code",
      "metadata": {
        "id": "Ij1PwGX_9ZJO"
      },
      "source": [
        "lst1=[10,20]\n",
        "lst2=[100,200]\n"
      ],
      "execution_count": 77,
      "outputs": []
    },
    {
      "cell_type": "code",
      "metadata": {
        "colab": {
          "base_uri": "https://localhost:8080/"
        },
        "id": "-fo34E6Y9gR8",
        "outputId": "a711240b-2bb1-4cc6-b7d0-6a6c55f57a0b"
      },
      "source": [
        "lst3=lst1+lst2\n",
        "lst3"
      ],
      "execution_count": 80,
      "outputs": [
        {
          "output_type": "execute_result",
          "data": {
            "text/plain": [
              "[10, 20, 100, 200]"
            ]
          },
          "metadata": {
            "tags": []
          },
          "execution_count": 80
        }
      ]
    },
    {
      "cell_type": "code",
      "metadata": {
        "colab": {
          "base_uri": "https://localhost:8080/"
        },
        "id": "Pn-vCIIR9lHc",
        "outputId": "38409083-3f63-43cb-b6d5-0e77c7e3eefd"
      },
      "source": [
        "lst4=lst3*3\n",
        "lst4"
      ],
      "execution_count": 81,
      "outputs": [
        {
          "output_type": "execute_result",
          "data": {
            "text/plain": [
              "[10, 20, 100, 200, 10, 20, 100, 200, 10, 20, 100, 200]"
            ]
          },
          "metadata": {
            "tags": []
          },
          "execution_count": 81
        }
      ]
    },
    {
      "cell_type": "code",
      "metadata": {
        "colab": {
          "base_uri": "https://localhost:8080/"
        },
        "id": "tASCD5yQ9yaU",
        "outputId": "3e1c4a42-6cf3-402d-f398-f9b6c6d36bf6"
      },
      "source": [
        "lst=['a','b','c']\n",
        "lst.append(100)\n",
        "lst"
      ],
      "execution_count": 82,
      "outputs": [
        {
          "output_type": "execute_result",
          "data": {
            "text/plain": [
              "['a', 'b', 'c', 100]"
            ]
          },
          "metadata": {
            "tags": []
          },
          "execution_count": 82
        }
      ]
    },
    {
      "cell_type": "code",
      "metadata": {
        "colab": {
          "base_uri": "https://localhost:8080/"
        },
        "id": "c3NN9b6u-izs",
        "outputId": "56afdf0d-4260-4159-8043-f0ff0d97cc36"
      },
      "source": [
        "lst.pop()"
      ],
      "execution_count": 83,
      "outputs": [
        {
          "output_type": "execute_result",
          "data": {
            "text/plain": [
              "100"
            ]
          },
          "metadata": {
            "tags": []
          },
          "execution_count": 83
        }
      ]
    },
    {
      "cell_type": "code",
      "metadata": {
        "colab": {
          "base_uri": "https://localhost:8080/",
          "height": 35
        },
        "id": "M1WjoAZQ-uL4",
        "outputId": "3adfd05f-b34c-4ac3-e266-dcdf49f71fad"
      },
      "source": [
        "lst.pop()"
      ],
      "execution_count": 84,
      "outputs": [
        {
          "output_type": "execute_result",
          "data": {
            "application/vnd.google.colaboratory.intrinsic+json": {
              "type": "string"
            },
            "text/plain": [
              "'c'"
            ]
          },
          "metadata": {
            "tags": []
          },
          "execution_count": 84
        }
      ]
    },
    {
      "cell_type": "code",
      "metadata": {
        "colab": {
          "base_uri": "https://localhost:8080/"
        },
        "id": "Zs9AIUEE-2Dl",
        "outputId": "d8bae883-1cc0-42c7-d664-899308920b8b"
      },
      "source": [
        "lst"
      ],
      "execution_count": 85,
      "outputs": [
        {
          "output_type": "execute_result",
          "data": {
            "text/plain": [
              "['a', 'b']"
            ]
          },
          "metadata": {
            "tags": []
          },
          "execution_count": 85
        }
      ]
    },
    {
      "cell_type": "code",
      "metadata": {
        "colab": {
          "base_uri": "https://localhost:8080/"
        },
        "id": "T_OhZFTj-4aF",
        "outputId": "3f062257-98f1-4928-b4da-1ade7ad43e7b"
      },
      "source": [
        "lst.index('a')"
      ],
      "execution_count": 86,
      "outputs": [
        {
          "output_type": "execute_result",
          "data": {
            "text/plain": [
              "0"
            ]
          },
          "metadata": {
            "tags": []
          },
          "execution_count": 86
        }
      ]
    },
    {
      "cell_type": "code",
      "metadata": {
        "colab": {
          "base_uri": "https://localhost:8080/",
          "height": 35
        },
        "id": "J0-GyYH6_H6s",
        "outputId": "0bbc8aff-cc76-40b4-d9a8-03486d5ec30f"
      },
      "source": [
        "lst[0]"
      ],
      "execution_count": 88,
      "outputs": [
        {
          "output_type": "execute_result",
          "data": {
            "application/vnd.google.colaboratory.intrinsic+json": {
              "type": "string"
            },
            "text/plain": [
              "'a'"
            ]
          },
          "metadata": {
            "tags": []
          },
          "execution_count": 88
        }
      ]
    },
    {
      "cell_type": "code",
      "metadata": {
        "colab": {
          "base_uri": "https://localhost:8080/"
        },
        "id": "fgkgDo2B_P_D",
        "outputId": "1bee6dba-28f8-4e9c-f339-fd9a945aa3b2"
      },
      "source": [
        "lst=[1,2,3]\n",
        "lst"
      ],
      "execution_count": 90,
      "outputs": [
        {
          "output_type": "execute_result",
          "data": {
            "text/plain": [
              "[1, 2, 3]"
            ]
          },
          "metadata": {
            "tags": []
          },
          "execution_count": 90
        }
      ]
    },
    {
      "cell_type": "code",
      "metadata": {
        "colab": {
          "base_uri": "https://localhost:8080/"
        },
        "id": "GOs46xBgAkdu",
        "outputId": "6eb90240-2a66-4b92-fc55-8671c3a6a87a"
      },
      "source": [
        "lst[:1]"
      ],
      "execution_count": 91,
      "outputs": [
        {
          "output_type": "execute_result",
          "data": {
            "text/plain": [
              "[1]"
            ]
          },
          "metadata": {
            "tags": []
          },
          "execution_count": 91
        }
      ]
    },
    {
      "cell_type": "code",
      "metadata": {
        "colab": {
          "base_uri": "https://localhost:8080/"
        },
        "id": "nytv6HrMAlwd",
        "outputId": "73bde69d-fe76-4222-eba3-e553fb56cedb"
      },
      "source": [
        "lst[1:]"
      ],
      "execution_count": 92,
      "outputs": [
        {
          "output_type": "execute_result",
          "data": {
            "text/plain": [
              "[2, 3]"
            ]
          },
          "metadata": {
            "tags": []
          },
          "execution_count": 92
        }
      ]
    },
    {
      "cell_type": "code",
      "metadata": {
        "id": "armdD49XAoVt"
      },
      "source": [
        "lst=['c','a','b']"
      ],
      "execution_count": 93,
      "outputs": []
    },
    {
      "cell_type": "code",
      "metadata": {
        "id": "b_Sn7llEB4sO"
      },
      "source": [
        "lst.sort()"
      ],
      "execution_count": 94,
      "outputs": []
    },
    {
      "cell_type": "code",
      "metadata": {
        "colab": {
          "base_uri": "https://localhost:8080/"
        },
        "id": "QIPAhTCEB6Ja",
        "outputId": "36b6e8a7-d745-4343-d4ff-614a8195adcf"
      },
      "source": [
        "lst"
      ],
      "execution_count": 95,
      "outputs": [
        {
          "output_type": "execute_result",
          "data": {
            "text/plain": [
              "['a', 'b', 'c']"
            ]
          },
          "metadata": {
            "tags": []
          },
          "execution_count": 95
        }
      ]
    },
    {
      "cell_type": "code",
      "metadata": {
        "colab": {
          "base_uri": "https://localhost:8080/"
        },
        "id": "FwX-S6hmB61v",
        "outputId": "3819aa75-5de8-4788-e5aa-96579844217b"
      },
      "source": [
        "lst.sort(reverse=True)\n",
        "lst"
      ],
      "execution_count": 96,
      "outputs": [
        {
          "output_type": "execute_result",
          "data": {
            "text/plain": [
              "['c', 'b', 'a']"
            ]
          },
          "metadata": {
            "tags": []
          },
          "execution_count": 96
        }
      ]
    },
    {
      "cell_type": "code",
      "metadata": {
        "id": "qpKoZK0uCufz"
      },
      "source": [
        "lst = ['c','a','b']\n",
        "lst.reverse()"
      ],
      "execution_count": 97,
      "outputs": []
    },
    {
      "cell_type": "code",
      "metadata": {
        "colab": {
          "base_uri": "https://localhost:8080/"
        },
        "id": "U2KS_Xt_C4VV",
        "outputId": "c8f927e7-033b-41d8-930a-b050dc994315"
      },
      "source": [
        "lst"
      ],
      "execution_count": 98,
      "outputs": [
        {
          "output_type": "execute_result",
          "data": {
            "text/plain": [
              "['b', 'a', 'c']"
            ]
          },
          "metadata": {
            "tags": []
          },
          "execution_count": 98
        }
      ]
    },
    {
      "cell_type": "code",
      "metadata": {
        "id": "o73fXr5JC5F2"
      },
      "source": [
        "tp =(10,20,30)"
      ],
      "execution_count": 99,
      "outputs": []
    },
    {
      "cell_type": "code",
      "metadata": {
        "colab": {
          "base_uri": "https://localhost:8080/"
        },
        "id": "V-0XoPeoDTDH",
        "outputId": "c4a35cc6-f866-4aaa-ce7d-7c832f197199"
      },
      "source": [
        "tp[0]"
      ],
      "execution_count": 100,
      "outputs": [
        {
          "output_type": "execute_result",
          "data": {
            "text/plain": [
              "10"
            ]
          },
          "metadata": {
            "tags": []
          },
          "execution_count": 100
        }
      ]
    },
    {
      "cell_type": "code",
      "metadata": {
        "colab": {
          "base_uri": "https://localhost:8080/"
        },
        "id": "I5QL31HqDTfu",
        "outputId": "73eea346-7e76-4dc7-e27b-480133ceb02b"
      },
      "source": [
        "tp[-1]"
      ],
      "execution_count": 101,
      "outputs": [
        {
          "output_type": "execute_result",
          "data": {
            "text/plain": [
              "30"
            ]
          },
          "metadata": {
            "tags": []
          },
          "execution_count": 101
        }
      ]
    },
    {
      "cell_type": "code",
      "metadata": {
        "colab": {
          "base_uri": "https://localhost:8080/"
        },
        "id": "7ziO0St7DU2j",
        "outputId": "28702b93-24f9-47df-a3af-9942d2f39142"
      },
      "source": [
        "tp[:1]"
      ],
      "execution_count": 102,
      "outputs": [
        {
          "output_type": "execute_result",
          "data": {
            "text/plain": [
              "(10,)"
            ]
          },
          "metadata": {
            "tags": []
          },
          "execution_count": 102
        }
      ]
    },
    {
      "cell_type": "code",
      "metadata": {
        "id": "ZBjM0UIyDY4G"
      },
      "source": [
        "tp1=(10,20)\n",
        "tp2=(30,40)"
      ],
      "execution_count": 104,
      "outputs": []
    },
    {
      "cell_type": "code",
      "metadata": {
        "colab": {
          "base_uri": "https://localhost:8080/"
        },
        "id": "cuqnzTmZDfcW",
        "outputId": "3b42d3e5-8b12-4aa8-d1b0-f3827e732fbb"
      },
      "source": [
        "tp1"
      ],
      "execution_count": 105,
      "outputs": [
        {
          "output_type": "execute_result",
          "data": {
            "text/plain": [
              "(10, 20)"
            ]
          },
          "metadata": {
            "tags": []
          },
          "execution_count": 105
        }
      ]
    },
    {
      "cell_type": "code",
      "metadata": {
        "colab": {
          "base_uri": "https://localhost:8080/"
        },
        "id": "SRTxKt5zDh8m",
        "outputId": "3f8debf9-120d-4f58-c72c-e6d8b4625b42"
      },
      "source": [
        "tp2"
      ],
      "execution_count": 106,
      "outputs": [
        {
          "output_type": "execute_result",
          "data": {
            "text/plain": [
              "(30, 40)"
            ]
          },
          "metadata": {
            "tags": []
          },
          "execution_count": 106
        }
      ]
    },
    {
      "cell_type": "code",
      "metadata": {
        "colab": {
          "base_uri": "https://localhost:8080/"
        },
        "id": "w-Ucqpe7Dih-",
        "outputId": "ffeed6bf-a82a-4d39-b9d2-aa64ff15eea1"
      },
      "source": [
        "tp3=tp1+tp2\n",
        "tp3"
      ],
      "execution_count": 109,
      "outputs": [
        {
          "output_type": "execute_result",
          "data": {
            "text/plain": [
              "(10, 20, 30, 40)"
            ]
          },
          "metadata": {
            "tags": []
          },
          "execution_count": 109
        }
      ]
    },
    {
      "cell_type": "code",
      "metadata": {
        "colab": {
          "base_uri": "https://localhost:8080/"
        },
        "id": "ioNusuWGDk53",
        "outputId": "4738f160-1a50-4ba3-c32a-0c9933ea377f"
      },
      "source": [
        "tp4=tp3*3\n",
        "tp4"
      ],
      "execution_count": 111,
      "outputs": [
        {
          "output_type": "execute_result",
          "data": {
            "text/plain": [
              "(10, 20, 30, 40, 10, 20, 30, 40, 10, 20, 30, 40)"
            ]
          },
          "metadata": {
            "tags": []
          },
          "execution_count": 111
        }
      ]
    },
    {
      "cell_type": "code",
      "metadata": {
        "id": "g1ZOT-7jDo83"
      },
      "source": [
        "tpx,tpy=(10,20)"
      ],
      "execution_count": 112,
      "outputs": []
    },
    {
      "cell_type": "code",
      "metadata": {
        "colab": {
          "base_uri": "https://localhost:8080/"
        },
        "id": "Z6UD60j9DzRm",
        "outputId": "aec7bffc-04bc-4000-da3c-65cd1ff9d796"
      },
      "source": [
        "tpx"
      ],
      "execution_count": 113,
      "outputs": [
        {
          "output_type": "execute_result",
          "data": {
            "text/plain": [
              "10"
            ]
          },
          "metadata": {
            "tags": []
          },
          "execution_count": 113
        }
      ]
    },
    {
      "cell_type": "code",
      "metadata": {
        "colab": {
          "base_uri": "https://localhost:8080/"
        },
        "id": "Qo0iiDZ2Dz43",
        "outputId": "6104402d-b793-4682-8ba4-44d6d54371f8"
      },
      "source": [
        "tpy"
      ],
      "execution_count": 114,
      "outputs": [
        {
          "output_type": "execute_result",
          "data": {
            "text/plain": [
              "20"
            ]
          },
          "metadata": {
            "tags": []
          },
          "execution_count": 114
        }
      ]
    },
    {
      "cell_type": "code",
      "metadata": {
        "colab": {
          "base_uri": "https://localhost:8080/"
        },
        "id": "PYTIGhrTD0Wv",
        "outputId": "e5590cce-4f4c-4466-c6da-b6b114413b2f"
      },
      "source": [
        "type(tpx)"
      ],
      "execution_count": 115,
      "outputs": [
        {
          "output_type": "execute_result",
          "data": {
            "text/plain": [
              "int"
            ]
          },
          "metadata": {
            "tags": []
          },
          "execution_count": 115
        }
      ]
    },
    {
      "cell_type": "code",
      "metadata": {
        "id": "7dLIVNSlD6ef"
      },
      "source": [
        "tp=(1,2,3)"
      ],
      "execution_count": 116,
      "outputs": []
    },
    {
      "cell_type": "code",
      "metadata": {
        "colab": {
          "base_uri": "https://localhost:8080/",
          "height": 172
        },
        "id": "s3g87R8mENUW",
        "outputId": "82107b27-96f7-4b62-f154-66fd697363b0"
      },
      "source": [
        "tp[0]=100"
      ],
      "execution_count": 117,
      "outputs": [
        {
          "output_type": "error",
          "ename": "TypeError",
          "evalue": "ignored",
          "traceback": [
            "\u001b[0;31m---------------------------------------------------------------------------\u001b[0m",
            "\u001b[0;31mTypeError\u001b[0m                                 Traceback (most recent call last)",
            "\u001b[0;32m<ipython-input-117-9964548ea4ff>\u001b[0m in \u001b[0;36m<module>\u001b[0;34m()\u001b[0m\n\u001b[0;32m----> 1\u001b[0;31m \u001b[0mtp\u001b[0m\u001b[0;34m[\u001b[0m\u001b[0;36m0\u001b[0m\u001b[0;34m]\u001b[0m\u001b[0;34m=\u001b[0m\u001b[0;36m100\u001b[0m\u001b[0;34m\u001b[0m\u001b[0;34m\u001b[0m\u001b[0m\n\u001b[0m",
            "\u001b[0;31mTypeError\u001b[0m: 'tuple' object does not support item assignment"
          ]
        }
      ]
    },
    {
      "cell_type": "code",
      "metadata": {
        "colab": {
          "base_uri": "https://localhost:8080/"
        },
        "id": "_3KkKtt3EPQv",
        "outputId": "079f3b33-d5c3-437e-a851-dae0a86839cb"
      },
      "source": [
        "print('키값은 무조건 하나만 가능')"
      ],
      "execution_count": 119,
      "outputs": [
        {
          "output_type": "stream",
          "text": [
            "키값은 무조건 하나만 가능\n"
          ],
          "name": "stdout"
        }
      ]
    },
    {
      "cell_type": "code",
      "metadata": {
        "colab": {
          "base_uri": "https://localhost:8080/"
        },
        "id": "-n-LtlJcEsJX",
        "outputId": "1099e442-bb3f-4f9d-a21c-bec5e0c84b6c"
      },
      "source": [
        "dt ={'a':200,\n",
        "     'b':150,\n",
        "     'c':100\n",
        "     }\n",
        "dt"
      ],
      "execution_count": 121,
      "outputs": [
        {
          "output_type": "execute_result",
          "data": {
            "text/plain": [
              "{'a': 200, 'b': 150, 'c': 100}"
            ]
          },
          "metadata": {
            "tags": []
          },
          "execution_count": 121
        }
      ]
    },
    {
      "cell_type": "code",
      "metadata": {
        "colab": {
          "base_uri": "https://localhost:8080/"
        },
        "id": "Xe022Pe5FJ_I",
        "outputId": "b1c61825-6580-4122-a983-5717906b8c69"
      },
      "source": [
        "dt.keys()"
      ],
      "execution_count": 122,
      "outputs": [
        {
          "output_type": "execute_result",
          "data": {
            "text/plain": [
              "dict_keys(['a', 'b', 'c'])"
            ]
          },
          "metadata": {
            "tags": []
          },
          "execution_count": 122
        }
      ]
    },
    {
      "cell_type": "code",
      "metadata": {
        "colab": {
          "base_uri": "https://localhost:8080/"
        },
        "id": "n9uOXZkYFSPH",
        "outputId": "303737bb-fbd6-44a4-ebd7-b59d52db48c9"
      },
      "source": [
        "list(dt.keys())"
      ],
      "execution_count": 123,
      "outputs": [
        {
          "output_type": "execute_result",
          "data": {
            "text/plain": [
              "['a', 'b', 'c']"
            ]
          },
          "metadata": {
            "tags": []
          },
          "execution_count": 123
        }
      ]
    },
    {
      "cell_type": "code",
      "metadata": {
        "colab": {
          "base_uri": "https://localhost:8080/"
        },
        "id": "8aFlpBOqFY2A",
        "outputId": "d7f0ce96-588d-4e2f-c86c-20320f23182a"
      },
      "source": [
        "dt.values()"
      ],
      "execution_count": 124,
      "outputs": [
        {
          "output_type": "execute_result",
          "data": {
            "text/plain": [
              "dict_values([200, 150, 100])"
            ]
          },
          "metadata": {
            "tags": []
          },
          "execution_count": 124
        }
      ]
    },
    {
      "cell_type": "code",
      "metadata": {
        "colab": {
          "base_uri": "https://localhost:8080/"
        },
        "id": "pZbH2OJZFzfw",
        "outputId": "592bd4c7-17a4-4b37-f846-a5c48ebb38ba"
      },
      "source": [
        "list(dt.values())\n"
      ],
      "execution_count": 125,
      "outputs": [
        {
          "output_type": "execute_result",
          "data": {
            "text/plain": [
              "[200, 150, 100]"
            ]
          },
          "metadata": {
            "tags": []
          },
          "execution_count": 125
        }
      ]
    },
    {
      "cell_type": "code",
      "metadata": {
        "colab": {
          "base_uri": "https://localhost:8080/"
        },
        "id": "H4MOp8qWF8q_",
        "outputId": "b840c3cf-a7b6-460a-bfb5-ed2509e10ace"
      },
      "source": [
        "dt"
      ],
      "execution_count": 126,
      "outputs": [
        {
          "output_type": "execute_result",
          "data": {
            "text/plain": [
              "{'a': 200, 'b': 150, 'c': 100}"
            ]
          },
          "metadata": {
            "tags": []
          },
          "execution_count": 126
        }
      ]
    },
    {
      "cell_type": "code",
      "metadata": {
        "colab": {
          "base_uri": "https://localhost:8080/"
        },
        "id": "0VlcmLhrF9za",
        "outputId": "ee06f419-90dc-424f-e2bc-00a963524628"
      },
      "source": [
        "dt['a']"
      ],
      "execution_count": 127,
      "outputs": [
        {
          "output_type": "execute_result",
          "data": {
            "text/plain": [
              "200"
            ]
          },
          "metadata": {
            "tags": []
          },
          "execution_count": 127
        }
      ]
    },
    {
      "cell_type": "code",
      "metadata": {
        "id": "iCvjkhOZGAKI"
      },
      "source": [
        "dt['d']=30"
      ],
      "execution_count": 128,
      "outputs": []
    },
    {
      "cell_type": "code",
      "metadata": {
        "colab": {
          "base_uri": "https://localhost:8080/"
        },
        "id": "R734xhiZGI8w",
        "outputId": "1e30ae2c-54c7-4a15-801a-1740cc942d97"
      },
      "source": [
        "dt"
      ],
      "execution_count": 129,
      "outputs": [
        {
          "output_type": "execute_result",
          "data": {
            "text/plain": [
              "{'a': 200, 'b': 150, 'c': 100, 'd': 30}"
            ]
          },
          "metadata": {
            "tags": []
          },
          "execution_count": 129
        }
      ]
    },
    {
      "cell_type": "code",
      "metadata": {
        "id": "a9TuhjiuGJco"
      },
      "source": [
        "del dt ['d']"
      ],
      "execution_count": 130,
      "outputs": []
    },
    {
      "cell_type": "code",
      "metadata": {
        "colab": {
          "base_uri": "https://localhost:8080/",
          "height": 172
        },
        "id": "x3BY4sanGRjo",
        "outputId": "77534c5e-32ee-4d48-f77c-68dc433a9d0a"
      },
      "source": [
        "DT"
      ],
      "execution_count": 131,
      "outputs": [
        {
          "output_type": "error",
          "ename": "NameError",
          "evalue": "ignored",
          "traceback": [
            "\u001b[0;31m---------------------------------------------------------------------------\u001b[0m",
            "\u001b[0;31mNameError\u001b[0m                                 Traceback (most recent call last)",
            "\u001b[0;32m<ipython-input-131-747628766d56>\u001b[0m in \u001b[0;36m<module>\u001b[0;34m()\u001b[0m\n\u001b[0;32m----> 1\u001b[0;31m \u001b[0mDT\u001b[0m\u001b[0;34m\u001b[0m\u001b[0;34m\u001b[0m\u001b[0m\n\u001b[0m",
            "\u001b[0;31mNameError\u001b[0m: name 'DT' is not defined"
          ]
        }
      ]
    },
    {
      "cell_type": "code",
      "metadata": {
        "colab": {
          "base_uri": "https://localhost:8080/"
        },
        "id": "cWOVgRUgGSIJ",
        "outputId": "51cd852b-0a35-4f8c-80c5-2ccd35a14cb8"
      },
      "source": [
        "dt"
      ],
      "execution_count": 132,
      "outputs": [
        {
          "output_type": "execute_result",
          "data": {
            "text/plain": [
              "{'a': 200, 'b': 150, 'c': 100}"
            ]
          },
          "metadata": {
            "tags": []
          },
          "execution_count": 132
        }
      ]
    },
    {
      "cell_type": "code",
      "metadata": {
        "colab": {
          "base_uri": "https://localhost:8080/",
          "height": 136
        },
        "id": "CMhOCdNdGS95",
        "outputId": "11959c15-91ea-4f86-d832-d07fe2453dbf"
      },
      "source": [
        "~~~~~~~~~~~~~~~~~~~~~~~~~~"
      ],
      "execution_count": 133,
      "outputs": [
        {
          "output_type": "error",
          "ename": "SyntaxError",
          "evalue": "ignored",
          "traceback": [
            "\u001b[0;36m  File \u001b[0;32m\"<ipython-input-133-eaad40b583a2>\"\u001b[0;36m, line \u001b[0;32m1\u001b[0m\n\u001b[0;31m    ~~~~~~~~~~~~~~~~~~~~~~~~~~\u001b[0m\n\u001b[0m                              ^\u001b[0m\n\u001b[0;31mSyntaxError\u001b[0m\u001b[0;31m:\u001b[0m invalid syntax\n"
          ]
        }
      ]
    },
    {
      "cell_type": "code",
      "metadata": {
        "colab": {
          "base_uri": "https://localhost:8080/",
          "height": 136
        },
        "id": "1W3BJDZkG4BY",
        "outputId": "6df80c9c-59d4-40e2-f1a1-049bf0c49b56"
      },
      "source": [
        "\\\\\\\\\\\\\\\\\\\\\\\\\\\\\\\\\\\\\\\\|||||||||||||"
      ],
      "execution_count": 134,
      "outputs": [
        {
          "output_type": "error",
          "ename": "SyntaxError",
          "evalue": "ignored",
          "traceback": [
            "\u001b[0;36m  File \u001b[0;32m\"<ipython-input-134-61de4aebcee2>\"\u001b[0;36m, line \u001b[0;32m1\u001b[0m\n\u001b[0;31m    \\\\\\\\\\\\\\\\\\\\\\\\\\\\\\\\\\\\\\\\|||||||||||||\u001b[0m\n\u001b[0m                                     ^\u001b[0m\n\u001b[0;31mSyntaxError\u001b[0m\u001b[0;31m:\u001b[0m unexpected character after line continuation character\n"
          ]
        }
      ]
    },
    {
      "cell_type": "code",
      "metadata": {
        "id": "_Kv7N0YsG52w"
      },
      "source": [
        "a=(1,2,2,3)\n",
        "b=[10,20,30,30]"
      ],
      "execution_count": 143,
      "outputs": []
    },
    {
      "cell_type": "code",
      "metadata": {
        "colab": {
          "base_uri": "https://localhost:8080/"
        },
        "id": "qs5I6a53HB0w",
        "outputId": "f187b120-6d89-4996-b9f8-ba60c6abf25a"
      },
      "source": [
        "type(a), type(b)"
      ],
      "execution_count": 137,
      "outputs": [
        {
          "output_type": "execute_result",
          "data": {
            "text/plain": [
              "(tuple, list)"
            ]
          },
          "metadata": {
            "tags": []
          },
          "execution_count": 137
        }
      ]
    },
    {
      "cell_type": "code",
      "metadata": {
        "colab": {
          "base_uri": "https://localhost:8080/"
        },
        "id": "ZLlxXkSxHIFx",
        "outputId": "1181f17f-f29d-4999-91d6-4197155f627b"
      },
      "source": [
        "c=set(a)\n",
        "c"
      ],
      "execution_count": 138,
      "outputs": [
        {
          "output_type": "execute_result",
          "data": {
            "text/plain": [
              "{1, 2, 3}"
            ]
          },
          "metadata": {
            "tags": []
          },
          "execution_count": 138
        }
      ]
    },
    {
      "cell_type": "code",
      "metadata": {
        "colab": {
          "base_uri": "https://localhost:8080/"
        },
        "id": "9Ao4qEKJHVz5",
        "outputId": "0702f2a2-c189-4982-c7cf-da545241512d"
      },
      "source": [
        "type(c)"
      ],
      "execution_count": 140,
      "outputs": [
        {
          "output_type": "execute_result",
          "data": {
            "text/plain": [
              "set"
            ]
          },
          "metadata": {
            "tags": []
          },
          "execution_count": 140
        }
      ]
    },
    {
      "cell_type": "code",
      "metadata": {
        "colab": {
          "base_uri": "https://localhost:8080/"
        },
        "id": "ySEZZCzNHddZ",
        "outputId": "96b7d2ab-6879-4bd7-9702-19482923513c"
      },
      "source": [
        "d=set(b)\n",
        "d"
      ],
      "execution_count": 142,
      "outputs": [
        {
          "output_type": "execute_result",
          "data": {
            "text/plain": [
              "{10, 20, 30}"
            ]
          },
          "metadata": {
            "tags": []
          },
          "execution_count": 142
        }
      ]
    },
    {
      "cell_type": "code",
      "metadata": {
        "id": "z1CD2Au3HhiX"
      },
      "source": [
        "a=set(a)\n",
        "b=set(b)"
      ],
      "execution_count": 144,
      "outputs": []
    },
    {
      "cell_type": "code",
      "metadata": {
        "colab": {
          "base_uri": "https://localhost:8080/"
        },
        "id": "8NTJiOsHHwGg",
        "outputId": "4ea80029-a38f-48c8-c0e1-ebc836c92a37"
      },
      "source": [
        "a"
      ],
      "execution_count": 145,
      "outputs": [
        {
          "output_type": "execute_result",
          "data": {
            "text/plain": [
              "{1, 2, 3}"
            ]
          },
          "metadata": {
            "tags": []
          },
          "execution_count": 145
        }
      ]
    },
    {
      "cell_type": "code",
      "metadata": {
        "colab": {
          "base_uri": "https://localhost:8080/"
        },
        "id": "vPnpzZQWHwYR",
        "outputId": "67ba8b56-ce0d-4383-b525-3f29949fc0be"
      },
      "source": [
        "b"
      ],
      "execution_count": 146,
      "outputs": [
        {
          "output_type": "execute_result",
          "data": {
            "text/plain": [
              "{10, 20, 30}"
            ]
          },
          "metadata": {
            "tags": []
          },
          "execution_count": 146
        }
      ]
    },
    {
      "cell_type": "code",
      "metadata": {
        "id": "QcUMKuSUHwq4"
      },
      "source": [
        "a.add(1)"
      ],
      "execution_count": 156,
      "outputs": []
    },
    {
      "cell_type": "code",
      "metadata": {
        "colab": {
          "base_uri": "https://localhost:8080/"
        },
        "id": "6UeX6nlzH0gW",
        "outputId": "32858b29-682e-4a59-a0f1-952ac33ff2de"
      },
      "source": [
        "a"
      ],
      "execution_count": 148,
      "outputs": [
        {
          "output_type": "execute_result",
          "data": {
            "text/plain": [
              "{1, 2, 3}"
            ]
          },
          "metadata": {
            "tags": []
          },
          "execution_count": 148
        }
      ]
    },
    {
      "cell_type": "code",
      "metadata": {
        "id": "aR1ftNBuH0uY"
      },
      "source": [
        "a.add(100)"
      ],
      "execution_count": 149,
      "outputs": []
    },
    {
      "cell_type": "code",
      "metadata": {
        "colab": {
          "base_uri": "https://localhost:8080/"
        },
        "id": "rS5e2A2FH_lZ",
        "outputId": "1fa434b8-9342-4bab-cae9-6443dfe89568"
      },
      "source": [
        "a\n"
      ],
      "execution_count": 150,
      "outputs": [
        {
          "output_type": "execute_result",
          "data": {
            "text/plain": [
              "{1, 2, 3, 100}"
            ]
          },
          "metadata": {
            "tags": []
          },
          "execution_count": 150
        }
      ]
    },
    {
      "cell_type": "code",
      "metadata": {
        "colab": {
          "base_uri": "https://localhost:8080/"
        },
        "id": "_6SPj6yUIALJ",
        "outputId": "646d9613-92eb-4a9c-a1f6-b4560c732916"
      },
      "source": [
        "b"
      ],
      "execution_count": 151,
      "outputs": [
        {
          "output_type": "execute_result",
          "data": {
            "text/plain": [
              "{10, 20, 30}"
            ]
          },
          "metadata": {
            "tags": []
          },
          "execution_count": 151
        }
      ]
    },
    {
      "cell_type": "code",
      "metadata": {
        "id": "fbu7NB7FIA7K"
      },
      "source": [
        "b.update({100,200,300})"
      ],
      "execution_count": 152,
      "outputs": []
    },
    {
      "cell_type": "code",
      "metadata": {
        "colab": {
          "base_uri": "https://localhost:8080/"
        },
        "id": "TCqMSM-XIGK3",
        "outputId": "1046fbac-672b-4535-a075-bc2adcdb0514"
      },
      "source": [
        "b"
      ],
      "execution_count": 153,
      "outputs": [
        {
          "output_type": "execute_result",
          "data": {
            "text/plain": [
              "{10, 20, 30, 100, 200, 300}"
            ]
          },
          "metadata": {
            "tags": []
          },
          "execution_count": 153
        }
      ]
    },
    {
      "cell_type": "code",
      "metadata": {
        "colab": {
          "base_uri": "https://localhost:8080/"
        },
        "id": "Hc3ReD6vIGjB",
        "outputId": "d70da41a-ca7d-4496-a55b-227d742cc786"
      },
      "source": [
        "print('업데이트 할때 중괄호하는거 중요')"
      ],
      "execution_count": 155,
      "outputs": [
        {
          "output_type": "stream",
          "text": [
            "업데이트 할때 중괄호하는거 중요\n"
          ],
          "name": "stdout"
        }
      ]
    },
    {
      "cell_type": "code",
      "metadata": {
        "id": "HEYG3npuIQ4Z"
      },
      "source": [
        "a.remove(100)"
      ],
      "execution_count": 157,
      "outputs": []
    },
    {
      "cell_type": "code",
      "metadata": {
        "colab": {
          "base_uri": "https://localhost:8080/"
        },
        "id": "d-mwqJzvIaUp",
        "outputId": "2d72725f-f1ee-4c07-d9ff-28ed41230722"
      },
      "source": [
        "a"
      ],
      "execution_count": 158,
      "outputs": [
        {
          "output_type": "execute_result",
          "data": {
            "text/plain": [
              "{1, 2, 3}"
            ]
          },
          "metadata": {
            "tags": []
          },
          "execution_count": 158
        }
      ]
    },
    {
      "cell_type": "code",
      "metadata": {
        "id": "_s2JBm4vIaqQ"
      },
      "source": [
        "a.clear()"
      ],
      "execution_count": 159,
      "outputs": []
    },
    {
      "cell_type": "code",
      "metadata": {
        "colab": {
          "base_uri": "https://localhost:8080/"
        },
        "id": "X05H9OUQIeDg",
        "outputId": "1e886737-deb4-4886-ffba-947a01f0ba7f"
      },
      "source": [
        "a"
      ],
      "execution_count": 160,
      "outputs": [
        {
          "output_type": "execute_result",
          "data": {
            "text/plain": [
              "set()"
            ]
          },
          "metadata": {
            "tags": []
          },
          "execution_count": 160
        }
      ]
    },
    {
      "cell_type": "code",
      "metadata": {
        "id": "IJgcmjKHIebB"
      },
      "source": [
        "a.update({100,200,300})"
      ],
      "execution_count": 161,
      "outputs": []
    },
    {
      "cell_type": "code",
      "metadata": {
        "colab": {
          "base_uri": "https://localhost:8080/"
        },
        "id": "2AuGUDH9Iiew",
        "outputId": "fd7707d0-520c-4872-ba0a-995861311cfd"
      },
      "source": [
        "a"
      ],
      "execution_count": 162,
      "outputs": [
        {
          "output_type": "execute_result",
          "data": {
            "text/plain": [
              "{100, 200, 300}"
            ]
          },
          "metadata": {
            "tags": []
          },
          "execution_count": 162
        }
      ]
    },
    {
      "cell_type": "code",
      "metadata": {
        "colab": {
          "base_uri": "https://localhost:8080/"
        },
        "id": "E9L5jGSaIivg",
        "outputId": "269fb881-0e62-4337-bb26-16c688d5a801"
      },
      "source": [
        "b"
      ],
      "execution_count": 163,
      "outputs": [
        {
          "output_type": "execute_result",
          "data": {
            "text/plain": [
              "{10, 20, 30, 100, 200, 300}"
            ]
          },
          "metadata": {
            "tags": []
          },
          "execution_count": 163
        }
      ]
    },
    {
      "cell_type": "code",
      "metadata": {
        "colab": {
          "base_uri": "https://localhost:8080/"
        },
        "id": "FOjuOlAhIjjB",
        "outputId": "c02e3511-4ab9-43c7-db50-fd70ebbb63d1"
      },
      "source": [
        "a&b"
      ],
      "execution_count": 164,
      "outputs": [
        {
          "output_type": "execute_result",
          "data": {
            "text/plain": [
              "{100, 200, 300}"
            ]
          },
          "metadata": {
            "tags": []
          },
          "execution_count": 164
        }
      ]
    },
    {
      "cell_type": "code",
      "metadata": {
        "colab": {
          "base_uri": "https://localhost:8080/"
        },
        "id": "9-6wgcNbIwkx",
        "outputId": "6501f7b7-975b-44d8-e80a-0910e4601a66"
      },
      "source": [
        "a|b"
      ],
      "execution_count": 165,
      "outputs": [
        {
          "output_type": "execute_result",
          "data": {
            "text/plain": [
              "{10, 20, 30, 100, 200, 300}"
            ]
          },
          "metadata": {
            "tags": []
          },
          "execution_count": 165
        }
      ]
    },
    {
      "cell_type": "code",
      "metadata": {
        "colab": {
          "base_uri": "https://localhost:8080/"
        },
        "id": "nAXox-JRIxhp",
        "outputId": "4b06d9cc-ee89-4ba5-dd28-d5e7682f99e3"
      },
      "source": [
        "a-b"
      ],
      "execution_count": 166,
      "outputs": [
        {
          "output_type": "execute_result",
          "data": {
            "text/plain": [
              "set()"
            ]
          },
          "metadata": {
            "tags": []
          },
          "execution_count": 166
        }
      ]
    },
    {
      "cell_type": "code",
      "metadata": {
        "colab": {
          "base_uri": "https://localhost:8080/"
        },
        "id": "vUj7KhCWI4zx",
        "outputId": "a1bd27b6-f942-4f2f-a08d-dcb306d19b9e"
      },
      "source": [
        "b-a"
      ],
      "execution_count": 167,
      "outputs": [
        {
          "output_type": "execute_result",
          "data": {
            "text/plain": [
              "{10, 20, 30}"
            ]
          },
          "metadata": {
            "tags": []
          },
          "execution_count": 167
        }
      ]
    },
    {
      "cell_type": "code",
      "metadata": {
        "id": "XNZerUpmI6hR"
      },
      "source": [
        "lst=[10,50,30]\n",
        "tp=('a','b','c')"
      ],
      "execution_count": 168,
      "outputs": []
    },
    {
      "cell_type": "code",
      "metadata": {
        "colab": {
          "base_uri": "https://localhost:8080/"
        },
        "id": "ARLDGuTjJT-B",
        "outputId": "12ff904e-9df4-4ff1-e6c9-c99456c790f0"
      },
      "source": [
        "for i in lst:\n",
        "  print(i)"
      ],
      "execution_count": 169,
      "outputs": [
        {
          "output_type": "stream",
          "text": [
            "10\n",
            "50\n",
            "30\n"
          ],
          "name": "stdout"
        }
      ]
    },
    {
      "cell_type": "code",
      "metadata": {
        "colab": {
          "base_uri": "https://localhost:8080/"
        },
        "id": "BWSN0EaPJhDJ",
        "outputId": "b944e2e9-6820-4286-f44e-f45e4ae80e8a"
      },
      "source": [
        "for i in tp:\n",
        "  print(i)"
      ],
      "execution_count": 171,
      "outputs": [
        {
          "output_type": "stream",
          "text": [
            "a\n",
            "b\n",
            "c\n"
          ],
          "name": "stdout"
        }
      ]
    },
    {
      "cell_type": "code",
      "metadata": {
        "colab": {
          "base_uri": "https://localhost:8080/"
        },
        "id": "zeEphme8Jojq",
        "outputId": "d610a1a9-7864-4448-f7bb-adfb44045983"
      },
      "source": [
        "tp,lst"
      ],
      "execution_count": 173,
      "outputs": [
        {
          "output_type": "execute_result",
          "data": {
            "text/plain": [
              "(('a', 'b', 'c'), [10, 50, 30])"
            ]
          },
          "metadata": {
            "tags": []
          },
          "execution_count": 173
        }
      ]
    },
    {
      "cell_type": "code",
      "metadata": {
        "colab": {
          "base_uri": "https://localhost:8080/"
        },
        "id": "s2E7HJ61Ju_I",
        "outputId": "c5e47387-c288-4356-a70c-53c38bd0f642"
      },
      "source": [
        "zip(tp,lst)"
      ],
      "execution_count": 174,
      "outputs": [
        {
          "output_type": "execute_result",
          "data": {
            "text/plain": [
              "<zip at 0x7f4ed3f5c820>"
            ]
          },
          "metadata": {
            "tags": []
          },
          "execution_count": 174
        }
      ]
    },
    {
      "cell_type": "code",
      "metadata": {
        "colab": {
          "base_uri": "https://localhost:8080/"
        },
        "id": "Yl8WKq_PKC4G",
        "outputId": "c325ca51-2c88-4e44-b220-f33995295151"
      },
      "source": [
        "for i in zip(tp,lst):\n",
        "  print(i)"
      ],
      "execution_count": 175,
      "outputs": [
        {
          "output_type": "stream",
          "text": [
            "('a', 10)\n",
            "('b', 50)\n",
            "('c', 30)\n"
          ],
          "name": "stdout"
        }
      ]
    },
    {
      "cell_type": "code",
      "metadata": {
        "id": "mFQjYrpBKOUC"
      },
      "source": [
        "dt=dict(zip(tp,lst))\n"
      ],
      "execution_count": 176,
      "outputs": []
    },
    {
      "cell_type": "code",
      "metadata": {
        "colab": {
          "base_uri": "https://localhost:8080/"
        },
        "id": "ItBUDFnCKcUE",
        "outputId": "42106fba-3310-477b-f42c-8ba84a487797"
      },
      "source": [
        "dt"
      ],
      "execution_count": 177,
      "outputs": [
        {
          "output_type": "execute_result",
          "data": {
            "text/plain": [
              "{'a': 10, 'b': 50, 'c': 30}"
            ]
          },
          "metadata": {
            "tags": []
          },
          "execution_count": 177
        }
      ]
    },
    {
      "cell_type": "code",
      "metadata": {
        "colab": {
          "base_uri": "https://localhost:8080/"
        },
        "id": "F3rSbQu6Kcoz",
        "outputId": "f7f80f9d-b1d5-47af-d92b-8cc8fce38790"
      },
      "source": [
        "for i in dt:\n",
        "  print(f'{i}: {dt[i]}')"
      ],
      "execution_count": 178,
      "outputs": [
        {
          "output_type": "stream",
          "text": [
            "a: 10\n",
            "b: 50\n",
            "c: 30\n"
          ],
          "name": "stdout"
        }
      ]
    },
    {
      "cell_type": "code",
      "metadata": {
        "id": "w9NYWgjdK19n"
      },
      "source": [
        "temp = [10.8,  8.5,  8.7,  7.9,  5.1,\n",
        "         8.1,  8.2, 10.4,   11,  9.9,\n",
        "         7.8,  9.5, 11.6,  8.2,  7.7,\n",
        "         6.6, 11.1, 12.2, 12.6, 10.4,\n",
        "        13.7, 14.1, 12.6, 11.5,   13,\n",
        "        14.5, 13.7,  9.4, 10.4, 11.6, 12.9]"
      ],
      "execution_count": 179,
      "outputs": []
    },
    {
      "cell_type": "code",
      "metadata": {
        "colab": {
          "base_uri": "https://localhost:8080/",
          "height": 136
        },
        "id": "FPi9aI7vLWWS",
        "outputId": "ca4f1eb7-2cb6-4a95-cfde-d50b6db281a5"
      },
      "source": [
        "print(f' 최고기온 : 'max(temp))"
      ],
      "execution_count": 181,
      "outputs": [
        {
          "output_type": "error",
          "ename": "SyntaxError",
          "evalue": "ignored",
          "traceback": [
            "\u001b[0;36m  File \u001b[0;32m\"<ipython-input-181-7fb4f7aacdfd>\"\u001b[0;36m, line \u001b[0;32m1\u001b[0m\n\u001b[0;31m    print(f'이달의 최고기온 : 'max(temp))\u001b[0m\n\u001b[0m                          ^\u001b[0m\n\u001b[0;31mSyntaxError\u001b[0m\u001b[0;31m:\u001b[0m invalid syntax\n"
          ]
        }
      ]
    },
    {
      "cell_type": "code",
      "metadata": {
        "colab": {
          "base_uri": "https://localhost:8080/"
        },
        "id": "-o64sGOKLcry",
        "outputId": "93a6c3a6-4609-4f71-e5a0-f1e3fa0f22ca"
      },
      "source": [
        "print(f' 최고기온 : {max(temp) : 6.2f}')"
      ],
      "execution_count": 182,
      "outputs": [
        {
          "output_type": "stream",
          "text": [
            " 최고기온 :  14.50\n"
          ],
          "name": "stdout"
        }
      ]
    },
    {
      "cell_type": "code",
      "metadata": {
        "colab": {
          "base_uri": "https://localhost:8080/"
        },
        "id": "vTDNqUbKLqxy",
        "outputId": "7e5b92aa-9d7e-4d0d-a53b-66efbde4b848"
      },
      "source": [
        "min(temp)"
      ],
      "execution_count": 183,
      "outputs": [
        {
          "output_type": "execute_result",
          "data": {
            "text/plain": [
              "5.1"
            ]
          },
          "metadata": {
            "tags": []
          },
          "execution_count": 183
        }
      ]
    },
    {
      "cell_type": "code",
      "metadata": {
        "colab": {
          "base_uri": "https://localhost:8080/"
        },
        "id": "Yw3qwYbiL3l1",
        "outputId": "9c4864b9-22f9-4b8d-9371-5a7325c3d90e"
      },
      "source": [
        "print(f'최저기온 : {min(temp) : 6.2f}')"
      ],
      "execution_count": 184,
      "outputs": [
        {
          "output_type": "stream",
          "text": [
            "최저기온 :   5.10\n"
          ],
          "name": "stdout"
        }
      ]
    },
    {
      "cell_type": "code",
      "metadata": {
        "id": "i29SCJrIMBfr"
      },
      "source": [
        "avg = sum(temp)/len(temp)"
      ],
      "execution_count": 185,
      "outputs": []
    },
    {
      "cell_type": "code",
      "metadata": {
        "colab": {
          "base_uri": "https://localhost:8080/"
        },
        "id": "xbrirTLjMHBT",
        "outputId": "a53afd51-5e29-44cf-baaf-2700a210889c"
      },
      "source": [
        "avg"
      ],
      "execution_count": 186,
      "outputs": [
        {
          "output_type": "execute_result",
          "data": {
            "text/plain": [
              "10.441935483870964"
            ]
          },
          "metadata": {
            "tags": []
          },
          "execution_count": 186
        }
      ]
    },
    {
      "cell_type": "code",
      "metadata": {
        "colab": {
          "base_uri": "https://localhost:8080/"
        },
        "id": "bztmAz96MHis",
        "outputId": "3d522e82-7a08-45e6-aec0-39d1ad49fa7b"
      },
      "source": [
        "print(f'평균기온 : {avg : 6.2f}')"
      ],
      "execution_count": 187,
      "outputs": [
        {
          "output_type": "stream",
          "text": [
            "평균기온 :  10.44\n"
          ],
          "name": "stdout"
        }
      ]
    },
    {
      "cell_type": "code",
      "metadata": {
        "colab": {
          "base_uri": "https://localhost:8080/"
        },
        "id": "6XFc8vNbMOVL",
        "outputId": "07f602c8-95f3-46e2-9284-dc9e9d769754"
      },
      "source": [
        "print(f' 최고기온 : {max(temp) : 6.2f}도')"
      ],
      "execution_count": 188,
      "outputs": [
        {
          "output_type": "stream",
          "text": [
            " 최고기온 :  14.50도\n"
          ],
          "name": "stdout"
        }
      ]
    },
    {
      "cell_type": "code",
      "metadata": {
        "id": "0NFpQoj8MUU_"
      },
      "source": [
        ""
      ],
      "execution_count": null,
      "outputs": []
    }
  ]
}