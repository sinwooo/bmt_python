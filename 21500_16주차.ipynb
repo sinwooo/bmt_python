{
  "nbformat": 4,
  "nbformat_minor": 0,
  "metadata": {
    "colab": {
      "name": "21500_16주차",
      "provenance": [],
      "authorship_tag": "ABX9TyNmIk4qCPxub6oCiUQqZu26",
      "include_colab_link": true
    },
    "kernelspec": {
      "name": "python3",
      "display_name": "Python 3"
    },
    "language_info": {
      "name": "python"
    }
  },
  "cells": [
    {
      "cell_type": "markdown",
      "metadata": {
        "id": "view-in-github",
        "colab_type": "text"
      },
      "source": [
        "<a href=\"https://colab.research.google.com/github/sinwooo/bmt_python/blob/main/21500_16%EC%A3%BC%EC%B0%A8.ipynb\" target=\"_parent\"><img src=\"https://colab.research.google.com/assets/colab-badge.svg\" alt=\"Open In Colab\"/></a>"
      ]
    },
    {
      "cell_type": "code",
      "metadata": {
        "id": "B5CkVhFtZkk5"
      },
      "source": [
        "names = ['정밀', '폴리', '산설', '메카', '로봇', '전기']"
      ],
      "execution_count": null,
      "outputs": []
    },
    {
      "cell_type": "code",
      "metadata": {
        "colab": {
          "base_uri": "https://localhost:8080/"
        },
        "id": "r1L3jnWma3SF",
        "outputId": "83d71c64-545b-4640-f682-a01074cc51eb"
      },
      "source": [
        "type(names)"
      ],
      "execution_count": null,
      "outputs": [
        {
          "output_type": "execute_result",
          "data": {
            "text/plain": [
              "list"
            ]
          },
          "metadata": {
            "tags": []
          },
          "execution_count": 3
        }
      ]
    },
    {
      "cell_type": "code",
      "metadata": {
        "colab": {
          "base_uri": "https://localhost:8080/",
          "height": 35
        },
        "id": "4XOP5wkNa5Vz",
        "outputId": "6ffd9acb-cc75-4abd-9eb1-9e48a03b2123"
      },
      "source": [
        "names[0]"
      ],
      "execution_count": null,
      "outputs": [
        {
          "output_type": "execute_result",
          "data": {
            "application/vnd.google.colaboratory.intrinsic+json": {
              "type": "string"
            },
            "text/plain": [
              "'정밀'"
            ]
          },
          "metadata": {
            "tags": []
          },
          "execution_count": 4
        }
      ]
    },
    {
      "cell_type": "code",
      "metadata": {
        "colab": {
          "base_uri": "https://localhost:8080/",
          "height": 35
        },
        "id": "F6wxbMA_a9FT",
        "outputId": "b4b69a7c-9b67-4972-d779-30edfb7b0df7"
      },
      "source": [
        "names[1]"
      ],
      "execution_count": null,
      "outputs": [
        {
          "output_type": "execute_result",
          "data": {
            "application/vnd.google.colaboratory.intrinsic+json": {
              "type": "string"
            },
            "text/plain": [
              "'폴리'"
            ]
          },
          "metadata": {
            "tags": []
          },
          "execution_count": 5
        }
      ]
    },
    {
      "cell_type": "code",
      "metadata": {
        "colab": {
          "base_uri": "https://localhost:8080/"
        },
        "id": "LvdgLFAra99D",
        "outputId": "2a138c14-db99-4f23-b356-b7fbc8075a5e"
      },
      "source": [
        "type(names[0])"
      ],
      "execution_count": null,
      "outputs": [
        {
          "output_type": "execute_result",
          "data": {
            "text/plain": [
              "str"
            ]
          },
          "metadata": {
            "tags": []
          },
          "execution_count": 6
        }
      ]
    },
    {
      "cell_type": "code",
      "metadata": {
        "id": "ZveukVXKbDbj"
      },
      "source": [
        "names.append('부산기계')"
      ],
      "execution_count": null,
      "outputs": []
    },
    {
      "cell_type": "code",
      "metadata": {
        "colab": {
          "base_uri": "https://localhost:8080/"
        },
        "id": "vu1bfBLobKvC",
        "outputId": "3027257d-8fc2-47b9-b2bd-cb1a914a6b3b"
      },
      "source": [
        "names"
      ],
      "execution_count": null,
      "outputs": [
        {
          "output_type": "execute_result",
          "data": {
            "text/plain": [
              "['정밀', '폴리', '산설', '메카', '로봇', '전기', '부산기계']"
            ]
          },
          "metadata": {
            "tags": []
          },
          "execution_count": 8
        }
      ]
    },
    {
      "cell_type": "code",
      "metadata": {
        "colab": {
          "base_uri": "https://localhost:8080/"
        },
        "id": "dM5RM30ebLiz",
        "outputId": "a52d5700-1b32-45f9-8fbb-ac5bf410a201"
      },
      "source": [
        "for name in names:\n",
        "  if len(name) > 2:\n",
        "    print(name,'공업고등학교')     \n",
        "    print(name + '공업고등학교') "
      ],
      "execution_count": null,
      "outputs": [
        {
          "output_type": "stream",
          "text": [
            "부산기계 공업고등학교\n",
            "부산기계공업고등학교\n"
          ],
          "name": "stdout"
        }
      ]
    },
    {
      "cell_type": "code",
      "metadata": {
        "colab": {
          "base_uri": "https://localhost:8080/"
        },
        "id": "szjRiefobgxT",
        "outputId": "d9502325-309a-4a4b-ec43-f4a5569e6952"
      },
      "source": [
        "for name in names:\n",
        "  if len(name) > 2:\n",
        "    print(name,\"공업고등학교\")     \n",
        "    print(name + '공업고등학교') "
      ],
      "execution_count": null,
      "outputs": [
        {
          "output_type": "stream",
          "text": [
            "부산기계 공업고등학교\n",
            "부산기계공업고등학교\n"
          ],
          "name": "stdout"
        }
      ]
    },
    {
      "cell_type": "code",
      "metadata": {
        "id": "SZ_9myNKbzVL"
      },
      "source": [
        "#주석\n"
      ],
      "execution_count": null,
      "outputs": []
    },
    {
      "cell_type": "code",
      "metadata": {
        "colab": {
          "base_uri": "https://localhost:8080/"
        },
        "id": "8UjmDB6ib4Z7",
        "outputId": "702ef9b4-00f0-43c9-e8a2-82b6793934d7"
      },
      "source": [
        "print(20**3)\n",
        "\n",
        "print('Hello, World') "
      ],
      "execution_count": null,
      "outputs": [
        {
          "output_type": "stream",
          "text": [
            "8000\n",
            "Hello, World\n"
          ],
          "name": "stdout"
        }
      ]
    },
    {
      "cell_type": "code",
      "metadata": {
        "colab": {
          "base_uri": "https://localhost:8080/"
        },
        "id": "tUUTn-VWb9vc",
        "outputId": "a71d39ea-feae-424b-d3c7-eee1cc72bbc5"
      },
      "source": [
        "school = '부산기계공고'  \n",
        "print(school)  \n",
        "\n",
        "a = 1024 \n",
        "print(a)\n",
        "  \n",
        "name = \"전기과\"\n",
        "print(name+' 화이팅!!!')    \n",
        "print(f'{name} 화이팅!!!')   \n",
        "\n",
        "print(2020, f'{name} 화이팅!!!')"
      ],
      "execution_count": null,
      "outputs": [
        {
          "output_type": "stream",
          "text": [
            "부산기계공고\n",
            "1024\n",
            "전기과 화이팅!!!\n",
            "전기과 화이팅!!!\n",
            "2020 전기과 화이팅!!!\n"
          ],
          "name": "stdout"
        }
      ]
    },
    {
      "cell_type": "code",
      "metadata": {
        "colab": {
          "base_uri": "https://localhost:8080/"
        },
        "id": "i66wImnLcWEL",
        "outputId": "80e9ec75-9f36-4dba-ea54-a8f24238f490"
      },
      "source": [
        "name=input()\n",
        "print(name+'님 안녕하세요')\n",
        "\n",
        "print(name, '님 안녕하세요')\n",
        "\n",
        "print(f'{name}님 안녕하세요')"
      ],
      "execution_count": null,
      "outputs": [
        {
          "output_type": "stream",
          "text": [
            "권신우\n",
            "권신우님 안녕하세요\n",
            "권신우 님 안녕하세요\n",
            "권신우님 안녕하세요\n"
          ],
          "name": "stdout"
        }
      ]
    },
    {
      "cell_type": "markdown",
      "metadata": {
        "id": "Y27wyWY7cx0U"
      },
      "source": [
        "ㄴㅁㅇ\n",
        "\n",
        "ㅇㄴㅁㅀㅎㄹ\n",
        "\n"
      ]
    },
    {
      "cell_type": "code",
      "metadata": {
        "colab": {
          "base_uri": "https://localhost:8080/"
        },
        "id": "_faguMCJdJc0",
        "outputId": "bdd77396-b1ba-480d-8a94-f6e4c55dd16a"
      },
      "source": [
        "name=input('이름 입력 : ')\n",
        "print(name+'님 안녕하세요')\n",
        "\n",
        "print(name, '님 안녕하세요')\n",
        "\n",
        "print(f'{name}님 안녕하세요')"
      ],
      "execution_count": null,
      "outputs": [
        {
          "output_type": "stream",
          "text": [
            "이름 입력 : 부기공\n",
            "부기공님 안녕하세요\n",
            "부기공 님 안녕하세요\n",
            "부기공님 안녕하세요\n"
          ],
          "name": "stdout"
        }
      ]
    },
    {
      "cell_type": "code",
      "metadata": {
        "colab": {
          "base_uri": "https://localhost:8080/"
        },
        "id": "W_0qbRhSdL_L",
        "outputId": "0685bcba-a148-43c5-98e5-18031c40fe45"
      },
      "source": [
        "age = input('나이를 입력해 주세요 : ')\n",
        "\n",
        "print(int(age)-1)"
      ],
      "execution_count": null,
      "outputs": [
        {
          "output_type": "stream",
          "text": [
            "나이를 입력해 주세요 : 12\n",
            "11\n"
          ],
          "name": "stdout"
        }
      ]
    },
    {
      "cell_type": "code",
      "metadata": {
        "colab": {
          "base_uri": "https://localhost:8080/"
        },
        "id": "7wKg473PdkWs",
        "outputId": "1e5cfb6c-9209-442c-970f-8a0fbbd4ddbf"
      },
      "source": [
        "type(age)"
      ],
      "execution_count": null,
      "outputs": [
        {
          "output_type": "execute_result",
          "data": {
            "text/plain": [
              "str"
            ]
          },
          "metadata": {
            "tags": []
          },
          "execution_count": 20
        }
      ]
    },
    {
      "cell_type": "code",
      "metadata": {
        "colab": {
          "base_uri": "https://localhost:8080/",
          "height": 35
        },
        "id": "HagmGKdbdp1k",
        "outputId": "3f0e76f4-c618-4b52-e661-f11c8de9c07f"
      },
      "source": [
        "age"
      ],
      "execution_count": null,
      "outputs": [
        {
          "output_type": "execute_result",
          "data": {
            "application/vnd.google.colaboratory.intrinsic+json": {
              "type": "string"
            },
            "text/plain": [
              "'12'"
            ]
          },
          "metadata": {
            "tags": []
          },
          "execution_count": 21
        }
      ]
    },
    {
      "cell_type": "code",
      "metadata": {
        "colab": {
          "base_uri": "https://localhost:8080/"
        },
        "id": "ln2RlePMds2E",
        "outputId": "7fa99853-3bbb-4d00-e059-ef7e0801e5f3"
      },
      "source": [
        "age = int(input('나이를 입력해 주세요 : '))\n",
        "\n",
        "print(age-1)"
      ],
      "execution_count": null,
      "outputs": [
        {
          "output_type": "stream",
          "text": [
            "나이를 입력해 주세요 : 12\n",
            "11\n"
          ],
          "name": "stdout"
        }
      ]
    },
    {
      "cell_type": "code",
      "metadata": {
        "colab": {
          "base_uri": "https://localhost:8080/"
        },
        "id": "zRxN5d_6dyvc",
        "outputId": "fba0d7e5-72dc-4f6c-f58e-5a22d1712a68"
      },
      "source": [
        "name = input('이름을 입력해 주세요 : ')\n",
        "age = int(input('나이를 입력해 주세요 : '))\n",
        "\n",
        "print(f'안녕하세요! {name} 님! 저는 처음에 {str(age-4)}살인 줄 알았어요!!')"
      ],
      "execution_count": null,
      "outputs": [
        {
          "output_type": "stream",
          "text": [
            "이름을 입력해 주세요 : rnjs구 권신우\n",
            "나이를 입력해 주세요 : 18\n",
            "안녕하세요! rnjs구 권신우 님! 저는 처음에 14살인 줄 알았어요!!\n"
          ],
          "name": "stdout"
        }
      ]
    },
    {
      "cell_type": "code",
      "metadata": {
        "colab": {
          "base_uri": "https://localhost:8080/",
          "height": 53
        },
        "id": "5gUjWOCieQGe",
        "outputId": "99f2f74d-bdf1-4faf-8337-25368cddc42f"
      },
      "source": [
        "input('대답을 입력하세요 : ')"
      ],
      "execution_count": null,
      "outputs": [
        {
          "output_type": "stream",
          "text": [
            "대답을 입력하세요 : 아유 감사합니다\n"
          ],
          "name": "stdout"
        },
        {
          "output_type": "execute_result",
          "data": {
            "application/vnd.google.colaboratory.intrinsic+json": {
              "type": "string"
            },
            "text/plain": [
              "'아유 감사합니다'"
            ]
          },
          "metadata": {
            "tags": []
          },
          "execution_count": 25
        }
      ]
    },
    {
      "cell_type": "code",
      "metadata": {
        "colab": {
          "base_uri": "https://localhost:8080/"
        },
        "id": "gqBZjgQFeZjN",
        "outputId": "3d73f79b-04bd-4764-f097-d895e292a010"
      },
      "source": [
        "print(10 * 2)   # * : 곱셈 연산자\n",
        "print(10 ** 2)  # ** : 거듭 제곱 연산자\n",
        "print(10 % 2)   # % : 나머지 연산자\n",
        "print(7 / 2)   # / : 실수 나눗셈\n",
        "print(7 // 2)  # // : 정수 나눗셈 (몫만 나옴)"
      ],
      "execution_count": null,
      "outputs": [
        {
          "output_type": "stream",
          "text": [
            "20\n",
            "100\n",
            "0\n",
            "3.5\n",
            "3\n"
          ],
          "name": "stdout"
        }
      ]
    },
    {
      "cell_type": "code",
      "metadata": {
        "colab": {
          "base_uri": "https://localhost:8080/"
        },
        "id": "ai__zuuafMbk",
        "outputId": "80bc5108-fcb5-4b96-92df-b9b70ecdb5d2"
      },
      "source": [
        "print(10 >= 2)\n",
        "print(10 <= 2)\n",
        "print(10 == 2)   # == : 같다\n",
        "print(10 != 2)   # != : 같지 않다\n",
        "print(10 % 2 == 1)"
      ],
      "execution_count": null,
      "outputs": [
        {
          "output_type": "stream",
          "text": [
            "True\n",
            "False\n",
            "False\n",
            "True\n",
            "False\n"
          ],
          "name": "stdout"
        }
      ]
    },
    {
      "cell_type": "code",
      "metadata": {
        "colab": {
          "base_uri": "https://localhost:8080/",
          "height": 172
        },
        "id": "tjOJ3rjFfTk-",
        "outputId": "cd4d076a-6c48-4248-a0f3-6113ec8263c0"
      },
      "source": [
        "true\n"
      ],
      "execution_count": null,
      "outputs": [
        {
          "output_type": "error",
          "ename": "NameError",
          "evalue": "ignored",
          "traceback": [
            "\u001b[0;31m---------------------------------------------------------------------------\u001b[0m",
            "\u001b[0;31mNameError\u001b[0m                                 Traceback (most recent call last)",
            "\u001b[0;32m<ipython-input-28-724ba28f4a9a>\u001b[0m in \u001b[0;36m<module>\u001b[0;34m()\u001b[0m\n\u001b[0;32m----> 1\u001b[0;31m \u001b[0mtrue\u001b[0m\u001b[0;34m\u001b[0m\u001b[0;34m\u001b[0m\u001b[0m\n\u001b[0m",
            "\u001b[0;31mNameError\u001b[0m: name 'true' is not defined"
          ]
        }
      ]
    },
    {
      "cell_type": "code",
      "metadata": {
        "colab": {
          "base_uri": "https://localhost:8080/"
        },
        "id": "tG-5s1I-fUWc",
        "outputId": "08358f45-95f2-4eca-b419-d8e5da126332"
      },
      "source": [
        "True"
      ],
      "execution_count": null,
      "outputs": [
        {
          "output_type": "execute_result",
          "data": {
            "text/plain": [
              "True"
            ]
          },
          "metadata": {
            "tags": []
          },
          "execution_count": 29
        }
      ]
    },
    {
      "cell_type": "code",
      "metadata": {
        "colab": {
          "base_uri": "https://localhost:8080/"
        },
        "id": "wa-Rd1e0fVWF",
        "outputId": "947da779-2c58-4159-d45f-ad7c1c1c9444"
      },
      "source": [
        "print(10 >= 2)\n",
        "print(10 <= 2)\n",
        "print(10 == 2)   # == : 같다\n",
        "print(10 != 2)   # != : 같지 않다\n",
        "print(10 % 2 == 1)"
      ],
      "execution_count": null,
      "outputs": [
        {
          "output_type": "stream",
          "text": [
            "True\n",
            "False\n",
            "False\n",
            "True\n",
            "False\n"
          ],
          "name": "stdout"
        }
      ]
    },
    {
      "cell_type": "code",
      "metadata": {
        "colab": {
          "base_uri": "https://localhost:8080/"
        },
        "id": "ibbEyKaMfiOF",
        "outputId": "dcedd045-f43f-43d7-8769-6436b3b4e96b"
      },
      "source": [
        "# 논리 연산자 (참:True, 거짓:False)\n",
        "# and(둘 다 참일때 True), or(둘 중 하나만 참일 때 True), not(반전) 연산자\n",
        "\n",
        "# and 연산자\n",
        "print(1==1 and 2 != 1) # True and True => True\n",
        "print(10 % 2 != 0 and 1 + 1 > 0 ) # True and False => False\n",
        "print()\n",
        "\n",
        "# or 연산자\n",
        "print(10 < 5 or 10 == 5) # False or False => False\n",
        "print(10 % 2 != 0 or 1 + 1 > 0) # False or True => True\n",
        "print()\n",
        "\n",
        "# not 연산자\n",
        "print(not 10 > 5)   # not True => False\n",
        "print(not 10 == 5)  # not False => True\n",
        "print(not 0)        # 0은 False에 해당 : not False => True\n",
        "print(not 10)       # 0을 제외한 수는 True에 해당 : not True => False"
      ],
      "execution_count": null,
      "outputs": [
        {
          "output_type": "stream",
          "text": [
            "True\n",
            "False\n",
            "\n",
            "False\n",
            "True\n",
            "\n",
            "False\n",
            "True\n",
            "True\n",
            "False\n"
          ],
          "name": "stdout"
        }
      ]
    },
    {
      "cell_type": "code",
      "metadata": {
        "colab": {
          "base_uri": "https://localhost:8080/",
          "height": 136
        },
        "id": "2CCI897bgMQ2",
        "outputId": "d2d17012-0d1d-4986-cc61-546da6a67cc9"
      },
      "source": [
        "for A in B:       # 맨 뒤에 콜론 기호(:) 잊지 말기\n",
        "    반복할 문장1    # 들여쓰기(문단구분)가 되어 있음\n",
        "    ...\n",
        "    반복할 문장n    # 보통 공백 문자([space]키) 4개로 사용\n",
        "B는 데이터 세트를 의미\n",
        "for 반복문은 주어진 데이터 세트를 순회하거나 원하는 횟수만큼 반복하고 싶을 때 사용\n",
        "즉, 데이터 세트에서 데이터를 하나씩 꺼내 와서 A에 임시로 저장"
      ],
      "execution_count": null,
      "outputs": [
        {
          "output_type": "error",
          "ename": "SyntaxError",
          "evalue": "ignored",
          "traceback": [
            "\u001b[0;36m  File \u001b[0;32m\"<ipython-input-32-74e78c4ae327>\"\u001b[0;36m, line \u001b[0;32m2\u001b[0m\n\u001b[0;31m    반복할 문장1    # 들여쓰기(문단구분)가 되어 있음\u001b[0m\n\u001b[0m          ^\u001b[0m\n\u001b[0;31mSyntaxError\u001b[0m\u001b[0;31m:\u001b[0m invalid syntax\n"
          ]
        }
      ]
    },
    {
      "cell_type": "code",
      "metadata": {
        "colab": {
          "base_uri": "https://localhost:8080/"
        },
        "id": "kTDRhM4PgpXl",
        "outputId": "874179c9-d35a-4cf8-9124-35fb53ee7728"
      },
      "source": [
        "# for 반복문 - 1\n",
        "\n",
        "name = '부산기계공고'\n",
        "\n",
        "for i in name:\n",
        "  print(i)\n",
        "\n",
        "print()\n",
        "\n",
        "for i in name:\n",
        "  print(i, end='')"
      ],
      "execution_count": null,
      "outputs": [
        {
          "output_type": "stream",
          "text": [
            "부\n",
            "산\n",
            "기\n",
            "계\n",
            "공\n",
            "고\n",
            "\n",
            "부산기계공고"
          ],
          "name": "stdout"
        }
      ]
    },
    {
      "cell_type": "code",
      "metadata": {
        "colab": {
          "base_uri": "https://localhost:8080/"
        },
        "id": "JghDpRichDEW",
        "outputId": "c6797f85-77c1-4dfe-a0c1-1260f27e6404"
      },
      "source": [
        "type(name)"
      ],
      "execution_count": null,
      "outputs": [
        {
          "output_type": "execute_result",
          "data": {
            "text/plain": [
              "str"
            ]
          },
          "metadata": {
            "tags": []
          },
          "execution_count": 34
        }
      ]
    },
    {
      "cell_type": "code",
      "metadata": {
        "colab": {
          "base_uri": "https://localhost:8080/",
          "height": 35
        },
        "id": "OPHnnPiOhEa1",
        "outputId": "7f35be67-d111-4fb5-aafc-db21607c0ffa"
      },
      "source": [
        "name[0]"
      ],
      "execution_count": null,
      "outputs": [
        {
          "output_type": "execute_result",
          "data": {
            "application/vnd.google.colaboratory.intrinsic+json": {
              "type": "string"
            },
            "text/plain": [
              "'부'"
            ]
          },
          "metadata": {
            "tags": []
          },
          "execution_count": 35
        }
      ]
    },
    {
      "cell_type": "code",
      "metadata": {
        "colab": {
          "base_uri": "https://localhost:8080/"
        },
        "id": "9xBHBYUmhFUF",
        "outputId": "f3437825-ec15-4533-db7e-3969292ac0e4"
      },
      "source": [
        "type(name[0])"
      ],
      "execution_count": null,
      "outputs": [
        {
          "output_type": "execute_result",
          "data": {
            "text/plain": [
              "str"
            ]
          },
          "metadata": {
            "tags": []
          },
          "execution_count": 36
        }
      ]
    },
    {
      "cell_type": "code",
      "metadata": {
        "colab": {
          "base_uri": "https://localhost:8080/"
        },
        "id": "HJ6OhKFDhIqe",
        "outputId": "29bcda0b-27f0-4871-addc-e6a45a111706"
      },
      "source": [
        "for i in [0, 1, 2, 3]:\n",
        "  print(i ** 2)\n",
        "\n",
        "for i in [0, 1, 2, 3]:\n",
        "  print(i ** 2, end=' ')\n",
        "  "
      ],
      "execution_count": null,
      "outputs": [
        {
          "output_type": "stream",
          "text": [
            "0\n",
            "1\n",
            "4\n",
            "9\n",
            "0 1 4 9 "
          ],
          "name": "stdout"
        }
      ]
    },
    {
      "cell_type": "code",
      "metadata": {
        "colab": {
          "base_uri": "https://localhost:8080/"
        },
        "id": "FbiNXjKClWf4",
        "outputId": "74d842a7-8770-42b7-8096-915ff9f0c9e5"
      },
      "source": [
        "\n",
        "for i in range(10): # range(10) : 0 이상 10 미만의 범위를 갖는 정수 즉, 0~9까지 정수\n",
        "  print(i ** 2)\n",
        "\n",
        "for i in range(10):\n",
        "  print(i ** 2, end=' ')"
      ],
      "execution_count": null,
      "outputs": [
        {
          "output_type": "stream",
          "text": [
            "0\n",
            "1\n",
            "4\n",
            "9\n",
            "16\n",
            "25\n",
            "36\n",
            "49\n",
            "64\n",
            "81\n",
            "0 1 4 9 16 25 36 49 64 81 "
          ],
          "name": "stdout"
        }
      ]
    },
    {
      "cell_type": "code",
      "metadata": {
        "colab": {
          "base_uri": "https://localhost:8080/"
        },
        "id": "NDVkcG3plmHg",
        "outputId": "2b84fb95-104c-4348-e133-d98bf5b65eee"
      },
      "source": [
        "for i in range(1, 10,2): # range(1, 10) : 1 이상 10 미만의 범위를 갖는 정수 즉, 1~9까지 정수\n",
        "  print(i ** 2)\n",
        "\n",
        "for i in range(1, 10, 2): # range(1, 10, 2) : 1 이상 10 미만의 범위를 갖는 정수 중 2씩 간격을 두고 생성 즉, 1, 3, 5, 7, 9\n",
        "  print(i ** 2, end=' ')"
      ],
      "execution_count": null,
      "outputs": [
        {
          "output_type": "stream",
          "text": [
            "1\n",
            "9\n",
            "25\n",
            "49\n",
            "81\n",
            "1 9 25 49 81 "
          ],
          "name": "stdout"
        }
      ]
    },
    {
      "cell_type": "code",
      "metadata": {
        "colab": {
          "base_uri": "https://localhost:8080/",
          "height": 136
        },
        "id": "CJlEnGfwlrDQ",
        "outputId": "96e19829-e0ef-4835-aa15-b22a8e418aa2"
      },
      "source": [
        "if 조건:       # 맨 뒤에 콜론 기호(:) 잊지 말기\n",
        "    조건이 참일 경우 실행할 문장1    # 들여쓰기(문단구분)가 되어 있음\n",
        "    ...\n",
        "    조건이 참일 경우 실행할 문장n    # 보통 공백 문자([space]키) 4개로 사용\n",
        "if 조건문은 주어진 조건이 True(참)인 경우에만 명령을 선택적으로 실행하고 싶을 때 사용"
      ],
      "execution_count": null,
      "outputs": [
        {
          "output_type": "error",
          "ename": "SyntaxError",
          "evalue": "ignored",
          "traceback": [
            "\u001b[0;36m  File \u001b[0;32m\"<ipython-input-43-48e166ed57c1>\"\u001b[0;36m, line \u001b[0;32m2\u001b[0m\n\u001b[0;31m    조건이 참일 경우 실행할 문장1    # 들여쓰기(문단구분)가 되어 있음\u001b[0m\n\u001b[0m         ^\u001b[0m\n\u001b[0;31mSyntaxError\u001b[0m\u001b[0;31m:\u001b[0m invalid syntax\n"
          ]
        }
      ]
    },
    {
      "cell_type": "code",
      "metadata": {
        "colab": {
          "base_uri": "https://localhost:8080/"
        },
        "id": "XtKpPXVzmZVI",
        "outputId": "b3d52788-3eaf-4152-86a0-bd6a9ee53d0b"
      },
      "source": [
        "# 기본 예\n",
        "\n",
        "if 10 < 0:\n",
        "  print('안녕하세요')\n",
        "print('반가워요')"
      ],
      "execution_count": null,
      "outputs": [
        {
          "output_type": "stream",
          "text": [
            "반가워요\n"
          ],
          "name": "stdout"
        }
      ]
    },
    {
      "cell_type": "code",
      "metadata": {
        "colab": {
          "base_uri": "https://localhost:8080/"
        },
        "id": "RDe02Y8Umcep",
        "outputId": "075110bf-fb6f-4ee6-9e75-4aadff72e528"
      },
      "source": [
        "\n",
        "# 기본 예\n",
        "\n",
        "if 10 >0:\n",
        "  print('안녕하세요')\n",
        "print('반가워요')"
      ],
      "execution_count": null,
      "outputs": [
        {
          "output_type": "stream",
          "text": [
            "안녕하세요\n",
            "반가워요\n"
          ],
          "name": "stdout"
        }
      ]
    },
    {
      "cell_type": "code",
      "metadata": {
        "colab": {
          "base_uri": "https://localhost:8080/"
        },
        "id": "eIbQRKACmeMY",
        "outputId": "232365cc-ebc6-4f36-e0f9-d8e65de5bcc0"
      },
      "source": [
        "if 10 != 0 and 5 % 2 == 1:\n",
        "  print('안녕하세요')"
      ],
      "execution_count": null,
      "outputs": [
        {
          "output_type": "stream",
          "text": [
            "안녕하세요\n"
          ],
          "name": "stdout"
        }
      ]
    },
    {
      "cell_type": "code",
      "metadata": {
        "colab": {
          "base_uri": "https://localhost:8080/"
        },
        "id": "uPNj5Hhkmtvp",
        "outputId": "4e280531-6993-4b53-f1fe-e1ab2434f0e9"
      },
      "source": [
        "# 비밀번호 확인\n",
        "\n",
        "passwd = int(input('비밀번호 4자리를 입력하세요 : '))\n",
        "\n",
        "if passwd == 2020:\n",
        "  print('비밀번호가 일치합니다.')"
      ],
      "execution_count": null,
      "outputs": [
        {
          "output_type": "stream",
          "text": [
            "비밀번호 4자리를 입력하세요 : 2020\n",
            "비밀번호가 일치합니다.\n"
          ],
          "name": "stdout"
        }
      ]
    },
    {
      "cell_type": "code",
      "metadata": {
        "colab": {
          "base_uri": "https://localhost:8080/"
        },
        "id": "TMDreLjQmxJJ",
        "outputId": "83b0727d-405b-430a-f5ef-f5abdea7cd03"
      },
      "source": [
        "\n",
        "for i in range(1,10000):\n",
        "  if i == 2020:\n",
        "    print('비밀번호가 일치합니다.')\n",
        "    print(f'비밀번호는 {i}입니다.')"
      ],
      "execution_count": null,
      "outputs": [
        {
          "output_type": "stream",
          "text": [
            "비밀번호가 일치합니다.\n",
            "비밀번호는 2020입니다.\n"
          ],
          "name": "stdout"
        }
      ]
    },
    {
      "cell_type": "code",
      "metadata": {
        "colab": {
          "base_uri": "https://localhost:8080/"
        },
        "id": "gRl3Ln3tnZ7o",
        "outputId": "f193045b-099e-47b2-999c-e650172fdcce"
      },
      "source": [
        "passwd = int(input('비밀번호 4자리를 입력하세요 : '))\n",
        "\n",
        "if passwd == 2020:\n",
        "  print('비밀번호가 일치합니다.')\n",
        "else :\n",
        "  print('비밀번호가 일치하지 않습니다.')"
      ],
      "execution_count": null,
      "outputs": [
        {
          "output_type": "stream",
          "text": [
            "비밀번호 4자리를 입력하세요 : 1233\n",
            "비밀번호가 일치하지 않습니다.\n"
          ],
          "name": "stdout"
        }
      ]
    },
    {
      "cell_type": "code",
      "metadata": {
        "colab": {
          "base_uri": "https://localhost:8080/"
        },
        "id": "EStTpydPnnr6",
        "outputId": "33c4c1ba-a910-4c3c-c179-de6023a7ac37"
      },
      "source": [
        "\n",
        "print('[ 소름끼치도록 놀라운 심리테스트 ]')\n",
        "\n",
        "menu = input('당신이 좋아하는 음식을 입력해주세요 : ')\n",
        "\n",
        "if menu == '짜장면':\n",
        "  print(f'당신은 {menu}을 좋아하는 사람입니다.')\n",
        "elif menu == '아이스크림':\n",
        "  print(f'당신은 {menu}을 좋아하는 사람입니다.')\n",
        "elif menu == '사탕':\n",
        "  print(f'당신은 {menu}을 좋아하는 사람입니다.')\n",
        "else :\n",
        "  print(f'당신은 짜장면, 아이스크림, 사탕을 좋아하지 않는 사람입니다.')"
      ],
      "execution_count": null,
      "outputs": [
        {
          "output_type": "stream",
          "text": [
            "[ 소름끼치도록 놀라운 심리테스트 ]\n",
            "당신이 좋아하는 음식을 입력해주세요 : 고구마\n",
            "당신은 짜장면, 아이스크림, 사탕을 좋아하지 않는 사람입니다.\n"
          ],
          "name": "stdout"
        }
      ]
    },
    {
      "cell_type": "code",
      "metadata": {
        "colab": {
          "base_uri": "https://localhost:8080/"
        },
        "id": "mjU7Fod8oAIR",
        "outputId": "ea71c316-4cfd-47f7-bbf7-3ee2796033df"
      },
      "source": [
        "names = ['정밀', '폴리', '산설', '메카', '로봇', '전기']\n",
        "\n",
        "for i in [0, 1, 2, 3, 4, 5]:\n",
        "  print(names[i], end=' ')\n",
        "\n",
        "print()\n",
        "\n",
        "for i in range(6):\n",
        "  print(names[i], end=' ')"
      ],
      "execution_count": null,
      "outputs": [
        {
          "output_type": "stream",
          "text": [
            "정밀 폴리 산설 메카 로봇 전기 \n",
            "정밀 폴리 산설 메카 로봇 전기 "
          ],
          "name": "stdout"
        }
      ]
    },
    {
      "cell_type": "code",
      "metadata": {
        "colab": {
          "base_uri": "https://localhost:8080/"
        },
        "id": "U8XAdQmzoVvB",
        "outputId": "32103f0d-1b29-4035-91af-9f2404efcb0b"
      },
      "source": [
        "# 리스트에 저장된 위치(index)로 값에 접근하기 : indexing(인덱싱)\n",
        "\n",
        "names = ['정밀', '폴리', '산설', '메카', '로봇', '전기']\n",
        "         # 0       1       2       3        4       5\n",
        "         # -6     -5      -4      -3       -2       -1\n",
        "\n",
        "print(names[0])   # 리스트 원소 중 제일 첫번째 요소\n",
        "print(names[-1])  # 리스트 원소 중 제일 마지막 요소(뒤에서 첫번째 요소)"
      ],
      "execution_count": null,
      "outputs": [
        {
          "output_type": "stream",
          "text": [
            "정밀\n",
            "전기\n"
          ],
          "name": "stdout"
        }
      ]
    },
    {
      "cell_type": "code",
      "metadata": {
        "colab": {
          "base_uri": "https://localhost:8080/"
        },
        "id": "RujLxlPhoglR",
        "outputId": "ade6bb72-0e22-4817-9d2b-b072ae6fab98"
      },
      "source": [
        "# 리스트에 저장된 위치로 데이터의 일부 자르기 : slicing(슬라이싱)\n",
        "\n",
        "names = ['정밀', '폴리', '산설', '메카', '로봇', '전기']\n",
        "\n",
        "print(names[0:2])\n",
        "print(names[1:3])\n",
        "print(names[1:])\n",
        "print(names[:])"
      ],
      "execution_count": null,
      "outputs": [
        {
          "output_type": "stream",
          "text": [
            "['정밀', '폴리']\n",
            "['폴리', '산설']\n",
            "['폴리', '산설', '메카', '로봇', '전기']\n",
            "['정밀', '폴리', '산설', '메카', '로봇', '전기']\n"
          ],
          "name": "stdout"
        }
      ]
    },
    {
      "cell_type": "code",
      "metadata": {
        "colab": {
          "base_uri": "https://localhost:8080/",
          "height": 136
        },
        "id": "_Nx3tq90oubi",
        "outputId": "bdec786a-8b42-4e5e-a325-4bba2e9bb036"
      },
      "source": [
        "0:2=>0이상 2미만: 0,1"
      ],
      "execution_count": null,
      "outputs": [
        {
          "output_type": "error",
          "ename": "SyntaxError",
          "evalue": "ignored",
          "traceback": [
            "\u001b[0;36m  File \u001b[0;32m\"<ipython-input-57-328615588451>\"\u001b[0;36m, line \u001b[0;32m1\u001b[0m\n\u001b[0;31m    0:2=>0이상 2미만: 0,1\u001b[0m\n\u001b[0m        ^\u001b[0m\n\u001b[0;31mSyntaxError\u001b[0m\u001b[0;31m:\u001b[0m invalid syntax\n"
          ]
        }
      ]
    },
    {
      "cell_type": "code",
      "metadata": {
        "colab": {
          "base_uri": "https://localhost:8080/"
        },
        "id": "RjJRG7fGpCTa",
        "outputId": "2559aa1f-41ff-4396-a156-ce91e43de314"
      },
      "source": [
        "names = ['정밀', '폴리', '산설', '메카', '로봇', '전기']\n",
        "\n",
        "names.append('부기공')\n",
        "names.insert(1,'화이팅')\n",
        "\n",
        "print(names)"
      ],
      "execution_count": null,
      "outputs": [
        {
          "output_type": "stream",
          "text": [
            "['정밀', '화이팅', '폴리', '산설', '메카', '로봇', '전기', '부기공']\n"
          ],
          "name": "stdout"
        }
      ]
    },
    {
      "cell_type": "code",
      "metadata": {
        "colab": {
          "base_uri": "https://localhost:8080/"
        },
        "id": "NzsP7Bh0pClJ",
        "outputId": "47014331-062b-49e4-fdf2-51084645b472"
      },
      "source": [
        "names = ['정밀', '폴리', '산설', '메카', '로봇', '전기']\n",
        "\n",
        "print(len(names))   # 리스트의 길이 출력하기\n",
        "print(len('문자열의 크기를 구해봅시다.')) # 문자열의 길이 출력하기"
      ],
      "execution_count": null,
      "outputs": [
        {
          "output_type": "stream",
          "text": [
            "6\n",
            "15\n"
          ],
          "name": "stdout"
        }
      ]
    },
    {
      "cell_type": "code",
      "metadata": {
        "colab": {
          "base_uri": "https://localhost:8080/"
        },
        "id": "cZwjoOABpj0q",
        "outputId": "ed7e55e4-1054-44aa-c416-a5346a3ddc5c"
      },
      "source": [
        "names = ['정밀', '폴리', '산설', '메카', '로봇', '전기']\n",
        "\n",
        "names.append('부산기계')\n",
        "\n",
        "for name in names:\n",
        "  if len(name) > 2:\n",
        "    print(f'{name}공업고등학교')"
      ],
      "execution_count": null,
      "outputs": [
        {
          "output_type": "stream",
          "text": [
            "부산기계공업고등학교\n"
          ],
          "name": "stdout"
        }
      ]
    },
    {
      "cell_type": "code",
      "metadata": {
        "id": "A2QWKUTipw2J",
        "colab": {
          "base_uri": "https://localhost:8080/"
        },
        "outputId": "30b86e48-4433-4f34-cf6b-ae133d4f38f3"
      },
      "source": [
        "print('Hello World')\n",
        "print('Busan')\n",
        "print('Mechanical')\n",
        "print('High School')"
      ],
      "execution_count": 63,
      "outputs": [
        {
          "output_type": "stream",
          "text": [
            "Hello World\n",
            "Busan\n",
            "Mechanical\n",
            "High School\n"
          ],
          "name": "stdout"
        }
      ]
    },
    {
      "cell_type": "code",
      "metadata": {
        "colab": {
          "base_uri": "https://localhost:8080/"
        },
        "id": "ALFbXvArqK-7",
        "outputId": "fb1f9264-7681-41f1-bfbc-0fe5564b6b57"
      },
      "source": [
        "print('Hello', end = ' ') # end 속성\n",
        "print('World')"
      ],
      "execution_count": 64,
      "outputs": [
        {
          "output_type": "stream",
          "text": [
            "Hello World\n"
          ],
          "name": "stdout"
        }
      ]
    },
    {
      "cell_type": "code",
      "metadata": {
        "colab": {
          "base_uri": "https://localhost:8080/"
        },
        "id": "0myK6fQ6qMyq",
        "outputId": "8ab6aee1-63f4-47e3-f5d2-dd9568ce2ca2"
      },
      "source": [
        "print('Hello', 'World')   # 각 문자열 한칸 띄우기\n",
        "print('Hello' + 'World')  # 문자열 합치기"
      ],
      "execution_count": 65,
      "outputs": [
        {
          "output_type": "stream",
          "text": [
            "Hello World\n",
            "HelloWorld\n"
          ],
          "name": "stdout"
        }
      ]
    },
    {
      "cell_type": "code",
      "metadata": {
        "colab": {
          "base_uri": "https://localhost:8080/"
        },
        "id": "J9ebuhGoqYkC",
        "outputId": "d78cd003-41d0-4f1b-e742-2f8ac6229c14"
      },
      "source": [
        "# 이스케이프 시퀀스(Escape Sequence)\n",
        "# \\와 특정문자를 결합하여 문자를 표시해주는 문자\n",
        "\n",
        "print('Hello\\'') # \\' : 작은 따옴표 표시\n",
        "print('Hello\\\"') # \\\" : 큰 따옴표 표시\n",
        "print('Hello\\nWorld') # \\n : 개행(엔터)"
      ],
      "execution_count": 66,
      "outputs": [
        {
          "output_type": "stream",
          "text": [
            "Hello'\n",
            "Hello\"\n",
            "Hello\n",
            "World\n"
          ],
          "name": "stdout"
        }
      ]
    },
    {
      "cell_type": "code",
      "metadata": {
        "colab": {
          "base_uri": "https://localhost:8080/"
        },
        "id": "tETdlbOZqfYm",
        "outputId": "041c2643-8a33-4806-8310-e6405bdc5201"
      },
      "source": [
        "x = input() # 키보드를 통한 문자열 입력하고 그 값을 x 변수에 저장\n",
        "print(x) # 입력된 x 변수값 출력     "
      ],
      "execution_count": 67,
      "outputs": [
        {
          "output_type": "stream",
          "text": [
            "안녕\n",
            "안녕\n"
          ],
          "name": "stdout"
        }
      ]
    },
    {
      "cell_type": "code",
      "metadata": {
        "colab": {
          "base_uri": "https://localhost:8080/"
        },
        "id": "Qo59smE6qpAC",
        "outputId": "f723b39f-ac2f-4c51-ea23-d7987b4f3772"
      },
      "source": [
        "x = input('x 입력 : ')\n",
        "y = input('y 입력 : ')\n",
        "\n",
        "print(x, '+', y, '=', x+y)\n",
        "# 잘못된 출력 => 이유 입력되는 숫자도 문자열임. "
      ],
      "execution_count": 68,
      "outputs": [
        {
          "output_type": "stream",
          "text": [
            "x 입력 : 1\n",
            "y 입력 : 2\n",
            "1 + 2 = 12\n"
          ],
          "name": "stdout"
        }
      ]
    },
    {
      "cell_type": "code",
      "metadata": {
        "colab": {
          "base_uri": "https://localhost:8080/"
        },
        "id": "EfNT5IzCq4j7",
        "outputId": "2cdb5f65-9fee-45a0-955c-81f71ca5812f"
      },
      "source": [
        "# 두 값을 입력받아 더한 결과를 출력하기 - 해결\n",
        "\n",
        "x = input('x 입력 : ')\n",
        "y = input('y 입력 : ')\n",
        "\n",
        "print(x, '+', y, '=', int(x)+int(y))"
      ],
      "execution_count": 69,
      "outputs": [
        {
          "output_type": "stream",
          "text": [
            "x 입력 : 1\n",
            "y 입력 : 2\n",
            "1 + 2 = 3\n"
          ],
          "name": "stdout"
        }
      ]
    },
    {
      "cell_type": "code",
      "metadata": {
        "colab": {
          "base_uri": "https://localhost:8080/"
        },
        "id": "vYfWt0Bcq9QL",
        "outputId": "37284511-075e-4403-9ce6-53dd5188c14f"
      },
      "source": [
        "x = input('x 입력 : ')\n",
        "y = input('y 입력 : ')\n",
        "\n",
        "print(f'{x} + {y} = {int(x)+int(y)}')"
      ],
      "execution_count": 70,
      "outputs": [
        {
          "output_type": "stream",
          "text": [
            "x 입력 : 1\n",
            "y 입력 : 2\n",
            "1 + 2 = 3\n"
          ],
          "name": "stdout"
        }
      ]
    },
    {
      "cell_type": "code",
      "metadata": {
        "colab": {
          "base_uri": "https://localhost:8080/"
        },
        "id": "yz5pEj2ErCaC",
        "outputId": "65cc7f75-a635-4091-ea17-3355859934cd"
      },
      "source": [
        "x = int(input('첫 번째 정수 입력 : '))\n",
        "y = int(input('두 번째 정수 입력 : '))\n",
        "\n",
        "# 제어부(연산작업) + 출력부\n",
        "print(x, '+', y, '=', (x + y))\n",
        "print(x, '-', y, '=', (x - y))\n",
        "print(x, 'x', y, '=', (x * y))\n",
        "print(x, '/', y, '=', (x / y))"
      ],
      "execution_count": 71,
      "outputs": [
        {
          "output_type": "stream",
          "text": [
            "첫 번째 정수 입력 : 10\n",
            "두 번째 정수 입력 : 2\n",
            "10 + 2 = 12\n",
            "10 - 2 = 8\n",
            "10 x 2 = 20\n",
            "10 / 2 = 5.0\n"
          ],
          "name": "stdout"
        }
      ]
    },
    {
      "cell_type": "code",
      "metadata": {
        "colab": {
          "base_uri": "https://localhost:8080/"
        },
        "id": "EWIbGtEyrNSi",
        "outputId": "68013e8c-b5a3-49d4-82c1-477b8e12c6e5"
      },
      "source": [
        "x = int(input('x 입력 : '))\n",
        "y = float(input('y 입력 : '))\n",
        "\n",
        "print(f'{x} + {y} = {x+y}')"
      ],
      "execution_count": 72,
      "outputs": [
        {
          "output_type": "stream",
          "text": [
            "x 입력 : 1\n",
            "y 입력 : 2\n",
            "1 + 2.0 = 3.0\n"
          ],
          "name": "stdout"
        }
      ]
    },
    {
      "cell_type": "code",
      "metadata": {
        "colab": {
          "base_uri": "https://localhost:8080/"
        },
        "id": "savHStvfrRZz",
        "outputId": "f40b41e1-6c7d-490f-d6fc-3da4c8e3eb36"
      },
      "source": [
        "x = int(input('첫 번째 정수 입력 : '))\n",
        "y = int(input('두 번째 정수 입력 : '))\n",
        "\n",
        "# 제어부(연산작업) + 출력부\n",
        "print(x, '+', y, '=', (x + y))\n",
        "print(x, '-', y, '=', (x - y))\n",
        "print(x, 'x', y, '=', (x * y))\n",
        "print(x, '/', y, '=', (x / y))\n",
        "print(x, '//', y, '=', (x // y)) # 몫\n",
        "print(x, '%', y, '=', (x % y)) # 나머지\n",
        "\n",
        "# 구분선\n",
        "print('*'*50)\n",
        "print(f'{x} + {y} = {x+y}')\n",
        "\n",
        "# f 스트링 사용한 출력부\n",
        "print(f'{x} + {y} = {x + y}')\n",
        "print(f'{x} - {y} = {x - y}')\n",
        "print(f'{x} x {y} = {x * y}')\n",
        "print(f'{x} / {y} = {x / y}')\n",
        "print(f'{x} // {y} (나눈 몫) = {x // y}')\n",
        "print(f'{x} % {y} (나눈 나머지) = {x % y}')"
      ],
      "execution_count": 73,
      "outputs": [
        {
          "output_type": "stream",
          "text": [
            "첫 번째 정수 입력 : 10\n",
            "두 번째 정수 입력 : 2\n",
            "10 + 2 = 12\n",
            "10 - 2 = 8\n",
            "10 x 2 = 20\n",
            "10 / 2 = 5.0\n",
            "10 // 2 = 5\n",
            "10 % 2 = 0\n",
            "**************************************************\n",
            "10 + 2 = 12\n",
            "10 + 2 = 12\n",
            "10 - 2 = 8\n",
            "10 x 2 = 20\n",
            "10 / 2 = 5.0\n",
            "10 // 2 (나눈 몫) = 5\n",
            "10 % 2 (나눈 나머지) = 0\n"
          ],
          "name": "stdout"
        }
      ]
    },
    {
      "cell_type": "code",
      "metadata": {
        "colab": {
          "base_uri": "https://localhost:8080/"
        },
        "id": "9QieEY4zrW0D",
        "outputId": "cc002802-d85e-4e03-a2c1-8c4bb1d3c319"
      },
      "source": [
        "weight = int(input('weight(kg) : '))\n",
        "height = int(input('height(cm) : '))\n",
        "\n",
        "# 제어부\n",
        "BMI = weight / ( height/100)**2\n",
        "\n",
        "# 출력부\n",
        "print(f'BMI : {BMI:.2f}')"
      ],
      "execution_count": 74,
      "outputs": [
        {
          "output_type": "stream",
          "text": [
            "weight(kg) : 83\n",
            "height(cm) : 179\n",
            "BMI : 25.90\n"
          ],
          "name": "stdout"
        }
      ]
    },
    {
      "cell_type": "code",
      "metadata": {
        "colab": {
          "base_uri": "https://localhost:8080/"
        },
        "id": "DQc51DRirh40",
        "outputId": "f50458d7-bc0d-410f-e0a1-585927299342"
      },
      "source": [
        "weight = int(input('weight(kg) : '))\n",
        "height = int(input('height(cm) : '))\n",
        "\n",
        "# 제어부\n",
        "BMI = weight / ( height/100)**2\n",
        "\n",
        "# 출력부\n",
        "print(f'BMI : {BMI:4.3f}')"
      ],
      "execution_count": 76,
      "outputs": [
        {
          "output_type": "stream",
          "text": [
            "weight(kg) : 83\n",
            "height(cm) : 179\n",
            "BMI : 25.904\n"
          ],
          "name": "stdout"
        }
      ]
    },
    {
      "cell_type": "code",
      "metadata": {
        "colab": {
          "base_uri": "https://localhost:8080/"
        },
        "id": "6_Q8VO-9ruur",
        "outputId": "a1ef1310-0db4-4cb9-e3d1-ff97975aa5d6"
      },
      "source": [
        "print('ExchangeRate Calc : $ - \\ ')\n",
        "ExchangeRate = float(input(' 1$ ExchangeRate : '))\n",
        "KRW = int(input('KRW : '))\n",
        "\n",
        "# 제어부 : 환율계산 => 0.84$ / 1000\\\n",
        "USD = ExchangeRate / 1000 * KRW\n",
        "\n",
        "# 출력부\n",
        "print(f'USD : {USD:.1f} $')\n"
      ],
      "execution_count": 77,
      "outputs": [
        {
          "output_type": "stream",
          "text": [
            "ExchangeRate Calc : $ - \\ \n",
            " 1$ ExchangeRate : 0.84\n",
            "KRW : 100000\n",
            "USD : 84.0 $\n"
          ],
          "name": "stdout"
        }
      ]
    },
    {
      "cell_type": "code",
      "metadata": {
        "colab": {
          "base_uri": "https://localhost:8080/"
        },
        "id": "3YU112yZsBv7",
        "outputId": "fc0cecd2-e8a3-4588-af75-c444f333e139"
      },
      "source": [
        "# 섭씨(Celsius) <=> 화씨(Fahrenheit) 변환\n",
        "# F = C * 1.8 + 32 / C = (F-32) / 1.8\n",
        "# 입력부\n",
        "celsius = float(input('Celsius : '))\n",
        "\n",
        "# 제어부 : 변환\n",
        "fahrenheit = (celsius * 1.8) + 32\n",
        "\n",
        "# 출력부\n",
        "print(f'Fahrenheit : {fahrenheit}')"
      ],
      "execution_count": 78,
      "outputs": [
        {
          "output_type": "stream",
          "text": [
            "Celsius : 21\n",
            "Fahrenheit : 69.80000000000001\n"
          ],
          "name": "stdout"
        }
      ]
    },
    {
      "cell_type": "code",
      "metadata": {
        "colab": {
          "base_uri": "https://localhost:8080/",
          "height": 136
        },
        "id": "AU--ZXTvsOkC",
        "outputId": "20eef010-b7ac-4d2d-af3d-ee4fe8dabcb2"
      },
      "source": [
        "len() : 문자열 길이 구하기\n",
        "count() : 문자의 개수 구하기\n",
        "find() : 문자가 처음 나오는 위치 반환, 없으면 -1\n",
        "index() : 문자열이 처음 나오는 위치 반환, 없으면 오류\n",
        "join() : 문자열 사이에 문자 삽입, 예:'삽입문자'.join(문자열)\n",
        "upper() : 소문자를 대문자로 변환\n",
        "lower() : 대문자를 소문자로 변환\n",
        "replace() : 문자열 바꾸기, 예:replace(원본, 변환 문자)\n",
        "split() : 문자열 나누기 - 인수가 없으면 공백(스페이스, 탭, 엔터 등 구분자)을 기준"
      ],
      "execution_count": 79,
      "outputs": [
        {
          "output_type": "error",
          "ename": "SyntaxError",
          "evalue": "ignored",
          "traceback": [
            "\u001b[0;36m  File \u001b[0;32m\"<ipython-input-79-92ebf1163e8c>\"\u001b[0;36m, line \u001b[0;32m1\u001b[0m\n\u001b[0;31m    len() : 문자열 길이 구하기\u001b[0m\n\u001b[0m                 ^\u001b[0m\n\u001b[0;31mSyntaxError\u001b[0m\u001b[0;31m:\u001b[0m invalid syntax\n"
          ]
        }
      ]
    },
    {
      "cell_type": "code",
      "metadata": {
        "colab": {
          "base_uri": "https://localhost:8080/"
        },
        "id": "2wSXjrw6siV7",
        "outputId": "64235043-e31b-4138-b55e-ac0f6110674a"
      },
      "source": [
        "x = 'Hello Python'\n",
        "\n",
        "len(x)\n",
        "print(f'len(x) : {len(x)}')"
      ],
      "execution_count": 80,
      "outputs": [
        {
          "output_type": "stream",
          "text": [
            "len(x) : 12\n"
          ],
          "name": "stdout"
        }
      ]
    },
    {
      "cell_type": "code",
      "metadata": {
        "colab": {
          "base_uri": "https://localhost:8080/"
        },
        "id": "O-Jr8jf7sig5",
        "outputId": "561bd54c-7b34-4210-eefc-2db5e0029986"
      },
      "source": [
        "x = 'Hello Python'\n",
        "\n",
        "x.count('o')\n",
        "print(f\"x.count('o') : {x.count('o')}\") # 안쪽에 작은 따옴표가 있기에 바깥쪽에는 큰 따옴표가 있어야 함."
      ],
      "execution_count": 81,
      "outputs": [
        {
          "output_type": "stream",
          "text": [
            "x.count('o') : 2\n"
          ],
          "name": "stdout"
        }
      ]
    },
    {
      "cell_type": "code",
      "metadata": {
        "colab": {
          "base_uri": "https://localhost:8080/"
        },
        "id": "Km9efrBwsmp0",
        "outputId": "266da1e2-901d-4bc2-f1b5-3af467cd646e"
      },
      "source": [
        "x = 'Hello Python'\n",
        "\n",
        "x.find(\"o\")\n",
        "print(f'x.find(\"o\") : {x.find(\"o\")}')"
      ],
      "execution_count": 82,
      "outputs": [
        {
          "output_type": "stream",
          "text": [
            "x.find(\"o\") : 4\n"
          ],
          "name": "stdout"
        }
      ]
    },
    {
      "cell_type": "code",
      "metadata": {
        "colab": {
          "base_uri": "https://localhost:8080/"
        },
        "id": "IvlnL_e8tDHj",
        "outputId": "1deb2ab4-2fc6-4f16-a46e-b4eaa29a5717"
      },
      "source": [
        "x = 'Hello Python'\n",
        "\n",
        "x.index(\"Python\")\n",
        "print(f'x.index(\"Python\") : {x.index(\"Python\")}')"
      ],
      "execution_count": 83,
      "outputs": [
        {
          "output_type": "stream",
          "text": [
            "x.index(\"Python\") : 6\n"
          ],
          "name": "stdout"
        }
      ]
    },
    {
      "cell_type": "code",
      "metadata": {
        "colab": {
          "base_uri": "https://localhost:8080/"
        },
        "id": "kwQehK08tMHr",
        "outputId": "5e9f8275-2062-4847-f127-92900480d009"
      },
      "source": [
        "x = 'Hello Python'\n",
        "\n",
        "z = '*'.join(x)\n",
        "print(z)"
      ],
      "execution_count": 85,
      "outputs": [
        {
          "output_type": "stream",
          "text": [
            "H*e*l*l*o* *P*y*t*h*o*n\n"
          ],
          "name": "stdout"
        }
      ]
    },
    {
      "cell_type": "code",
      "metadata": {
        "colab": {
          "base_uri": "https://localhost:8080/"
        },
        "id": "hdOH18MatSpz",
        "outputId": "4931437e-a79c-4c11-ab0d-0e63f8918ace"
      },
      "source": [
        "\n",
        "x = 'Hello Python'\n",
        "\n",
        "y = '-'.join(x)\n",
        "print(y)\n",
        "\n",
        "y.split(\"-\")\n",
        "print(f'y.split(\"-\") : {y.split(\"-\")}')"
      ],
      "execution_count": 86,
      "outputs": [
        {
          "output_type": "stream",
          "text": [
            "H-e-l-l-o- -P-y-t-h-o-n\n",
            "y.split(\"-\") : ['H', 'e', 'l', 'l', 'o', ' ', 'P', 'y', 't', 'h', 'o', 'n']\n"
          ],
          "name": "stdout"
        }
      ]
    },
    {
      "cell_type": "code",
      "metadata": {
        "colab": {
          "base_uri": "https://localhost:8080/"
        },
        "id": "fneEeKscthM0",
        "outputId": "93164af2-c4fd-4ba6-b6a3-22506d053f57"
      },
      "source": [
        "x = 'Hello Python'\n",
        "\n",
        "x.upper()\n",
        "print(f'x.upper() : {x.upper()}')"
      ],
      "execution_count": 87,
      "outputs": [
        {
          "output_type": "stream",
          "text": [
            "x.upper() : HELLO PYTHON\n"
          ],
          "name": "stdout"
        }
      ]
    },
    {
      "cell_type": "code",
      "metadata": {
        "colab": {
          "base_uri": "https://localhost:8080/"
        },
        "id": "ac5LffOotp31",
        "outputId": "3454611d-e895-41ef-9108-d1b68e0b305a"
      },
      "source": [
        "\n",
        "x = 'Hello Python'\n",
        "\n",
        "x.lower()\n",
        "print(f'x.lower() : {x.lower()}')"
      ],
      "execution_count": 88,
      "outputs": [
        {
          "output_type": "stream",
          "text": [
            "x.lower() : hello python\n"
          ],
          "name": "stdout"
        }
      ]
    },
    {
      "cell_type": "code",
      "metadata": {
        "colab": {
          "base_uri": "https://localhost:8080/"
        },
        "id": "5d3xViwAtryT",
        "outputId": "258b5aaa-0711-45e9-e86d-eff4e0333bcc"
      },
      "source": [
        "x = 'Hello Python'\n",
        "\n",
        "x.replace(\"P\", \"★\")\n",
        "print(f'x.replace(\"P\", \"★\") : {x.replace(\"P\", \"★\")}')"
      ],
      "execution_count": 89,
      "outputs": [
        {
          "output_type": "stream",
          "text": [
            "x.replace(\"P\", \"★\") : Hello ★ython\n"
          ],
          "name": "stdout"
        }
      ]
    },
    {
      "cell_type": "code",
      "metadata": {
        "id": "o9vr_Y2It1hs"
      },
      "source": [
        "# 코로나 어원\n",
        "\n",
        "corona = '''\n",
        "코로나(corona)는 라틴말로 왕관을 뜻하며 통상 태양을 둘러싼 외곽의 빛(광환)을 지칭한다.\n",
        "코로나 바이러스라는 이름은 전자현미경으로 이 바이러스를 관찰했을 때 마치 코로나와 유사한 모양을 띠어 붙여진 이름이다.\n",
        "이번에 중국의 우환에서 시작된 코로나 바이러스는 2019년에 발견된 새로운 코로나 바이러스라는 뜻으로 2019-nCov로 붙여졌다.\n",
        "nCov는 novel(새로운) Cov(코로나 바이러스)라는 뜻이다.\n",
        "'''\n",
        "print('-'*50)\n",
        "sentence = corona.count('.')\n",
        "print(f'{sentence} 개의 문장으로 이루어짐')\n",
        "print(corona.replace('\\n','').split('.'))\n",
        "\n",
        "print()\n",
        "\n",
        "print('-'*50)\n",
        "str = input('찾으려는 단어를 입력하시요 : ')\n",
        "cnt = corona.count(str)\n",
        "print(f\"'{str}'(은/는) {cnt} 번 언급됨\")"
      ],
      "execution_count": null,
      "outputs": []
    }
  ]
}