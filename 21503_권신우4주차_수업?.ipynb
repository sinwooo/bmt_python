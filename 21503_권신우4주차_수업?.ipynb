{
  "nbformat": 4,
  "nbformat_minor": 0,
  "metadata": {
    "colab": {
      "name": "21503 권신우4주차 수업?",
      "provenance": [],
      "collapsed_sections": [],
      "authorship_tag": "ABX9TyMRanHPXPX+pyMzqMiGEBX3",
      "include_colab_link": true
    },
    "kernelspec": {
      "name": "python3",
      "display_name": "Python 3"
    },
    "language_info": {
      "name": "python"
    }
  },
  "cells": [
    {
      "cell_type": "markdown",
      "metadata": {
        "id": "view-in-github",
        "colab_type": "text"
      },
      "source": [
        "<a href=\"https://colab.research.google.com/github/sinwooo/bmt_python/blob/main/21503_%EA%B6%8C%EC%8B%A0%EC%9A%B04%EC%A3%BC%EC%B0%A8_%EC%88%98%EC%97%85%3F.ipynb\" target=\"_parent\"><img src=\"https://colab.research.google.com/assets/colab-badge.svg\" alt=\"Open In Colab\"/></a>"
      ]
    },
    {
      "cell_type": "code",
      "metadata": {
        "colab": {
          "base_uri": "https://localhost:8080/"
        },
        "id": "dHCT56mb0uLb",
        "outputId": "78bb821a-e30a-4f5c-9d4b-1722af8a2a17"
      },
      "source": [
        "print('심리테스트')\n",
        "#string int ,float , char\n",
        "menu=input('당신이 좋아하는 과일 입력 :  ')\n",
        "if menu == '사과':\n",
        "  print('당신은 사과를 좋아하시는군요!')\n",
        "elif menu == '수박':\n",
        "  print('당신은 여름사나이군요!')\n",
        "else:\n",
        "    print('좋아하는 과일 입력 : ')"
      ],
      "execution_count": 6,
      "outputs": [
        {
          "output_type": "stream",
          "text": [
            "심리테스트\n",
            "당신이 좋아하는 과일 입력 :  수박\n",
            "당신은 여름사나이군요!\n"
          ],
          "name": "stdout"
        }
      ]
    },
    {
      "cell_type": "code",
      "metadata": {
        "colab": {
          "base_uri": "https://localhost:8080/",
          "height": 35
        },
        "id": "m-8nLdNB2Fgd",
        "outputId": "572a0b54-a512-4782-9be0-e68086af34f4"
      },
      "source": [
        "menu"
      ],
      "execution_count": 7,
      "outputs": [
        {
          "output_type": "execute_result",
          "data": {
            "application/vnd.google.colaboratory.intrinsic+json": {
              "type": "string"
            },
            "text/plain": [
              "'수박'"
            ]
          },
          "metadata": {
            "tags": []
          },
          "execution_count": 7
        }
      ]
    },
    {
      "cell_type": "code",
      "metadata": {
        "colab": {
          "base_uri": "https://localhost:8080/"
        },
        "id": "WGbrvcmU2P9T",
        "outputId": "b21129a9-f948-4cfb-bd5a-ccd718f42c8a"
      },
      "source": [
        "names=['정밀', '산설', '메카', '전기', '로봇', '폴리']\n",
        "\n",
        "for i in [0,1,2,3,4,5]:\n",
        "  print(names[i], end='')"
      ],
      "execution_count": 11,
      "outputs": [
        {
          "output_type": "stream",
          "text": [
            "정밀산설메카전기로봇폴리"
          ],
          "name": "stdout"
        }
      ]
    },
    {
      "cell_type": "code",
      "metadata": {
        "colab": {
          "base_uri": "https://localhost:8080/"
        },
        "id": "GynFBFrz4mD6",
        "outputId": "24f410ec-b392-4712-a4a3-28a79e972e98"
      },
      "source": [
        "for i in range(6):\n",
        "  print(names[i], end=' ')"
      ],
      "execution_count": 12,
      "outputs": [
        {
          "output_type": "stream",
          "text": [
            "정밀 산설 메카 전기 로봇 폴리 "
          ],
          "name": "stdout"
        }
      ]
    },
    {
      "cell_type": "code",
      "metadata": {
        "colab": {
          "base_uri": "https://localhost:8080/"
        },
        "id": "Wke6evu_5XOE",
        "outputId": "67f883f6-faee-4b78-ccdb-4ec1b6a2feca"
      },
      "source": [
        "names"
      ],
      "execution_count": 13,
      "outputs": [
        {
          "output_type": "execute_result",
          "data": {
            "text/plain": [
              "['정밀', '산설', '메카', '전기', '로봇', '폴리']"
            ]
          },
          "metadata": {
            "tags": []
          },
          "execution_count": 13
        }
      ]
    },
    {
      "cell_type": "code",
      "metadata": {
        "colab": {
          "base_uri": "https://localhost:8080/",
          "height": 35
        },
        "id": "Cuj_tXbh5fIz",
        "outputId": "efe629a4-d593-419f-b664-050c2773e2ce"
      },
      "source": [
        "names[-1]"
      ],
      "execution_count": 14,
      "outputs": [
        {
          "output_type": "execute_result",
          "data": {
            "application/vnd.google.colaboratory.intrinsic+json": {
              "type": "string"
            },
            "text/plain": [
              "'폴리'"
            ]
          },
          "metadata": {
            "tags": []
          },
          "execution_count": 14
        }
      ]
    },
    {
      "cell_type": "code",
      "metadata": {
        "colab": {
          "base_uri": "https://localhost:8080/"
        },
        "id": "yaGx8m7t5oqE",
        "outputId": "0dcd908a-2472-45b9-8a83-c63f5d181418"
      },
      "source": [
        "names"
      ],
      "execution_count": 15,
      "outputs": [
        {
          "output_type": "execute_result",
          "data": {
            "text/plain": [
              "['정밀', '산설', '메카', '전기', '로봇', '폴리']"
            ]
          },
          "metadata": {
            "tags": []
          },
          "execution_count": 15
        }
      ]
    },
    {
      "cell_type": "code",
      "metadata": {
        "colab": {
          "base_uri": "https://localhost:8080/"
        },
        "id": "TAFyCavG57oj",
        "outputId": "a76b11db-f469-42ea-cf3d-18709f0864f9"
      },
      "source": [
        "names"
      ],
      "execution_count": 16,
      "outputs": [
        {
          "output_type": "execute_result",
          "data": {
            "text/plain": [
              "['정밀', '산설', '메카', '전기', '로봇', '폴리']"
            ]
          },
          "metadata": {
            "tags": []
          },
          "execution_count": 16
        }
      ]
    },
    {
      "cell_type": "code",
      "metadata": {
        "colab": {
          "base_uri": "https://localhost:8080/"
        },
        "id": "AKlCwAP858sz",
        "outputId": "5d809f1b-48ad-44e0-98a6-37a63c46b3c8"
      },
      "source": [
        "names[:]"
      ],
      "execution_count": 18,
      "outputs": [
        {
          "output_type": "execute_result",
          "data": {
            "text/plain": [
              "['정밀', '산설', '메카', '전기', '로봇', '폴리']"
            ]
          },
          "metadata": {
            "tags": []
          },
          "execution_count": 18
        }
      ]
    },
    {
      "cell_type": "code",
      "metadata": {
        "colab": {
          "base_uri": "https://localhost:8080/"
        },
        "id": "mBpihXBY6KZU",
        "outputId": "e3b9ed6f-1617-46e6-ca17-522d0bbf86b6"
      },
      "source": [
        "names[3:3]"
      ],
      "execution_count": 19,
      "outputs": [
        {
          "output_type": "execute_result",
          "data": {
            "text/plain": [
              "[]"
            ]
          },
          "metadata": {
            "tags": []
          },
          "execution_count": 19
        }
      ]
    },
    {
      "cell_type": "code",
      "metadata": {
        "colab": {
          "base_uri": "https://localhost:8080/"
        },
        "id": "4UsyCKkR6ROj",
        "outputId": "82aa55bd-2e9b-421d-e119-975e182d2b15"
      },
      "source": [
        "names"
      ],
      "execution_count": 20,
      "outputs": [
        {
          "output_type": "execute_result",
          "data": {
            "text/plain": [
              "['정밀', '산설', '메카', '전기', '로봇', '폴리']"
            ]
          },
          "metadata": {
            "tags": []
          },
          "execution_count": 20
        }
      ]
    },
    {
      "cell_type": "code",
      "metadata": {
        "id": "XJf0co2-6Tiz"
      },
      "source": [
        "names.append('부기공')"
      ],
      "execution_count": 22,
      "outputs": []
    },
    {
      "cell_type": "code",
      "metadata": {
        "colab": {
          "base_uri": "https://localhost:8080/"
        },
        "id": "NuGEmiNX6dll",
        "outputId": "b9b59b08-a258-4ff0-f367-4fb907e5b1e5"
      },
      "source": [
        "names"
      ],
      "execution_count": 23,
      "outputs": [
        {
          "output_type": "execute_result",
          "data": {
            "text/plain": [
              "['정밀', '산설', '메카', '전기', '로봇', '폴리', '부기공']"
            ]
          },
          "metadata": {
            "tags": []
          },
          "execution_count": 23
        }
      ]
    },
    {
      "cell_type": "code",
      "metadata": {
        "colab": {
          "base_uri": "https://localhost:8080/"
        },
        "id": "xYQ9ItRK6gcz",
        "outputId": "fb46fb95-56b4-4cf4-d91e-a7378ac35409"
      },
      "source": [
        "len(names)"
      ],
      "execution_count": 24,
      "outputs": [
        {
          "output_type": "execute_result",
          "data": {
            "text/plain": [
              "7"
            ]
          },
          "metadata": {
            "tags": []
          },
          "execution_count": 24
        }
      ]
    },
    {
      "cell_type": "code",
      "metadata": {
        "colab": {
          "base_uri": "https://localhost:8080/"
        },
        "id": "GJ6-SvON7Eik",
        "outputId": "d1d56dba-6bc4-4702-85d7-7aa7891e2d26"
      },
      "source": [
        "names.count('부기공')"
      ],
      "execution_count": 25,
      "outputs": [
        {
          "output_type": "execute_result",
          "data": {
            "text/plain": [
              "1"
            ]
          },
          "metadata": {
            "tags": []
          },
          "execution_count": 25
        }
      ]
    },
    {
      "cell_type": "code",
      "metadata": {
        "colab": {
          "base_uri": "https://localhost:8080/"
        },
        "id": "SGQvoL0f7QzT",
        "outputId": "8416222c-bf81-42fc-864a-c98688218044"
      },
      "source": [
        "names"
      ],
      "execution_count": 26,
      "outputs": [
        {
          "output_type": "execute_result",
          "data": {
            "text/plain": [
              "['정밀', '산설', '메카', '전기', '로봇', '폴리', '부기공']"
            ]
          },
          "metadata": {
            "tags": []
          },
          "execution_count": 26
        }
      ]
    },
    {
      "cell_type": "code",
      "metadata": {
        "id": "8CiHnoZC7SfD"
      },
      "source": [
        "names.append('부산기계공')"
      ],
      "execution_count": 29,
      "outputs": []
    },
    {
      "cell_type": "code",
      "metadata": {
        "id": "rYTiAVgz7XUn"
      },
      "source": [
        "names.append('부산기계공업')\n"
      ],
      "execution_count": 32,
      "outputs": []
    },
    {
      "cell_type": "code",
      "metadata": {
        "colab": {
          "base_uri": "https://localhost:8080/"
        },
        "id": "i18PqPvf70uz",
        "outputId": "ef9e1827-3dc3-4e39-8531-73f1d7d0b530"
      },
      "source": [
        "for name in names:\n",
        "  if len(name)>5:\n",
        "    print(name, '고등학교')"
      ],
      "execution_count": 33,
      "outputs": [
        {
          "output_type": "stream",
          "text": [
            "부산기계공업 고등학교\n"
          ],
          "name": "stdout"
        }
      ]
    },
    {
      "cell_type": "code",
      "metadata": {
        "colab": {
          "base_uri": "https://localhost:8080/"
        },
        "id": "W1Zj0Rji8Q1j",
        "outputId": "3348632d-5a05-491b-bb34-ee2ed81ed029"
      },
      "source": [
        "print('hello world\\n')\n",
        "print('busan')"
      ],
      "execution_count": 35,
      "outputs": [
        {
          "output_type": "stream",
          "text": [
            "hello world\n",
            "\n",
            "busan\n"
          ],
          "name": "stdout"
        }
      ]
    },
    {
      "cell_type": "code",
      "metadata": {
        "colab": {
          "base_uri": "https://localhost:8080/"
        },
        "id": "kBrc6VWa-8zT",
        "outputId": "d02fe406-22ac-4e05-aeed-2d1b601c63cb"
      },
      "source": [
        "print('hello', end='***')\n",
        "print('world')"
      ],
      "execution_count": 38,
      "outputs": [
        {
          "output_type": "stream",
          "text": [
            "hello***world\n"
          ],
          "name": "stdout"
        }
      ]
    },
    {
      "cell_type": "code",
      "metadata": {
        "colab": {
          "base_uri": "https://localhost:8080/"
        },
        "id": "C5UTdPYu_XVA",
        "outputId": "45dd4411-0d47-4bb7-dd10-a0eb70662578"
      },
      "source": [
        "print('f', end='s')\n"
      ],
      "execution_count": 41,
      "outputs": [
        {
          "output_type": "stream",
          "text": [
            "fs"
          ],
          "name": "stdout"
        }
      ]
    },
    {
      "cell_type": "code",
      "metadata": {
        "colab": {
          "base_uri": "https://localhost:8080/"
        },
        "id": "BY_NImFn_h6w",
        "outputId": "f5edbb65-d80a-4da5-d7da-a05f5b35539a"
      },
      "source": [
        "print('hello', 'world')\n",
        "print('hello'+'world')"
      ],
      "execution_count": 42,
      "outputs": [
        {
          "output_type": "stream",
          "text": [
            "hello world\n",
            "helloworld\n"
          ],
          "name": "stdout"
        }
      ]
    },
    {
      "cell_type": "code",
      "metadata": {
        "colab": {
          "base_uri": "https://localhost:8080/"
        },
        "id": "NqJXimhOAFWR",
        "outputId": "6a2ed96c-1fff-40e7-d4a4-1d75e06f4e50"
      },
      "source": [
        "print('hello\\'')"
      ],
      "execution_count": 43,
      "outputs": [
        {
          "output_type": "stream",
          "text": [
            "hello'\n"
          ],
          "name": "stdout"
        }
      ]
    },
    {
      "cell_type": "code",
      "metadata": {
        "colab": {
          "base_uri": "https://localhost:8080/"
        },
        "id": "RQ5pj4vwAh1A",
        "outputId": "4ec08a29-f3a6-489d-9f91-99ec393126f1"
      },
      "source": [
        "print(\"hi'\")"
      ],
      "execution_count": 44,
      "outputs": [
        {
          "output_type": "stream",
          "text": [
            "hi'\n"
          ],
          "name": "stdout"
        }
      ]
    },
    {
      "cell_type": "code",
      "metadata": {
        "colab": {
          "base_uri": "https://localhost:8080/"
        },
        "id": "4pJz4EhtAnmB",
        "outputId": "85af53f3-0cce-48f1-d215-eb75c4ad0343"
      },
      "source": [
        "print('hi\\asdsa')"
      ],
      "execution_count": 45,
      "outputs": [
        {
          "output_type": "stream",
          "text": [
            "hi\u0007sdsa\n"
          ],
          "name": "stdout"
        }
      ]
    },
    {
      "cell_type": "code",
      "metadata": {
        "colab": {
          "base_uri": "https://localhost:8080/"
        },
        "id": "8mrrhAv8AwpQ",
        "outputId": "99deb340-f7bf-428a-97d6-f83d5cc476f7"
      },
      "source": [
        "print('hi\\tsada')"
      ],
      "execution_count": 47,
      "outputs": [
        {
          "output_type": "stream",
          "text": [
            "hi\tsada\n"
          ],
          "name": "stdout"
        }
      ]
    },
    {
      "cell_type": "code",
      "metadata": {
        "colab": {
          "base_uri": "https://localhost:8080/"
        },
        "id": "OM-NAvAYA71A",
        "outputId": "5fb029f5-9166-4463-ad99-c1961fadb05b"
      },
      "source": [
        "x=input()"
      ],
      "execution_count": 48,
      "outputs": [
        {
          "output_type": "stream",
          "text": [
            "gd\n"
          ],
          "name": "stdout"
        }
      ]
    },
    {
      "cell_type": "code",
      "metadata": {
        "colab": {
          "base_uri": "https://localhost:8080/"
        },
        "id": "tQc6PQ-uBPrw",
        "outputId": "6a1936f4-df5b-49c7-d3d0-501d74d7a9fe"
      },
      "source": [
        "x=input('x입력')"
      ],
      "execution_count": 49,
      "outputs": [
        {
          "output_type": "stream",
          "text": [
            "x입력ㄴㅇㅍㄹ\n"
          ],
          "name": "stdout"
        }
      ]
    },
    {
      "cell_type": "code",
      "metadata": {
        "colab": {
          "base_uri": "https://localhost:8080/"
        },
        "id": "t0Swwz9PBdyj",
        "outputId": "d7529ae0-dbcd-45b2-e515-db7c1c70938b"
      },
      "source": [
        "x=input('x입력 : ')\n",
        "y=input('y입력 : ')"
      ],
      "execution_count": 58,
      "outputs": [
        {
          "output_type": "stream",
          "text": [
            "x입력 : 10\n",
            "y입력 : 20\n"
          ],
          "name": "stdout"
        }
      ]
    },
    {
      "cell_type": "code",
      "metadata": {
        "colab": {
          "base_uri": "https://localhost:8080/"
        },
        "id": "ddxkURS2BkOw",
        "outputId": "f7ff7a2c-d92f-4b24-cd89-dd22729a3a1d"
      },
      "source": [
        "print(f'{x} + {y}={x+y}')"
      ],
      "execution_count": 59,
      "outputs": [
        {
          "output_type": "stream",
          "text": [
            "10 + 20=1020\n"
          ],
          "name": "stdout"
        }
      ]
    },
    {
      "cell_type": "code",
      "metadata": {
        "id": "2g1bHfysB1WR"
      },
      "source": [
        "x=int(x)\n",
        "y=int(y)"
      ],
      "execution_count": 60,
      "outputs": []
    },
    {
      "cell_type": "code",
      "metadata": {
        "colab": {
          "base_uri": "https://localhost:8080/"
        },
        "id": "_AQKxVdoCC4Q",
        "outputId": "7c0ec143-3186-404c-9b08-b99c58ea3f11"
      },
      "source": [
        "print(f'{x} + {y}={x+y}')"
      ],
      "execution_count": 61,
      "outputs": [
        {
          "output_type": "stream",
          "text": [
            "10 + 20=30\n"
          ],
          "name": "stdout"
        }
      ]
    },
    {
      "cell_type": "code",
      "metadata": {
        "colab": {
          "base_uri": "https://localhost:8080/"
        },
        "id": "wE_lddfYCdxx",
        "outputId": "b55a3c30-55f9-487a-9346-4b71132ba26d"
      },
      "source": [
        "x= int(input('첫번쨰 정수 입력 : '))\n",
        "y= int(input('첫번쨰 정수 입력 : '))\n"
      ],
      "execution_count": 63,
      "outputs": [
        {
          "output_type": "stream",
          "text": [
            "첫번쨰 정수 입력 : 10\n",
            "첫번쨰 정수 입력 : 20\n"
          ],
          "name": "stdout"
        }
      ]
    },
    {
      "cell_type": "code",
      "metadata": {
        "colab": {
          "base_uri": "https://localhost:8080/"
        },
        "id": "DEAgYq3BC9xw",
        "outputId": "c3f1e580-a6f9-431d-843f-9eed6c3b68dd"
      },
      "source": [
        "print(x,'+',y,'=',(x+y))"
      ],
      "execution_count": 64,
      "outputs": [
        {
          "output_type": "stream",
          "text": [
            "10 + 20 = 30\n"
          ],
          "name": "stdout"
        }
      ]
    },
    {
      "cell_type": "code",
      "metadata": {
        "colab": {
          "base_uri": "https://localhost:8080/"
        },
        "id": "k-CyfB5aDERQ",
        "outputId": "4bad296e-9e67-4d4d-d027-f3b6b4cb4727"
      },
      "source": [
        "print(\"*\"+\"*\"+\"+\")"
      ],
      "execution_count": 65,
      "outputs": [
        {
          "output_type": "stream",
          "text": [
            "**+\n"
          ],
          "name": "stdout"
        }
      ]
    },
    {
      "cell_type": "code",
      "metadata": {
        "colab": {
          "base_uri": "https://localhost:8080/"
        },
        "id": "PHck6dtKDY9Q",
        "outputId": "f4bdb013-6ff1-4d9b-ce09-721111b5394f"
      },
      "source": [
        "print(\"*\"*3)"
      ],
      "execution_count": 66,
      "outputs": [
        {
          "output_type": "stream",
          "text": [
            "***\n"
          ],
          "name": "stdout"
        }
      ]
    },
    {
      "cell_type": "code",
      "metadata": {
        "colab": {
          "base_uri": "https://localhost:8080/"
        },
        "id": "X76GLz3TDb5Q",
        "outputId": "ff3f48bd-6884-49ed-eb32-0ac96647ccda"
      },
      "source": [
        "print(';>'*50)\n",
        "print(f'{x} + {y} = {x+y}')"
      ],
      "execution_count": 69,
      "outputs": [
        {
          "output_type": "stream",
          "text": [
            ";>;>;>;>;>;>;>;>;>;>;>;>;>;>;>;>;>;>;>;>;>;>;>;>;>;>;>;>;>;>;>;>;>;>;>;>;>;>;>;>;>;>;>;>;>;>;>;>;>;>\n",
            "10 + 20 = 30\n"
          ],
          "name": "stdout"
        }
      ]
    },
    {
      "cell_type": "code",
      "metadata": {
        "colab": {
          "base_uri": "https://localhost:8080/"
        },
        "id": "BivBnWSeDo8Q",
        "outputId": "79d7fd77-3922-4333-877e-1705ad9d780a"
      },
      "source": [
        "weight = float(input('weight(kg) : '))\n",
        "height = float(input('height(cm) : '))\n",
        "BMI_index=weight / (height/100)**2\n",
        "print(f'BMI : {BMI_index:.2f}')\n"
      ],
      "execution_count": 81,
      "outputs": [
        {
          "output_type": "stream",
          "text": [
            "weight(kg) : 82\n",
            "height(cm) : 176\n",
            "BMI : 26.47\n"
          ],
          "name": "stdout"
        }
      ]
    },
    {
      "cell_type": "code",
      "metadata": {
        "id": "jK9jAFcNEByQ"
      },
      "source": [
        "x='Hello python'"
      ],
      "execution_count": 96,
      "outputs": []
    },
    {
      "cell_type": "code",
      "metadata": {
        "colab": {
          "base_uri": "https://localhost:8080/",
          "height": 35
        },
        "id": "lS-JRKO_Hm1I",
        "outputId": "77d8af32-2c6f-4b87-d033-1819184dd6d9"
      },
      "source": [
        "x"
      ],
      "execution_count": 83,
      "outputs": [
        {
          "output_type": "execute_result",
          "data": {
            "application/vnd.google.colaboratory.intrinsic+json": {
              "type": "string"
            },
            "text/plain": [
              "'hi python'"
            ]
          },
          "metadata": {
            "tags": []
          },
          "execution_count": 83
        }
      ]
    },
    {
      "cell_type": "code",
      "metadata": {
        "colab": {
          "base_uri": "https://localhost:8080/"
        },
        "id": "z2oYpsw_HnOA",
        "outputId": "967885e1-6b41-4e35-d51e-88ba3b92fc30"
      },
      "source": [
        "len(x)"
      ],
      "execution_count": 84,
      "outputs": [
        {
          "output_type": "execute_result",
          "data": {
            "text/plain": [
              "9"
            ]
          },
          "metadata": {
            "tags": []
          },
          "execution_count": 84
        }
      ]
    },
    {
      "cell_type": "code",
      "metadata": {
        "colab": {
          "base_uri": "https://localhost:8080/",
          "height": 35
        },
        "id": "h15XhlPDHpXv",
        "outputId": "fa275fa3-d24e-46a1-ef0a-479da83f1e6d"
      },
      "source": [
        "x"
      ],
      "execution_count": 85,
      "outputs": [
        {
          "output_type": "execute_result",
          "data": {
            "application/vnd.google.colaboratory.intrinsic+json": {
              "type": "string"
            },
            "text/plain": [
              "'hi python'"
            ]
          },
          "metadata": {
            "tags": []
          },
          "execution_count": 85
        }
      ]
    },
    {
      "cell_type": "code",
      "metadata": {
        "colab": {
          "base_uri": "https://localhost:8080/"
        },
        "id": "SjGA4W_1HuCw",
        "outputId": "b4536ee8-72da-4df9-96ab-d14240eb4418"
      },
      "source": [
        "x.count('o')"
      ],
      "execution_count": 87,
      "outputs": [
        {
          "output_type": "execute_result",
          "data": {
            "text/plain": [
              "1"
            ]
          },
          "metadata": {
            "tags": []
          },
          "execution_count": 87
        }
      ]
    },
    {
      "cell_type": "code",
      "metadata": {
        "colab": {
          "base_uri": "https://localhost:8080/",
          "height": 35
        },
        "id": "JvJ9zBDTHv6v",
        "outputId": "09c82263-c6c3-45e3-a940-adc687732d0c"
      },
      "source": [
        "x\n"
      ],
      "execution_count": 88,
      "outputs": [
        {
          "output_type": "execute_result",
          "data": {
            "application/vnd.google.colaboratory.intrinsic+json": {
              "type": "string"
            },
            "text/plain": [
              "'hi python'"
            ]
          },
          "metadata": {
            "tags": []
          },
          "execution_count": 88
        }
      ]
    },
    {
      "cell_type": "code",
      "metadata": {
        "colab": {
          "base_uri": "https://localhost:8080/"
        },
        "id": "Jj3-Kt8NIHmQ",
        "outputId": "38332283-a76b-4123-a6ae-545f0bcc5aea"
      },
      "source": [
        "x.find('H')"
      ],
      "execution_count": 91,
      "outputs": [
        {
          "output_type": "execute_result",
          "data": {
            "text/plain": [
              "0"
            ]
          },
          "metadata": {
            "tags": []
          },
          "execution_count": 91
        }
      ]
    },
    {
      "cell_type": "code",
      "metadata": {
        "colab": {
          "base_uri": "https://localhost:8080/",
          "height": 35
        },
        "id": "96iEalqFIRCB",
        "outputId": "2f704679-7d07-4b3d-8c46-445e649e3887"
      },
      "source": [
        "x[0]"
      ],
      "execution_count": 92,
      "outputs": [
        {
          "output_type": "execute_result",
          "data": {
            "application/vnd.google.colaboratory.intrinsic+json": {
              "type": "string"
            },
            "text/plain": [
              "'H'"
            ]
          },
          "metadata": {
            "tags": []
          },
          "execution_count": 92
        }
      ]
    },
    {
      "cell_type": "code",
      "metadata": {
        "colab": {
          "base_uri": "https://localhost:8080/"
        },
        "id": "QvUPPKYlIWKB",
        "outputId": "07120e9c-232d-41f4-cb74-cdd49eee7d04"
      },
      "source": [
        "x.find('h')"
      ],
      "execution_count": 93,
      "outputs": [
        {
          "output_type": "execute_result",
          "data": {
            "text/plain": [
              "6"
            ]
          },
          "metadata": {
            "tags": []
          },
          "execution_count": 93
        }
      ]
    },
    {
      "cell_type": "code",
      "metadata": {
        "colab": {
          "base_uri": "https://localhost:8080/",
          "height": 173
        },
        "id": "MVEn20p3IZqB",
        "outputId": "fec676bb-01de-48ee-ec70-3f4e48439e8d"
      },
      "source": [
        "x[9]"
      ],
      "execution_count": 94,
      "outputs": [
        {
          "output_type": "error",
          "ename": "IndexError",
          "evalue": "ignored",
          "traceback": [
            "\u001b[0;31m---------------------------------------------------------------------------\u001b[0m",
            "\u001b[0;31mIndexError\u001b[0m                                Traceback (most recent call last)",
            "\u001b[0;32m<ipython-input-94-047cea680851>\u001b[0m in \u001b[0;36m<module>\u001b[0;34m()\u001b[0m\n\u001b[0;32m----> 1\u001b[0;31m \u001b[0mx\u001b[0m\u001b[0;34m[\u001b[0m\u001b[0;36m9\u001b[0m\u001b[0;34m]\u001b[0m\u001b[0;34m\u001b[0m\u001b[0;34m\u001b[0m\u001b[0m\n\u001b[0m",
            "\u001b[0;31mIndexError\u001b[0m: string index out of range"
          ]
        }
      ]
    },
    {
      "cell_type": "code",
      "metadata": {
        "colab": {
          "base_uri": "https://localhost:8080/",
          "height": 35
        },
        "id": "axo9G-fTIapB",
        "outputId": "e82c46f8-15ad-4e22-ae67-3963d7ab6a13"
      },
      "source": [
        "x[6]"
      ],
      "execution_count": 95,
      "outputs": [
        {
          "output_type": "execute_result",
          "data": {
            "application/vnd.google.colaboratory.intrinsic+json": {
              "type": "string"
            },
            "text/plain": [
              "'h'"
            ]
          },
          "metadata": {
            "tags": []
          },
          "execution_count": 95
        }
      ]
    },
    {
      "cell_type": "code",
      "metadata": {
        "colab": {
          "base_uri": "https://localhost:8080/"
        },
        "id": "n4wBHO5ZIbkh",
        "outputId": "8e043834-ad0c-4510-9d28-ab59a0b4b5b1"
      },
      "source": [
        "x.find('o')"
      ],
      "execution_count": 97,
      "outputs": [
        {
          "output_type": "execute_result",
          "data": {
            "text/plain": [
              "4"
            ]
          },
          "metadata": {
            "tags": []
          },
          "execution_count": 97
        }
      ]
    },
    {
      "cell_type": "code",
      "metadata": {
        "colab": {
          "base_uri": "https://localhost:8080/",
          "height": 35
        },
        "id": "eVWfxD7_Ig9h",
        "outputId": "b5e4a490-334a-4eab-8f2e-c278c2fbf924"
      },
      "source": [
        "x\n"
      ],
      "execution_count": 98,
      "outputs": [
        {
          "output_type": "execute_result",
          "data": {
            "application/vnd.google.colaboratory.intrinsic+json": {
              "type": "string"
            },
            "text/plain": [
              "'Hello python'"
            ]
          },
          "metadata": {
            "tags": []
          },
          "execution_count": 98
        }
      ]
    },
    {
      "cell_type": "code",
      "metadata": {
        "colab": {
          "base_uri": "https://localhost:8080/"
        },
        "id": "7-aaQtr5Ileh",
        "outputId": "7d11d7fb-5547-429e-cfad-ba60ff0cbc27"
      },
      "source": [
        "x.index('python')"
      ],
      "execution_count": 99,
      "outputs": [
        {
          "output_type": "execute_result",
          "data": {
            "text/plain": [
              "6"
            ]
          },
          "metadata": {
            "tags": []
          },
          "execution_count": 99
        }
      ]
    },
    {
      "cell_type": "code",
      "metadata": {
        "colab": {
          "base_uri": "https://localhost:8080/",
          "height": 35
        },
        "id": "8wlH7DrvIpng",
        "outputId": "295ec94f-3df7-4220-ea29-521b3a64a79d"
      },
      "source": [
        "x[6:]"
      ],
      "execution_count": 100,
      "outputs": [
        {
          "output_type": "execute_result",
          "data": {
            "application/vnd.google.colaboratory.intrinsic+json": {
              "type": "string"
            },
            "text/plain": [
              "'python'"
            ]
          },
          "metadata": {
            "tags": []
          },
          "execution_count": 100
        }
      ]
    },
    {
      "cell_type": "code",
      "metadata": {
        "colab": {
          "base_uri": "https://localhost:8080/",
          "height": 35
        },
        "id": "2ENTqeaUIy_Q",
        "outputId": "ce1ab384-bac3-426e-c598-db7995aef7d0"
      },
      "source": [
        "x\n"
      ],
      "execution_count": 101,
      "outputs": [
        {
          "output_type": "execute_result",
          "data": {
            "application/vnd.google.colaboratory.intrinsic+json": {
              "type": "string"
            },
            "text/plain": [
              "'Hello python'"
            ]
          },
          "metadata": {
            "tags": []
          },
          "execution_count": 101
        }
      ]
    },
    {
      "cell_type": "code",
      "metadata": {
        "colab": {
          "base_uri": "https://localhost:8080/",
          "height": 35
        },
        "id": "Q6jVSnQBI6XA",
        "outputId": "8372337d-3ed8-4044-8013-739e2943d5a5"
      },
      "source": [
        "z='-'.join(x)\n",
        "z"
      ],
      "execution_count": 104,
      "outputs": [
        {
          "output_type": "execute_result",
          "data": {
            "application/vnd.google.colaboratory.intrinsic+json": {
              "type": "string"
            },
            "text/plain": [
              "'H-e-l-l-o- -p-y-t-h-o-n'"
            ]
          },
          "metadata": {
            "tags": []
          },
          "execution_count": 104
        }
      ]
    },
    {
      "cell_type": "code",
      "metadata": {
        "colab": {
          "base_uri": "https://localhost:8080/",
          "height": 35
        },
        "id": "ac4rQFjEI_ZB",
        "outputId": "746193a1-deb5-48c7-c2c3-50c83d5b2917"
      },
      "source": [
        "x.upper()"
      ],
      "execution_count": 106,
      "outputs": [
        {
          "output_type": "execute_result",
          "data": {
            "application/vnd.google.colaboratory.intrinsic+json": {
              "type": "string"
            },
            "text/plain": [
              "'HELLO PYTHON'"
            ]
          },
          "metadata": {
            "tags": []
          },
          "execution_count": 106
        }
      ]
    },
    {
      "cell_type": "code",
      "metadata": {
        "colab": {
          "base_uri": "https://localhost:8080/",
          "height": 35
        },
        "id": "txLfZqkDJYpQ",
        "outputId": "bfd0e05f-abc7-440f-f449-69d0bc65bbac"
      },
      "source": [
        "x.lower()"
      ],
      "execution_count": 107,
      "outputs": [
        {
          "output_type": "execute_result",
          "data": {
            "application/vnd.google.colaboratory.intrinsic+json": {
              "type": "string"
            },
            "text/plain": [
              "'hello python'"
            ]
          },
          "metadata": {
            "tags": []
          },
          "execution_count": 107
        }
      ]
    },
    {
      "cell_type": "code",
      "metadata": {
        "colab": {
          "base_uri": "https://localhost:8080/",
          "height": 35
        },
        "id": "DC50ilCtJbeQ",
        "outputId": "94613151-2958-4011-ef3f-e9ccdcade612"
      },
      "source": [
        "x"
      ],
      "execution_count": 108,
      "outputs": [
        {
          "output_type": "execute_result",
          "data": {
            "application/vnd.google.colaboratory.intrinsic+json": {
              "type": "string"
            },
            "text/plain": [
              "'Hello python'"
            ]
          },
          "metadata": {
            "tags": []
          },
          "execution_count": 108
        }
      ]
    },
    {
      "cell_type": "code",
      "metadata": {
        "colab": {
          "base_uri": "https://localhost:8080/",
          "height": 35
        },
        "id": "pUGXx-5jJb9w",
        "outputId": "1c0171bc-73d8-4f61-834d-8eb0af6c1718"
      },
      "source": [
        "x.replace('p','❓')\n"
      ],
      "execution_count": 109,
      "outputs": [
        {
          "output_type": "execute_result",
          "data": {
            "application/vnd.google.colaboratory.intrinsic+json": {
              "type": "string"
            },
            "text/plain": [
              "'Hello ❓ython'"
            ]
          },
          "metadata": {
            "tags": []
          },
          "execution_count": 109
        }
      ]
    },
    {
      "cell_type": "code",
      "metadata": {
        "colab": {
          "base_uri": "https://localhost:8080/",
          "height": 35
        },
        "id": "9faJoco_Jnyg",
        "outputId": "8246f1a5-82fd-4ad8-aca6-5c0f7b48642e"
      },
      "source": [
        "x"
      ],
      "execution_count": 110,
      "outputs": [
        {
          "output_type": "execute_result",
          "data": {
            "application/vnd.google.colaboratory.intrinsic+json": {
              "type": "string"
            },
            "text/plain": [
              "'Hello python'"
            ]
          },
          "metadata": {
            "tags": []
          },
          "execution_count": 110
        }
      ]
    },
    {
      "cell_type": "code",
      "metadata": {
        "colab": {
          "base_uri": "https://localhost:8080/",
          "height": 35
        },
        "id": "TqJw9FCtJqjA",
        "outputId": "ff92a656-c0d2-40d5-837e-d2c1888ebfc7"
      },
      "source": [
        "y='-'.join(x)\n",
        "y"
      ],
      "execution_count": 112,
      "outputs": [
        {
          "output_type": "execute_result",
          "data": {
            "application/vnd.google.colaboratory.intrinsic+json": {
              "type": "string"
            },
            "text/plain": [
              "'H-e-l-l-o- -p-y-t-h-o-n'"
            ]
          },
          "metadata": {
            "tags": []
          },
          "execution_count": 112
        }
      ]
    },
    {
      "cell_type": "code",
      "metadata": {
        "colab": {
          "base_uri": "https://localhost:8080/"
        },
        "id": "0YWuICmnJwOw",
        "outputId": "cb7aea49-2f4b-4978-d720-d45efd6ab7fc"
      },
      "source": [
        "x = 'Hello Python'\n",
        "\n",
        "y = '-'.join(x)\n",
        "print(y)\n",
        "\n",
        "y.split(\"-\")\n",
        "print(f'y.split(\"-\") : {y.split(\"-\")}')"
      ],
      "execution_count": 113,
      "outputs": [
        {
          "output_type": "stream",
          "text": [
            "H-e-l-l-o- -P-y-t-h-o-n\n",
            "y.split(\"-\") : ['H', 'e', 'l', 'l', 'o', ' ', 'P', 'y', 't', 'h', 'o', 'n']\n"
          ],
          "name": "stdout"
        }
      ]
    },
    {
      "cell_type": "code",
      "metadata": {
        "id": "IgmbFfg3J73x"
      },
      "source": [
        ""
      ],
      "execution_count": null,
      "outputs": []
    }
  ]
}