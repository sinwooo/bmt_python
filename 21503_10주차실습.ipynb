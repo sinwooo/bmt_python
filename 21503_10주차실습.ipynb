{
  "nbformat": 4,
  "nbformat_minor": 0,
  "metadata": {
    "colab": {
      "name": "21503_10주차실습",
      "provenance": [],
      "collapsed_sections": [],
      "authorship_tag": "ABX9TyMFpYs4Zt7piLhDL49Edbd4",
      "include_colab_link": true
    },
    "kernelspec": {
      "name": "python3",
      "display_name": "Python 3"
    },
    "language_info": {
      "name": "python"
    }
  },
  "cells": [
    {
      "cell_type": "markdown",
      "metadata": {
        "id": "view-in-github",
        "colab_type": "text"
      },
      "source": [
        "<a href=\"https://colab.research.google.com/github/sinwooo/bmt_python/blob/main/21503_10%EC%A3%BC%EC%B0%A8%EC%8B%A4%EC%8A%B5.ipynb\" target=\"_parent\"><img src=\"https://colab.research.google.com/assets/colab-badge.svg\" alt=\"Open In Colab\"/></a>"
      ]
    },
    {
      "cell_type": "code",
      "metadata": {
        "id": "JXSoFlVgFz5E"
      },
      "source": [
        "import pandas as pd\n",
        "import numpy as np\n",
        "import matplotlib.pyplot as plt"
      ],
      "execution_count": 1,
      "outputs": []
    },
    {
      "cell_type": "code",
      "metadata": {
        "colab": {
          "base_uri": "https://localhost:8080/"
        },
        "id": "044VLtPnHZ8I",
        "outputId": "c3cf2034-274d-442c-cbc9-9f6cdc2980c7"
      },
      "source": [
        "s = pd.Series( [1,3,5,np.nan,6,8] )\n",
        "a= [1,3,5,np.nan,6,8]\n",
        "s\n"
      ],
      "execution_count": 8,
      "outputs": [
        {
          "output_type": "execute_result",
          "data": {
            "text/plain": [
              "0    1.0\n",
              "1    3.0\n",
              "2    5.0\n",
              "3    NaN\n",
              "4    6.0\n",
              "5    8.0\n",
              "dtype: float64"
            ]
          },
          "metadata": {
            "tags": []
          },
          "execution_count": 8
        }
      ]
    },
    {
      "cell_type": "code",
      "metadata": {
        "colab": {
          "base_uri": "https://localhost:8080/"
        },
        "id": "2bona4hmH8Gv",
        "outputId": "d0e6b81c-7881-4a8b-9194-46530c37ac1c"
      },
      "source": [
        "type(s)"
      ],
      "execution_count": 9,
      "outputs": [
        {
          "output_type": "execute_result",
          "data": {
            "text/plain": [
              "pandas.core.series.Series"
            ]
          },
          "metadata": {
            "tags": []
          },
          "execution_count": 9
        }
      ]
    },
    {
      "cell_type": "code",
      "metadata": {
        "colab": {
          "base_uri": "https://localhost:8080/"
        },
        "id": "MYMDsYljInBg",
        "outputId": "57365b7c-380f-4909-e399-43e703e58678"
      },
      "source": [
        "type(a)"
      ],
      "execution_count": 10,
      "outputs": [
        {
          "output_type": "execute_result",
          "data": {
            "text/plain": [
              "list"
            ]
          },
          "metadata": {
            "tags": []
          },
          "execution_count": 10
        }
      ]
    },
    {
      "cell_type": "code",
      "metadata": {
        "colab": {
          "base_uri": "https://localhost:8080/"
        },
        "id": "g4qnnt2UIpCg",
        "outputId": "9e258e2c-962f-4945-e108-e50a07f54f70"
      },
      "source": [
        "dates =pd.date_range('20210507', periods=6)\n",
        "dates  "
      ],
      "execution_count": 11,
      "outputs": [
        {
          "output_type": "execute_result",
          "data": {
            "text/plain": [
              "DatetimeIndex(['2021-05-07', '2021-05-08', '2021-05-09', '2021-05-10',\n",
              "               '2021-05-11', '2021-05-12'],\n",
              "              dtype='datetime64[ns]', freq='D')"
            ]
          },
          "metadata": {
            "tags": []
          },
          "execution_count": 11
        }
      ]
    },
    {
      "cell_type": "code",
      "metadata": {
        "colab": {
          "base_uri": "https://localhost:8080/",
          "height": 225
        },
        "id": "S3q9kUSNJRAg",
        "outputId": "0c3be270-b0e1-4300-e35e-492bbd20eaa3"
      },
      "source": [
        "df = pd.DataFrame(np.random.randn(6,4), )\n",
        "df"
      ],
      "execution_count": 12,
      "outputs": [
        {
          "output_type": "execute_result",
          "data": {
            "text/html": [
              "<div>\n",
              "<style scoped>\n",
              "    .dataframe tbody tr th:only-of-type {\n",
              "        vertical-align: middle;\n",
              "    }\n",
              "\n",
              "    .dataframe tbody tr th {\n",
              "        vertical-align: top;\n",
              "    }\n",
              "\n",
              "    .dataframe thead th {\n",
              "        text-align: right;\n",
              "    }\n",
              "</style>\n",
              "<table border=\"1\" class=\"dataframe\">\n",
              "  <thead>\n",
              "    <tr style=\"text-align: right;\">\n",
              "      <th></th>\n",
              "      <th>0</th>\n",
              "      <th>1</th>\n",
              "      <th>2</th>\n",
              "      <th>3</th>\n",
              "    </tr>\n",
              "  </thead>\n",
              "  <tbody>\n",
              "    <tr>\n",
              "      <th>0</th>\n",
              "      <td>-0.995766</td>\n",
              "      <td>0.839519</td>\n",
              "      <td>-0.022854</td>\n",
              "      <td>-0.291527</td>\n",
              "    </tr>\n",
              "    <tr>\n",
              "      <th>1</th>\n",
              "      <td>0.411666</td>\n",
              "      <td>2.011845</td>\n",
              "      <td>-0.676476</td>\n",
              "      <td>0.843711</td>\n",
              "    </tr>\n",
              "    <tr>\n",
              "      <th>2</th>\n",
              "      <td>-0.537303</td>\n",
              "      <td>0.540720</td>\n",
              "      <td>-1.017670</td>\n",
              "      <td>-1.051251</td>\n",
              "    </tr>\n",
              "    <tr>\n",
              "      <th>3</th>\n",
              "      <td>-0.334882</td>\n",
              "      <td>0.687279</td>\n",
              "      <td>0.329572</td>\n",
              "      <td>1.340600</td>\n",
              "    </tr>\n",
              "    <tr>\n",
              "      <th>4</th>\n",
              "      <td>0.287507</td>\n",
              "      <td>0.018756</td>\n",
              "      <td>-0.665146</td>\n",
              "      <td>-0.653751</td>\n",
              "    </tr>\n",
              "    <tr>\n",
              "      <th>5</th>\n",
              "      <td>0.302691</td>\n",
              "      <td>1.155175</td>\n",
              "      <td>-0.875300</td>\n",
              "      <td>-2.087651</td>\n",
              "    </tr>\n",
              "  </tbody>\n",
              "</table>\n",
              "</div>"
            ],
            "text/plain": [
              "          0         1         2         3\n",
              "0 -0.995766  0.839519 -0.022854 -0.291527\n",
              "1  0.411666  2.011845 -0.676476  0.843711\n",
              "2 -0.537303  0.540720 -1.017670 -1.051251\n",
              "3 -0.334882  0.687279  0.329572  1.340600\n",
              "4  0.287507  0.018756 -0.665146 -0.653751\n",
              "5  0.302691  1.155175 -0.875300 -2.087651"
            ]
          },
          "metadata": {
            "tags": []
          },
          "execution_count": 12
        }
      ]
    },
    {
      "cell_type": "code",
      "metadata": {
        "colab": {
          "base_uri": "https://localhost:8080/",
          "height": 225
        },
        "id": "N38EnG8WJx4A",
        "outputId": "74123585-0e6d-48e2-86bf-0b8c1dea43d2"
      },
      "source": [
        "df = pd.DataFrame(np.random.randn(6,4),index=dates )\n",
        "df"
      ],
      "execution_count": 13,
      "outputs": [
        {
          "output_type": "execute_result",
          "data": {
            "text/html": [
              "<div>\n",
              "<style scoped>\n",
              "    .dataframe tbody tr th:only-of-type {\n",
              "        vertical-align: middle;\n",
              "    }\n",
              "\n",
              "    .dataframe tbody tr th {\n",
              "        vertical-align: top;\n",
              "    }\n",
              "\n",
              "    .dataframe thead th {\n",
              "        text-align: right;\n",
              "    }\n",
              "</style>\n",
              "<table border=\"1\" class=\"dataframe\">\n",
              "  <thead>\n",
              "    <tr style=\"text-align: right;\">\n",
              "      <th></th>\n",
              "      <th>0</th>\n",
              "      <th>1</th>\n",
              "      <th>2</th>\n",
              "      <th>3</th>\n",
              "    </tr>\n",
              "  </thead>\n",
              "  <tbody>\n",
              "    <tr>\n",
              "      <th>2021-05-07</th>\n",
              "      <td>0.243076</td>\n",
              "      <td>1.035343</td>\n",
              "      <td>-1.151840</td>\n",
              "      <td>1.363173</td>\n",
              "    </tr>\n",
              "    <tr>\n",
              "      <th>2021-05-08</th>\n",
              "      <td>-1.799069</td>\n",
              "      <td>0.998832</td>\n",
              "      <td>0.396615</td>\n",
              "      <td>-0.460945</td>\n",
              "    </tr>\n",
              "    <tr>\n",
              "      <th>2021-05-09</th>\n",
              "      <td>-0.878421</td>\n",
              "      <td>0.186157</td>\n",
              "      <td>-0.861579</td>\n",
              "      <td>-0.045928</td>\n",
              "    </tr>\n",
              "    <tr>\n",
              "      <th>2021-05-10</th>\n",
              "      <td>2.030989</td>\n",
              "      <td>-0.166232</td>\n",
              "      <td>0.268439</td>\n",
              "      <td>0.949479</td>\n",
              "    </tr>\n",
              "    <tr>\n",
              "      <th>2021-05-11</th>\n",
              "      <td>-1.411451</td>\n",
              "      <td>-0.468750</td>\n",
              "      <td>-0.046903</td>\n",
              "      <td>1.071905</td>\n",
              "    </tr>\n",
              "    <tr>\n",
              "      <th>2021-05-12</th>\n",
              "      <td>0.728445</td>\n",
              "      <td>-0.310347</td>\n",
              "      <td>0.815238</td>\n",
              "      <td>-0.693592</td>\n",
              "    </tr>\n",
              "  </tbody>\n",
              "</table>\n",
              "</div>"
            ],
            "text/plain": [
              "                   0         1         2         3\n",
              "2021-05-07  0.243076  1.035343 -1.151840  1.363173\n",
              "2021-05-08 -1.799069  0.998832  0.396615 -0.460945\n",
              "2021-05-09 -0.878421  0.186157 -0.861579 -0.045928\n",
              "2021-05-10  2.030989 -0.166232  0.268439  0.949479\n",
              "2021-05-11 -1.411451 -0.468750 -0.046903  1.071905\n",
              "2021-05-12  0.728445 -0.310347  0.815238 -0.693592"
            ]
          },
          "metadata": {
            "tags": []
          },
          "execution_count": 13
        }
      ]
    },
    {
      "cell_type": "code",
      "metadata": {
        "colab": {
          "base_uri": "https://localhost:8080/",
          "height": 225
        },
        "id": "VGDydnHYKQQP",
        "outputId": "aa3f92f9-7525-42d3-d93b-3cbc99ed6208"
      },
      "source": [
        "df = pd.DataFrame(np.random.randn(6,4),index=dates,columns=['A','B','C','D'] )\n",
        "df\n"
      ],
      "execution_count": 17,
      "outputs": [
        {
          "output_type": "execute_result",
          "data": {
            "text/html": [
              "<div>\n",
              "<style scoped>\n",
              "    .dataframe tbody tr th:only-of-type {\n",
              "        vertical-align: middle;\n",
              "    }\n",
              "\n",
              "    .dataframe tbody tr th {\n",
              "        vertical-align: top;\n",
              "    }\n",
              "\n",
              "    .dataframe thead th {\n",
              "        text-align: right;\n",
              "    }\n",
              "</style>\n",
              "<table border=\"1\" class=\"dataframe\">\n",
              "  <thead>\n",
              "    <tr style=\"text-align: right;\">\n",
              "      <th></th>\n",
              "      <th>A</th>\n",
              "      <th>B</th>\n",
              "      <th>C</th>\n",
              "      <th>D</th>\n",
              "    </tr>\n",
              "  </thead>\n",
              "  <tbody>\n",
              "    <tr>\n",
              "      <th>2021-05-07</th>\n",
              "      <td>-0.864529</td>\n",
              "      <td>1.593016</td>\n",
              "      <td>0.471682</td>\n",
              "      <td>-0.575406</td>\n",
              "    </tr>\n",
              "    <tr>\n",
              "      <th>2021-05-08</th>\n",
              "      <td>-0.969138</td>\n",
              "      <td>1.717503</td>\n",
              "      <td>-0.319178</td>\n",
              "      <td>-0.263831</td>\n",
              "    </tr>\n",
              "    <tr>\n",
              "      <th>2021-05-09</th>\n",
              "      <td>0.426764</td>\n",
              "      <td>0.095568</td>\n",
              "      <td>-0.457462</td>\n",
              "      <td>-1.961635</td>\n",
              "    </tr>\n",
              "    <tr>\n",
              "      <th>2021-05-10</th>\n",
              "      <td>0.689421</td>\n",
              "      <td>1.932067</td>\n",
              "      <td>-0.004677</td>\n",
              "      <td>1.020747</td>\n",
              "    </tr>\n",
              "    <tr>\n",
              "      <th>2021-05-11</th>\n",
              "      <td>-1.635956</td>\n",
              "      <td>1.121889</td>\n",
              "      <td>0.617838</td>\n",
              "      <td>0.842468</td>\n",
              "    </tr>\n",
              "    <tr>\n",
              "      <th>2021-05-12</th>\n",
              "      <td>-1.265752</td>\n",
              "      <td>-1.060073</td>\n",
              "      <td>0.943108</td>\n",
              "      <td>1.063065</td>\n",
              "    </tr>\n",
              "  </tbody>\n",
              "</table>\n",
              "</div>"
            ],
            "text/plain": [
              "                   A         B         C         D\n",
              "2021-05-07 -0.864529  1.593016  0.471682 -0.575406\n",
              "2021-05-08 -0.969138  1.717503 -0.319178 -0.263831\n",
              "2021-05-09  0.426764  0.095568 -0.457462 -1.961635\n",
              "2021-05-10  0.689421  1.932067 -0.004677  1.020747\n",
              "2021-05-11 -1.635956  1.121889  0.617838  0.842468\n",
              "2021-05-12 -1.265752 -1.060073  0.943108  1.063065"
            ]
          },
          "metadata": {
            "tags": []
          },
          "execution_count": 17
        }
      ]
    },
    {
      "cell_type": "code",
      "metadata": {
        "colab": {
          "base_uri": "https://localhost:8080/",
          "height": 225
        },
        "id": "WeMRndFNKhXg",
        "outputId": "e44b67b0-d839-47c5-fe4e-d8dc9ea38f0e"
      },
      "source": [
        "df = pd.DataFrame(np.random.randn(6,4),index=dates,columns=['국어','영어','수학','물리'] )\n",
        "df\n"
      ],
      "execution_count": 19,
      "outputs": [
        {
          "output_type": "execute_result",
          "data": {
            "text/html": [
              "<div>\n",
              "<style scoped>\n",
              "    .dataframe tbody tr th:only-of-type {\n",
              "        vertical-align: middle;\n",
              "    }\n",
              "\n",
              "    .dataframe tbody tr th {\n",
              "        vertical-align: top;\n",
              "    }\n",
              "\n",
              "    .dataframe thead th {\n",
              "        text-align: right;\n",
              "    }\n",
              "</style>\n",
              "<table border=\"1\" class=\"dataframe\">\n",
              "  <thead>\n",
              "    <tr style=\"text-align: right;\">\n",
              "      <th></th>\n",
              "      <th>국어</th>\n",
              "      <th>영어</th>\n",
              "      <th>수학</th>\n",
              "      <th>물리</th>\n",
              "    </tr>\n",
              "  </thead>\n",
              "  <tbody>\n",
              "    <tr>\n",
              "      <th>2021-05-07</th>\n",
              "      <td>1.288623</td>\n",
              "      <td>0.520336</td>\n",
              "      <td>0.288714</td>\n",
              "      <td>-0.421530</td>\n",
              "    </tr>\n",
              "    <tr>\n",
              "      <th>2021-05-08</th>\n",
              "      <td>-0.780971</td>\n",
              "      <td>0.412863</td>\n",
              "      <td>-0.229165</td>\n",
              "      <td>-0.166432</td>\n",
              "    </tr>\n",
              "    <tr>\n",
              "      <th>2021-05-09</th>\n",
              "      <td>-0.506472</td>\n",
              "      <td>-0.514047</td>\n",
              "      <td>2.069445</td>\n",
              "      <td>-1.028345</td>\n",
              "    </tr>\n",
              "    <tr>\n",
              "      <th>2021-05-10</th>\n",
              "      <td>0.518980</td>\n",
              "      <td>-0.257660</td>\n",
              "      <td>0.862781</td>\n",
              "      <td>0.059285</td>\n",
              "    </tr>\n",
              "    <tr>\n",
              "      <th>2021-05-11</th>\n",
              "      <td>1.211599</td>\n",
              "      <td>-0.253561</td>\n",
              "      <td>-0.183716</td>\n",
              "      <td>1.599679</td>\n",
              "    </tr>\n",
              "    <tr>\n",
              "      <th>2021-05-12</th>\n",
              "      <td>-0.946372</td>\n",
              "      <td>-0.495303</td>\n",
              "      <td>0.648422</td>\n",
              "      <td>2.146166</td>\n",
              "    </tr>\n",
              "  </tbody>\n",
              "</table>\n",
              "</div>"
            ],
            "text/plain": [
              "                  국어        영어        수학        물리\n",
              "2021-05-07  1.288623  0.520336  0.288714 -0.421530\n",
              "2021-05-08 -0.780971  0.412863 -0.229165 -0.166432\n",
              "2021-05-09 -0.506472 -0.514047  2.069445 -1.028345\n",
              "2021-05-10  0.518980 -0.257660  0.862781  0.059285\n",
              "2021-05-11  1.211599 -0.253561 -0.183716  1.599679\n",
              "2021-05-12 -0.946372 -0.495303  0.648422  2.146166"
            ]
          },
          "metadata": {
            "tags": []
          },
          "execution_count": 19
        }
      ]
    },
    {
      "cell_type": "code",
      "metadata": {
        "colab": {
          "base_uri": "https://localhost:8080/",
          "height": 225
        },
        "id": "aGOBpHUfKtBi",
        "outputId": "dd065395-d4aa-47ef-9271-e76830d819e7"
      },
      "source": [
        "df = pd.DataFrame(np.random.randn(6,4),index=dates,columns=list('ABCD'))\n",
        "\n",
        "df"
      ],
      "execution_count": 22,
      "outputs": [
        {
          "output_type": "execute_result",
          "data": {
            "text/html": [
              "<div>\n",
              "<style scoped>\n",
              "    .dataframe tbody tr th:only-of-type {\n",
              "        vertical-align: middle;\n",
              "    }\n",
              "\n",
              "    .dataframe tbody tr th {\n",
              "        vertical-align: top;\n",
              "    }\n",
              "\n",
              "    .dataframe thead th {\n",
              "        text-align: right;\n",
              "    }\n",
              "</style>\n",
              "<table border=\"1\" class=\"dataframe\">\n",
              "  <thead>\n",
              "    <tr style=\"text-align: right;\">\n",
              "      <th></th>\n",
              "      <th>A</th>\n",
              "      <th>B</th>\n",
              "      <th>C</th>\n",
              "      <th>D</th>\n",
              "    </tr>\n",
              "  </thead>\n",
              "  <tbody>\n",
              "    <tr>\n",
              "      <th>2021-05-07</th>\n",
              "      <td>1.116398</td>\n",
              "      <td>1.616474</td>\n",
              "      <td>-1.105548</td>\n",
              "      <td>0.606092</td>\n",
              "    </tr>\n",
              "    <tr>\n",
              "      <th>2021-05-08</th>\n",
              "      <td>1.027949</td>\n",
              "      <td>-1.775700</td>\n",
              "      <td>0.465580</td>\n",
              "      <td>-0.304801</td>\n",
              "    </tr>\n",
              "    <tr>\n",
              "      <th>2021-05-09</th>\n",
              "      <td>1.065303</td>\n",
              "      <td>-2.227122</td>\n",
              "      <td>0.533991</td>\n",
              "      <td>0.239970</td>\n",
              "    </tr>\n",
              "    <tr>\n",
              "      <th>2021-05-10</th>\n",
              "      <td>0.983254</td>\n",
              "      <td>-0.523714</td>\n",
              "      <td>-1.529905</td>\n",
              "      <td>1.454540</td>\n",
              "    </tr>\n",
              "    <tr>\n",
              "      <th>2021-05-11</th>\n",
              "      <td>-0.199245</td>\n",
              "      <td>-0.681413</td>\n",
              "      <td>-0.930412</td>\n",
              "      <td>-0.301135</td>\n",
              "    </tr>\n",
              "    <tr>\n",
              "      <th>2021-05-12</th>\n",
              "      <td>-0.607123</td>\n",
              "      <td>-1.608729</td>\n",
              "      <td>-1.135281</td>\n",
              "      <td>1.255318</td>\n",
              "    </tr>\n",
              "  </tbody>\n",
              "</table>\n",
              "</div>"
            ],
            "text/plain": [
              "                   A         B         C         D\n",
              "2021-05-07  1.116398  1.616474 -1.105548  0.606092\n",
              "2021-05-08  1.027949 -1.775700  0.465580 -0.304801\n",
              "2021-05-09  1.065303 -2.227122  0.533991  0.239970\n",
              "2021-05-10  0.983254 -0.523714 -1.529905  1.454540\n",
              "2021-05-11 -0.199245 -0.681413 -0.930412 -0.301135\n",
              "2021-05-12 -0.607123 -1.608729 -1.135281  1.255318"
            ]
          },
          "metadata": {
            "tags": []
          },
          "execution_count": 22
        }
      ]
    },
    {
      "cell_type": "code",
      "metadata": {
        "colab": {
          "base_uri": "https://localhost:8080/",
          "height": 166
        },
        "id": "JiAHgBn_K9ww",
        "outputId": "41335c76-4950-425f-931b-6d34a5326827"
      },
      "source": [
        "df2=pd.DataFrame(\n",
        "    {\n",
        "        'A':1.,\n",
        "     'B':pd.Timestamp('20210507'),\n",
        "    'C': pd.Series(1, index=list(range(4)), dtype='float32'),\n",
        "     'D':np.array([3]*4,dtype='int32'),\n",
        "     'E':pd.Categorical(['test','train', 'test','train']),\n",
        "     'F':'foo'\n",
        "    }\n",
        ")\n",
        "df2"
      ],
      "execution_count": 26,
      "outputs": [
        {
          "output_type": "execute_result",
          "data": {
            "text/html": [
              "<div>\n",
              "<style scoped>\n",
              "    .dataframe tbody tr th:only-of-type {\n",
              "        vertical-align: middle;\n",
              "    }\n",
              "\n",
              "    .dataframe tbody tr th {\n",
              "        vertical-align: top;\n",
              "    }\n",
              "\n",
              "    .dataframe thead th {\n",
              "        text-align: right;\n",
              "    }\n",
              "</style>\n",
              "<table border=\"1\" class=\"dataframe\">\n",
              "  <thead>\n",
              "    <tr style=\"text-align: right;\">\n",
              "      <th></th>\n",
              "      <th>A</th>\n",
              "      <th>B</th>\n",
              "      <th>C</th>\n",
              "      <th>D</th>\n",
              "      <th>E</th>\n",
              "      <th>F</th>\n",
              "    </tr>\n",
              "  </thead>\n",
              "  <tbody>\n",
              "    <tr>\n",
              "      <th>0</th>\n",
              "      <td>1.0</td>\n",
              "      <td>2021-05-07</td>\n",
              "      <td>1.0</td>\n",
              "      <td>3</td>\n",
              "      <td>test</td>\n",
              "      <td>foo</td>\n",
              "    </tr>\n",
              "    <tr>\n",
              "      <th>1</th>\n",
              "      <td>1.0</td>\n",
              "      <td>2021-05-07</td>\n",
              "      <td>1.0</td>\n",
              "      <td>3</td>\n",
              "      <td>train</td>\n",
              "      <td>foo</td>\n",
              "    </tr>\n",
              "    <tr>\n",
              "      <th>2</th>\n",
              "      <td>1.0</td>\n",
              "      <td>2021-05-07</td>\n",
              "      <td>1.0</td>\n",
              "      <td>3</td>\n",
              "      <td>test</td>\n",
              "      <td>foo</td>\n",
              "    </tr>\n",
              "    <tr>\n",
              "      <th>3</th>\n",
              "      <td>1.0</td>\n",
              "      <td>2021-05-07</td>\n",
              "      <td>1.0</td>\n",
              "      <td>3</td>\n",
              "      <td>train</td>\n",
              "      <td>foo</td>\n",
              "    </tr>\n",
              "  </tbody>\n",
              "</table>\n",
              "</div>"
            ],
            "text/plain": [
              "     A          B    C  D      E    F\n",
              "0  1.0 2021-05-07  1.0  3   test  foo\n",
              "1  1.0 2021-05-07  1.0  3  train  foo\n",
              "2  1.0 2021-05-07  1.0  3   test  foo\n",
              "3  1.0 2021-05-07  1.0  3  train  foo"
            ]
          },
          "metadata": {
            "tags": []
          },
          "execution_count": 26
        }
      ]
    },
    {
      "cell_type": "code",
      "metadata": {
        "colab": {
          "base_uri": "https://localhost:8080/",
          "height": 225
        },
        "id": "Nyc98OE1Mh0i",
        "outputId": "53a1d266-4336-4c20-df8d-236c275b1c9e"
      },
      "source": [
        "df"
      ],
      "execution_count": 27,
      "outputs": [
        {
          "output_type": "execute_result",
          "data": {
            "text/html": [
              "<div>\n",
              "<style scoped>\n",
              "    .dataframe tbody tr th:only-of-type {\n",
              "        vertical-align: middle;\n",
              "    }\n",
              "\n",
              "    .dataframe tbody tr th {\n",
              "        vertical-align: top;\n",
              "    }\n",
              "\n",
              "    .dataframe thead th {\n",
              "        text-align: right;\n",
              "    }\n",
              "</style>\n",
              "<table border=\"1\" class=\"dataframe\">\n",
              "  <thead>\n",
              "    <tr style=\"text-align: right;\">\n",
              "      <th></th>\n",
              "      <th>A</th>\n",
              "      <th>B</th>\n",
              "      <th>C</th>\n",
              "      <th>D</th>\n",
              "    </tr>\n",
              "  </thead>\n",
              "  <tbody>\n",
              "    <tr>\n",
              "      <th>2021-05-07</th>\n",
              "      <td>1.116398</td>\n",
              "      <td>1.616474</td>\n",
              "      <td>-1.105548</td>\n",
              "      <td>0.606092</td>\n",
              "    </tr>\n",
              "    <tr>\n",
              "      <th>2021-05-08</th>\n",
              "      <td>1.027949</td>\n",
              "      <td>-1.775700</td>\n",
              "      <td>0.465580</td>\n",
              "      <td>-0.304801</td>\n",
              "    </tr>\n",
              "    <tr>\n",
              "      <th>2021-05-09</th>\n",
              "      <td>1.065303</td>\n",
              "      <td>-2.227122</td>\n",
              "      <td>0.533991</td>\n",
              "      <td>0.239970</td>\n",
              "    </tr>\n",
              "    <tr>\n",
              "      <th>2021-05-10</th>\n",
              "      <td>0.983254</td>\n",
              "      <td>-0.523714</td>\n",
              "      <td>-1.529905</td>\n",
              "      <td>1.454540</td>\n",
              "    </tr>\n",
              "    <tr>\n",
              "      <th>2021-05-11</th>\n",
              "      <td>-0.199245</td>\n",
              "      <td>-0.681413</td>\n",
              "      <td>-0.930412</td>\n",
              "      <td>-0.301135</td>\n",
              "    </tr>\n",
              "    <tr>\n",
              "      <th>2021-05-12</th>\n",
              "      <td>-0.607123</td>\n",
              "      <td>-1.608729</td>\n",
              "      <td>-1.135281</td>\n",
              "      <td>1.255318</td>\n",
              "    </tr>\n",
              "  </tbody>\n",
              "</table>\n",
              "</div>"
            ],
            "text/plain": [
              "                   A         B         C         D\n",
              "2021-05-07  1.116398  1.616474 -1.105548  0.606092\n",
              "2021-05-08  1.027949 -1.775700  0.465580 -0.304801\n",
              "2021-05-09  1.065303 -2.227122  0.533991  0.239970\n",
              "2021-05-10  0.983254 -0.523714 -1.529905  1.454540\n",
              "2021-05-11 -0.199245 -0.681413 -0.930412 -0.301135\n",
              "2021-05-12 -0.607123 -1.608729 -1.135281  1.255318"
            ]
          },
          "metadata": {
            "tags": []
          },
          "execution_count": 27
        }
      ]
    },
    {
      "cell_type": "code",
      "metadata": {
        "colab": {
          "base_uri": "https://localhost:8080/",
          "height": 195
        },
        "id": "ZJwEsWEzM6hR",
        "outputId": "af9b4706-dd11-4e8d-fb9c-32f29f10f18e"
      },
      "source": [
        "df.head()"
      ],
      "execution_count": 28,
      "outputs": [
        {
          "output_type": "execute_result",
          "data": {
            "text/html": [
              "<div>\n",
              "<style scoped>\n",
              "    .dataframe tbody tr th:only-of-type {\n",
              "        vertical-align: middle;\n",
              "    }\n",
              "\n",
              "    .dataframe tbody tr th {\n",
              "        vertical-align: top;\n",
              "    }\n",
              "\n",
              "    .dataframe thead th {\n",
              "        text-align: right;\n",
              "    }\n",
              "</style>\n",
              "<table border=\"1\" class=\"dataframe\">\n",
              "  <thead>\n",
              "    <tr style=\"text-align: right;\">\n",
              "      <th></th>\n",
              "      <th>A</th>\n",
              "      <th>B</th>\n",
              "      <th>C</th>\n",
              "      <th>D</th>\n",
              "    </tr>\n",
              "  </thead>\n",
              "  <tbody>\n",
              "    <tr>\n",
              "      <th>2021-05-07</th>\n",
              "      <td>1.116398</td>\n",
              "      <td>1.616474</td>\n",
              "      <td>-1.105548</td>\n",
              "      <td>0.606092</td>\n",
              "    </tr>\n",
              "    <tr>\n",
              "      <th>2021-05-08</th>\n",
              "      <td>1.027949</td>\n",
              "      <td>-1.775700</td>\n",
              "      <td>0.465580</td>\n",
              "      <td>-0.304801</td>\n",
              "    </tr>\n",
              "    <tr>\n",
              "      <th>2021-05-09</th>\n",
              "      <td>1.065303</td>\n",
              "      <td>-2.227122</td>\n",
              "      <td>0.533991</td>\n",
              "      <td>0.239970</td>\n",
              "    </tr>\n",
              "    <tr>\n",
              "      <th>2021-05-10</th>\n",
              "      <td>0.983254</td>\n",
              "      <td>-0.523714</td>\n",
              "      <td>-1.529905</td>\n",
              "      <td>1.454540</td>\n",
              "    </tr>\n",
              "    <tr>\n",
              "      <th>2021-05-11</th>\n",
              "      <td>-0.199245</td>\n",
              "      <td>-0.681413</td>\n",
              "      <td>-0.930412</td>\n",
              "      <td>-0.301135</td>\n",
              "    </tr>\n",
              "  </tbody>\n",
              "</table>\n",
              "</div>"
            ],
            "text/plain": [
              "                   A         B         C         D\n",
              "2021-05-07  1.116398  1.616474 -1.105548  0.606092\n",
              "2021-05-08  1.027949 -1.775700  0.465580 -0.304801\n",
              "2021-05-09  1.065303 -2.227122  0.533991  0.239970\n",
              "2021-05-10  0.983254 -0.523714 -1.529905  1.454540\n",
              "2021-05-11 -0.199245 -0.681413 -0.930412 -0.301135"
            ]
          },
          "metadata": {
            "tags": []
          },
          "execution_count": 28
        }
      ]
    },
    {
      "cell_type": "code",
      "metadata": {
        "colab": {
          "base_uri": "https://localhost:8080/",
          "height": 195
        },
        "id": "Bqu-vT3GNKfx",
        "outputId": "e45142cb-ebf7-4959-f439-4c5833c13c8f"
      },
      "source": [
        "df.tail()"
      ],
      "execution_count": 30,
      "outputs": [
        {
          "output_type": "execute_result",
          "data": {
            "text/html": [
              "<div>\n",
              "<style scoped>\n",
              "    .dataframe tbody tr th:only-of-type {\n",
              "        vertical-align: middle;\n",
              "    }\n",
              "\n",
              "    .dataframe tbody tr th {\n",
              "        vertical-align: top;\n",
              "    }\n",
              "\n",
              "    .dataframe thead th {\n",
              "        text-align: right;\n",
              "    }\n",
              "</style>\n",
              "<table border=\"1\" class=\"dataframe\">\n",
              "  <thead>\n",
              "    <tr style=\"text-align: right;\">\n",
              "      <th></th>\n",
              "      <th>A</th>\n",
              "      <th>B</th>\n",
              "      <th>C</th>\n",
              "      <th>D</th>\n",
              "    </tr>\n",
              "  </thead>\n",
              "  <tbody>\n",
              "    <tr>\n",
              "      <th>2021-05-08</th>\n",
              "      <td>1.027949</td>\n",
              "      <td>-1.775700</td>\n",
              "      <td>0.465580</td>\n",
              "      <td>-0.304801</td>\n",
              "    </tr>\n",
              "    <tr>\n",
              "      <th>2021-05-09</th>\n",
              "      <td>1.065303</td>\n",
              "      <td>-2.227122</td>\n",
              "      <td>0.533991</td>\n",
              "      <td>0.239970</td>\n",
              "    </tr>\n",
              "    <tr>\n",
              "      <th>2021-05-10</th>\n",
              "      <td>0.983254</td>\n",
              "      <td>-0.523714</td>\n",
              "      <td>-1.529905</td>\n",
              "      <td>1.454540</td>\n",
              "    </tr>\n",
              "    <tr>\n",
              "      <th>2021-05-11</th>\n",
              "      <td>-0.199245</td>\n",
              "      <td>-0.681413</td>\n",
              "      <td>-0.930412</td>\n",
              "      <td>-0.301135</td>\n",
              "    </tr>\n",
              "    <tr>\n",
              "      <th>2021-05-12</th>\n",
              "      <td>-0.607123</td>\n",
              "      <td>-1.608729</td>\n",
              "      <td>-1.135281</td>\n",
              "      <td>1.255318</td>\n",
              "    </tr>\n",
              "  </tbody>\n",
              "</table>\n",
              "</div>"
            ],
            "text/plain": [
              "                   A         B         C         D\n",
              "2021-05-08  1.027949 -1.775700  0.465580 -0.304801\n",
              "2021-05-09  1.065303 -2.227122  0.533991  0.239970\n",
              "2021-05-10  0.983254 -0.523714 -1.529905  1.454540\n",
              "2021-05-11 -0.199245 -0.681413 -0.930412 -0.301135\n",
              "2021-05-12 -0.607123 -1.608729 -1.135281  1.255318"
            ]
          },
          "metadata": {
            "tags": []
          },
          "execution_count": 30
        }
      ]
    },
    {
      "cell_type": "code",
      "metadata": {
        "colab": {
          "base_uri": "https://localhost:8080/",
          "height": 225
        },
        "id": "S5AbRPLKNNug",
        "outputId": "1784d8a4-dab7-443b-84a5-15be26ac2d39"
      },
      "source": [
        "df"
      ],
      "execution_count": 31,
      "outputs": [
        {
          "output_type": "execute_result",
          "data": {
            "text/html": [
              "<div>\n",
              "<style scoped>\n",
              "    .dataframe tbody tr th:only-of-type {\n",
              "        vertical-align: middle;\n",
              "    }\n",
              "\n",
              "    .dataframe tbody tr th {\n",
              "        vertical-align: top;\n",
              "    }\n",
              "\n",
              "    .dataframe thead th {\n",
              "        text-align: right;\n",
              "    }\n",
              "</style>\n",
              "<table border=\"1\" class=\"dataframe\">\n",
              "  <thead>\n",
              "    <tr style=\"text-align: right;\">\n",
              "      <th></th>\n",
              "      <th>A</th>\n",
              "      <th>B</th>\n",
              "      <th>C</th>\n",
              "      <th>D</th>\n",
              "    </tr>\n",
              "  </thead>\n",
              "  <tbody>\n",
              "    <tr>\n",
              "      <th>2021-05-07</th>\n",
              "      <td>1.116398</td>\n",
              "      <td>1.616474</td>\n",
              "      <td>-1.105548</td>\n",
              "      <td>0.606092</td>\n",
              "    </tr>\n",
              "    <tr>\n",
              "      <th>2021-05-08</th>\n",
              "      <td>1.027949</td>\n",
              "      <td>-1.775700</td>\n",
              "      <td>0.465580</td>\n",
              "      <td>-0.304801</td>\n",
              "    </tr>\n",
              "    <tr>\n",
              "      <th>2021-05-09</th>\n",
              "      <td>1.065303</td>\n",
              "      <td>-2.227122</td>\n",
              "      <td>0.533991</td>\n",
              "      <td>0.239970</td>\n",
              "    </tr>\n",
              "    <tr>\n",
              "      <th>2021-05-10</th>\n",
              "      <td>0.983254</td>\n",
              "      <td>-0.523714</td>\n",
              "      <td>-1.529905</td>\n",
              "      <td>1.454540</td>\n",
              "    </tr>\n",
              "    <tr>\n",
              "      <th>2021-05-11</th>\n",
              "      <td>-0.199245</td>\n",
              "      <td>-0.681413</td>\n",
              "      <td>-0.930412</td>\n",
              "      <td>-0.301135</td>\n",
              "    </tr>\n",
              "    <tr>\n",
              "      <th>2021-05-12</th>\n",
              "      <td>-0.607123</td>\n",
              "      <td>-1.608729</td>\n",
              "      <td>-1.135281</td>\n",
              "      <td>1.255318</td>\n",
              "    </tr>\n",
              "  </tbody>\n",
              "</table>\n",
              "</div>"
            ],
            "text/plain": [
              "                   A         B         C         D\n",
              "2021-05-07  1.116398  1.616474 -1.105548  0.606092\n",
              "2021-05-08  1.027949 -1.775700  0.465580 -0.304801\n",
              "2021-05-09  1.065303 -2.227122  0.533991  0.239970\n",
              "2021-05-10  0.983254 -0.523714 -1.529905  1.454540\n",
              "2021-05-11 -0.199245 -0.681413 -0.930412 -0.301135\n",
              "2021-05-12 -0.607123 -1.608729 -1.135281  1.255318"
            ]
          },
          "metadata": {
            "tags": []
          },
          "execution_count": 31
        }
      ]
    },
    {
      "cell_type": "code",
      "metadata": {
        "colab": {
          "base_uri": "https://localhost:8080/",
          "height": 77
        },
        "id": "pYHe2_j1NWkA",
        "outputId": "e5f5304c-e06e-4ce6-c648-be69f8d74725"
      },
      "source": [
        "df.head(1)"
      ],
      "execution_count": 32,
      "outputs": [
        {
          "output_type": "execute_result",
          "data": {
            "text/html": [
              "<div>\n",
              "<style scoped>\n",
              "    .dataframe tbody tr th:only-of-type {\n",
              "        vertical-align: middle;\n",
              "    }\n",
              "\n",
              "    .dataframe tbody tr th {\n",
              "        vertical-align: top;\n",
              "    }\n",
              "\n",
              "    .dataframe thead th {\n",
              "        text-align: right;\n",
              "    }\n",
              "</style>\n",
              "<table border=\"1\" class=\"dataframe\">\n",
              "  <thead>\n",
              "    <tr style=\"text-align: right;\">\n",
              "      <th></th>\n",
              "      <th>A</th>\n",
              "      <th>B</th>\n",
              "      <th>C</th>\n",
              "      <th>D</th>\n",
              "    </tr>\n",
              "  </thead>\n",
              "  <tbody>\n",
              "    <tr>\n",
              "      <th>2021-05-07</th>\n",
              "      <td>1.116398</td>\n",
              "      <td>1.616474</td>\n",
              "      <td>-1.105548</td>\n",
              "      <td>0.606092</td>\n",
              "    </tr>\n",
              "  </tbody>\n",
              "</table>\n",
              "</div>"
            ],
            "text/plain": [
              "                   A         B         C         D\n",
              "2021-05-07  1.116398  1.616474 -1.105548  0.606092"
            ]
          },
          "metadata": {
            "tags": []
          },
          "execution_count": 32
        }
      ]
    },
    {
      "cell_type": "code",
      "metadata": {
        "colab": {
          "base_uri": "https://localhost:8080/",
          "height": 106
        },
        "id": "JkGF394iNb-w",
        "outputId": "87d1c634-5172-42a2-e657-0fd61fbb101d"
      },
      "source": [
        "df.tail(2)"
      ],
      "execution_count": 33,
      "outputs": [
        {
          "output_type": "execute_result",
          "data": {
            "text/html": [
              "<div>\n",
              "<style scoped>\n",
              "    .dataframe tbody tr th:only-of-type {\n",
              "        vertical-align: middle;\n",
              "    }\n",
              "\n",
              "    .dataframe tbody tr th {\n",
              "        vertical-align: top;\n",
              "    }\n",
              "\n",
              "    .dataframe thead th {\n",
              "        text-align: right;\n",
              "    }\n",
              "</style>\n",
              "<table border=\"1\" class=\"dataframe\">\n",
              "  <thead>\n",
              "    <tr style=\"text-align: right;\">\n",
              "      <th></th>\n",
              "      <th>A</th>\n",
              "      <th>B</th>\n",
              "      <th>C</th>\n",
              "      <th>D</th>\n",
              "    </tr>\n",
              "  </thead>\n",
              "  <tbody>\n",
              "    <tr>\n",
              "      <th>2021-05-11</th>\n",
              "      <td>-0.199245</td>\n",
              "      <td>-0.681413</td>\n",
              "      <td>-0.930412</td>\n",
              "      <td>-0.301135</td>\n",
              "    </tr>\n",
              "    <tr>\n",
              "      <th>2021-05-12</th>\n",
              "      <td>-0.607123</td>\n",
              "      <td>-1.608729</td>\n",
              "      <td>-1.135281</td>\n",
              "      <td>1.255318</td>\n",
              "    </tr>\n",
              "  </tbody>\n",
              "</table>\n",
              "</div>"
            ],
            "text/plain": [
              "                   A         B         C         D\n",
              "2021-05-11 -0.199245 -0.681413 -0.930412 -0.301135\n",
              "2021-05-12 -0.607123 -1.608729 -1.135281  1.255318"
            ]
          },
          "metadata": {
            "tags": []
          },
          "execution_count": 33
        }
      ]
    },
    {
      "cell_type": "code",
      "metadata": {
        "colab": {
          "base_uri": "https://localhost:8080/",
          "height": 225
        },
        "id": "n56LrOFRNfaB",
        "outputId": "4b2c62d3-5c08-442a-e59a-d4a6ed102bff"
      },
      "source": [
        "df"
      ],
      "execution_count": 34,
      "outputs": [
        {
          "output_type": "execute_result",
          "data": {
            "text/html": [
              "<div>\n",
              "<style scoped>\n",
              "    .dataframe tbody tr th:only-of-type {\n",
              "        vertical-align: middle;\n",
              "    }\n",
              "\n",
              "    .dataframe tbody tr th {\n",
              "        vertical-align: top;\n",
              "    }\n",
              "\n",
              "    .dataframe thead th {\n",
              "        text-align: right;\n",
              "    }\n",
              "</style>\n",
              "<table border=\"1\" class=\"dataframe\">\n",
              "  <thead>\n",
              "    <tr style=\"text-align: right;\">\n",
              "      <th></th>\n",
              "      <th>A</th>\n",
              "      <th>B</th>\n",
              "      <th>C</th>\n",
              "      <th>D</th>\n",
              "    </tr>\n",
              "  </thead>\n",
              "  <tbody>\n",
              "    <tr>\n",
              "      <th>2021-05-07</th>\n",
              "      <td>1.116398</td>\n",
              "      <td>1.616474</td>\n",
              "      <td>-1.105548</td>\n",
              "      <td>0.606092</td>\n",
              "    </tr>\n",
              "    <tr>\n",
              "      <th>2021-05-08</th>\n",
              "      <td>1.027949</td>\n",
              "      <td>-1.775700</td>\n",
              "      <td>0.465580</td>\n",
              "      <td>-0.304801</td>\n",
              "    </tr>\n",
              "    <tr>\n",
              "      <th>2021-05-09</th>\n",
              "      <td>1.065303</td>\n",
              "      <td>-2.227122</td>\n",
              "      <td>0.533991</td>\n",
              "      <td>0.239970</td>\n",
              "    </tr>\n",
              "    <tr>\n",
              "      <th>2021-05-10</th>\n",
              "      <td>0.983254</td>\n",
              "      <td>-0.523714</td>\n",
              "      <td>-1.529905</td>\n",
              "      <td>1.454540</td>\n",
              "    </tr>\n",
              "    <tr>\n",
              "      <th>2021-05-11</th>\n",
              "      <td>-0.199245</td>\n",
              "      <td>-0.681413</td>\n",
              "      <td>-0.930412</td>\n",
              "      <td>-0.301135</td>\n",
              "    </tr>\n",
              "    <tr>\n",
              "      <th>2021-05-12</th>\n",
              "      <td>-0.607123</td>\n",
              "      <td>-1.608729</td>\n",
              "      <td>-1.135281</td>\n",
              "      <td>1.255318</td>\n",
              "    </tr>\n",
              "  </tbody>\n",
              "</table>\n",
              "</div>"
            ],
            "text/plain": [
              "                   A         B         C         D\n",
              "2021-05-07  1.116398  1.616474 -1.105548  0.606092\n",
              "2021-05-08  1.027949 -1.775700  0.465580 -0.304801\n",
              "2021-05-09  1.065303 -2.227122  0.533991  0.239970\n",
              "2021-05-10  0.983254 -0.523714 -1.529905  1.454540\n",
              "2021-05-11 -0.199245 -0.681413 -0.930412 -0.301135\n",
              "2021-05-12 -0.607123 -1.608729 -1.135281  1.255318"
            ]
          },
          "metadata": {
            "tags": []
          },
          "execution_count": 34
        }
      ]
    },
    {
      "cell_type": "code",
      "metadata": {
        "colab": {
          "base_uri": "https://localhost:8080/"
        },
        "id": "2UDHXU2INqnw",
        "outputId": "4f133da1-d6a4-48b4-89d8-a2519766bd6e"
      },
      "source": [
        "df.index"
      ],
      "execution_count": 36,
      "outputs": [
        {
          "output_type": "execute_result",
          "data": {
            "text/plain": [
              "DatetimeIndex(['2021-05-07', '2021-05-08', '2021-05-09', '2021-05-10',\n",
              "               '2021-05-11', '2021-05-12'],\n",
              "              dtype='datetime64[ns]', freq='D')"
            ]
          },
          "metadata": {
            "tags": []
          },
          "execution_count": 36
        }
      ]
    },
    {
      "cell_type": "code",
      "metadata": {
        "colab": {
          "base_uri": "https://localhost:8080/"
        },
        "id": "WY-bbsH5Ntkw",
        "outputId": "16acbfc7-cdc4-4064-9868-1faed06d3636"
      },
      "source": [
        "df.columns"
      ],
      "execution_count": 37,
      "outputs": [
        {
          "output_type": "execute_result",
          "data": {
            "text/plain": [
              "Index(['A', 'B', 'C', 'D'], dtype='object')"
            ]
          },
          "metadata": {
            "tags": []
          },
          "execution_count": 37
        }
      ]
    },
    {
      "cell_type": "code",
      "metadata": {
        "colab": {
          "base_uri": "https://localhost:8080/"
        },
        "id": "-o706bGpN3Kw",
        "outputId": "d5edc5d3-1c2e-462a-f8f6-a5b017e25da7"
      },
      "source": [
        "df.values"
      ],
      "execution_count": 38,
      "outputs": [
        {
          "output_type": "execute_result",
          "data": {
            "text/plain": [
              "array([[ 1.11639784,  1.61647419, -1.1055481 ,  0.60609179],\n",
              "       [ 1.02794898, -1.77570009,  0.46558039, -0.30480101],\n",
              "       [ 1.06530254, -2.22712196,  0.53399131,  0.23996976],\n",
              "       [ 0.98325444, -0.52371415, -1.52990511,  1.45453974],\n",
              "       [-0.19924478, -0.68141339, -0.93041179, -0.301135  ],\n",
              "       [-0.60712262, -1.60872912, -1.13528118,  1.25531796]])"
            ]
          },
          "metadata": {
            "tags": []
          },
          "execution_count": 38
        }
      ]
    },
    {
      "cell_type": "code",
      "metadata": {
        "colab": {
          "base_uri": "https://localhost:8080/",
          "height": 284
        },
        "id": "W9Ep8SpRODrA",
        "outputId": "cae9e27c-7b78-44bc-ede8-906db9fea301"
      },
      "source": [
        "df.describe()"
      ],
      "execution_count": 39,
      "outputs": [
        {
          "output_type": "execute_result",
          "data": {
            "text/html": [
              "<div>\n",
              "<style scoped>\n",
              "    .dataframe tbody tr th:only-of-type {\n",
              "        vertical-align: middle;\n",
              "    }\n",
              "\n",
              "    .dataframe tbody tr th {\n",
              "        vertical-align: top;\n",
              "    }\n",
              "\n",
              "    .dataframe thead th {\n",
              "        text-align: right;\n",
              "    }\n",
              "</style>\n",
              "<table border=\"1\" class=\"dataframe\">\n",
              "  <thead>\n",
              "    <tr style=\"text-align: right;\">\n",
              "      <th></th>\n",
              "      <th>A</th>\n",
              "      <th>B</th>\n",
              "      <th>C</th>\n",
              "      <th>D</th>\n",
              "    </tr>\n",
              "  </thead>\n",
              "  <tbody>\n",
              "    <tr>\n",
              "      <th>count</th>\n",
              "      <td>6.000000</td>\n",
              "      <td>6.000000</td>\n",
              "      <td>6.000000</td>\n",
              "      <td>6.000000</td>\n",
              "    </tr>\n",
              "    <tr>\n",
              "      <th>mean</th>\n",
              "      <td>0.564423</td>\n",
              "      <td>-0.866701</td>\n",
              "      <td>-0.616929</td>\n",
              "      <td>0.491664</td>\n",
              "    </tr>\n",
              "    <tr>\n",
              "      <th>std</th>\n",
              "      <td>0.761780</td>\n",
              "      <td>1.381721</td>\n",
              "      <td>0.887207</td>\n",
              "      <td>0.754934</td>\n",
              "    </tr>\n",
              "    <tr>\n",
              "      <th>min</th>\n",
              "      <td>-0.607123</td>\n",
              "      <td>-2.227122</td>\n",
              "      <td>-1.529905</td>\n",
              "      <td>-0.304801</td>\n",
              "    </tr>\n",
              "    <tr>\n",
              "      <th>25%</th>\n",
              "      <td>0.096380</td>\n",
              "      <td>-1.733957</td>\n",
              "      <td>-1.127848</td>\n",
              "      <td>-0.165859</td>\n",
              "    </tr>\n",
              "    <tr>\n",
              "      <th>50%</th>\n",
              "      <td>1.005602</td>\n",
              "      <td>-1.145071</td>\n",
              "      <td>-1.017980</td>\n",
              "      <td>0.423031</td>\n",
              "    </tr>\n",
              "    <tr>\n",
              "      <th>75%</th>\n",
              "      <td>1.055964</td>\n",
              "      <td>-0.563139</td>\n",
              "      <td>0.116582</td>\n",
              "      <td>1.093011</td>\n",
              "    </tr>\n",
              "    <tr>\n",
              "      <th>max</th>\n",
              "      <td>1.116398</td>\n",
              "      <td>1.616474</td>\n",
              "      <td>0.533991</td>\n",
              "      <td>1.454540</td>\n",
              "    </tr>\n",
              "  </tbody>\n",
              "</table>\n",
              "</div>"
            ],
            "text/plain": [
              "              A         B         C         D\n",
              "count  6.000000  6.000000  6.000000  6.000000\n",
              "mean   0.564423 -0.866701 -0.616929  0.491664\n",
              "std    0.761780  1.381721  0.887207  0.754934\n",
              "min   -0.607123 -2.227122 -1.529905 -0.304801\n",
              "25%    0.096380 -1.733957 -1.127848 -0.165859\n",
              "50%    1.005602 -1.145071 -1.017980  0.423031\n",
              "75%    1.055964 -0.563139  0.116582  1.093011\n",
              "max    1.116398  1.616474  0.533991  1.454540"
            ]
          },
          "metadata": {
            "tags": []
          },
          "execution_count": 39
        }
      ]
    },
    {
      "cell_type": "code",
      "metadata": {
        "colab": {
          "base_uri": "https://localhost:8080/",
          "height": 225
        },
        "id": "dUaG62wJOKpA",
        "outputId": "18ba32de-594c-4fba-9bc1-638014092726"
      },
      "source": [
        "df"
      ],
      "execution_count": 40,
      "outputs": [
        {
          "output_type": "execute_result",
          "data": {
            "text/html": [
              "<div>\n",
              "<style scoped>\n",
              "    .dataframe tbody tr th:only-of-type {\n",
              "        vertical-align: middle;\n",
              "    }\n",
              "\n",
              "    .dataframe tbody tr th {\n",
              "        vertical-align: top;\n",
              "    }\n",
              "\n",
              "    .dataframe thead th {\n",
              "        text-align: right;\n",
              "    }\n",
              "</style>\n",
              "<table border=\"1\" class=\"dataframe\">\n",
              "  <thead>\n",
              "    <tr style=\"text-align: right;\">\n",
              "      <th></th>\n",
              "      <th>A</th>\n",
              "      <th>B</th>\n",
              "      <th>C</th>\n",
              "      <th>D</th>\n",
              "    </tr>\n",
              "  </thead>\n",
              "  <tbody>\n",
              "    <tr>\n",
              "      <th>2021-05-07</th>\n",
              "      <td>1.116398</td>\n",
              "      <td>1.616474</td>\n",
              "      <td>-1.105548</td>\n",
              "      <td>0.606092</td>\n",
              "    </tr>\n",
              "    <tr>\n",
              "      <th>2021-05-08</th>\n",
              "      <td>1.027949</td>\n",
              "      <td>-1.775700</td>\n",
              "      <td>0.465580</td>\n",
              "      <td>-0.304801</td>\n",
              "    </tr>\n",
              "    <tr>\n",
              "      <th>2021-05-09</th>\n",
              "      <td>1.065303</td>\n",
              "      <td>-2.227122</td>\n",
              "      <td>0.533991</td>\n",
              "      <td>0.239970</td>\n",
              "    </tr>\n",
              "    <tr>\n",
              "      <th>2021-05-10</th>\n",
              "      <td>0.983254</td>\n",
              "      <td>-0.523714</td>\n",
              "      <td>-1.529905</td>\n",
              "      <td>1.454540</td>\n",
              "    </tr>\n",
              "    <tr>\n",
              "      <th>2021-05-11</th>\n",
              "      <td>-0.199245</td>\n",
              "      <td>-0.681413</td>\n",
              "      <td>-0.930412</td>\n",
              "      <td>-0.301135</td>\n",
              "    </tr>\n",
              "    <tr>\n",
              "      <th>2021-05-12</th>\n",
              "      <td>-0.607123</td>\n",
              "      <td>-1.608729</td>\n",
              "      <td>-1.135281</td>\n",
              "      <td>1.255318</td>\n",
              "    </tr>\n",
              "  </tbody>\n",
              "</table>\n",
              "</div>"
            ],
            "text/plain": [
              "                   A         B         C         D\n",
              "2021-05-07  1.116398  1.616474 -1.105548  0.606092\n",
              "2021-05-08  1.027949 -1.775700  0.465580 -0.304801\n",
              "2021-05-09  1.065303 -2.227122  0.533991  0.239970\n",
              "2021-05-10  0.983254 -0.523714 -1.529905  1.454540\n",
              "2021-05-11 -0.199245 -0.681413 -0.930412 -0.301135\n",
              "2021-05-12 -0.607123 -1.608729 -1.135281  1.255318"
            ]
          },
          "metadata": {
            "tags": []
          },
          "execution_count": 40
        }
      ]
    },
    {
      "cell_type": "code",
      "metadata": {
        "colab": {
          "base_uri": "https://localhost:8080/",
          "height": 166
        },
        "id": "58TFHwOjOy8h",
        "outputId": "71c31c00-f8bf-421f-f1ce-9d109760ea73"
      },
      "source": [
        "df.T"
      ],
      "execution_count": 41,
      "outputs": [
        {
          "output_type": "execute_result",
          "data": {
            "text/html": [
              "<div>\n",
              "<style scoped>\n",
              "    .dataframe tbody tr th:only-of-type {\n",
              "        vertical-align: middle;\n",
              "    }\n",
              "\n",
              "    .dataframe tbody tr th {\n",
              "        vertical-align: top;\n",
              "    }\n",
              "\n",
              "    .dataframe thead th {\n",
              "        text-align: right;\n",
              "    }\n",
              "</style>\n",
              "<table border=\"1\" class=\"dataframe\">\n",
              "  <thead>\n",
              "    <tr style=\"text-align: right;\">\n",
              "      <th></th>\n",
              "      <th>2021-05-07</th>\n",
              "      <th>2021-05-08</th>\n",
              "      <th>2021-05-09</th>\n",
              "      <th>2021-05-10</th>\n",
              "      <th>2021-05-11</th>\n",
              "      <th>2021-05-12</th>\n",
              "    </tr>\n",
              "  </thead>\n",
              "  <tbody>\n",
              "    <tr>\n",
              "      <th>A</th>\n",
              "      <td>1.116398</td>\n",
              "      <td>1.027949</td>\n",
              "      <td>1.065303</td>\n",
              "      <td>0.983254</td>\n",
              "      <td>-0.199245</td>\n",
              "      <td>-0.607123</td>\n",
              "    </tr>\n",
              "    <tr>\n",
              "      <th>B</th>\n",
              "      <td>1.616474</td>\n",
              "      <td>-1.775700</td>\n",
              "      <td>-2.227122</td>\n",
              "      <td>-0.523714</td>\n",
              "      <td>-0.681413</td>\n",
              "      <td>-1.608729</td>\n",
              "    </tr>\n",
              "    <tr>\n",
              "      <th>C</th>\n",
              "      <td>-1.105548</td>\n",
              "      <td>0.465580</td>\n",
              "      <td>0.533991</td>\n",
              "      <td>-1.529905</td>\n",
              "      <td>-0.930412</td>\n",
              "      <td>-1.135281</td>\n",
              "    </tr>\n",
              "    <tr>\n",
              "      <th>D</th>\n",
              "      <td>0.606092</td>\n",
              "      <td>-0.304801</td>\n",
              "      <td>0.239970</td>\n",
              "      <td>1.454540</td>\n",
              "      <td>-0.301135</td>\n",
              "      <td>1.255318</td>\n",
              "    </tr>\n",
              "  </tbody>\n",
              "</table>\n",
              "</div>"
            ],
            "text/plain": [
              "   2021-05-07  2021-05-08  2021-05-09  2021-05-10  2021-05-11  2021-05-12\n",
              "A    1.116398    1.027949    1.065303    0.983254   -0.199245   -0.607123\n",
              "B    1.616474   -1.775700   -2.227122   -0.523714   -0.681413   -1.608729\n",
              "C   -1.105548    0.465580    0.533991   -1.529905   -0.930412   -1.135281\n",
              "D    0.606092   -0.304801    0.239970    1.454540   -0.301135    1.255318"
            ]
          },
          "metadata": {
            "tags": []
          },
          "execution_count": 41
        }
      ]
    },
    {
      "cell_type": "code",
      "metadata": {
        "colab": {
          "base_uri": "https://localhost:8080/",
          "height": 225
        },
        "id": "8fGKsLfDO2nR",
        "outputId": "5a5df36f-a4e5-4748-acfc-8f72c0ec7071"
      },
      "source": [
        "df.sort_index(axis=1,ascending=False)"
      ],
      "execution_count": 43,
      "outputs": [
        {
          "output_type": "execute_result",
          "data": {
            "text/html": [
              "<div>\n",
              "<style scoped>\n",
              "    .dataframe tbody tr th:only-of-type {\n",
              "        vertical-align: middle;\n",
              "    }\n",
              "\n",
              "    .dataframe tbody tr th {\n",
              "        vertical-align: top;\n",
              "    }\n",
              "\n",
              "    .dataframe thead th {\n",
              "        text-align: right;\n",
              "    }\n",
              "</style>\n",
              "<table border=\"1\" class=\"dataframe\">\n",
              "  <thead>\n",
              "    <tr style=\"text-align: right;\">\n",
              "      <th></th>\n",
              "      <th>D</th>\n",
              "      <th>C</th>\n",
              "      <th>B</th>\n",
              "      <th>A</th>\n",
              "    </tr>\n",
              "  </thead>\n",
              "  <tbody>\n",
              "    <tr>\n",
              "      <th>2021-05-07</th>\n",
              "      <td>0.606092</td>\n",
              "      <td>-1.105548</td>\n",
              "      <td>1.616474</td>\n",
              "      <td>1.116398</td>\n",
              "    </tr>\n",
              "    <tr>\n",
              "      <th>2021-05-08</th>\n",
              "      <td>-0.304801</td>\n",
              "      <td>0.465580</td>\n",
              "      <td>-1.775700</td>\n",
              "      <td>1.027949</td>\n",
              "    </tr>\n",
              "    <tr>\n",
              "      <th>2021-05-09</th>\n",
              "      <td>0.239970</td>\n",
              "      <td>0.533991</td>\n",
              "      <td>-2.227122</td>\n",
              "      <td>1.065303</td>\n",
              "    </tr>\n",
              "    <tr>\n",
              "      <th>2021-05-10</th>\n",
              "      <td>1.454540</td>\n",
              "      <td>-1.529905</td>\n",
              "      <td>-0.523714</td>\n",
              "      <td>0.983254</td>\n",
              "    </tr>\n",
              "    <tr>\n",
              "      <th>2021-05-11</th>\n",
              "      <td>-0.301135</td>\n",
              "      <td>-0.930412</td>\n",
              "      <td>-0.681413</td>\n",
              "      <td>-0.199245</td>\n",
              "    </tr>\n",
              "    <tr>\n",
              "      <th>2021-05-12</th>\n",
              "      <td>1.255318</td>\n",
              "      <td>-1.135281</td>\n",
              "      <td>-1.608729</td>\n",
              "      <td>-0.607123</td>\n",
              "    </tr>\n",
              "  </tbody>\n",
              "</table>\n",
              "</div>"
            ],
            "text/plain": [
              "                   D         C         B         A\n",
              "2021-05-07  0.606092 -1.105548  1.616474  1.116398\n",
              "2021-05-08 -0.304801  0.465580 -1.775700  1.027949\n",
              "2021-05-09  0.239970  0.533991 -2.227122  1.065303\n",
              "2021-05-10  1.454540 -1.529905 -0.523714  0.983254\n",
              "2021-05-11 -0.301135 -0.930412 -0.681413 -0.199245\n",
              "2021-05-12  1.255318 -1.135281 -1.608729 -0.607123"
            ]
          },
          "metadata": {
            "tags": []
          },
          "execution_count": 43
        }
      ]
    },
    {
      "cell_type": "code",
      "metadata": {
        "colab": {
          "base_uri": "https://localhost:8080/",
          "height": 225
        },
        "id": "jsItS_UrRwNX",
        "outputId": "895061d5-6f1c-436c-a0c9-e489367206e9"
      },
      "source": [
        "df.sort_index(axis=0,ascending=False)"
      ],
      "execution_count": 44,
      "outputs": [
        {
          "output_type": "execute_result",
          "data": {
            "text/html": [
              "<div>\n",
              "<style scoped>\n",
              "    .dataframe tbody tr th:only-of-type {\n",
              "        vertical-align: middle;\n",
              "    }\n",
              "\n",
              "    .dataframe tbody tr th {\n",
              "        vertical-align: top;\n",
              "    }\n",
              "\n",
              "    .dataframe thead th {\n",
              "        text-align: right;\n",
              "    }\n",
              "</style>\n",
              "<table border=\"1\" class=\"dataframe\">\n",
              "  <thead>\n",
              "    <tr style=\"text-align: right;\">\n",
              "      <th></th>\n",
              "      <th>A</th>\n",
              "      <th>B</th>\n",
              "      <th>C</th>\n",
              "      <th>D</th>\n",
              "    </tr>\n",
              "  </thead>\n",
              "  <tbody>\n",
              "    <tr>\n",
              "      <th>2021-05-12</th>\n",
              "      <td>-0.607123</td>\n",
              "      <td>-1.608729</td>\n",
              "      <td>-1.135281</td>\n",
              "      <td>1.255318</td>\n",
              "    </tr>\n",
              "    <tr>\n",
              "      <th>2021-05-11</th>\n",
              "      <td>-0.199245</td>\n",
              "      <td>-0.681413</td>\n",
              "      <td>-0.930412</td>\n",
              "      <td>-0.301135</td>\n",
              "    </tr>\n",
              "    <tr>\n",
              "      <th>2021-05-10</th>\n",
              "      <td>0.983254</td>\n",
              "      <td>-0.523714</td>\n",
              "      <td>-1.529905</td>\n",
              "      <td>1.454540</td>\n",
              "    </tr>\n",
              "    <tr>\n",
              "      <th>2021-05-09</th>\n",
              "      <td>1.065303</td>\n",
              "      <td>-2.227122</td>\n",
              "      <td>0.533991</td>\n",
              "      <td>0.239970</td>\n",
              "    </tr>\n",
              "    <tr>\n",
              "      <th>2021-05-08</th>\n",
              "      <td>1.027949</td>\n",
              "      <td>-1.775700</td>\n",
              "      <td>0.465580</td>\n",
              "      <td>-0.304801</td>\n",
              "    </tr>\n",
              "    <tr>\n",
              "      <th>2021-05-07</th>\n",
              "      <td>1.116398</td>\n",
              "      <td>1.616474</td>\n",
              "      <td>-1.105548</td>\n",
              "      <td>0.606092</td>\n",
              "    </tr>\n",
              "  </tbody>\n",
              "</table>\n",
              "</div>"
            ],
            "text/plain": [
              "                   A         B         C         D\n",
              "2021-05-12 -0.607123 -1.608729 -1.135281  1.255318\n",
              "2021-05-11 -0.199245 -0.681413 -0.930412 -0.301135\n",
              "2021-05-10  0.983254 -0.523714 -1.529905  1.454540\n",
              "2021-05-09  1.065303 -2.227122  0.533991  0.239970\n",
              "2021-05-08  1.027949 -1.775700  0.465580 -0.304801\n",
              "2021-05-07  1.116398  1.616474 -1.105548  0.606092"
            ]
          },
          "metadata": {
            "tags": []
          },
          "execution_count": 44
        }
      ]
    },
    {
      "cell_type": "code",
      "metadata": {
        "colab": {
          "base_uri": "https://localhost:8080/",
          "height": 225
        },
        "id": "gT8oQdlnSMOn",
        "outputId": "3a9c3f4d-546b-4712-b4fa-79ddb28691d0"
      },
      "source": [
        "df.sort_index(axis=1,ascending=True)"
      ],
      "execution_count": 45,
      "outputs": [
        {
          "output_type": "execute_result",
          "data": {
            "text/html": [
              "<div>\n",
              "<style scoped>\n",
              "    .dataframe tbody tr th:only-of-type {\n",
              "        vertical-align: middle;\n",
              "    }\n",
              "\n",
              "    .dataframe tbody tr th {\n",
              "        vertical-align: top;\n",
              "    }\n",
              "\n",
              "    .dataframe thead th {\n",
              "        text-align: right;\n",
              "    }\n",
              "</style>\n",
              "<table border=\"1\" class=\"dataframe\">\n",
              "  <thead>\n",
              "    <tr style=\"text-align: right;\">\n",
              "      <th></th>\n",
              "      <th>A</th>\n",
              "      <th>B</th>\n",
              "      <th>C</th>\n",
              "      <th>D</th>\n",
              "    </tr>\n",
              "  </thead>\n",
              "  <tbody>\n",
              "    <tr>\n",
              "      <th>2021-05-07</th>\n",
              "      <td>1.116398</td>\n",
              "      <td>1.616474</td>\n",
              "      <td>-1.105548</td>\n",
              "      <td>0.606092</td>\n",
              "    </tr>\n",
              "    <tr>\n",
              "      <th>2021-05-08</th>\n",
              "      <td>1.027949</td>\n",
              "      <td>-1.775700</td>\n",
              "      <td>0.465580</td>\n",
              "      <td>-0.304801</td>\n",
              "    </tr>\n",
              "    <tr>\n",
              "      <th>2021-05-09</th>\n",
              "      <td>1.065303</td>\n",
              "      <td>-2.227122</td>\n",
              "      <td>0.533991</td>\n",
              "      <td>0.239970</td>\n",
              "    </tr>\n",
              "    <tr>\n",
              "      <th>2021-05-10</th>\n",
              "      <td>0.983254</td>\n",
              "      <td>-0.523714</td>\n",
              "      <td>-1.529905</td>\n",
              "      <td>1.454540</td>\n",
              "    </tr>\n",
              "    <tr>\n",
              "      <th>2021-05-11</th>\n",
              "      <td>-0.199245</td>\n",
              "      <td>-0.681413</td>\n",
              "      <td>-0.930412</td>\n",
              "      <td>-0.301135</td>\n",
              "    </tr>\n",
              "    <tr>\n",
              "      <th>2021-05-12</th>\n",
              "      <td>-0.607123</td>\n",
              "      <td>-1.608729</td>\n",
              "      <td>-1.135281</td>\n",
              "      <td>1.255318</td>\n",
              "    </tr>\n",
              "  </tbody>\n",
              "</table>\n",
              "</div>"
            ],
            "text/plain": [
              "                   A         B         C         D\n",
              "2021-05-07  1.116398  1.616474 -1.105548  0.606092\n",
              "2021-05-08  1.027949 -1.775700  0.465580 -0.304801\n",
              "2021-05-09  1.065303 -2.227122  0.533991  0.239970\n",
              "2021-05-10  0.983254 -0.523714 -1.529905  1.454540\n",
              "2021-05-11 -0.199245 -0.681413 -0.930412 -0.301135\n",
              "2021-05-12 -0.607123 -1.608729 -1.135281  1.255318"
            ]
          },
          "metadata": {
            "tags": []
          },
          "execution_count": 45
        }
      ]
    },
    {
      "cell_type": "code",
      "metadata": {
        "colab": {
          "base_uri": "https://localhost:8080/",
          "height": 225
        },
        "id": "aU3-P4XvSWgW",
        "outputId": "15244521-3cb0-400d-fa9b-6017ee23ea7b"
      },
      "source": [
        "df.sort_index(axis=0,ascending=True)"
      ],
      "execution_count": 46,
      "outputs": [
        {
          "output_type": "execute_result",
          "data": {
            "text/html": [
              "<div>\n",
              "<style scoped>\n",
              "    .dataframe tbody tr th:only-of-type {\n",
              "        vertical-align: middle;\n",
              "    }\n",
              "\n",
              "    .dataframe tbody tr th {\n",
              "        vertical-align: top;\n",
              "    }\n",
              "\n",
              "    .dataframe thead th {\n",
              "        text-align: right;\n",
              "    }\n",
              "</style>\n",
              "<table border=\"1\" class=\"dataframe\">\n",
              "  <thead>\n",
              "    <tr style=\"text-align: right;\">\n",
              "      <th></th>\n",
              "      <th>A</th>\n",
              "      <th>B</th>\n",
              "      <th>C</th>\n",
              "      <th>D</th>\n",
              "    </tr>\n",
              "  </thead>\n",
              "  <tbody>\n",
              "    <tr>\n",
              "      <th>2021-05-07</th>\n",
              "      <td>1.116398</td>\n",
              "      <td>1.616474</td>\n",
              "      <td>-1.105548</td>\n",
              "      <td>0.606092</td>\n",
              "    </tr>\n",
              "    <tr>\n",
              "      <th>2021-05-08</th>\n",
              "      <td>1.027949</td>\n",
              "      <td>-1.775700</td>\n",
              "      <td>0.465580</td>\n",
              "      <td>-0.304801</td>\n",
              "    </tr>\n",
              "    <tr>\n",
              "      <th>2021-05-09</th>\n",
              "      <td>1.065303</td>\n",
              "      <td>-2.227122</td>\n",
              "      <td>0.533991</td>\n",
              "      <td>0.239970</td>\n",
              "    </tr>\n",
              "    <tr>\n",
              "      <th>2021-05-10</th>\n",
              "      <td>0.983254</td>\n",
              "      <td>-0.523714</td>\n",
              "      <td>-1.529905</td>\n",
              "      <td>1.454540</td>\n",
              "    </tr>\n",
              "    <tr>\n",
              "      <th>2021-05-11</th>\n",
              "      <td>-0.199245</td>\n",
              "      <td>-0.681413</td>\n",
              "      <td>-0.930412</td>\n",
              "      <td>-0.301135</td>\n",
              "    </tr>\n",
              "    <tr>\n",
              "      <th>2021-05-12</th>\n",
              "      <td>-0.607123</td>\n",
              "      <td>-1.608729</td>\n",
              "      <td>-1.135281</td>\n",
              "      <td>1.255318</td>\n",
              "    </tr>\n",
              "  </tbody>\n",
              "</table>\n",
              "</div>"
            ],
            "text/plain": [
              "                   A         B         C         D\n",
              "2021-05-07  1.116398  1.616474 -1.105548  0.606092\n",
              "2021-05-08  1.027949 -1.775700  0.465580 -0.304801\n",
              "2021-05-09  1.065303 -2.227122  0.533991  0.239970\n",
              "2021-05-10  0.983254 -0.523714 -1.529905  1.454540\n",
              "2021-05-11 -0.199245 -0.681413 -0.930412 -0.301135\n",
              "2021-05-12 -0.607123 -1.608729 -1.135281  1.255318"
            ]
          },
          "metadata": {
            "tags": []
          },
          "execution_count": 46
        }
      ]
    },
    {
      "cell_type": "code",
      "metadata": {
        "colab": {
          "base_uri": "https://localhost:8080/",
          "height": 225
        },
        "id": "W0IPcxEYSY2m",
        "outputId": "c108c27e-7c15-4f68-cd92-12d4d62f9ddd"
      },
      "source": [
        "df.sort_values(by='B')"
      ],
      "execution_count": 47,
      "outputs": [
        {
          "output_type": "execute_result",
          "data": {
            "text/html": [
              "<div>\n",
              "<style scoped>\n",
              "    .dataframe tbody tr th:only-of-type {\n",
              "        vertical-align: middle;\n",
              "    }\n",
              "\n",
              "    .dataframe tbody tr th {\n",
              "        vertical-align: top;\n",
              "    }\n",
              "\n",
              "    .dataframe thead th {\n",
              "        text-align: right;\n",
              "    }\n",
              "</style>\n",
              "<table border=\"1\" class=\"dataframe\">\n",
              "  <thead>\n",
              "    <tr style=\"text-align: right;\">\n",
              "      <th></th>\n",
              "      <th>A</th>\n",
              "      <th>B</th>\n",
              "      <th>C</th>\n",
              "      <th>D</th>\n",
              "    </tr>\n",
              "  </thead>\n",
              "  <tbody>\n",
              "    <tr>\n",
              "      <th>2021-05-09</th>\n",
              "      <td>1.065303</td>\n",
              "      <td>-2.227122</td>\n",
              "      <td>0.533991</td>\n",
              "      <td>0.239970</td>\n",
              "    </tr>\n",
              "    <tr>\n",
              "      <th>2021-05-08</th>\n",
              "      <td>1.027949</td>\n",
              "      <td>-1.775700</td>\n",
              "      <td>0.465580</td>\n",
              "      <td>-0.304801</td>\n",
              "    </tr>\n",
              "    <tr>\n",
              "      <th>2021-05-12</th>\n",
              "      <td>-0.607123</td>\n",
              "      <td>-1.608729</td>\n",
              "      <td>-1.135281</td>\n",
              "      <td>1.255318</td>\n",
              "    </tr>\n",
              "    <tr>\n",
              "      <th>2021-05-11</th>\n",
              "      <td>-0.199245</td>\n",
              "      <td>-0.681413</td>\n",
              "      <td>-0.930412</td>\n",
              "      <td>-0.301135</td>\n",
              "    </tr>\n",
              "    <tr>\n",
              "      <th>2021-05-10</th>\n",
              "      <td>0.983254</td>\n",
              "      <td>-0.523714</td>\n",
              "      <td>-1.529905</td>\n",
              "      <td>1.454540</td>\n",
              "    </tr>\n",
              "    <tr>\n",
              "      <th>2021-05-07</th>\n",
              "      <td>1.116398</td>\n",
              "      <td>1.616474</td>\n",
              "      <td>-1.105548</td>\n",
              "      <td>0.606092</td>\n",
              "    </tr>\n",
              "  </tbody>\n",
              "</table>\n",
              "</div>"
            ],
            "text/plain": [
              "                   A         B         C         D\n",
              "2021-05-09  1.065303 -2.227122  0.533991  0.239970\n",
              "2021-05-08  1.027949 -1.775700  0.465580 -0.304801\n",
              "2021-05-12 -0.607123 -1.608729 -1.135281  1.255318\n",
              "2021-05-11 -0.199245 -0.681413 -0.930412 -0.301135\n",
              "2021-05-10  0.983254 -0.523714 -1.529905  1.454540\n",
              "2021-05-07  1.116398  1.616474 -1.105548  0.606092"
            ]
          },
          "metadata": {
            "tags": []
          },
          "execution_count": 47
        }
      ]
    },
    {
      "cell_type": "code",
      "metadata": {
        "colab": {
          "base_uri": "https://localhost:8080/"
        },
        "id": "5xC4tXDPSxAW",
        "outputId": "4d35f2a6-a67b-4104-c7cb-ae1845b920b4"
      },
      "source": [
        "df['A']"
      ],
      "execution_count": 48,
      "outputs": [
        {
          "output_type": "execute_result",
          "data": {
            "text/plain": [
              "2021-05-07    1.116398\n",
              "2021-05-08    1.027949\n",
              "2021-05-09    1.065303\n",
              "2021-05-10    0.983254\n",
              "2021-05-11   -0.199245\n",
              "2021-05-12   -0.607123\n",
              "Freq: D, Name: A, dtype: float64"
            ]
          },
          "metadata": {
            "tags": []
          },
          "execution_count": 48
        }
      ]
    },
    {
      "cell_type": "code",
      "metadata": {
        "colab": {
          "base_uri": "https://localhost:8080/"
        },
        "id": "r8y_5e5VTHEH",
        "outputId": "93275f2d-eb5f-4918-ba3f-56bdbb534cf2"
      },
      "source": [
        "df['B']"
      ],
      "execution_count": 49,
      "outputs": [
        {
          "output_type": "execute_result",
          "data": {
            "text/plain": [
              "2021-05-07    1.616474\n",
              "2021-05-08   -1.775700\n",
              "2021-05-09   -2.227122\n",
              "2021-05-10   -0.523714\n",
              "2021-05-11   -0.681413\n",
              "2021-05-12   -1.608729\n",
              "Freq: D, Name: B, dtype: float64"
            ]
          },
          "metadata": {
            "tags": []
          },
          "execution_count": 49
        }
      ]
    },
    {
      "cell_type": "code",
      "metadata": {
        "colab": {
          "base_uri": "https://localhost:8080/",
          "height": 225
        },
        "id": "efl7K1WzTPAn",
        "outputId": "17271773-52f5-4ca0-b2d3-c3f9a13fe986"
      },
      "source": [
        "df[['A','B','C']]"
      ],
      "execution_count": 53,
      "outputs": [
        {
          "output_type": "execute_result",
          "data": {
            "text/html": [
              "<div>\n",
              "<style scoped>\n",
              "    .dataframe tbody tr th:only-of-type {\n",
              "        vertical-align: middle;\n",
              "    }\n",
              "\n",
              "    .dataframe tbody tr th {\n",
              "        vertical-align: top;\n",
              "    }\n",
              "\n",
              "    .dataframe thead th {\n",
              "        text-align: right;\n",
              "    }\n",
              "</style>\n",
              "<table border=\"1\" class=\"dataframe\">\n",
              "  <thead>\n",
              "    <tr style=\"text-align: right;\">\n",
              "      <th></th>\n",
              "      <th>A</th>\n",
              "      <th>B</th>\n",
              "      <th>C</th>\n",
              "    </tr>\n",
              "  </thead>\n",
              "  <tbody>\n",
              "    <tr>\n",
              "      <th>2021-05-07</th>\n",
              "      <td>1.116398</td>\n",
              "      <td>1.616474</td>\n",
              "      <td>-1.105548</td>\n",
              "    </tr>\n",
              "    <tr>\n",
              "      <th>2021-05-08</th>\n",
              "      <td>1.027949</td>\n",
              "      <td>-1.775700</td>\n",
              "      <td>0.465580</td>\n",
              "    </tr>\n",
              "    <tr>\n",
              "      <th>2021-05-09</th>\n",
              "      <td>1.065303</td>\n",
              "      <td>-2.227122</td>\n",
              "      <td>0.533991</td>\n",
              "    </tr>\n",
              "    <tr>\n",
              "      <th>2021-05-10</th>\n",
              "      <td>0.983254</td>\n",
              "      <td>-0.523714</td>\n",
              "      <td>-1.529905</td>\n",
              "    </tr>\n",
              "    <tr>\n",
              "      <th>2021-05-11</th>\n",
              "      <td>-0.199245</td>\n",
              "      <td>-0.681413</td>\n",
              "      <td>-0.930412</td>\n",
              "    </tr>\n",
              "    <tr>\n",
              "      <th>2021-05-12</th>\n",
              "      <td>-0.607123</td>\n",
              "      <td>-1.608729</td>\n",
              "      <td>-1.135281</td>\n",
              "    </tr>\n",
              "  </tbody>\n",
              "</table>\n",
              "</div>"
            ],
            "text/plain": [
              "                   A         B         C\n",
              "2021-05-07  1.116398  1.616474 -1.105548\n",
              "2021-05-08  1.027949 -1.775700  0.465580\n",
              "2021-05-09  1.065303 -2.227122  0.533991\n",
              "2021-05-10  0.983254 -0.523714 -1.529905\n",
              "2021-05-11 -0.199245 -0.681413 -0.930412\n",
              "2021-05-12 -0.607123 -1.608729 -1.135281"
            ]
          },
          "metadata": {
            "tags": []
          },
          "execution_count": 53
        }
      ]
    },
    {
      "cell_type": "code",
      "metadata": {
        "colab": {
          "base_uri": "https://localhost:8080/",
          "height": 225
        },
        "id": "z4imVET3TVFn",
        "outputId": "cf28894a-3c73-4b5b-c786-cbccd76d0f21"
      },
      "source": [
        "df[['D','B','C']]"
      ],
      "execution_count": 54,
      "outputs": [
        {
          "output_type": "execute_result",
          "data": {
            "text/html": [
              "<div>\n",
              "<style scoped>\n",
              "    .dataframe tbody tr th:only-of-type {\n",
              "        vertical-align: middle;\n",
              "    }\n",
              "\n",
              "    .dataframe tbody tr th {\n",
              "        vertical-align: top;\n",
              "    }\n",
              "\n",
              "    .dataframe thead th {\n",
              "        text-align: right;\n",
              "    }\n",
              "</style>\n",
              "<table border=\"1\" class=\"dataframe\">\n",
              "  <thead>\n",
              "    <tr style=\"text-align: right;\">\n",
              "      <th></th>\n",
              "      <th>D</th>\n",
              "      <th>B</th>\n",
              "      <th>C</th>\n",
              "    </tr>\n",
              "  </thead>\n",
              "  <tbody>\n",
              "    <tr>\n",
              "      <th>2021-05-07</th>\n",
              "      <td>0.606092</td>\n",
              "      <td>1.616474</td>\n",
              "      <td>-1.105548</td>\n",
              "    </tr>\n",
              "    <tr>\n",
              "      <th>2021-05-08</th>\n",
              "      <td>-0.304801</td>\n",
              "      <td>-1.775700</td>\n",
              "      <td>0.465580</td>\n",
              "    </tr>\n",
              "    <tr>\n",
              "      <th>2021-05-09</th>\n",
              "      <td>0.239970</td>\n",
              "      <td>-2.227122</td>\n",
              "      <td>0.533991</td>\n",
              "    </tr>\n",
              "    <tr>\n",
              "      <th>2021-05-10</th>\n",
              "      <td>1.454540</td>\n",
              "      <td>-0.523714</td>\n",
              "      <td>-1.529905</td>\n",
              "    </tr>\n",
              "    <tr>\n",
              "      <th>2021-05-11</th>\n",
              "      <td>-0.301135</td>\n",
              "      <td>-0.681413</td>\n",
              "      <td>-0.930412</td>\n",
              "    </tr>\n",
              "    <tr>\n",
              "      <th>2021-05-12</th>\n",
              "      <td>1.255318</td>\n",
              "      <td>-1.608729</td>\n",
              "      <td>-1.135281</td>\n",
              "    </tr>\n",
              "  </tbody>\n",
              "</table>\n",
              "</div>"
            ],
            "text/plain": [
              "                   D         B         C\n",
              "2021-05-07  0.606092  1.616474 -1.105548\n",
              "2021-05-08 -0.304801 -1.775700  0.465580\n",
              "2021-05-09  0.239970 -2.227122  0.533991\n",
              "2021-05-10  1.454540 -0.523714 -1.529905\n",
              "2021-05-11 -0.301135 -0.681413 -0.930412\n",
              "2021-05-12  1.255318 -1.608729 -1.135281"
            ]
          },
          "metadata": {
            "tags": []
          },
          "execution_count": 54
        }
      ]
    },
    {
      "cell_type": "code",
      "metadata": {
        "colab": {
          "base_uri": "https://localhost:8080/",
          "height": 225
        },
        "id": "IyqtU90IT2yY",
        "outputId": "cee2c07a-7c09-4325-87b6-16c15f40368f"
      },
      "source": [
        "df"
      ],
      "execution_count": 55,
      "outputs": [
        {
          "output_type": "execute_result",
          "data": {
            "text/html": [
              "<div>\n",
              "<style scoped>\n",
              "    .dataframe tbody tr th:only-of-type {\n",
              "        vertical-align: middle;\n",
              "    }\n",
              "\n",
              "    .dataframe tbody tr th {\n",
              "        vertical-align: top;\n",
              "    }\n",
              "\n",
              "    .dataframe thead th {\n",
              "        text-align: right;\n",
              "    }\n",
              "</style>\n",
              "<table border=\"1\" class=\"dataframe\">\n",
              "  <thead>\n",
              "    <tr style=\"text-align: right;\">\n",
              "      <th></th>\n",
              "      <th>A</th>\n",
              "      <th>B</th>\n",
              "      <th>C</th>\n",
              "      <th>D</th>\n",
              "    </tr>\n",
              "  </thead>\n",
              "  <tbody>\n",
              "    <tr>\n",
              "      <th>2021-05-07</th>\n",
              "      <td>1.116398</td>\n",
              "      <td>1.616474</td>\n",
              "      <td>-1.105548</td>\n",
              "      <td>0.606092</td>\n",
              "    </tr>\n",
              "    <tr>\n",
              "      <th>2021-05-08</th>\n",
              "      <td>1.027949</td>\n",
              "      <td>-1.775700</td>\n",
              "      <td>0.465580</td>\n",
              "      <td>-0.304801</td>\n",
              "    </tr>\n",
              "    <tr>\n",
              "      <th>2021-05-09</th>\n",
              "      <td>1.065303</td>\n",
              "      <td>-2.227122</td>\n",
              "      <td>0.533991</td>\n",
              "      <td>0.239970</td>\n",
              "    </tr>\n",
              "    <tr>\n",
              "      <th>2021-05-10</th>\n",
              "      <td>0.983254</td>\n",
              "      <td>-0.523714</td>\n",
              "      <td>-1.529905</td>\n",
              "      <td>1.454540</td>\n",
              "    </tr>\n",
              "    <tr>\n",
              "      <th>2021-05-11</th>\n",
              "      <td>-0.199245</td>\n",
              "      <td>-0.681413</td>\n",
              "      <td>-0.930412</td>\n",
              "      <td>-0.301135</td>\n",
              "    </tr>\n",
              "    <tr>\n",
              "      <th>2021-05-12</th>\n",
              "      <td>-0.607123</td>\n",
              "      <td>-1.608729</td>\n",
              "      <td>-1.135281</td>\n",
              "      <td>1.255318</td>\n",
              "    </tr>\n",
              "  </tbody>\n",
              "</table>\n",
              "</div>"
            ],
            "text/plain": [
              "                   A         B         C         D\n",
              "2021-05-07  1.116398  1.616474 -1.105548  0.606092\n",
              "2021-05-08  1.027949 -1.775700  0.465580 -0.304801\n",
              "2021-05-09  1.065303 -2.227122  0.533991  0.239970\n",
              "2021-05-10  0.983254 -0.523714 -1.529905  1.454540\n",
              "2021-05-11 -0.199245 -0.681413 -0.930412 -0.301135\n",
              "2021-05-12 -0.607123 -1.608729 -1.135281  1.255318"
            ]
          },
          "metadata": {
            "tags": []
          },
          "execution_count": 55
        }
      ]
    },
    {
      "cell_type": "code",
      "metadata": {
        "colab": {
          "base_uri": "https://localhost:8080/",
          "height": 136
        },
        "id": "C7144AfJT3q3",
        "outputId": "06c09e66-8b50-44a9-92b5-73527b818ae1"
      },
      "source": [
        "df[0:3]"
      ],
      "execution_count": 56,
      "outputs": [
        {
          "output_type": "execute_result",
          "data": {
            "text/html": [
              "<div>\n",
              "<style scoped>\n",
              "    .dataframe tbody tr th:only-of-type {\n",
              "        vertical-align: middle;\n",
              "    }\n",
              "\n",
              "    .dataframe tbody tr th {\n",
              "        vertical-align: top;\n",
              "    }\n",
              "\n",
              "    .dataframe thead th {\n",
              "        text-align: right;\n",
              "    }\n",
              "</style>\n",
              "<table border=\"1\" class=\"dataframe\">\n",
              "  <thead>\n",
              "    <tr style=\"text-align: right;\">\n",
              "      <th></th>\n",
              "      <th>A</th>\n",
              "      <th>B</th>\n",
              "      <th>C</th>\n",
              "      <th>D</th>\n",
              "    </tr>\n",
              "  </thead>\n",
              "  <tbody>\n",
              "    <tr>\n",
              "      <th>2021-05-07</th>\n",
              "      <td>1.116398</td>\n",
              "      <td>1.616474</td>\n",
              "      <td>-1.105548</td>\n",
              "      <td>0.606092</td>\n",
              "    </tr>\n",
              "    <tr>\n",
              "      <th>2021-05-08</th>\n",
              "      <td>1.027949</td>\n",
              "      <td>-1.775700</td>\n",
              "      <td>0.465580</td>\n",
              "      <td>-0.304801</td>\n",
              "    </tr>\n",
              "    <tr>\n",
              "      <th>2021-05-09</th>\n",
              "      <td>1.065303</td>\n",
              "      <td>-2.227122</td>\n",
              "      <td>0.533991</td>\n",
              "      <td>0.239970</td>\n",
              "    </tr>\n",
              "  </tbody>\n",
              "</table>\n",
              "</div>"
            ],
            "text/plain": [
              "                   A         B         C         D\n",
              "2021-05-07  1.116398  1.616474 -1.105548  0.606092\n",
              "2021-05-08  1.027949 -1.775700  0.465580 -0.304801\n",
              "2021-05-09  1.065303 -2.227122  0.533991  0.239970"
            ]
          },
          "metadata": {
            "tags": []
          },
          "execution_count": 56
        }
      ]
    },
    {
      "cell_type": "code",
      "metadata": {
        "colab": {
          "base_uri": "https://localhost:8080/"
        },
        "id": "q9cgCVAqT8R3",
        "outputId": "f493fbf6-41c0-44d2-a8fb-159a3bdefd2b"
      },
      "source": [
        "print(df[0:3])\n",
        "print(df['20210507':'20210509'])\n",
        "print(df[['A','B','C']])"
      ],
      "execution_count": 60,
      "outputs": [
        {
          "output_type": "stream",
          "text": [
            "                   A         B         C         D\n",
            "2021-05-07  1.116398  1.616474 -1.105548  0.606092\n",
            "2021-05-08  1.027949 -1.775700  0.465580 -0.304801\n",
            "2021-05-09  1.065303 -2.227122  0.533991  0.239970\n",
            "                   A         B         C         D\n",
            "2021-05-07  1.116398  1.616474 -1.105548  0.606092\n",
            "2021-05-08  1.027949 -1.775700  0.465580 -0.304801\n",
            "2021-05-09  1.065303 -2.227122  0.533991  0.239970\n",
            "                   A         B         C\n",
            "2021-05-07  1.116398  1.616474 -1.105548\n",
            "2021-05-08  1.027949 -1.775700  0.465580\n",
            "2021-05-09  1.065303 -2.227122  0.533991\n",
            "2021-05-10  0.983254 -0.523714 -1.529905\n",
            "2021-05-11 -0.199245 -0.681413 -0.930412\n",
            "2021-05-12 -0.607123 -1.608729 -1.135281\n"
          ],
          "name": "stdout"
        }
      ]
    },
    {
      "cell_type": "code",
      "metadata": {
        "colab": {
          "base_uri": "https://localhost:8080/",
          "height": 225
        },
        "id": "8HVGexMgUDL3",
        "outputId": "9282fa12-3c61-4e53-de0d-839a7bc015fb"
      },
      "source": [
        "df"
      ],
      "execution_count": 61,
      "outputs": [
        {
          "output_type": "execute_result",
          "data": {
            "text/html": [
              "<div>\n",
              "<style scoped>\n",
              "    .dataframe tbody tr th:only-of-type {\n",
              "        vertical-align: middle;\n",
              "    }\n",
              "\n",
              "    .dataframe tbody tr th {\n",
              "        vertical-align: top;\n",
              "    }\n",
              "\n",
              "    .dataframe thead th {\n",
              "        text-align: right;\n",
              "    }\n",
              "</style>\n",
              "<table border=\"1\" class=\"dataframe\">\n",
              "  <thead>\n",
              "    <tr style=\"text-align: right;\">\n",
              "      <th></th>\n",
              "      <th>A</th>\n",
              "      <th>B</th>\n",
              "      <th>C</th>\n",
              "      <th>D</th>\n",
              "    </tr>\n",
              "  </thead>\n",
              "  <tbody>\n",
              "    <tr>\n",
              "      <th>2021-05-07</th>\n",
              "      <td>1.116398</td>\n",
              "      <td>1.616474</td>\n",
              "      <td>-1.105548</td>\n",
              "      <td>0.606092</td>\n",
              "    </tr>\n",
              "    <tr>\n",
              "      <th>2021-05-08</th>\n",
              "      <td>1.027949</td>\n",
              "      <td>-1.775700</td>\n",
              "      <td>0.465580</td>\n",
              "      <td>-0.304801</td>\n",
              "    </tr>\n",
              "    <tr>\n",
              "      <th>2021-05-09</th>\n",
              "      <td>1.065303</td>\n",
              "      <td>-2.227122</td>\n",
              "      <td>0.533991</td>\n",
              "      <td>0.239970</td>\n",
              "    </tr>\n",
              "    <tr>\n",
              "      <th>2021-05-10</th>\n",
              "      <td>0.983254</td>\n",
              "      <td>-0.523714</td>\n",
              "      <td>-1.529905</td>\n",
              "      <td>1.454540</td>\n",
              "    </tr>\n",
              "    <tr>\n",
              "      <th>2021-05-11</th>\n",
              "      <td>-0.199245</td>\n",
              "      <td>-0.681413</td>\n",
              "      <td>-0.930412</td>\n",
              "      <td>-0.301135</td>\n",
              "    </tr>\n",
              "    <tr>\n",
              "      <th>2021-05-12</th>\n",
              "      <td>-0.607123</td>\n",
              "      <td>-1.608729</td>\n",
              "      <td>-1.135281</td>\n",
              "      <td>1.255318</td>\n",
              "    </tr>\n",
              "  </tbody>\n",
              "</table>\n",
              "</div>"
            ],
            "text/plain": [
              "                   A         B         C         D\n",
              "2021-05-07  1.116398  1.616474 -1.105548  0.606092\n",
              "2021-05-08  1.027949 -1.775700  0.465580 -0.304801\n",
              "2021-05-09  1.065303 -2.227122  0.533991  0.239970\n",
              "2021-05-10  0.983254 -0.523714 -1.529905  1.454540\n",
              "2021-05-11 -0.199245 -0.681413 -0.930412 -0.301135\n",
              "2021-05-12 -0.607123 -1.608729 -1.135281  1.255318"
            ]
          },
          "metadata": {
            "tags": []
          },
          "execution_count": 61
        }
      ]
    },
    {
      "cell_type": "code",
      "metadata": {
        "colab": {
          "base_uri": "https://localhost:8080/",
          "height": 106
        },
        "id": "xrgLpShEUsjI",
        "outputId": "23e222bb-226d-4da4-a56c-3b813fb2f982"
      },
      "source": [
        "df.loc['20210507':'20210508',['A','C']]"
      ],
      "execution_count": 66,
      "outputs": [
        {
          "output_type": "execute_result",
          "data": {
            "text/html": [
              "<div>\n",
              "<style scoped>\n",
              "    .dataframe tbody tr th:only-of-type {\n",
              "        vertical-align: middle;\n",
              "    }\n",
              "\n",
              "    .dataframe tbody tr th {\n",
              "        vertical-align: top;\n",
              "    }\n",
              "\n",
              "    .dataframe thead th {\n",
              "        text-align: right;\n",
              "    }\n",
              "</style>\n",
              "<table border=\"1\" class=\"dataframe\">\n",
              "  <thead>\n",
              "    <tr style=\"text-align: right;\">\n",
              "      <th></th>\n",
              "      <th>A</th>\n",
              "      <th>C</th>\n",
              "    </tr>\n",
              "  </thead>\n",
              "  <tbody>\n",
              "    <tr>\n",
              "      <th>2021-05-07</th>\n",
              "      <td>1.116398</td>\n",
              "      <td>-1.105548</td>\n",
              "    </tr>\n",
              "    <tr>\n",
              "      <th>2021-05-08</th>\n",
              "      <td>1.027949</td>\n",
              "      <td>0.465580</td>\n",
              "    </tr>\n",
              "  </tbody>\n",
              "</table>\n",
              "</div>"
            ],
            "text/plain": [
              "                   A         C\n",
              "2021-05-07  1.116398 -1.105548\n",
              "2021-05-08  1.027949  0.465580"
            ]
          },
          "metadata": {
            "tags": []
          },
          "execution_count": 66
        }
      ]
    },
    {
      "cell_type": "code",
      "metadata": {
        "colab": {
          "base_uri": "https://localhost:8080/",
          "height": 106
        },
        "id": "4Vtk_BxCU7qn",
        "outputId": "68c915b7-28df-4e8a-e96d-8c8df23a1fde"
      },
      "source": [
        "df.iloc[1:3,0:2]"
      ],
      "execution_count": 78,
      "outputs": [
        {
          "output_type": "execute_result",
          "data": {
            "text/html": [
              "<div>\n",
              "<style scoped>\n",
              "    .dataframe tbody tr th:only-of-type {\n",
              "        vertical-align: middle;\n",
              "    }\n",
              "\n",
              "    .dataframe tbody tr th {\n",
              "        vertical-align: top;\n",
              "    }\n",
              "\n",
              "    .dataframe thead th {\n",
              "        text-align: right;\n",
              "    }\n",
              "</style>\n",
              "<table border=\"1\" class=\"dataframe\">\n",
              "  <thead>\n",
              "    <tr style=\"text-align: right;\">\n",
              "      <th></th>\n",
              "      <th>A</th>\n",
              "      <th>B</th>\n",
              "    </tr>\n",
              "  </thead>\n",
              "  <tbody>\n",
              "    <tr>\n",
              "      <th>2021-05-08</th>\n",
              "      <td>1.027949</td>\n",
              "      <td>-1.775700</td>\n",
              "    </tr>\n",
              "    <tr>\n",
              "      <th>2021-05-09</th>\n",
              "      <td>1.065303</td>\n",
              "      <td>-2.227122</td>\n",
              "    </tr>\n",
              "  </tbody>\n",
              "</table>\n",
              "</div>"
            ],
            "text/plain": [
              "                   A         B\n",
              "2021-05-08  1.027949 -1.775700\n",
              "2021-05-09  1.065303 -2.227122"
            ]
          },
          "metadata": {
            "tags": []
          },
          "execution_count": 78
        }
      ]
    },
    {
      "cell_type": "code",
      "metadata": {
        "colab": {
          "base_uri": "https://localhost:8080/",
          "height": 136
        },
        "id": "1KLS5YocVgAs",
        "outputId": "cf279d84-54d1-4a49-a8c6-09f550f2e2f4"
      },
      "source": [
        "df.iloc[0:3,1:3]"
      ],
      "execution_count": 79,
      "outputs": [
        {
          "output_type": "execute_result",
          "data": {
            "text/html": [
              "<div>\n",
              "<style scoped>\n",
              "    .dataframe tbody tr th:only-of-type {\n",
              "        vertical-align: middle;\n",
              "    }\n",
              "\n",
              "    .dataframe tbody tr th {\n",
              "        vertical-align: top;\n",
              "    }\n",
              "\n",
              "    .dataframe thead th {\n",
              "        text-align: right;\n",
              "    }\n",
              "</style>\n",
              "<table border=\"1\" class=\"dataframe\">\n",
              "  <thead>\n",
              "    <tr style=\"text-align: right;\">\n",
              "      <th></th>\n",
              "      <th>B</th>\n",
              "      <th>C</th>\n",
              "    </tr>\n",
              "  </thead>\n",
              "  <tbody>\n",
              "    <tr>\n",
              "      <th>2021-05-07</th>\n",
              "      <td>1.616474</td>\n",
              "      <td>-1.105548</td>\n",
              "    </tr>\n",
              "    <tr>\n",
              "      <th>2021-05-08</th>\n",
              "      <td>-1.775700</td>\n",
              "      <td>0.465580</td>\n",
              "    </tr>\n",
              "    <tr>\n",
              "      <th>2021-05-09</th>\n",
              "      <td>-2.227122</td>\n",
              "      <td>0.533991</td>\n",
              "    </tr>\n",
              "  </tbody>\n",
              "</table>\n",
              "</div>"
            ],
            "text/plain": [
              "                   B         C\n",
              "2021-05-07  1.616474 -1.105548\n",
              "2021-05-08 -1.775700  0.465580\n",
              "2021-05-09 -2.227122  0.533991"
            ]
          },
          "metadata": {
            "tags": []
          },
          "execution_count": 79
        }
      ]
    },
    {
      "cell_type": "code",
      "metadata": {
        "colab": {
          "base_uri": "https://localhost:8080/",
          "height": 77
        },
        "id": "1kGniDHNWq0f",
        "outputId": "902cb51a-cfd4-4fd4-c354-258e7c54939c"
      },
      "source": [
        "df.iloc[[0.3],[1,3]]"
      ],
      "execution_count": 80,
      "outputs": [
        {
          "output_type": "execute_result",
          "data": {
            "text/html": [
              "<div>\n",
              "<style scoped>\n",
              "    .dataframe tbody tr th:only-of-type {\n",
              "        vertical-align: middle;\n",
              "    }\n",
              "\n",
              "    .dataframe tbody tr th {\n",
              "        vertical-align: top;\n",
              "    }\n",
              "\n",
              "    .dataframe thead th {\n",
              "        text-align: right;\n",
              "    }\n",
              "</style>\n",
              "<table border=\"1\" class=\"dataframe\">\n",
              "  <thead>\n",
              "    <tr style=\"text-align: right;\">\n",
              "      <th></th>\n",
              "      <th>B</th>\n",
              "      <th>D</th>\n",
              "    </tr>\n",
              "  </thead>\n",
              "  <tbody>\n",
              "    <tr>\n",
              "      <th>2021-05-07</th>\n",
              "      <td>1.616474</td>\n",
              "      <td>0.606092</td>\n",
              "    </tr>\n",
              "  </tbody>\n",
              "</table>\n",
              "</div>"
            ],
            "text/plain": [
              "                   B         D\n",
              "2021-05-07  1.616474  0.606092"
            ]
          },
          "metadata": {
            "tags": []
          },
          "execution_count": 80
        }
      ]
    },
    {
      "cell_type": "code",
      "metadata": {
        "colab": {
          "base_uri": "https://localhost:8080/",
          "height": 225
        },
        "id": "ALzrZNXXW8io",
        "outputId": "da004ba6-5064-4228-f581-61f7ee3c9199"
      },
      "source": [
        "df"
      ],
      "execution_count": 81,
      "outputs": [
        {
          "output_type": "execute_result",
          "data": {
            "text/html": [
              "<div>\n",
              "<style scoped>\n",
              "    .dataframe tbody tr th:only-of-type {\n",
              "        vertical-align: middle;\n",
              "    }\n",
              "\n",
              "    .dataframe tbody tr th {\n",
              "        vertical-align: top;\n",
              "    }\n",
              "\n",
              "    .dataframe thead th {\n",
              "        text-align: right;\n",
              "    }\n",
              "</style>\n",
              "<table border=\"1\" class=\"dataframe\">\n",
              "  <thead>\n",
              "    <tr style=\"text-align: right;\">\n",
              "      <th></th>\n",
              "      <th>A</th>\n",
              "      <th>B</th>\n",
              "      <th>C</th>\n",
              "      <th>D</th>\n",
              "    </tr>\n",
              "  </thead>\n",
              "  <tbody>\n",
              "    <tr>\n",
              "      <th>2021-05-07</th>\n",
              "      <td>1.116398</td>\n",
              "      <td>1.616474</td>\n",
              "      <td>-1.105548</td>\n",
              "      <td>0.606092</td>\n",
              "    </tr>\n",
              "    <tr>\n",
              "      <th>2021-05-08</th>\n",
              "      <td>1.027949</td>\n",
              "      <td>-1.775700</td>\n",
              "      <td>0.465580</td>\n",
              "      <td>-0.304801</td>\n",
              "    </tr>\n",
              "    <tr>\n",
              "      <th>2021-05-09</th>\n",
              "      <td>1.065303</td>\n",
              "      <td>-2.227122</td>\n",
              "      <td>0.533991</td>\n",
              "      <td>0.239970</td>\n",
              "    </tr>\n",
              "    <tr>\n",
              "      <th>2021-05-10</th>\n",
              "      <td>0.983254</td>\n",
              "      <td>-0.523714</td>\n",
              "      <td>-1.529905</td>\n",
              "      <td>1.454540</td>\n",
              "    </tr>\n",
              "    <tr>\n",
              "      <th>2021-05-11</th>\n",
              "      <td>-0.199245</td>\n",
              "      <td>-0.681413</td>\n",
              "      <td>-0.930412</td>\n",
              "      <td>-0.301135</td>\n",
              "    </tr>\n",
              "    <tr>\n",
              "      <th>2021-05-12</th>\n",
              "      <td>-0.607123</td>\n",
              "      <td>-1.608729</td>\n",
              "      <td>-1.135281</td>\n",
              "      <td>1.255318</td>\n",
              "    </tr>\n",
              "  </tbody>\n",
              "</table>\n",
              "</div>"
            ],
            "text/plain": [
              "                   A         B         C         D\n",
              "2021-05-07  1.116398  1.616474 -1.105548  0.606092\n",
              "2021-05-08  1.027949 -1.775700  0.465580 -0.304801\n",
              "2021-05-09  1.065303 -2.227122  0.533991  0.239970\n",
              "2021-05-10  0.983254 -0.523714 -1.529905  1.454540\n",
              "2021-05-11 -0.199245 -0.681413 -0.930412 -0.301135\n",
              "2021-05-12 -0.607123 -1.608729 -1.135281  1.255318"
            ]
          },
          "metadata": {
            "tags": []
          },
          "execution_count": 81
        }
      ]
    },
    {
      "cell_type": "code",
      "metadata": {
        "colab": {
          "base_uri": "https://localhost:8080/"
        },
        "id": "Ae1mAVNxW9EX",
        "outputId": "f9b4029f-6e66-4cd4-c9ee-22d3b2609717"
      },
      "source": [
        "df.iloc[0,0]"
      ],
      "execution_count": 83,
      "outputs": [
        {
          "output_type": "execute_result",
          "data": {
            "text/plain": [
              "1.1163978361321651"
            ]
          },
          "metadata": {
            "tags": []
          },
          "execution_count": 83
        }
      ]
    },
    {
      "cell_type": "code",
      "metadata": {
        "colab": {
          "base_uri": "https://localhost:8080/",
          "height": 225
        },
        "id": "y-eEp3UbXBSZ",
        "outputId": "c5230d4a-4764-48c6-bb78-8951fca308ff"
      },
      "source": [
        "df"
      ],
      "execution_count": 86,
      "outputs": [
        {
          "output_type": "execute_result",
          "data": {
            "text/html": [
              "<div>\n",
              "<style scoped>\n",
              "    .dataframe tbody tr th:only-of-type {\n",
              "        vertical-align: middle;\n",
              "    }\n",
              "\n",
              "    .dataframe tbody tr th {\n",
              "        vertical-align: top;\n",
              "    }\n",
              "\n",
              "    .dataframe thead th {\n",
              "        text-align: right;\n",
              "    }\n",
              "</style>\n",
              "<table border=\"1\" class=\"dataframe\">\n",
              "  <thead>\n",
              "    <tr style=\"text-align: right;\">\n",
              "      <th></th>\n",
              "      <th>A</th>\n",
              "      <th>B</th>\n",
              "      <th>C</th>\n",
              "      <th>D</th>\n",
              "    </tr>\n",
              "  </thead>\n",
              "  <tbody>\n",
              "    <tr>\n",
              "      <th>2021-05-07</th>\n",
              "      <td>1.116398</td>\n",
              "      <td>1.616474</td>\n",
              "      <td>-1.105548</td>\n",
              "      <td>0.606092</td>\n",
              "    </tr>\n",
              "    <tr>\n",
              "      <th>2021-05-08</th>\n",
              "      <td>1.027949</td>\n",
              "      <td>-1.775700</td>\n",
              "      <td>0.465580</td>\n",
              "      <td>-0.304801</td>\n",
              "    </tr>\n",
              "    <tr>\n",
              "      <th>2021-05-09</th>\n",
              "      <td>1.065303</td>\n",
              "      <td>-2.227122</td>\n",
              "      <td>0.533991</td>\n",
              "      <td>0.239970</td>\n",
              "    </tr>\n",
              "    <tr>\n",
              "      <th>2021-05-10</th>\n",
              "      <td>0.983254</td>\n",
              "      <td>-0.523714</td>\n",
              "      <td>-1.529905</td>\n",
              "      <td>1.454540</td>\n",
              "    </tr>\n",
              "    <tr>\n",
              "      <th>2021-05-11</th>\n",
              "      <td>-0.199245</td>\n",
              "      <td>-0.681413</td>\n",
              "      <td>-0.930412</td>\n",
              "      <td>-0.301135</td>\n",
              "    </tr>\n",
              "    <tr>\n",
              "      <th>2021-05-12</th>\n",
              "      <td>-0.607123</td>\n",
              "      <td>-1.608729</td>\n",
              "      <td>-1.135281</td>\n",
              "      <td>1.255318</td>\n",
              "    </tr>\n",
              "  </tbody>\n",
              "</table>\n",
              "</div>"
            ],
            "text/plain": [
              "                   A         B         C         D\n",
              "2021-05-07  1.116398  1.616474 -1.105548  0.606092\n",
              "2021-05-08  1.027949 -1.775700  0.465580 -0.304801\n",
              "2021-05-09  1.065303 -2.227122  0.533991  0.239970\n",
              "2021-05-10  0.983254 -0.523714 -1.529905  1.454540\n",
              "2021-05-11 -0.199245 -0.681413 -0.930412 -0.301135\n",
              "2021-05-12 -0.607123 -1.608729 -1.135281  1.255318"
            ]
          },
          "metadata": {
            "tags": []
          },
          "execution_count": 86
        }
      ]
    },
    {
      "cell_type": "code",
      "metadata": {
        "colab": {
          "base_uri": "https://localhost:8080/",
          "height": 106
        },
        "id": "YcploK_BXIHH",
        "outputId": "a04ad6dc-bb5c-497f-abc9-db32420c3d05"
      },
      "source": [
        "df.iloc[[1,3],[1,3]]"
      ],
      "execution_count": 88,
      "outputs": [
        {
          "output_type": "execute_result",
          "data": {
            "text/html": [
              "<div>\n",
              "<style scoped>\n",
              "    .dataframe tbody tr th:only-of-type {\n",
              "        vertical-align: middle;\n",
              "    }\n",
              "\n",
              "    .dataframe tbody tr th {\n",
              "        vertical-align: top;\n",
              "    }\n",
              "\n",
              "    .dataframe thead th {\n",
              "        text-align: right;\n",
              "    }\n",
              "</style>\n",
              "<table border=\"1\" class=\"dataframe\">\n",
              "  <thead>\n",
              "    <tr style=\"text-align: right;\">\n",
              "      <th></th>\n",
              "      <th>B</th>\n",
              "      <th>D</th>\n",
              "    </tr>\n",
              "  </thead>\n",
              "  <tbody>\n",
              "    <tr>\n",
              "      <th>2021-05-08</th>\n",
              "      <td>-1.775700</td>\n",
              "      <td>-0.304801</td>\n",
              "    </tr>\n",
              "    <tr>\n",
              "      <th>2021-05-10</th>\n",
              "      <td>-0.523714</td>\n",
              "      <td>1.454540</td>\n",
              "    </tr>\n",
              "  </tbody>\n",
              "</table>\n",
              "</div>"
            ],
            "text/plain": [
              "                   B         D\n",
              "2021-05-08 -1.775700 -0.304801\n",
              "2021-05-10 -0.523714  1.454540"
            ]
          },
          "metadata": {
            "tags": []
          },
          "execution_count": 88
        }
      ]
    },
    {
      "cell_type": "code",
      "metadata": {
        "colab": {
          "base_uri": "https://localhost:8080/",
          "height": 106
        },
        "id": "aVpqGoiUXmgY",
        "outputId": "eb01801b-7516-48b6-eeb6-dd827320d683"
      },
      "source": [
        "df.iloc[0:2,1:3]"
      ],
      "execution_count": 89,
      "outputs": [
        {
          "output_type": "execute_result",
          "data": {
            "text/html": [
              "<div>\n",
              "<style scoped>\n",
              "    .dataframe tbody tr th:only-of-type {\n",
              "        vertical-align: middle;\n",
              "    }\n",
              "\n",
              "    .dataframe tbody tr th {\n",
              "        vertical-align: top;\n",
              "    }\n",
              "\n",
              "    .dataframe thead th {\n",
              "        text-align: right;\n",
              "    }\n",
              "</style>\n",
              "<table border=\"1\" class=\"dataframe\">\n",
              "  <thead>\n",
              "    <tr style=\"text-align: right;\">\n",
              "      <th></th>\n",
              "      <th>B</th>\n",
              "      <th>C</th>\n",
              "    </tr>\n",
              "  </thead>\n",
              "  <tbody>\n",
              "    <tr>\n",
              "      <th>2021-05-07</th>\n",
              "      <td>1.616474</td>\n",
              "      <td>-1.105548</td>\n",
              "    </tr>\n",
              "    <tr>\n",
              "      <th>2021-05-08</th>\n",
              "      <td>-1.775700</td>\n",
              "      <td>0.465580</td>\n",
              "    </tr>\n",
              "  </tbody>\n",
              "</table>\n",
              "</div>"
            ],
            "text/plain": [
              "                   B         C\n",
              "2021-05-07  1.616474 -1.105548\n",
              "2021-05-08 -1.775700  0.465580"
            ]
          },
          "metadata": {
            "tags": []
          },
          "execution_count": 89
        }
      ]
    },
    {
      "cell_type": "code",
      "metadata": {
        "colab": {
          "base_uri": "https://localhost:8080/"
        },
        "id": "T7k4Q2IwYIhH",
        "outputId": "58b7143f-c2a6-4721-c8a0-ed0010550b94"
      },
      "source": [
        "df.A"
      ],
      "execution_count": 90,
      "outputs": [
        {
          "output_type": "execute_result",
          "data": {
            "text/plain": [
              "2021-05-07    1.116398\n",
              "2021-05-08    1.027949\n",
              "2021-05-09    1.065303\n",
              "2021-05-10    0.983254\n",
              "2021-05-11   -0.199245\n",
              "2021-05-12   -0.607123\n",
              "Freq: D, Name: A, dtype: float64"
            ]
          },
          "metadata": {
            "tags": []
          },
          "execution_count": 90
        }
      ]
    },
    {
      "cell_type": "code",
      "metadata": {
        "colab": {
          "base_uri": "https://localhost:8080/"
        },
        "id": "PfniBoq7YWxH",
        "outputId": "fc9fecdd-bd04-4111-f315-6f5f1c7758f3"
      },
      "source": [
        "df.A>0"
      ],
      "execution_count": 92,
      "outputs": [
        {
          "output_type": "execute_result",
          "data": {
            "text/plain": [
              "2021-05-07     True\n",
              "2021-05-08     True\n",
              "2021-05-09     True\n",
              "2021-05-10     True\n",
              "2021-05-11    False\n",
              "2021-05-12    False\n",
              "Freq: D, Name: A, dtype: bool"
            ]
          },
          "metadata": {
            "tags": []
          },
          "execution_count": 92
        }
      ]
    },
    {
      "cell_type": "code",
      "metadata": {
        "colab": {
          "base_uri": "https://localhost:8080/",
          "height": 166
        },
        "id": "7HYKn7I0YeuX",
        "outputId": "e3cf65b8-898b-484a-ea52-2b0a78c91775"
      },
      "source": [
        "df[df.A>0     ]"
      ],
      "execution_count": 93,
      "outputs": [
        {
          "output_type": "execute_result",
          "data": {
            "text/html": [
              "<div>\n",
              "<style scoped>\n",
              "    .dataframe tbody tr th:only-of-type {\n",
              "        vertical-align: middle;\n",
              "    }\n",
              "\n",
              "    .dataframe tbody tr th {\n",
              "        vertical-align: top;\n",
              "    }\n",
              "\n",
              "    .dataframe thead th {\n",
              "        text-align: right;\n",
              "    }\n",
              "</style>\n",
              "<table border=\"1\" class=\"dataframe\">\n",
              "  <thead>\n",
              "    <tr style=\"text-align: right;\">\n",
              "      <th></th>\n",
              "      <th>A</th>\n",
              "      <th>B</th>\n",
              "      <th>C</th>\n",
              "      <th>D</th>\n",
              "    </tr>\n",
              "  </thead>\n",
              "  <tbody>\n",
              "    <tr>\n",
              "      <th>2021-05-07</th>\n",
              "      <td>1.116398</td>\n",
              "      <td>1.616474</td>\n",
              "      <td>-1.105548</td>\n",
              "      <td>0.606092</td>\n",
              "    </tr>\n",
              "    <tr>\n",
              "      <th>2021-05-08</th>\n",
              "      <td>1.027949</td>\n",
              "      <td>-1.775700</td>\n",
              "      <td>0.465580</td>\n",
              "      <td>-0.304801</td>\n",
              "    </tr>\n",
              "    <tr>\n",
              "      <th>2021-05-09</th>\n",
              "      <td>1.065303</td>\n",
              "      <td>-2.227122</td>\n",
              "      <td>0.533991</td>\n",
              "      <td>0.239970</td>\n",
              "    </tr>\n",
              "    <tr>\n",
              "      <th>2021-05-10</th>\n",
              "      <td>0.983254</td>\n",
              "      <td>-0.523714</td>\n",
              "      <td>-1.529905</td>\n",
              "      <td>1.454540</td>\n",
              "    </tr>\n",
              "  </tbody>\n",
              "</table>\n",
              "</div>"
            ],
            "text/plain": [
              "                   A         B         C         D\n",
              "2021-05-07  1.116398  1.616474 -1.105548  0.606092\n",
              "2021-05-08  1.027949 -1.775700  0.465580 -0.304801\n",
              "2021-05-09  1.065303 -2.227122  0.533991  0.239970\n",
              "2021-05-10  0.983254 -0.523714 -1.529905  1.454540"
            ]
          },
          "metadata": {
            "tags": []
          },
          "execution_count": 93
        }
      ]
    },
    {
      "cell_type": "code",
      "metadata": {
        "colab": {
          "base_uri": "https://localhost:8080/",
          "height": 136
        },
        "id": "DborC64vYqvY",
        "outputId": "1712dbed-2631-42d0-a6c0-6a136ad48359"
      },
      "source": [
        "df[df.A>1     ]"
      ],
      "execution_count": 95,
      "outputs": [
        {
          "output_type": "execute_result",
          "data": {
            "text/html": [
              "<div>\n",
              "<style scoped>\n",
              "    .dataframe tbody tr th:only-of-type {\n",
              "        vertical-align: middle;\n",
              "    }\n",
              "\n",
              "    .dataframe tbody tr th {\n",
              "        vertical-align: top;\n",
              "    }\n",
              "\n",
              "    .dataframe thead th {\n",
              "        text-align: right;\n",
              "    }\n",
              "</style>\n",
              "<table border=\"1\" class=\"dataframe\">\n",
              "  <thead>\n",
              "    <tr style=\"text-align: right;\">\n",
              "      <th></th>\n",
              "      <th>A</th>\n",
              "      <th>B</th>\n",
              "      <th>C</th>\n",
              "      <th>D</th>\n",
              "    </tr>\n",
              "  </thead>\n",
              "  <tbody>\n",
              "    <tr>\n",
              "      <th>2021-05-07</th>\n",
              "      <td>1.116398</td>\n",
              "      <td>1.616474</td>\n",
              "      <td>-1.105548</td>\n",
              "      <td>0.606092</td>\n",
              "    </tr>\n",
              "    <tr>\n",
              "      <th>2021-05-08</th>\n",
              "      <td>1.027949</td>\n",
              "      <td>-1.775700</td>\n",
              "      <td>0.465580</td>\n",
              "      <td>-0.304801</td>\n",
              "    </tr>\n",
              "    <tr>\n",
              "      <th>2021-05-09</th>\n",
              "      <td>1.065303</td>\n",
              "      <td>-2.227122</td>\n",
              "      <td>0.533991</td>\n",
              "      <td>0.239970</td>\n",
              "    </tr>\n",
              "  </tbody>\n",
              "</table>\n",
              "</div>"
            ],
            "text/plain": [
              "                   A         B         C         D\n",
              "2021-05-07  1.116398  1.616474 -1.105548  0.606092\n",
              "2021-05-08  1.027949 -1.775700  0.465580 -0.304801\n",
              "2021-05-09  1.065303 -2.227122  0.533991  0.239970"
            ]
          },
          "metadata": {
            "tags": []
          },
          "execution_count": 95
        }
      ]
    },
    {
      "cell_type": "code",
      "metadata": {
        "colab": {
          "base_uri": "https://localhost:8080/",
          "height": 225
        },
        "id": "5O6FcOtsY0RY",
        "outputId": "47cbb862-6010-41bf-80b3-bf8eefd390dd"
      },
      "source": [
        "df>0"
      ],
      "execution_count": 96,
      "outputs": [
        {
          "output_type": "execute_result",
          "data": {
            "text/html": [
              "<div>\n",
              "<style scoped>\n",
              "    .dataframe tbody tr th:only-of-type {\n",
              "        vertical-align: middle;\n",
              "    }\n",
              "\n",
              "    .dataframe tbody tr th {\n",
              "        vertical-align: top;\n",
              "    }\n",
              "\n",
              "    .dataframe thead th {\n",
              "        text-align: right;\n",
              "    }\n",
              "</style>\n",
              "<table border=\"1\" class=\"dataframe\">\n",
              "  <thead>\n",
              "    <tr style=\"text-align: right;\">\n",
              "      <th></th>\n",
              "      <th>A</th>\n",
              "      <th>B</th>\n",
              "      <th>C</th>\n",
              "      <th>D</th>\n",
              "    </tr>\n",
              "  </thead>\n",
              "  <tbody>\n",
              "    <tr>\n",
              "      <th>2021-05-07</th>\n",
              "      <td>True</td>\n",
              "      <td>True</td>\n",
              "      <td>False</td>\n",
              "      <td>True</td>\n",
              "    </tr>\n",
              "    <tr>\n",
              "      <th>2021-05-08</th>\n",
              "      <td>True</td>\n",
              "      <td>False</td>\n",
              "      <td>True</td>\n",
              "      <td>False</td>\n",
              "    </tr>\n",
              "    <tr>\n",
              "      <th>2021-05-09</th>\n",
              "      <td>True</td>\n",
              "      <td>False</td>\n",
              "      <td>True</td>\n",
              "      <td>True</td>\n",
              "    </tr>\n",
              "    <tr>\n",
              "      <th>2021-05-10</th>\n",
              "      <td>True</td>\n",
              "      <td>False</td>\n",
              "      <td>False</td>\n",
              "      <td>True</td>\n",
              "    </tr>\n",
              "    <tr>\n",
              "      <th>2021-05-11</th>\n",
              "      <td>False</td>\n",
              "      <td>False</td>\n",
              "      <td>False</td>\n",
              "      <td>False</td>\n",
              "    </tr>\n",
              "    <tr>\n",
              "      <th>2021-05-12</th>\n",
              "      <td>False</td>\n",
              "      <td>False</td>\n",
              "      <td>False</td>\n",
              "      <td>True</td>\n",
              "    </tr>\n",
              "  </tbody>\n",
              "</table>\n",
              "</div>"
            ],
            "text/plain": [
              "                A      B      C      D\n",
              "2021-05-07   True   True  False   True\n",
              "2021-05-08   True  False   True  False\n",
              "2021-05-09   True  False   True   True\n",
              "2021-05-10   True  False  False   True\n",
              "2021-05-11  False  False  False  False\n",
              "2021-05-12  False  False  False   True"
            ]
          },
          "metadata": {
            "tags": []
          },
          "execution_count": 96
        }
      ]
    },
    {
      "cell_type": "code",
      "metadata": {
        "colab": {
          "base_uri": "https://localhost:8080/",
          "height": 225
        },
        "id": "ktLLXvaPY9Co",
        "outputId": "8afbf29e-644b-4990-b32c-643e442d0ba7"
      },
      "source": [
        "df"
      ],
      "execution_count": 97,
      "outputs": [
        {
          "output_type": "execute_result",
          "data": {
            "text/html": [
              "<div>\n",
              "<style scoped>\n",
              "    .dataframe tbody tr th:only-of-type {\n",
              "        vertical-align: middle;\n",
              "    }\n",
              "\n",
              "    .dataframe tbody tr th {\n",
              "        vertical-align: top;\n",
              "    }\n",
              "\n",
              "    .dataframe thead th {\n",
              "        text-align: right;\n",
              "    }\n",
              "</style>\n",
              "<table border=\"1\" class=\"dataframe\">\n",
              "  <thead>\n",
              "    <tr style=\"text-align: right;\">\n",
              "      <th></th>\n",
              "      <th>A</th>\n",
              "      <th>B</th>\n",
              "      <th>C</th>\n",
              "      <th>D</th>\n",
              "    </tr>\n",
              "  </thead>\n",
              "  <tbody>\n",
              "    <tr>\n",
              "      <th>2021-05-07</th>\n",
              "      <td>1.116398</td>\n",
              "      <td>1.616474</td>\n",
              "      <td>-1.105548</td>\n",
              "      <td>0.606092</td>\n",
              "    </tr>\n",
              "    <tr>\n",
              "      <th>2021-05-08</th>\n",
              "      <td>1.027949</td>\n",
              "      <td>-1.775700</td>\n",
              "      <td>0.465580</td>\n",
              "      <td>-0.304801</td>\n",
              "    </tr>\n",
              "    <tr>\n",
              "      <th>2021-05-09</th>\n",
              "      <td>1.065303</td>\n",
              "      <td>-2.227122</td>\n",
              "      <td>0.533991</td>\n",
              "      <td>0.239970</td>\n",
              "    </tr>\n",
              "    <tr>\n",
              "      <th>2021-05-10</th>\n",
              "      <td>0.983254</td>\n",
              "      <td>-0.523714</td>\n",
              "      <td>-1.529905</td>\n",
              "      <td>1.454540</td>\n",
              "    </tr>\n",
              "    <tr>\n",
              "      <th>2021-05-11</th>\n",
              "      <td>-0.199245</td>\n",
              "      <td>-0.681413</td>\n",
              "      <td>-0.930412</td>\n",
              "      <td>-0.301135</td>\n",
              "    </tr>\n",
              "    <tr>\n",
              "      <th>2021-05-12</th>\n",
              "      <td>-0.607123</td>\n",
              "      <td>-1.608729</td>\n",
              "      <td>-1.135281</td>\n",
              "      <td>1.255318</td>\n",
              "    </tr>\n",
              "  </tbody>\n",
              "</table>\n",
              "</div>"
            ],
            "text/plain": [
              "                   A         B         C         D\n",
              "2021-05-07  1.116398  1.616474 -1.105548  0.606092\n",
              "2021-05-08  1.027949 -1.775700  0.465580 -0.304801\n",
              "2021-05-09  1.065303 -2.227122  0.533991  0.239970\n",
              "2021-05-10  0.983254 -0.523714 -1.529905  1.454540\n",
              "2021-05-11 -0.199245 -0.681413 -0.930412 -0.301135\n",
              "2021-05-12 -0.607123 -1.608729 -1.135281  1.255318"
            ]
          },
          "metadata": {
            "tags": []
          },
          "execution_count": 97
        }
      ]
    },
    {
      "cell_type": "code",
      "metadata": {
        "colab": {
          "base_uri": "https://localhost:8080/",
          "height": 225
        },
        "id": "M8a1GTD_Y-ho",
        "outputId": "bb5a0460-0543-421c-8f45-86322f36d5dc"
      },
      "source": [
        "df[df>0]"
      ],
      "execution_count": 98,
      "outputs": [
        {
          "output_type": "execute_result",
          "data": {
            "text/html": [
              "<div>\n",
              "<style scoped>\n",
              "    .dataframe tbody tr th:only-of-type {\n",
              "        vertical-align: middle;\n",
              "    }\n",
              "\n",
              "    .dataframe tbody tr th {\n",
              "        vertical-align: top;\n",
              "    }\n",
              "\n",
              "    .dataframe thead th {\n",
              "        text-align: right;\n",
              "    }\n",
              "</style>\n",
              "<table border=\"1\" class=\"dataframe\">\n",
              "  <thead>\n",
              "    <tr style=\"text-align: right;\">\n",
              "      <th></th>\n",
              "      <th>A</th>\n",
              "      <th>B</th>\n",
              "      <th>C</th>\n",
              "      <th>D</th>\n",
              "    </tr>\n",
              "  </thead>\n",
              "  <tbody>\n",
              "    <tr>\n",
              "      <th>2021-05-07</th>\n",
              "      <td>1.116398</td>\n",
              "      <td>1.616474</td>\n",
              "      <td>NaN</td>\n",
              "      <td>0.606092</td>\n",
              "    </tr>\n",
              "    <tr>\n",
              "      <th>2021-05-08</th>\n",
              "      <td>1.027949</td>\n",
              "      <td>NaN</td>\n",
              "      <td>0.465580</td>\n",
              "      <td>NaN</td>\n",
              "    </tr>\n",
              "    <tr>\n",
              "      <th>2021-05-09</th>\n",
              "      <td>1.065303</td>\n",
              "      <td>NaN</td>\n",
              "      <td>0.533991</td>\n",
              "      <td>0.239970</td>\n",
              "    </tr>\n",
              "    <tr>\n",
              "      <th>2021-05-10</th>\n",
              "      <td>0.983254</td>\n",
              "      <td>NaN</td>\n",
              "      <td>NaN</td>\n",
              "      <td>1.454540</td>\n",
              "    </tr>\n",
              "    <tr>\n",
              "      <th>2021-05-11</th>\n",
              "      <td>NaN</td>\n",
              "      <td>NaN</td>\n",
              "      <td>NaN</td>\n",
              "      <td>NaN</td>\n",
              "    </tr>\n",
              "    <tr>\n",
              "      <th>2021-05-12</th>\n",
              "      <td>NaN</td>\n",
              "      <td>NaN</td>\n",
              "      <td>NaN</td>\n",
              "      <td>1.255318</td>\n",
              "    </tr>\n",
              "  </tbody>\n",
              "</table>\n",
              "</div>"
            ],
            "text/plain": [
              "                   A         B         C         D\n",
              "2021-05-07  1.116398  1.616474       NaN  0.606092\n",
              "2021-05-08  1.027949       NaN  0.465580       NaN\n",
              "2021-05-09  1.065303       NaN  0.533991  0.239970\n",
              "2021-05-10  0.983254       NaN       NaN  1.454540\n",
              "2021-05-11       NaN       NaN       NaN       NaN\n",
              "2021-05-12       NaN       NaN       NaN  1.255318"
            ]
          },
          "metadata": {
            "tags": []
          },
          "execution_count": 98
        }
      ]
    },
    {
      "cell_type": "code",
      "metadata": {
        "id": "a4YlKQVMZBaY"
      },
      "source": [
        "df2=df.copy()"
      ],
      "execution_count": 100,
      "outputs": []
    },
    {
      "cell_type": "code",
      "metadata": {
        "colab": {
          "base_uri": "https://localhost:8080/",
          "height": 225
        },
        "id": "GJB-OTHvZQT4",
        "outputId": "bc102947-7dde-4014-beef-5ac5331613bc"
      },
      "source": [
        "df2"
      ],
      "execution_count": 101,
      "outputs": [
        {
          "output_type": "execute_result",
          "data": {
            "text/html": [
              "<div>\n",
              "<style scoped>\n",
              "    .dataframe tbody tr th:only-of-type {\n",
              "        vertical-align: middle;\n",
              "    }\n",
              "\n",
              "    .dataframe tbody tr th {\n",
              "        vertical-align: top;\n",
              "    }\n",
              "\n",
              "    .dataframe thead th {\n",
              "        text-align: right;\n",
              "    }\n",
              "</style>\n",
              "<table border=\"1\" class=\"dataframe\">\n",
              "  <thead>\n",
              "    <tr style=\"text-align: right;\">\n",
              "      <th></th>\n",
              "      <th>A</th>\n",
              "      <th>B</th>\n",
              "      <th>C</th>\n",
              "      <th>D</th>\n",
              "    </tr>\n",
              "  </thead>\n",
              "  <tbody>\n",
              "    <tr>\n",
              "      <th>2021-05-07</th>\n",
              "      <td>1.116398</td>\n",
              "      <td>1.616474</td>\n",
              "      <td>-1.105548</td>\n",
              "      <td>0.606092</td>\n",
              "    </tr>\n",
              "    <tr>\n",
              "      <th>2021-05-08</th>\n",
              "      <td>1.027949</td>\n",
              "      <td>-1.775700</td>\n",
              "      <td>0.465580</td>\n",
              "      <td>-0.304801</td>\n",
              "    </tr>\n",
              "    <tr>\n",
              "      <th>2021-05-09</th>\n",
              "      <td>1.065303</td>\n",
              "      <td>-2.227122</td>\n",
              "      <td>0.533991</td>\n",
              "      <td>0.239970</td>\n",
              "    </tr>\n",
              "    <tr>\n",
              "      <th>2021-05-10</th>\n",
              "      <td>0.983254</td>\n",
              "      <td>-0.523714</td>\n",
              "      <td>-1.529905</td>\n",
              "      <td>1.454540</td>\n",
              "    </tr>\n",
              "    <tr>\n",
              "      <th>2021-05-11</th>\n",
              "      <td>-0.199245</td>\n",
              "      <td>-0.681413</td>\n",
              "      <td>-0.930412</td>\n",
              "      <td>-0.301135</td>\n",
              "    </tr>\n",
              "    <tr>\n",
              "      <th>2021-05-12</th>\n",
              "      <td>-0.607123</td>\n",
              "      <td>-1.608729</td>\n",
              "      <td>-1.135281</td>\n",
              "      <td>1.255318</td>\n",
              "    </tr>\n",
              "  </tbody>\n",
              "</table>\n",
              "</div>"
            ],
            "text/plain": [
              "                   A         B         C         D\n",
              "2021-05-07  1.116398  1.616474 -1.105548  0.606092\n",
              "2021-05-08  1.027949 -1.775700  0.465580 -0.304801\n",
              "2021-05-09  1.065303 -2.227122  0.533991  0.239970\n",
              "2021-05-10  0.983254 -0.523714 -1.529905  1.454540\n",
              "2021-05-11 -0.199245 -0.681413 -0.930412 -0.301135\n",
              "2021-05-12 -0.607123 -1.608729 -1.135281  1.255318"
            ]
          },
          "metadata": {
            "tags": []
          },
          "execution_count": 101
        }
      ]
    },
    {
      "cell_type": "code",
      "metadata": {
        "id": "nht12ToMZaLY"
      },
      "source": [
        "df2['E'] = ['one', 'one', 'two', 'three', 'four', 'three']"
      ],
      "execution_count": 104,
      "outputs": []
    },
    {
      "cell_type": "code",
      "metadata": {
        "colab": {
          "base_uri": "https://localhost:8080/",
          "height": 225
        },
        "id": "QUaoFI04ZucY",
        "outputId": "dad78e57-23ce-4f21-926b-e6672e83e35b"
      },
      "source": [
        "df2"
      ],
      "execution_count": 105,
      "outputs": [
        {
          "output_type": "execute_result",
          "data": {
            "text/html": [
              "<div>\n",
              "<style scoped>\n",
              "    .dataframe tbody tr th:only-of-type {\n",
              "        vertical-align: middle;\n",
              "    }\n",
              "\n",
              "    .dataframe tbody tr th {\n",
              "        vertical-align: top;\n",
              "    }\n",
              "\n",
              "    .dataframe thead th {\n",
              "        text-align: right;\n",
              "    }\n",
              "</style>\n",
              "<table border=\"1\" class=\"dataframe\">\n",
              "  <thead>\n",
              "    <tr style=\"text-align: right;\">\n",
              "      <th></th>\n",
              "      <th>A</th>\n",
              "      <th>B</th>\n",
              "      <th>C</th>\n",
              "      <th>D</th>\n",
              "      <th>E</th>\n",
              "    </tr>\n",
              "  </thead>\n",
              "  <tbody>\n",
              "    <tr>\n",
              "      <th>2021-05-07</th>\n",
              "      <td>1.116398</td>\n",
              "      <td>1.616474</td>\n",
              "      <td>-1.105548</td>\n",
              "      <td>0.606092</td>\n",
              "      <td>one</td>\n",
              "    </tr>\n",
              "    <tr>\n",
              "      <th>2021-05-08</th>\n",
              "      <td>1.027949</td>\n",
              "      <td>-1.775700</td>\n",
              "      <td>0.465580</td>\n",
              "      <td>-0.304801</td>\n",
              "      <td>one</td>\n",
              "    </tr>\n",
              "    <tr>\n",
              "      <th>2021-05-09</th>\n",
              "      <td>1.065303</td>\n",
              "      <td>-2.227122</td>\n",
              "      <td>0.533991</td>\n",
              "      <td>0.239970</td>\n",
              "      <td>two</td>\n",
              "    </tr>\n",
              "    <tr>\n",
              "      <th>2021-05-10</th>\n",
              "      <td>0.983254</td>\n",
              "      <td>-0.523714</td>\n",
              "      <td>-1.529905</td>\n",
              "      <td>1.454540</td>\n",
              "      <td>three</td>\n",
              "    </tr>\n",
              "    <tr>\n",
              "      <th>2021-05-11</th>\n",
              "      <td>-0.199245</td>\n",
              "      <td>-0.681413</td>\n",
              "      <td>-0.930412</td>\n",
              "      <td>-0.301135</td>\n",
              "      <td>four</td>\n",
              "    </tr>\n",
              "    <tr>\n",
              "      <th>2021-05-12</th>\n",
              "      <td>-0.607123</td>\n",
              "      <td>-1.608729</td>\n",
              "      <td>-1.135281</td>\n",
              "      <td>1.255318</td>\n",
              "      <td>three</td>\n",
              "    </tr>\n",
              "  </tbody>\n",
              "</table>\n",
              "</div>"
            ],
            "text/plain": [
              "                   A         B         C         D      E\n",
              "2021-05-07  1.116398  1.616474 -1.105548  0.606092    one\n",
              "2021-05-08  1.027949 -1.775700  0.465580 -0.304801    one\n",
              "2021-05-09  1.065303 -2.227122  0.533991  0.239970    two\n",
              "2021-05-10  0.983254 -0.523714 -1.529905  1.454540  three\n",
              "2021-05-11 -0.199245 -0.681413 -0.930412 -0.301135   four\n",
              "2021-05-12 -0.607123 -1.608729 -1.135281  1.255318  three"
            ]
          },
          "metadata": {
            "tags": []
          },
          "execution_count": 105
        }
      ]
    },
    {
      "cell_type": "code",
      "metadata": {
        "colab": {
          "base_uri": "https://localhost:8080/",
          "height": 106
        },
        "id": "nRsIUslfZu73",
        "outputId": "29f9380b-577f-4e2a-ec27-c536c7fb907e"
      },
      "source": [
        "df2[df2['E'].isin(['one'])]"
      ],
      "execution_count": 107,
      "outputs": [
        {
          "output_type": "execute_result",
          "data": {
            "text/html": [
              "<div>\n",
              "<style scoped>\n",
              "    .dataframe tbody tr th:only-of-type {\n",
              "        vertical-align: middle;\n",
              "    }\n",
              "\n",
              "    .dataframe tbody tr th {\n",
              "        vertical-align: top;\n",
              "    }\n",
              "\n",
              "    .dataframe thead th {\n",
              "        text-align: right;\n",
              "    }\n",
              "</style>\n",
              "<table border=\"1\" class=\"dataframe\">\n",
              "  <thead>\n",
              "    <tr style=\"text-align: right;\">\n",
              "      <th></th>\n",
              "      <th>A</th>\n",
              "      <th>B</th>\n",
              "      <th>C</th>\n",
              "      <th>D</th>\n",
              "      <th>E</th>\n",
              "    </tr>\n",
              "  </thead>\n",
              "  <tbody>\n",
              "    <tr>\n",
              "      <th>2021-05-07</th>\n",
              "      <td>1.116398</td>\n",
              "      <td>1.616474</td>\n",
              "      <td>-1.105548</td>\n",
              "      <td>0.606092</td>\n",
              "      <td>one</td>\n",
              "    </tr>\n",
              "    <tr>\n",
              "      <th>2021-05-08</th>\n",
              "      <td>1.027949</td>\n",
              "      <td>-1.775700</td>\n",
              "      <td>0.465580</td>\n",
              "      <td>-0.304801</td>\n",
              "      <td>one</td>\n",
              "    </tr>\n",
              "  </tbody>\n",
              "</table>\n",
              "</div>"
            ],
            "text/plain": [
              "                   A         B         C         D    E\n",
              "2021-05-07  1.116398  1.616474 -1.105548  0.606092  one\n",
              "2021-05-08  1.027949 -1.775700  0.465580 -0.304801  one"
            ]
          },
          "metadata": {
            "tags": []
          },
          "execution_count": 107
        }
      ]
    },
    {
      "cell_type": "code",
      "metadata": {
        "colab": {
          "base_uri": "https://localhost:8080/",
          "height": 106
        },
        "id": "2cIQBwAzaGUe",
        "outputId": "95347b93-ab4c-4a1d-e568-6554ea8d2cc2"
      },
      "source": [
        "df2[df2['E'].isin(['three'])]"
      ],
      "execution_count": 108,
      "outputs": [
        {
          "output_type": "execute_result",
          "data": {
            "text/html": [
              "<div>\n",
              "<style scoped>\n",
              "    .dataframe tbody tr th:only-of-type {\n",
              "        vertical-align: middle;\n",
              "    }\n",
              "\n",
              "    .dataframe tbody tr th {\n",
              "        vertical-align: top;\n",
              "    }\n",
              "\n",
              "    .dataframe thead th {\n",
              "        text-align: right;\n",
              "    }\n",
              "</style>\n",
              "<table border=\"1\" class=\"dataframe\">\n",
              "  <thead>\n",
              "    <tr style=\"text-align: right;\">\n",
              "      <th></th>\n",
              "      <th>A</th>\n",
              "      <th>B</th>\n",
              "      <th>C</th>\n",
              "      <th>D</th>\n",
              "      <th>E</th>\n",
              "    </tr>\n",
              "  </thead>\n",
              "  <tbody>\n",
              "    <tr>\n",
              "      <th>2021-05-10</th>\n",
              "      <td>0.983254</td>\n",
              "      <td>-0.523714</td>\n",
              "      <td>-1.529905</td>\n",
              "      <td>1.454540</td>\n",
              "      <td>three</td>\n",
              "    </tr>\n",
              "    <tr>\n",
              "      <th>2021-05-12</th>\n",
              "      <td>-0.607123</td>\n",
              "      <td>-1.608729</td>\n",
              "      <td>-1.135281</td>\n",
              "      <td>1.255318</td>\n",
              "      <td>three</td>\n",
              "    </tr>\n",
              "  </tbody>\n",
              "</table>\n",
              "</div>"
            ],
            "text/plain": [
              "                   A         B         C         D      E\n",
              "2021-05-10  0.983254 -0.523714 -1.529905  1.454540  three\n",
              "2021-05-12 -0.607123 -1.608729 -1.135281  1.255318  three"
            ]
          },
          "metadata": {
            "tags": []
          },
          "execution_count": 108
        }
      ]
    },
    {
      "cell_type": "code",
      "metadata": {
        "id": "OJ9cTQ3waUro"
      },
      "source": [
        "s1 = pd.Series([1, 2, 3, 4, 5, 6], index=pd.date_range('20210507', periods=6))"
      ],
      "execution_count": 109,
      "outputs": []
    },
    {
      "cell_type": "code",
      "metadata": {
        "id": "1bIwnI96apZ4"
      },
      "source": [
        "df['F']=s1"
      ],
      "execution_count": 111,
      "outputs": []
    },
    {
      "cell_type": "code",
      "metadata": {
        "colab": {
          "base_uri": "https://localhost:8080/",
          "height": 225
        },
        "id": "cJL_hmCZaqLY",
        "outputId": "595b9bd8-1e49-4971-d64f-5153f8a38cc6"
      },
      "source": [
        "df"
      ],
      "execution_count": 112,
      "outputs": [
        {
          "output_type": "execute_result",
          "data": {
            "text/html": [
              "<div>\n",
              "<style scoped>\n",
              "    .dataframe tbody tr th:only-of-type {\n",
              "        vertical-align: middle;\n",
              "    }\n",
              "\n",
              "    .dataframe tbody tr th {\n",
              "        vertical-align: top;\n",
              "    }\n",
              "\n",
              "    .dataframe thead th {\n",
              "        text-align: right;\n",
              "    }\n",
              "</style>\n",
              "<table border=\"1\" class=\"dataframe\">\n",
              "  <thead>\n",
              "    <tr style=\"text-align: right;\">\n",
              "      <th></th>\n",
              "      <th>A</th>\n",
              "      <th>B</th>\n",
              "      <th>C</th>\n",
              "      <th>D</th>\n",
              "      <th>F</th>\n",
              "    </tr>\n",
              "  </thead>\n",
              "  <tbody>\n",
              "    <tr>\n",
              "      <th>2021-05-07</th>\n",
              "      <td>1.116398</td>\n",
              "      <td>1.616474</td>\n",
              "      <td>-1.105548</td>\n",
              "      <td>0.606092</td>\n",
              "      <td>1</td>\n",
              "    </tr>\n",
              "    <tr>\n",
              "      <th>2021-05-08</th>\n",
              "      <td>1.027949</td>\n",
              "      <td>-1.775700</td>\n",
              "      <td>0.465580</td>\n",
              "      <td>-0.304801</td>\n",
              "      <td>2</td>\n",
              "    </tr>\n",
              "    <tr>\n",
              "      <th>2021-05-09</th>\n",
              "      <td>1.065303</td>\n",
              "      <td>-2.227122</td>\n",
              "      <td>0.533991</td>\n",
              "      <td>0.239970</td>\n",
              "      <td>3</td>\n",
              "    </tr>\n",
              "    <tr>\n",
              "      <th>2021-05-10</th>\n",
              "      <td>0.983254</td>\n",
              "      <td>-0.523714</td>\n",
              "      <td>-1.529905</td>\n",
              "      <td>1.454540</td>\n",
              "      <td>4</td>\n",
              "    </tr>\n",
              "    <tr>\n",
              "      <th>2021-05-11</th>\n",
              "      <td>-0.199245</td>\n",
              "      <td>-0.681413</td>\n",
              "      <td>-0.930412</td>\n",
              "      <td>-0.301135</td>\n",
              "      <td>5</td>\n",
              "    </tr>\n",
              "    <tr>\n",
              "      <th>2021-05-12</th>\n",
              "      <td>-0.607123</td>\n",
              "      <td>-1.608729</td>\n",
              "      <td>-1.135281</td>\n",
              "      <td>1.255318</td>\n",
              "      <td>6</td>\n",
              "    </tr>\n",
              "  </tbody>\n",
              "</table>\n",
              "</div>"
            ],
            "text/plain": [
              "                   A         B         C         D  F\n",
              "2021-05-07  1.116398  1.616474 -1.105548  0.606092  1\n",
              "2021-05-08  1.027949 -1.775700  0.465580 -0.304801  2\n",
              "2021-05-09  1.065303 -2.227122  0.533991  0.239970  3\n",
              "2021-05-10  0.983254 -0.523714 -1.529905  1.454540  4\n",
              "2021-05-11 -0.199245 -0.681413 -0.930412 -0.301135  5\n",
              "2021-05-12 -0.607123 -1.608729 -1.135281  1.255318  6"
            ]
          },
          "metadata": {
            "tags": []
          },
          "execution_count": 112
        }
      ]
    },
    {
      "cell_type": "code",
      "metadata": {
        "id": "iCVarAo1aupX"
      },
      "source": [
        "df[df>0]=-df"
      ],
      "execution_count": 114,
      "outputs": []
    },
    {
      "cell_type": "code",
      "metadata": {
        "colab": {
          "base_uri": "https://localhost:8080/",
          "height": 225
        },
        "id": "SU53QmsRa3f7",
        "outputId": "526b534b-9bae-45ec-828f-b8b6cdaeaeb7"
      },
      "source": [
        "df"
      ],
      "execution_count": 115,
      "outputs": [
        {
          "output_type": "execute_result",
          "data": {
            "text/html": [
              "<div>\n",
              "<style scoped>\n",
              "    .dataframe tbody tr th:only-of-type {\n",
              "        vertical-align: middle;\n",
              "    }\n",
              "\n",
              "    .dataframe tbody tr th {\n",
              "        vertical-align: top;\n",
              "    }\n",
              "\n",
              "    .dataframe thead th {\n",
              "        text-align: right;\n",
              "    }\n",
              "</style>\n",
              "<table border=\"1\" class=\"dataframe\">\n",
              "  <thead>\n",
              "    <tr style=\"text-align: right;\">\n",
              "      <th></th>\n",
              "      <th>A</th>\n",
              "      <th>B</th>\n",
              "      <th>C</th>\n",
              "      <th>D</th>\n",
              "      <th>F</th>\n",
              "    </tr>\n",
              "  </thead>\n",
              "  <tbody>\n",
              "    <tr>\n",
              "      <th>2021-05-07</th>\n",
              "      <td>-1.116398</td>\n",
              "      <td>-1.616474</td>\n",
              "      <td>-1.105548</td>\n",
              "      <td>-0.606092</td>\n",
              "      <td>-1</td>\n",
              "    </tr>\n",
              "    <tr>\n",
              "      <th>2021-05-08</th>\n",
              "      <td>-1.027949</td>\n",
              "      <td>-1.775700</td>\n",
              "      <td>-0.465580</td>\n",
              "      <td>-0.304801</td>\n",
              "      <td>-2</td>\n",
              "    </tr>\n",
              "    <tr>\n",
              "      <th>2021-05-09</th>\n",
              "      <td>-1.065303</td>\n",
              "      <td>-2.227122</td>\n",
              "      <td>-0.533991</td>\n",
              "      <td>-0.239970</td>\n",
              "      <td>-3</td>\n",
              "    </tr>\n",
              "    <tr>\n",
              "      <th>2021-05-10</th>\n",
              "      <td>-0.983254</td>\n",
              "      <td>-0.523714</td>\n",
              "      <td>-1.529905</td>\n",
              "      <td>-1.454540</td>\n",
              "      <td>-4</td>\n",
              "    </tr>\n",
              "    <tr>\n",
              "      <th>2021-05-11</th>\n",
              "      <td>-0.199245</td>\n",
              "      <td>-0.681413</td>\n",
              "      <td>-0.930412</td>\n",
              "      <td>-0.301135</td>\n",
              "      <td>-5</td>\n",
              "    </tr>\n",
              "    <tr>\n",
              "      <th>2021-05-12</th>\n",
              "      <td>-0.607123</td>\n",
              "      <td>-1.608729</td>\n",
              "      <td>-1.135281</td>\n",
              "      <td>-1.255318</td>\n",
              "      <td>-6</td>\n",
              "    </tr>\n",
              "  </tbody>\n",
              "</table>\n",
              "</div>"
            ],
            "text/plain": [
              "                   A         B         C         D  F\n",
              "2021-05-07 -1.116398 -1.616474 -1.105548 -0.606092 -1\n",
              "2021-05-08 -1.027949 -1.775700 -0.465580 -0.304801 -2\n",
              "2021-05-09 -1.065303 -2.227122 -0.533991 -0.239970 -3\n",
              "2021-05-10 -0.983254 -0.523714 -1.529905 -1.454540 -4\n",
              "2021-05-11 -0.199245 -0.681413 -0.930412 -0.301135 -5\n",
              "2021-05-12 -0.607123 -1.608729 -1.135281 -1.255318 -6"
            ]
          },
          "metadata": {
            "tags": []
          },
          "execution_count": 115
        }
      ]
    },
    {
      "cell_type": "code",
      "metadata": {
        "id": "swK-2SpDbAlY"
      },
      "source": [
        "df[df<0]=-df"
      ],
      "execution_count": 117,
      "outputs": []
    },
    {
      "cell_type": "code",
      "metadata": {
        "colab": {
          "base_uri": "https://localhost:8080/",
          "height": 225
        },
        "id": "zTcNMGugbP8I",
        "outputId": "f0868a05-f424-4c13-921c-c0952e35d4db"
      },
      "source": [
        "df"
      ],
      "execution_count": 118,
      "outputs": [
        {
          "output_type": "execute_result",
          "data": {
            "text/html": [
              "<div>\n",
              "<style scoped>\n",
              "    .dataframe tbody tr th:only-of-type {\n",
              "        vertical-align: middle;\n",
              "    }\n",
              "\n",
              "    .dataframe tbody tr th {\n",
              "        vertical-align: top;\n",
              "    }\n",
              "\n",
              "    .dataframe thead th {\n",
              "        text-align: right;\n",
              "    }\n",
              "</style>\n",
              "<table border=\"1\" class=\"dataframe\">\n",
              "  <thead>\n",
              "    <tr style=\"text-align: right;\">\n",
              "      <th></th>\n",
              "      <th>A</th>\n",
              "      <th>B</th>\n",
              "      <th>C</th>\n",
              "      <th>D</th>\n",
              "      <th>F</th>\n",
              "    </tr>\n",
              "  </thead>\n",
              "  <tbody>\n",
              "    <tr>\n",
              "      <th>2021-05-07</th>\n",
              "      <td>1.116398</td>\n",
              "      <td>1.616474</td>\n",
              "      <td>1.105548</td>\n",
              "      <td>0.606092</td>\n",
              "      <td>1</td>\n",
              "    </tr>\n",
              "    <tr>\n",
              "      <th>2021-05-08</th>\n",
              "      <td>1.027949</td>\n",
              "      <td>1.775700</td>\n",
              "      <td>0.465580</td>\n",
              "      <td>0.304801</td>\n",
              "      <td>2</td>\n",
              "    </tr>\n",
              "    <tr>\n",
              "      <th>2021-05-09</th>\n",
              "      <td>1.065303</td>\n",
              "      <td>2.227122</td>\n",
              "      <td>0.533991</td>\n",
              "      <td>0.239970</td>\n",
              "      <td>3</td>\n",
              "    </tr>\n",
              "    <tr>\n",
              "      <th>2021-05-10</th>\n",
              "      <td>0.983254</td>\n",
              "      <td>0.523714</td>\n",
              "      <td>1.529905</td>\n",
              "      <td>1.454540</td>\n",
              "      <td>4</td>\n",
              "    </tr>\n",
              "    <tr>\n",
              "      <th>2021-05-11</th>\n",
              "      <td>0.199245</td>\n",
              "      <td>0.681413</td>\n",
              "      <td>0.930412</td>\n",
              "      <td>0.301135</td>\n",
              "      <td>5</td>\n",
              "    </tr>\n",
              "    <tr>\n",
              "      <th>2021-05-12</th>\n",
              "      <td>0.607123</td>\n",
              "      <td>1.608729</td>\n",
              "      <td>1.135281</td>\n",
              "      <td>1.255318</td>\n",
              "      <td>6</td>\n",
              "    </tr>\n",
              "  </tbody>\n",
              "</table>\n",
              "</div>"
            ],
            "text/plain": [
              "                   A         B         C         D  F\n",
              "2021-05-07  1.116398  1.616474  1.105548  0.606092  1\n",
              "2021-05-08  1.027949  1.775700  0.465580  0.304801  2\n",
              "2021-05-09  1.065303  2.227122  0.533991  0.239970  3\n",
              "2021-05-10  0.983254  0.523714  1.529905  1.454540  4\n",
              "2021-05-11  0.199245  0.681413  0.930412  0.301135  5\n",
              "2021-05-12  0.607123  1.608729  1.135281  1.255318  6"
            ]
          },
          "metadata": {
            "tags": []
          },
          "execution_count": 118
        }
      ]
    },
    {
      "cell_type": "code",
      "metadata": {
        "id": "aILlDV6CbRI4"
      },
      "source": [
        ""
      ],
      "execution_count": null,
      "outputs": []
    }
  ]
}