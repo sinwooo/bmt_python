{
  "nbformat": 4,
  "nbformat_minor": 0,
  "metadata": {
    "colab": {
      "name": "21503 11주차 실습",
      "provenance": [],
      "collapsed_sections": [],
      "authorship_tag": "ABX9TyNQiyA8cdo5TUz8XcYIA7GX",
      "include_colab_link": true
    },
    "kernelspec": {
      "name": "python3",
      "display_name": "Python 3"
    },
    "language_info": {
      "name": "python"
    }
  },
  "cells": [
    {
      "cell_type": "markdown",
      "metadata": {
        "id": "view-in-github",
        "colab_type": "text"
      },
      "source": [
        "<a href=\"https://colab.research.google.com/github/sinwooo/bmt_python/blob/main/21503_11%EC%A3%BC%EC%B0%A8_%EC%8B%A4%EC%8A%B5.ipynb\" target=\"_parent\"><img src=\"https://colab.research.google.com/assets/colab-badge.svg\" alt=\"Open In Colab\"/></a>"
      ]
    },
    {
      "cell_type": "code",
      "metadata": {
        "id": "k1leLTh4IZgW"
      },
      "source": [
        "import pandas as pd\n",
        "import numpy as np\n",
        "import matplotlib.pyplot as plt\n"
      ],
      "execution_count": 8,
      "outputs": []
    },
    {
      "cell_type": "code",
      "metadata": {
        "colab": {
          "base_uri": "https://localhost:8080/"
        },
        "id": "e-0dWtDrK7hG",
        "outputId": "f139b099-3ff9-4307-f262-ae2c8a8181a5"
      },
      "source": [
        "pd"
      ],
      "execution_count": 2,
      "outputs": [
        {
          "output_type": "execute_result",
          "data": {
            "text/plain": [
              "<module 'pandas' from '/usr/local/lib/python3.7/dist-packages/pandas/__init__.py'>"
            ]
          },
          "metadata": {
            "tags": []
          },
          "execution_count": 2
        }
      ]
    },
    {
      "cell_type": "code",
      "metadata": {
        "colab": {
          "base_uri": "https://localhost:8080/"
        },
        "id": "TjJlj4H3K8lE",
        "outputId": "11fec3b1-a7b6-44fc-82db-d41c2819a713"
      },
      "source": [
        "dates = pd.date_range('20210514', periods=6)\n",
        "dates"
      ],
      "execution_count": 3,
      "outputs": [
        {
          "output_type": "execute_result",
          "data": {
            "text/plain": [
              "DatetimeIndex(['2021-05-14', '2021-05-15', '2021-05-16', '2021-05-17',\n",
              "               '2021-05-18', '2021-05-19'],\n",
              "              dtype='datetime64[ns]', freq='D')"
            ]
          },
          "metadata": {
            "tags": []
          },
          "execution_count": 3
        }
      ]
    },
    {
      "cell_type": "code",
      "metadata": {
        "colab": {
          "base_uri": "https://localhost:8080/",
          "height": 207
        },
        "id": "Nag3wvwYLP6E",
        "outputId": "64b44d3a-65e0-4701-8723-bbb7c281a4c4"
      },
      "source": [
        "df = pd.DataFrame(np.random.randn(6,4), index=dates, columns=list('ABCD')) \n",
        "df"
      ],
      "execution_count": 20,
      "outputs": [
        {
          "output_type": "error",
          "ename": "NameError",
          "evalue": "ignored",
          "traceback": [
            "\u001b[0;31m---------------------------------------------------------------------------\u001b[0m",
            "\u001b[0;31mNameError\u001b[0m                                 Traceback (most recent call last)",
            "\u001b[0;32m<ipython-input-20-60c9842a9faa>\u001b[0m in \u001b[0;36m<module>\u001b[0;34m()\u001b[0m\n\u001b[0;32m----> 1\u001b[0;31m \u001b[0mdf\u001b[0m \u001b[0;34m=\u001b[0m \u001b[0mpd\u001b[0m\u001b[0;34m.\u001b[0m\u001b[0mDataFrame\u001b[0m\u001b[0;34m(\u001b[0m\u001b[0mnp\u001b[0m\u001b[0;34m.\u001b[0m\u001b[0mrandom\u001b[0m\u001b[0;34m.\u001b[0m\u001b[0mrandn\u001b[0m\u001b[0;34m(\u001b[0m\u001b[0;36m6\u001b[0m\u001b[0;34m,\u001b[0m\u001b[0;36m4\u001b[0m\u001b[0;34m)\u001b[0m\u001b[0;34m,\u001b[0m \u001b[0mindex\u001b[0m\u001b[0;34m=\u001b[0m\u001b[0mdates\u001b[0m\u001b[0;34m,\u001b[0m \u001b[0mcolumns\u001b[0m\u001b[0;34m=\u001b[0m\u001b[0mlist\u001b[0m\u001b[0;34m(\u001b[0m\u001b[0;34m'ABCD'\u001b[0m\u001b[0;34m)\u001b[0m\u001b[0;34m)\u001b[0m\u001b[0;34m\u001b[0m\u001b[0;34m\u001b[0m\u001b[0m\n\u001b[0m\u001b[1;32m      2\u001b[0m \u001b[0mdf\u001b[0m\u001b[0;34m\u001b[0m\u001b[0;34m\u001b[0m\u001b[0m\n",
            "\u001b[0;31mNameError\u001b[0m: name 'dates' is not defined"
          ]
        }
      ]
    },
    {
      "cell_type": "code",
      "metadata": {
        "colab": {
          "base_uri": "https://localhost:8080/"
        },
        "id": "iYZ40rZbLtlU",
        "outputId": "2f65a7c7-30e0-49bd-cff0-af491b5a2edd"
      },
      "source": [
        "df.mean()"
      ],
      "execution_count": 8,
      "outputs": [
        {
          "output_type": "execute_result",
          "data": {
            "text/plain": [
              "A   -0.654058\n",
              "B    0.133080\n",
              "C   -0.175884\n",
              "D    0.065470\n",
              "dtype: float64"
            ]
          },
          "metadata": {
            "tags": []
          },
          "execution_count": 8
        }
      ]
    },
    {
      "cell_type": "code",
      "metadata": {
        "colab": {
          "base_uri": "https://localhost:8080/"
        },
        "id": "vcS1u7l7MCMU",
        "outputId": "5b1e6013-6475-4511-d8a0-de77a97face3"
      },
      "source": [
        "df.mean(0)"
      ],
      "execution_count": 9,
      "outputs": [
        {
          "output_type": "execute_result",
          "data": {
            "text/plain": [
              "A   -0.654058\n",
              "B    0.133080\n",
              "C   -0.175884\n",
              "D    0.065470\n",
              "dtype: float64"
            ]
          },
          "metadata": {
            "tags": []
          },
          "execution_count": 9
        }
      ]
    },
    {
      "cell_type": "code",
      "metadata": {
        "colab": {
          "base_uri": "https://localhost:8080/"
        },
        "id": "uASswCIzMXRU",
        "outputId": "9dc08d69-74f4-43d4-b22c-f0bb97a9a774"
      },
      "source": [
        "df.mean(1)"
      ],
      "execution_count": 10,
      "outputs": [
        {
          "output_type": "execute_result",
          "data": {
            "text/plain": [
              "2021-05-14    0.011625\n",
              "2021-05-15   -0.506958\n",
              "2021-05-16   -0.424489\n",
              "2021-05-17    0.278408\n",
              "2021-05-18   -0.137090\n",
              "2021-05-19   -0.168584\n",
              "Freq: D, dtype: float64"
            ]
          },
          "metadata": {
            "tags": []
          },
          "execution_count": 10
        }
      ]
    },
    {
      "cell_type": "code",
      "metadata": {
        "colab": {
          "base_uri": "https://localhost:8080/",
          "height": 343
        },
        "id": "tYH61vkXM0VU",
        "outputId": "f5635128-362f-439b-d6c4-706c2a8ff5b8"
      },
      "source": [
        "df"
      ],
      "execution_count": 19,
      "outputs": [
        {
          "output_type": "execute_result",
          "data": {
            "text/html": [
              "<div>\n",
              "<style scoped>\n",
              "    .dataframe tbody tr th:only-of-type {\n",
              "        vertical-align: middle;\n",
              "    }\n",
              "\n",
              "    .dataframe tbody tr th {\n",
              "        vertical-align: top;\n",
              "    }\n",
              "\n",
              "    .dataframe thead th {\n",
              "        text-align: right;\n",
              "    }\n",
              "</style>\n",
              "<table border=\"1\" class=\"dataframe\">\n",
              "  <thead>\n",
              "    <tr style=\"text-align: right;\">\n",
              "      <th></th>\n",
              "      <th>0</th>\n",
              "      <th>1</th>\n",
              "      <th>2</th>\n",
              "      <th>3</th>\n",
              "    </tr>\n",
              "  </thead>\n",
              "  <tbody>\n",
              "    <tr>\n",
              "      <th>0</th>\n",
              "      <td>0.436012</td>\n",
              "      <td>0.940035</td>\n",
              "      <td>-1.023520</td>\n",
              "      <td>1.319841</td>\n",
              "    </tr>\n",
              "    <tr>\n",
              "      <th>1</th>\n",
              "      <td>-0.269103</td>\n",
              "      <td>-0.217796</td>\n",
              "      <td>-1.472993</td>\n",
              "      <td>-1.444462</td>\n",
              "    </tr>\n",
              "    <tr>\n",
              "      <th>2</th>\n",
              "      <td>-0.161043</td>\n",
              "      <td>1.422705</td>\n",
              "      <td>0.874943</td>\n",
              "      <td>0.352590</td>\n",
              "    </tr>\n",
              "    <tr>\n",
              "      <th>3</th>\n",
              "      <td>0.325462</td>\n",
              "      <td>-1.763786</td>\n",
              "      <td>-0.856201</td>\n",
              "      <td>1.169572</td>\n",
              "    </tr>\n",
              "    <tr>\n",
              "      <th>4</th>\n",
              "      <td>-1.449221</td>\n",
              "      <td>1.662774</td>\n",
              "      <td>-0.428687</td>\n",
              "      <td>-0.741814</td>\n",
              "    </tr>\n",
              "    <tr>\n",
              "      <th>5</th>\n",
              "      <td>2.513067</td>\n",
              "      <td>-2.435929</td>\n",
              "      <td>-0.063508</td>\n",
              "      <td>1.096188</td>\n",
              "    </tr>\n",
              "    <tr>\n",
              "      <th>6</th>\n",
              "      <td>0.247377</td>\n",
              "      <td>0.425464</td>\n",
              "      <td>-0.102655</td>\n",
              "      <td>1.018937</td>\n",
              "    </tr>\n",
              "    <tr>\n",
              "      <th>7</th>\n",
              "      <td>-1.440490</td>\n",
              "      <td>-0.142596</td>\n",
              "      <td>-0.588306</td>\n",
              "      <td>-1.074983</td>\n",
              "    </tr>\n",
              "    <tr>\n",
              "      <th>8</th>\n",
              "      <td>1.667843</td>\n",
              "      <td>-0.982932</td>\n",
              "      <td>1.554279</td>\n",
              "      <td>1.147997</td>\n",
              "    </tr>\n",
              "    <tr>\n",
              "      <th>9</th>\n",
              "      <td>-1.141361</td>\n",
              "      <td>-0.264493</td>\n",
              "      <td>0.118485</td>\n",
              "      <td>0.594584</td>\n",
              "    </tr>\n",
              "  </tbody>\n",
              "</table>\n",
              "</div>"
            ],
            "text/plain": [
              "          0         1         2         3\n",
              "0  0.436012  0.940035 -1.023520  1.319841\n",
              "1 -0.269103 -0.217796 -1.472993 -1.444462\n",
              "2 -0.161043  1.422705  0.874943  0.352590\n",
              "3  0.325462 -1.763786 -0.856201  1.169572\n",
              "4 -1.449221  1.662774 -0.428687 -0.741814\n",
              "5  2.513067 -2.435929 -0.063508  1.096188\n",
              "6  0.247377  0.425464 -0.102655  1.018937\n",
              "7 -1.440490 -0.142596 -0.588306 -1.074983\n",
              "8  1.667843 -0.982932  1.554279  1.147997\n",
              "9 -1.141361 -0.264493  0.118485  0.594584"
            ]
          },
          "metadata": {
            "tags": []
          },
          "execution_count": 19
        }
      ]
    },
    {
      "cell_type": "code",
      "metadata": {
        "colab": {
          "base_uri": "https://localhost:8080/",
          "height": 225
        },
        "id": "4Wlo1eNVNBWU",
        "outputId": "df1322f4-7945-4c0d-cee0-bbe6284eb61d"
      },
      "source": [
        "df.apply(np.cumsum)"
      ],
      "execution_count": 12,
      "outputs": [
        {
          "output_type": "execute_result",
          "data": {
            "text/html": [
              "<div>\n",
              "<style scoped>\n",
              "    .dataframe tbody tr th:only-of-type {\n",
              "        vertical-align: middle;\n",
              "    }\n",
              "\n",
              "    .dataframe tbody tr th {\n",
              "        vertical-align: top;\n",
              "    }\n",
              "\n",
              "    .dataframe thead th {\n",
              "        text-align: right;\n",
              "    }\n",
              "</style>\n",
              "<table border=\"1\" class=\"dataframe\">\n",
              "  <thead>\n",
              "    <tr style=\"text-align: right;\">\n",
              "      <th></th>\n",
              "      <th>A</th>\n",
              "      <th>B</th>\n",
              "      <th>C</th>\n",
              "      <th>D</th>\n",
              "    </tr>\n",
              "  </thead>\n",
              "  <tbody>\n",
              "    <tr>\n",
              "      <th>2021-05-14</th>\n",
              "      <td>0.029082</td>\n",
              "      <td>0.124000</td>\n",
              "      <td>-0.379457</td>\n",
              "      <td>0.272873</td>\n",
              "    </tr>\n",
              "    <tr>\n",
              "      <th>2021-05-15</th>\n",
              "      <td>-2.882781</td>\n",
              "      <td>0.529122</td>\n",
              "      <td>-0.040309</td>\n",
              "      <td>0.412636</td>\n",
              "    </tr>\n",
              "    <tr>\n",
              "      <th>2021-05-16</th>\n",
              "      <td>-3.050819</td>\n",
              "      <td>0.642833</td>\n",
              "      <td>-1.599441</td>\n",
              "      <td>0.328139</td>\n",
              "    </tr>\n",
              "    <tr>\n",
              "      <th>2021-05-17</th>\n",
              "      <td>-3.730262</td>\n",
              "      <td>1.361007</td>\n",
              "      <td>-0.614158</td>\n",
              "      <td>0.417759</td>\n",
              "    </tr>\n",
              "    <tr>\n",
              "      <th>2021-05-18</th>\n",
              "      <td>-5.237363</td>\n",
              "      <td>1.713731</td>\n",
              "      <td>-0.226112</td>\n",
              "      <td>0.635728</td>\n",
              "    </tr>\n",
              "    <tr>\n",
              "      <th>2021-05-19</th>\n",
              "      <td>-3.924346</td>\n",
              "      <td>0.798480</td>\n",
              "      <td>-1.055306</td>\n",
              "      <td>0.392818</td>\n",
              "    </tr>\n",
              "  </tbody>\n",
              "</table>\n",
              "</div>"
            ],
            "text/plain": [
              "                   A         B         C         D\n",
              "2021-05-14  0.029082  0.124000 -0.379457  0.272873\n",
              "2021-05-15 -2.882781  0.529122 -0.040309  0.412636\n",
              "2021-05-16 -3.050819  0.642833 -1.599441  0.328139\n",
              "2021-05-17 -3.730262  1.361007 -0.614158  0.417759\n",
              "2021-05-18 -5.237363  1.713731 -0.226112  0.635728\n",
              "2021-05-19 -3.924346  0.798480 -1.055306  0.392818"
            ]
          },
          "metadata": {
            "tags": []
          },
          "execution_count": 12
        }
      ]
    },
    {
      "cell_type": "code",
      "metadata": {
        "colab": {
          "base_uri": "https://localhost:8080/",
          "height": 225
        },
        "id": "YxD5gSj1NJYk",
        "outputId": "514a1ee4-66ef-4618-b80e-3923d94cbfb8"
      },
      "source": [
        "df.apply(np.cumsum,axis=0)"
      ],
      "execution_count": 13,
      "outputs": [
        {
          "output_type": "execute_result",
          "data": {
            "text/html": [
              "<div>\n",
              "<style scoped>\n",
              "    .dataframe tbody tr th:only-of-type {\n",
              "        vertical-align: middle;\n",
              "    }\n",
              "\n",
              "    .dataframe tbody tr th {\n",
              "        vertical-align: top;\n",
              "    }\n",
              "\n",
              "    .dataframe thead th {\n",
              "        text-align: right;\n",
              "    }\n",
              "</style>\n",
              "<table border=\"1\" class=\"dataframe\">\n",
              "  <thead>\n",
              "    <tr style=\"text-align: right;\">\n",
              "      <th></th>\n",
              "      <th>A</th>\n",
              "      <th>B</th>\n",
              "      <th>C</th>\n",
              "      <th>D</th>\n",
              "    </tr>\n",
              "  </thead>\n",
              "  <tbody>\n",
              "    <tr>\n",
              "      <th>2021-05-14</th>\n",
              "      <td>0.029082</td>\n",
              "      <td>0.124000</td>\n",
              "      <td>-0.379457</td>\n",
              "      <td>0.272873</td>\n",
              "    </tr>\n",
              "    <tr>\n",
              "      <th>2021-05-15</th>\n",
              "      <td>-2.882781</td>\n",
              "      <td>0.529122</td>\n",
              "      <td>-0.040309</td>\n",
              "      <td>0.412636</td>\n",
              "    </tr>\n",
              "    <tr>\n",
              "      <th>2021-05-16</th>\n",
              "      <td>-3.050819</td>\n",
              "      <td>0.642833</td>\n",
              "      <td>-1.599441</td>\n",
              "      <td>0.328139</td>\n",
              "    </tr>\n",
              "    <tr>\n",
              "      <th>2021-05-17</th>\n",
              "      <td>-3.730262</td>\n",
              "      <td>1.361007</td>\n",
              "      <td>-0.614158</td>\n",
              "      <td>0.417759</td>\n",
              "    </tr>\n",
              "    <tr>\n",
              "      <th>2021-05-18</th>\n",
              "      <td>-5.237363</td>\n",
              "      <td>1.713731</td>\n",
              "      <td>-0.226112</td>\n",
              "      <td>0.635728</td>\n",
              "    </tr>\n",
              "    <tr>\n",
              "      <th>2021-05-19</th>\n",
              "      <td>-3.924346</td>\n",
              "      <td>0.798480</td>\n",
              "      <td>-1.055306</td>\n",
              "      <td>0.392818</td>\n",
              "    </tr>\n",
              "  </tbody>\n",
              "</table>\n",
              "</div>"
            ],
            "text/plain": [
              "                   A         B         C         D\n",
              "2021-05-14  0.029082  0.124000 -0.379457  0.272873\n",
              "2021-05-15 -2.882781  0.529122 -0.040309  0.412636\n",
              "2021-05-16 -3.050819  0.642833 -1.599441  0.328139\n",
              "2021-05-17 -3.730262  1.361007 -0.614158  0.417759\n",
              "2021-05-18 -5.237363  1.713731 -0.226112  0.635728\n",
              "2021-05-19 -3.924346  0.798480 -1.055306  0.392818"
            ]
          },
          "metadata": {
            "tags": []
          },
          "execution_count": 13
        }
      ]
    },
    {
      "cell_type": "code",
      "metadata": {
        "colab": {
          "base_uri": "https://localhost:8080/",
          "height": 225
        },
        "id": "m6KaGGIfNeLk",
        "outputId": "574187c1-a997-4a34-cad7-118f8b08c8c5"
      },
      "source": [
        "df"
      ],
      "execution_count": 14,
      "outputs": [
        {
          "output_type": "execute_result",
          "data": {
            "text/html": [
              "<div>\n",
              "<style scoped>\n",
              "    .dataframe tbody tr th:only-of-type {\n",
              "        vertical-align: middle;\n",
              "    }\n",
              "\n",
              "    .dataframe tbody tr th {\n",
              "        vertical-align: top;\n",
              "    }\n",
              "\n",
              "    .dataframe thead th {\n",
              "        text-align: right;\n",
              "    }\n",
              "</style>\n",
              "<table border=\"1\" class=\"dataframe\">\n",
              "  <thead>\n",
              "    <tr style=\"text-align: right;\">\n",
              "      <th></th>\n",
              "      <th>A</th>\n",
              "      <th>B</th>\n",
              "      <th>C</th>\n",
              "      <th>D</th>\n",
              "    </tr>\n",
              "  </thead>\n",
              "  <tbody>\n",
              "    <tr>\n",
              "      <th>2021-05-14</th>\n",
              "      <td>0.029082</td>\n",
              "      <td>0.124000</td>\n",
              "      <td>-0.379457</td>\n",
              "      <td>0.272873</td>\n",
              "    </tr>\n",
              "    <tr>\n",
              "      <th>2021-05-15</th>\n",
              "      <td>-2.911864</td>\n",
              "      <td>0.405122</td>\n",
              "      <td>0.339147</td>\n",
              "      <td>0.139763</td>\n",
              "    </tr>\n",
              "    <tr>\n",
              "      <th>2021-05-16</th>\n",
              "      <td>-0.168037</td>\n",
              "      <td>0.113711</td>\n",
              "      <td>-1.559132</td>\n",
              "      <td>-0.084497</td>\n",
              "    </tr>\n",
              "    <tr>\n",
              "      <th>2021-05-17</th>\n",
              "      <td>-0.679443</td>\n",
              "      <td>0.718174</td>\n",
              "      <td>0.985283</td>\n",
              "      <td>0.089620</td>\n",
              "    </tr>\n",
              "    <tr>\n",
              "      <th>2021-05-18</th>\n",
              "      <td>-1.507101</td>\n",
              "      <td>0.352724</td>\n",
              "      <td>0.388046</td>\n",
              "      <td>0.217970</td>\n",
              "    </tr>\n",
              "    <tr>\n",
              "      <th>2021-05-19</th>\n",
              "      <td>1.313017</td>\n",
              "      <td>-0.915251</td>\n",
              "      <td>-0.829194</td>\n",
              "      <td>-0.242910</td>\n",
              "    </tr>\n",
              "  </tbody>\n",
              "</table>\n",
              "</div>"
            ],
            "text/plain": [
              "                   A         B         C         D\n",
              "2021-05-14  0.029082  0.124000 -0.379457  0.272873\n",
              "2021-05-15 -2.911864  0.405122  0.339147  0.139763\n",
              "2021-05-16 -0.168037  0.113711 -1.559132 -0.084497\n",
              "2021-05-17 -0.679443  0.718174  0.985283  0.089620\n",
              "2021-05-18 -1.507101  0.352724  0.388046  0.217970\n",
              "2021-05-19  1.313017 -0.915251 -0.829194 -0.242910"
            ]
          },
          "metadata": {
            "tags": []
          },
          "execution_count": 14
        }
      ]
    },
    {
      "cell_type": "code",
      "metadata": {
        "colab": {
          "base_uri": "https://localhost:8080/"
        },
        "id": "D4Go3-gJNpnU",
        "outputId": "2b262b39-797c-412e-b6eb-9fc89ec68fa1"
      },
      "source": [
        "df.apply(lambda x:x.max()-x.min())"
      ],
      "execution_count": 16,
      "outputs": [
        {
          "output_type": "execute_result",
          "data": {
            "text/plain": [
              "A    4.224881\n",
              "B    1.633425\n",
              "C    2.544415\n",
              "D    0.515784\n",
              "dtype: float64"
            ]
          },
          "metadata": {
            "tags": []
          },
          "execution_count": 16
        }
      ]
    },
    {
      "cell_type": "code",
      "metadata": {
        "colab": {
          "base_uri": "https://localhost:8080/"
        },
        "id": "zvgLL9ypN3bk",
        "outputId": "5ef9020b-7f2f-4eeb-e683-15506aacadb7"
      },
      "source": [
        "df.apply(lambda x:x.max()-x.min() , axis=0)"
      ],
      "execution_count": 18,
      "outputs": [
        {
          "output_type": "execute_result",
          "data": {
            "text/plain": [
              "0    3.962288\n",
              "1    4.098703\n",
              "2    3.027272\n",
              "3    2.764303\n",
              "dtype: float64"
            ]
          },
          "metadata": {
            "tags": []
          },
          "execution_count": 18
        }
      ]
    },
    {
      "cell_type": "code",
      "metadata": {
        "colab": {
          "base_uri": "https://localhost:8080/"
        },
        "id": "QT6noKYxOGkT",
        "outputId": "ee45b7f9-6eb6-44d5-e1a5-8709b73939d8"
      },
      "source": [
        "df.apply(lambda x:x.max()-x.min() , axis=1)"
      ],
      "execution_count": 20,
      "outputs": [
        {
          "output_type": "execute_result",
          "data": {
            "text/plain": [
              "2021-05-14    0.652330\n",
              "2021-05-15    3.316986\n",
              "2021-05-16    1.672843\n",
              "2021-05-17    1.664726\n",
              "2021-05-18    1.895147\n",
              "2021-05-19    2.228268\n",
              "Freq: D, dtype: float64"
            ]
          },
          "metadata": {
            "tags": []
          },
          "execution_count": 20
        }
      ]
    },
    {
      "cell_type": "code",
      "metadata": {
        "colab": {
          "base_uri": "https://localhost:8080/"
        },
        "id": "vGMInTJ9PQVa",
        "outputId": "0fbd9ce7-69cc-4b0d-b836-3f2ac38f71df"
      },
      "source": [
        "s = pd.Series(np.random.randint(1, 6, size = 10))\n",
        "s.value_counts()"
      ],
      "execution_count": 17,
      "outputs": [
        {
          "output_type": "execute_result",
          "data": {
            "text/plain": [
              "2    4\n",
              "1    3\n",
              "3    2\n",
              "5    1\n",
              "dtype: int64"
            ]
          },
          "metadata": {
            "tags": []
          },
          "execution_count": 17
        }
      ]
    },
    {
      "cell_type": "code",
      "metadata": {
        "colab": {
          "base_uri": "https://localhost:8080/"
        },
        "id": "NHsu7HfzPQuz",
        "outputId": "17eddbaa-2f41-4277-8406-e68cbe027cfc"
      },
      "source": [
        "s = pd.Series(np.random.randint(0, 7, size = 10))\n",
        "s"
      ],
      "execution_count": 16,
      "outputs": [
        {
          "output_type": "execute_result",
          "data": {
            "text/plain": [
              "0    2\n",
              "1    0\n",
              "2    3\n",
              "3    1\n",
              "4    5\n",
              "5    1\n",
              "6    1\n",
              "7    3\n",
              "8    3\n",
              "9    4\n",
              "dtype: int64"
            ]
          },
          "metadata": {
            "tags": []
          },
          "execution_count": 16
        }
      ]
    },
    {
      "cell_type": "code",
      "metadata": {
        "colab": {
          "base_uri": "https://localhost:8080/",
          "height": 343
        },
        "id": "nS9ihNYRPYyy",
        "outputId": "bb290960-bfd8-4375-eede-85bcb1c9079b"
      },
      "source": [
        "df"
      ],
      "execution_count": 14,
      "outputs": [
        {
          "output_type": "execute_result",
          "data": {
            "text/html": [
              "<div>\n",
              "<style scoped>\n",
              "    .dataframe tbody tr th:only-of-type {\n",
              "        vertical-align: middle;\n",
              "    }\n",
              "\n",
              "    .dataframe tbody tr th {\n",
              "        vertical-align: top;\n",
              "    }\n",
              "\n",
              "    .dataframe thead th {\n",
              "        text-align: right;\n",
              "    }\n",
              "</style>\n",
              "<table border=\"1\" class=\"dataframe\">\n",
              "  <thead>\n",
              "    <tr style=\"text-align: right;\">\n",
              "      <th></th>\n",
              "      <th>0</th>\n",
              "      <th>1</th>\n",
              "      <th>2</th>\n",
              "      <th>3</th>\n",
              "    </tr>\n",
              "  </thead>\n",
              "  <tbody>\n",
              "    <tr>\n",
              "      <th>0</th>\n",
              "      <td>0.436012</td>\n",
              "      <td>0.940035</td>\n",
              "      <td>-1.023520</td>\n",
              "      <td>1.319841</td>\n",
              "    </tr>\n",
              "    <tr>\n",
              "      <th>1</th>\n",
              "      <td>-0.269103</td>\n",
              "      <td>-0.217796</td>\n",
              "      <td>-1.472993</td>\n",
              "      <td>-1.444462</td>\n",
              "    </tr>\n",
              "    <tr>\n",
              "      <th>2</th>\n",
              "      <td>-0.161043</td>\n",
              "      <td>1.422705</td>\n",
              "      <td>0.874943</td>\n",
              "      <td>0.352590</td>\n",
              "    </tr>\n",
              "    <tr>\n",
              "      <th>3</th>\n",
              "      <td>0.325462</td>\n",
              "      <td>-1.763786</td>\n",
              "      <td>-0.856201</td>\n",
              "      <td>1.169572</td>\n",
              "    </tr>\n",
              "    <tr>\n",
              "      <th>4</th>\n",
              "      <td>-1.449221</td>\n",
              "      <td>1.662774</td>\n",
              "      <td>-0.428687</td>\n",
              "      <td>-0.741814</td>\n",
              "    </tr>\n",
              "    <tr>\n",
              "      <th>5</th>\n",
              "      <td>2.513067</td>\n",
              "      <td>-2.435929</td>\n",
              "      <td>-0.063508</td>\n",
              "      <td>1.096188</td>\n",
              "    </tr>\n",
              "    <tr>\n",
              "      <th>6</th>\n",
              "      <td>0.247377</td>\n",
              "      <td>0.425464</td>\n",
              "      <td>-0.102655</td>\n",
              "      <td>1.018937</td>\n",
              "    </tr>\n",
              "    <tr>\n",
              "      <th>7</th>\n",
              "      <td>-1.440490</td>\n",
              "      <td>-0.142596</td>\n",
              "      <td>-0.588306</td>\n",
              "      <td>-1.074983</td>\n",
              "    </tr>\n",
              "    <tr>\n",
              "      <th>8</th>\n",
              "      <td>1.667843</td>\n",
              "      <td>-0.982932</td>\n",
              "      <td>1.554279</td>\n",
              "      <td>1.147997</td>\n",
              "    </tr>\n",
              "    <tr>\n",
              "      <th>9</th>\n",
              "      <td>-1.141361</td>\n",
              "      <td>-0.264493</td>\n",
              "      <td>0.118485</td>\n",
              "      <td>0.594584</td>\n",
              "    </tr>\n",
              "  </tbody>\n",
              "</table>\n",
              "</div>"
            ],
            "text/plain": [
              "          0         1         2         3\n",
              "0  0.436012  0.940035 -1.023520  1.319841\n",
              "1 -0.269103 -0.217796 -1.472993 -1.444462\n",
              "2 -0.161043  1.422705  0.874943  0.352590\n",
              "3  0.325462 -1.763786 -0.856201  1.169572\n",
              "4 -1.449221  1.662774 -0.428687 -0.741814\n",
              "5  2.513067 -2.435929 -0.063508  1.096188\n",
              "6  0.247377  0.425464 -0.102655  1.018937\n",
              "7 -1.440490 -0.142596 -0.588306 -1.074983\n",
              "8  1.667843 -0.982932  1.554279  1.147997\n",
              "9 -1.141361 -0.264493  0.118485  0.594584"
            ]
          },
          "metadata": {
            "tags": []
          },
          "execution_count": 14
        }
      ]
    },
    {
      "cell_type": "code",
      "metadata": {
        "colab": {
          "base_uri": "https://localhost:8080/",
          "height": 343
        },
        "id": "TDV1jtCaPf_y",
        "outputId": "c142b828-28c3-48ee-d1f1-d43d73439fd0"
      },
      "source": [
        "df"
      ],
      "execution_count": 13,
      "outputs": [
        {
          "output_type": "execute_result",
          "data": {
            "text/html": [
              "<div>\n",
              "<style scoped>\n",
              "    .dataframe tbody tr th:only-of-type {\n",
              "        vertical-align: middle;\n",
              "    }\n",
              "\n",
              "    .dataframe tbody tr th {\n",
              "        vertical-align: top;\n",
              "    }\n",
              "\n",
              "    .dataframe thead th {\n",
              "        text-align: right;\n",
              "    }\n",
              "</style>\n",
              "<table border=\"1\" class=\"dataframe\">\n",
              "  <thead>\n",
              "    <tr style=\"text-align: right;\">\n",
              "      <th></th>\n",
              "      <th>0</th>\n",
              "      <th>1</th>\n",
              "      <th>2</th>\n",
              "      <th>3</th>\n",
              "    </tr>\n",
              "  </thead>\n",
              "  <tbody>\n",
              "    <tr>\n",
              "      <th>0</th>\n",
              "      <td>0.436012</td>\n",
              "      <td>0.940035</td>\n",
              "      <td>-1.023520</td>\n",
              "      <td>1.319841</td>\n",
              "    </tr>\n",
              "    <tr>\n",
              "      <th>1</th>\n",
              "      <td>-0.269103</td>\n",
              "      <td>-0.217796</td>\n",
              "      <td>-1.472993</td>\n",
              "      <td>-1.444462</td>\n",
              "    </tr>\n",
              "    <tr>\n",
              "      <th>2</th>\n",
              "      <td>-0.161043</td>\n",
              "      <td>1.422705</td>\n",
              "      <td>0.874943</td>\n",
              "      <td>0.352590</td>\n",
              "    </tr>\n",
              "    <tr>\n",
              "      <th>3</th>\n",
              "      <td>0.325462</td>\n",
              "      <td>-1.763786</td>\n",
              "      <td>-0.856201</td>\n",
              "      <td>1.169572</td>\n",
              "    </tr>\n",
              "    <tr>\n",
              "      <th>4</th>\n",
              "      <td>-1.449221</td>\n",
              "      <td>1.662774</td>\n",
              "      <td>-0.428687</td>\n",
              "      <td>-0.741814</td>\n",
              "    </tr>\n",
              "    <tr>\n",
              "      <th>5</th>\n",
              "      <td>2.513067</td>\n",
              "      <td>-2.435929</td>\n",
              "      <td>-0.063508</td>\n",
              "      <td>1.096188</td>\n",
              "    </tr>\n",
              "    <tr>\n",
              "      <th>6</th>\n",
              "      <td>0.247377</td>\n",
              "      <td>0.425464</td>\n",
              "      <td>-0.102655</td>\n",
              "      <td>1.018937</td>\n",
              "    </tr>\n",
              "    <tr>\n",
              "      <th>7</th>\n",
              "      <td>-1.440490</td>\n",
              "      <td>-0.142596</td>\n",
              "      <td>-0.588306</td>\n",
              "      <td>-1.074983</td>\n",
              "    </tr>\n",
              "    <tr>\n",
              "      <th>8</th>\n",
              "      <td>1.667843</td>\n",
              "      <td>-0.982932</td>\n",
              "      <td>1.554279</td>\n",
              "      <td>1.147997</td>\n",
              "    </tr>\n",
              "    <tr>\n",
              "      <th>9</th>\n",
              "      <td>-1.141361</td>\n",
              "      <td>-0.264493</td>\n",
              "      <td>0.118485</td>\n",
              "      <td>0.594584</td>\n",
              "    </tr>\n",
              "  </tbody>\n",
              "</table>\n",
              "</div>"
            ],
            "text/plain": [
              "          0         1         2         3\n",
              "0  0.436012  0.940035 -1.023520  1.319841\n",
              "1 -0.269103 -0.217796 -1.472993 -1.444462\n",
              "2 -0.161043  1.422705  0.874943  0.352590\n",
              "3  0.325462 -1.763786 -0.856201  1.169572\n",
              "4 -1.449221  1.662774 -0.428687 -0.741814\n",
              "5  2.513067 -2.435929 -0.063508  1.096188\n",
              "6  0.247377  0.425464 -0.102655  1.018937\n",
              "7 -1.440490 -0.142596 -0.588306 -1.074983\n",
              "8  1.667843 -0.982932  1.554279  1.147997\n",
              "9 -1.141361 -0.264493  0.118485  0.594584"
            ]
          },
          "metadata": {
            "tags": []
          },
          "execution_count": 13
        }
      ]
    },
    {
      "cell_type": "code",
      "metadata": {
        "colab": {
          "base_uri": "https://localhost:8080/",
          "height": 343
        },
        "id": "EVpKyq5kPqdC",
        "outputId": "e389e69e-5e39-4669-9a15-c6f1d23af84f"
      },
      "source": [
        "df = pd.DataFrame(np.random.randn(10, 4))\n",
        "df"
      ],
      "execution_count": 12,
      "outputs": [
        {
          "output_type": "execute_result",
          "data": {
            "text/html": [
              "<div>\n",
              "<style scoped>\n",
              "    .dataframe tbody tr th:only-of-type {\n",
              "        vertical-align: middle;\n",
              "    }\n",
              "\n",
              "    .dataframe tbody tr th {\n",
              "        vertical-align: top;\n",
              "    }\n",
              "\n",
              "    .dataframe thead th {\n",
              "        text-align: right;\n",
              "    }\n",
              "</style>\n",
              "<table border=\"1\" class=\"dataframe\">\n",
              "  <thead>\n",
              "    <tr style=\"text-align: right;\">\n",
              "      <th></th>\n",
              "      <th>0</th>\n",
              "      <th>1</th>\n",
              "      <th>2</th>\n",
              "      <th>3</th>\n",
              "    </tr>\n",
              "  </thead>\n",
              "  <tbody>\n",
              "    <tr>\n",
              "      <th>0</th>\n",
              "      <td>0.436012</td>\n",
              "      <td>0.940035</td>\n",
              "      <td>-1.023520</td>\n",
              "      <td>1.319841</td>\n",
              "    </tr>\n",
              "    <tr>\n",
              "      <th>1</th>\n",
              "      <td>-0.269103</td>\n",
              "      <td>-0.217796</td>\n",
              "      <td>-1.472993</td>\n",
              "      <td>-1.444462</td>\n",
              "    </tr>\n",
              "    <tr>\n",
              "      <th>2</th>\n",
              "      <td>-0.161043</td>\n",
              "      <td>1.422705</td>\n",
              "      <td>0.874943</td>\n",
              "      <td>0.352590</td>\n",
              "    </tr>\n",
              "    <tr>\n",
              "      <th>3</th>\n",
              "      <td>0.325462</td>\n",
              "      <td>-1.763786</td>\n",
              "      <td>-0.856201</td>\n",
              "      <td>1.169572</td>\n",
              "    </tr>\n",
              "    <tr>\n",
              "      <th>4</th>\n",
              "      <td>-1.449221</td>\n",
              "      <td>1.662774</td>\n",
              "      <td>-0.428687</td>\n",
              "      <td>-0.741814</td>\n",
              "    </tr>\n",
              "    <tr>\n",
              "      <th>5</th>\n",
              "      <td>2.513067</td>\n",
              "      <td>-2.435929</td>\n",
              "      <td>-0.063508</td>\n",
              "      <td>1.096188</td>\n",
              "    </tr>\n",
              "    <tr>\n",
              "      <th>6</th>\n",
              "      <td>0.247377</td>\n",
              "      <td>0.425464</td>\n",
              "      <td>-0.102655</td>\n",
              "      <td>1.018937</td>\n",
              "    </tr>\n",
              "    <tr>\n",
              "      <th>7</th>\n",
              "      <td>-1.440490</td>\n",
              "      <td>-0.142596</td>\n",
              "      <td>-0.588306</td>\n",
              "      <td>-1.074983</td>\n",
              "    </tr>\n",
              "    <tr>\n",
              "      <th>8</th>\n",
              "      <td>1.667843</td>\n",
              "      <td>-0.982932</td>\n",
              "      <td>1.554279</td>\n",
              "      <td>1.147997</td>\n",
              "    </tr>\n",
              "    <tr>\n",
              "      <th>9</th>\n",
              "      <td>-1.141361</td>\n",
              "      <td>-0.264493</td>\n",
              "      <td>0.118485</td>\n",
              "      <td>0.594584</td>\n",
              "    </tr>\n",
              "  </tbody>\n",
              "</table>\n",
              "</div>"
            ],
            "text/plain": [
              "          0         1         2         3\n",
              "0  0.436012  0.940035 -1.023520  1.319841\n",
              "1 -0.269103 -0.217796 -1.472993 -1.444462\n",
              "2 -0.161043  1.422705  0.874943  0.352590\n",
              "3  0.325462 -1.763786 -0.856201  1.169572\n",
              "4 -1.449221  1.662774 -0.428687 -0.741814\n",
              "5  2.513067 -2.435929 -0.063508  1.096188\n",
              "6  0.247377  0.425464 -0.102655  1.018937\n",
              "7 -1.440490 -0.142596 -0.588306 -1.074983\n",
              "8  1.667843 -0.982932  1.554279  1.147997\n",
              "9 -1.141361 -0.264493  0.118485  0.594584"
            ]
          },
          "metadata": {
            "tags": []
          },
          "execution_count": 12
        }
      ]
    },
    {
      "cell_type": "code",
      "metadata": {
        "colab": {
          "base_uri": "https://localhost:8080/",
          "height": 136
        },
        "id": "1sEDzci-P8Pz",
        "outputId": "a8f860e5-0b1b-4527-ed7b-1a75ec8cb28a"
      },
      "source": [
        "df[:3]"
      ],
      "execution_count": 21,
      "outputs": [
        {
          "output_type": "execute_result",
          "data": {
            "text/html": [
              "<div>\n",
              "<style scoped>\n",
              "    .dataframe tbody tr th:only-of-type {\n",
              "        vertical-align: middle;\n",
              "    }\n",
              "\n",
              "    .dataframe tbody tr th {\n",
              "        vertical-align: top;\n",
              "    }\n",
              "\n",
              "    .dataframe thead th {\n",
              "        text-align: right;\n",
              "    }\n",
              "</style>\n",
              "<table border=\"1\" class=\"dataframe\">\n",
              "  <thead>\n",
              "    <tr style=\"text-align: right;\">\n",
              "      <th></th>\n",
              "      <th>0</th>\n",
              "      <th>1</th>\n",
              "      <th>2</th>\n",
              "      <th>3</th>\n",
              "    </tr>\n",
              "  </thead>\n",
              "  <tbody>\n",
              "    <tr>\n",
              "      <th>0</th>\n",
              "      <td>0.436012</td>\n",
              "      <td>0.940035</td>\n",
              "      <td>-1.023520</td>\n",
              "      <td>1.319841</td>\n",
              "    </tr>\n",
              "    <tr>\n",
              "      <th>1</th>\n",
              "      <td>-0.269103</td>\n",
              "      <td>-0.217796</td>\n",
              "      <td>-1.472993</td>\n",
              "      <td>-1.444462</td>\n",
              "    </tr>\n",
              "    <tr>\n",
              "      <th>2</th>\n",
              "      <td>-0.161043</td>\n",
              "      <td>1.422705</td>\n",
              "      <td>0.874943</td>\n",
              "      <td>0.352590</td>\n",
              "    </tr>\n",
              "  </tbody>\n",
              "</table>\n",
              "</div>"
            ],
            "text/plain": [
              "          0         1         2         3\n",
              "0  0.436012  0.940035 -1.023520  1.319841\n",
              "1 -0.269103 -0.217796 -1.472993 -1.444462\n",
              "2 -0.161043  1.422705  0.874943  0.352590"
            ]
          },
          "metadata": {
            "tags": []
          },
          "execution_count": 21
        }
      ]
    },
    {
      "cell_type": "code",
      "metadata": {
        "colab": {
          "base_uri": "https://localhost:8080/",
          "height": 166
        },
        "id": "heSvTA6aQPaS",
        "outputId": "c4c00782-1523-46d4-aab1-d684e4007261"
      },
      "source": [
        "df[3:7]"
      ],
      "execution_count": 22,
      "outputs": [
        {
          "output_type": "execute_result",
          "data": {
            "text/html": [
              "<div>\n",
              "<style scoped>\n",
              "    .dataframe tbody tr th:only-of-type {\n",
              "        vertical-align: middle;\n",
              "    }\n",
              "\n",
              "    .dataframe tbody tr th {\n",
              "        vertical-align: top;\n",
              "    }\n",
              "\n",
              "    .dataframe thead th {\n",
              "        text-align: right;\n",
              "    }\n",
              "</style>\n",
              "<table border=\"1\" class=\"dataframe\">\n",
              "  <thead>\n",
              "    <tr style=\"text-align: right;\">\n",
              "      <th></th>\n",
              "      <th>0</th>\n",
              "      <th>1</th>\n",
              "      <th>2</th>\n",
              "      <th>3</th>\n",
              "    </tr>\n",
              "  </thead>\n",
              "  <tbody>\n",
              "    <tr>\n",
              "      <th>3</th>\n",
              "      <td>0.325462</td>\n",
              "      <td>-1.763786</td>\n",
              "      <td>-0.856201</td>\n",
              "      <td>1.169572</td>\n",
              "    </tr>\n",
              "    <tr>\n",
              "      <th>4</th>\n",
              "      <td>-1.449221</td>\n",
              "      <td>1.662774</td>\n",
              "      <td>-0.428687</td>\n",
              "      <td>-0.741814</td>\n",
              "    </tr>\n",
              "    <tr>\n",
              "      <th>5</th>\n",
              "      <td>2.513067</td>\n",
              "      <td>-2.435929</td>\n",
              "      <td>-0.063508</td>\n",
              "      <td>1.096188</td>\n",
              "    </tr>\n",
              "    <tr>\n",
              "      <th>6</th>\n",
              "      <td>0.247377</td>\n",
              "      <td>0.425464</td>\n",
              "      <td>-0.102655</td>\n",
              "      <td>1.018937</td>\n",
              "    </tr>\n",
              "  </tbody>\n",
              "</table>\n",
              "</div>"
            ],
            "text/plain": [
              "          0         1         2         3\n",
              "3  0.325462 -1.763786 -0.856201  1.169572\n",
              "4 -1.449221  1.662774 -0.428687 -0.741814\n",
              "5  2.513067 -2.435929 -0.063508  1.096188\n",
              "6  0.247377  0.425464 -0.102655  1.018937"
            ]
          },
          "metadata": {
            "tags": []
          },
          "execution_count": 22
        }
      ]
    },
    {
      "cell_type": "code",
      "metadata": {
        "colab": {
          "base_uri": "https://localhost:8080/",
          "height": 136
        },
        "id": "18T_3eq7QV7C",
        "outputId": "0a4e6edc-3fa2-41c1-810f-dc3e3fbbda26"
      },
      "source": [
        "df[7:]"
      ],
      "execution_count": 23,
      "outputs": [
        {
          "output_type": "execute_result",
          "data": {
            "text/html": [
              "<div>\n",
              "<style scoped>\n",
              "    .dataframe tbody tr th:only-of-type {\n",
              "        vertical-align: middle;\n",
              "    }\n",
              "\n",
              "    .dataframe tbody tr th {\n",
              "        vertical-align: top;\n",
              "    }\n",
              "\n",
              "    .dataframe thead th {\n",
              "        text-align: right;\n",
              "    }\n",
              "</style>\n",
              "<table border=\"1\" class=\"dataframe\">\n",
              "  <thead>\n",
              "    <tr style=\"text-align: right;\">\n",
              "      <th></th>\n",
              "      <th>0</th>\n",
              "      <th>1</th>\n",
              "      <th>2</th>\n",
              "      <th>3</th>\n",
              "    </tr>\n",
              "  </thead>\n",
              "  <tbody>\n",
              "    <tr>\n",
              "      <th>7</th>\n",
              "      <td>-1.440490</td>\n",
              "      <td>-0.142596</td>\n",
              "      <td>-0.588306</td>\n",
              "      <td>-1.074983</td>\n",
              "    </tr>\n",
              "    <tr>\n",
              "      <th>8</th>\n",
              "      <td>1.667843</td>\n",
              "      <td>-0.982932</td>\n",
              "      <td>1.554279</td>\n",
              "      <td>1.147997</td>\n",
              "    </tr>\n",
              "    <tr>\n",
              "      <th>9</th>\n",
              "      <td>-1.141361</td>\n",
              "      <td>-0.264493</td>\n",
              "      <td>0.118485</td>\n",
              "      <td>0.594584</td>\n",
              "    </tr>\n",
              "  </tbody>\n",
              "</table>\n",
              "</div>"
            ],
            "text/plain": [
              "          0         1         2         3\n",
              "7 -1.440490 -0.142596 -0.588306 -1.074983\n",
              "8  1.667843 -0.982932  1.554279  1.147997\n",
              "9 -1.141361 -0.264493  0.118485  0.594584"
            ]
          },
          "metadata": {
            "tags": []
          },
          "execution_count": 23
        }
      ]
    },
    {
      "cell_type": "code",
      "metadata": {
        "colab": {
          "base_uri": "https://localhost:8080/"
        },
        "id": "shSdYd7xQXkS",
        "outputId": "5eef99cd-ed53-478e-a8d1-814092c1f275"
      },
      "source": [
        "pieces = [df[:3], df[3:7], df[7:]]\n",
        "pieces"
      ],
      "execution_count": 24,
      "outputs": [
        {
          "output_type": "execute_result",
          "data": {
            "text/plain": [
              "[          0         1         2         3\n",
              " 0  0.436012  0.940035 -1.023520  1.319841\n",
              " 1 -0.269103 -0.217796 -1.472993 -1.444462\n",
              " 2 -0.161043  1.422705  0.874943  0.352590,\n",
              "           0         1         2         3\n",
              " 3  0.325462 -1.763786 -0.856201  1.169572\n",
              " 4 -1.449221  1.662774 -0.428687 -0.741814\n",
              " 5  2.513067 -2.435929 -0.063508  1.096188\n",
              " 6  0.247377  0.425464 -0.102655  1.018937,\n",
              "           0         1         2         3\n",
              " 7 -1.440490 -0.142596 -0.588306 -1.074983\n",
              " 8  1.667843 -0.982932  1.554279  1.147997\n",
              " 9 -1.141361 -0.264493  0.118485  0.594584]"
            ]
          },
          "metadata": {
            "tags": []
          },
          "execution_count": 24
        }
      ]
    },
    {
      "cell_type": "code",
      "metadata": {
        "colab": {
          "base_uri": "https://localhost:8080/",
          "height": 136
        },
        "id": "JcbXTHpOQhfi",
        "outputId": "51d04e38-a566-4905-8722-17a948a92737"
      },
      "source": [
        "pieces[0]"
      ],
      "execution_count": 27,
      "outputs": [
        {
          "output_type": "execute_result",
          "data": {
            "text/html": [
              "<div>\n",
              "<style scoped>\n",
              "    .dataframe tbody tr th:only-of-type {\n",
              "        vertical-align: middle;\n",
              "    }\n",
              "\n",
              "    .dataframe tbody tr th {\n",
              "        vertical-align: top;\n",
              "    }\n",
              "\n",
              "    .dataframe thead th {\n",
              "        text-align: right;\n",
              "    }\n",
              "</style>\n",
              "<table border=\"1\" class=\"dataframe\">\n",
              "  <thead>\n",
              "    <tr style=\"text-align: right;\">\n",
              "      <th></th>\n",
              "      <th>0</th>\n",
              "      <th>1</th>\n",
              "      <th>2</th>\n",
              "      <th>3</th>\n",
              "    </tr>\n",
              "  </thead>\n",
              "  <tbody>\n",
              "    <tr>\n",
              "      <th>0</th>\n",
              "      <td>0.436012</td>\n",
              "      <td>0.940035</td>\n",
              "      <td>-1.023520</td>\n",
              "      <td>1.319841</td>\n",
              "    </tr>\n",
              "    <tr>\n",
              "      <th>1</th>\n",
              "      <td>-0.269103</td>\n",
              "      <td>-0.217796</td>\n",
              "      <td>-1.472993</td>\n",
              "      <td>-1.444462</td>\n",
              "    </tr>\n",
              "    <tr>\n",
              "      <th>2</th>\n",
              "      <td>-0.161043</td>\n",
              "      <td>1.422705</td>\n",
              "      <td>0.874943</td>\n",
              "      <td>0.352590</td>\n",
              "    </tr>\n",
              "  </tbody>\n",
              "</table>\n",
              "</div>"
            ],
            "text/plain": [
              "          0         1         2         3\n",
              "0  0.436012  0.940035 -1.023520  1.319841\n",
              "1 -0.269103 -0.217796 -1.472993 -1.444462\n",
              "2 -0.161043  1.422705  0.874943  0.352590"
            ]
          },
          "metadata": {
            "tags": []
          },
          "execution_count": 27
        }
      ]
    },
    {
      "cell_type": "code",
      "metadata": {
        "colab": {
          "base_uri": "https://localhost:8080/",
          "height": 136
        },
        "id": "ajeFi6cRQnmC",
        "outputId": "f63cd8dc-9d09-4b9b-a134-a18e61409e72"
      },
      "source": [
        "pieces[0]"
      ],
      "execution_count": 28,
      "outputs": [
        {
          "output_type": "execute_result",
          "data": {
            "text/html": [
              "<div>\n",
              "<style scoped>\n",
              "    .dataframe tbody tr th:only-of-type {\n",
              "        vertical-align: middle;\n",
              "    }\n",
              "\n",
              "    .dataframe tbody tr th {\n",
              "        vertical-align: top;\n",
              "    }\n",
              "\n",
              "    .dataframe thead th {\n",
              "        text-align: right;\n",
              "    }\n",
              "</style>\n",
              "<table border=\"1\" class=\"dataframe\">\n",
              "  <thead>\n",
              "    <tr style=\"text-align: right;\">\n",
              "      <th></th>\n",
              "      <th>0</th>\n",
              "      <th>1</th>\n",
              "      <th>2</th>\n",
              "      <th>3</th>\n",
              "    </tr>\n",
              "  </thead>\n",
              "  <tbody>\n",
              "    <tr>\n",
              "      <th>0</th>\n",
              "      <td>0.436012</td>\n",
              "      <td>0.940035</td>\n",
              "      <td>-1.023520</td>\n",
              "      <td>1.319841</td>\n",
              "    </tr>\n",
              "    <tr>\n",
              "      <th>1</th>\n",
              "      <td>-0.269103</td>\n",
              "      <td>-0.217796</td>\n",
              "      <td>-1.472993</td>\n",
              "      <td>-1.444462</td>\n",
              "    </tr>\n",
              "    <tr>\n",
              "      <th>2</th>\n",
              "      <td>-0.161043</td>\n",
              "      <td>1.422705</td>\n",
              "      <td>0.874943</td>\n",
              "      <td>0.352590</td>\n",
              "    </tr>\n",
              "  </tbody>\n",
              "</table>\n",
              "</div>"
            ],
            "text/plain": [
              "          0         1         2         3\n",
              "0  0.436012  0.940035 -1.023520  1.319841\n",
              "1 -0.269103 -0.217796 -1.472993 -1.444462\n",
              "2 -0.161043  1.422705  0.874943  0.352590"
            ]
          },
          "metadata": {
            "tags": []
          },
          "execution_count": 28
        }
      ]
    },
    {
      "cell_type": "code",
      "metadata": {
        "colab": {
          "base_uri": "https://localhost:8080/",
          "height": 166
        },
        "id": "WV9WQyJ0Qshx",
        "outputId": "38293a08-2251-4c23-d308-9e08378cda46"
      },
      "source": [
        "pieces[1]"
      ],
      "execution_count": 29,
      "outputs": [
        {
          "output_type": "execute_result",
          "data": {
            "text/html": [
              "<div>\n",
              "<style scoped>\n",
              "    .dataframe tbody tr th:only-of-type {\n",
              "        vertical-align: middle;\n",
              "    }\n",
              "\n",
              "    .dataframe tbody tr th {\n",
              "        vertical-align: top;\n",
              "    }\n",
              "\n",
              "    .dataframe thead th {\n",
              "        text-align: right;\n",
              "    }\n",
              "</style>\n",
              "<table border=\"1\" class=\"dataframe\">\n",
              "  <thead>\n",
              "    <tr style=\"text-align: right;\">\n",
              "      <th></th>\n",
              "      <th>0</th>\n",
              "      <th>1</th>\n",
              "      <th>2</th>\n",
              "      <th>3</th>\n",
              "    </tr>\n",
              "  </thead>\n",
              "  <tbody>\n",
              "    <tr>\n",
              "      <th>3</th>\n",
              "      <td>0.325462</td>\n",
              "      <td>-1.763786</td>\n",
              "      <td>-0.856201</td>\n",
              "      <td>1.169572</td>\n",
              "    </tr>\n",
              "    <tr>\n",
              "      <th>4</th>\n",
              "      <td>-1.449221</td>\n",
              "      <td>1.662774</td>\n",
              "      <td>-0.428687</td>\n",
              "      <td>-0.741814</td>\n",
              "    </tr>\n",
              "    <tr>\n",
              "      <th>5</th>\n",
              "      <td>2.513067</td>\n",
              "      <td>-2.435929</td>\n",
              "      <td>-0.063508</td>\n",
              "      <td>1.096188</td>\n",
              "    </tr>\n",
              "    <tr>\n",
              "      <th>6</th>\n",
              "      <td>0.247377</td>\n",
              "      <td>0.425464</td>\n",
              "      <td>-0.102655</td>\n",
              "      <td>1.018937</td>\n",
              "    </tr>\n",
              "  </tbody>\n",
              "</table>\n",
              "</div>"
            ],
            "text/plain": [
              "          0         1         2         3\n",
              "3  0.325462 -1.763786 -0.856201  1.169572\n",
              "4 -1.449221  1.662774 -0.428687 -0.741814\n",
              "5  2.513067 -2.435929 -0.063508  1.096188\n",
              "6  0.247377  0.425464 -0.102655  1.018937"
            ]
          },
          "metadata": {
            "tags": []
          },
          "execution_count": 29
        }
      ]
    },
    {
      "cell_type": "code",
      "metadata": {
        "colab": {
          "base_uri": "https://localhost:8080/",
          "height": 136
        },
        "id": "hosEK_KFQtwi",
        "outputId": "fae3109f-a18d-470d-9a27-9b9c02c3de26"
      },
      "source": [
        "pieces[2]"
      ],
      "execution_count": 30,
      "outputs": [
        {
          "output_type": "execute_result",
          "data": {
            "text/html": [
              "<div>\n",
              "<style scoped>\n",
              "    .dataframe tbody tr th:only-of-type {\n",
              "        vertical-align: middle;\n",
              "    }\n",
              "\n",
              "    .dataframe tbody tr th {\n",
              "        vertical-align: top;\n",
              "    }\n",
              "\n",
              "    .dataframe thead th {\n",
              "        text-align: right;\n",
              "    }\n",
              "</style>\n",
              "<table border=\"1\" class=\"dataframe\">\n",
              "  <thead>\n",
              "    <tr style=\"text-align: right;\">\n",
              "      <th></th>\n",
              "      <th>0</th>\n",
              "      <th>1</th>\n",
              "      <th>2</th>\n",
              "      <th>3</th>\n",
              "    </tr>\n",
              "  </thead>\n",
              "  <tbody>\n",
              "    <tr>\n",
              "      <th>7</th>\n",
              "      <td>-1.440490</td>\n",
              "      <td>-0.142596</td>\n",
              "      <td>-0.588306</td>\n",
              "      <td>-1.074983</td>\n",
              "    </tr>\n",
              "    <tr>\n",
              "      <th>8</th>\n",
              "      <td>1.667843</td>\n",
              "      <td>-0.982932</td>\n",
              "      <td>1.554279</td>\n",
              "      <td>1.147997</td>\n",
              "    </tr>\n",
              "    <tr>\n",
              "      <th>9</th>\n",
              "      <td>-1.141361</td>\n",
              "      <td>-0.264493</td>\n",
              "      <td>0.118485</td>\n",
              "      <td>0.594584</td>\n",
              "    </tr>\n",
              "  </tbody>\n",
              "</table>\n",
              "</div>"
            ],
            "text/plain": [
              "          0         1         2         3\n",
              "7 -1.440490 -0.142596 -0.588306 -1.074983\n",
              "8  1.667843 -0.982932  1.554279  1.147997\n",
              "9 -1.141361 -0.264493  0.118485  0.594584"
            ]
          },
          "metadata": {
            "tags": []
          },
          "execution_count": 30
        }
      ]
    },
    {
      "cell_type": "code",
      "metadata": {
        "colab": {
          "base_uri": "https://localhost:8080/",
          "height": 343
        },
        "id": "zgEibJ_CQu9C",
        "outputId": "5d3768ec-4d82-4630-8319-09bc85b7acac"
      },
      "source": [
        "pd.concat(pieces)"
      ],
      "execution_count": 31,
      "outputs": [
        {
          "output_type": "execute_result",
          "data": {
            "text/html": [
              "<div>\n",
              "<style scoped>\n",
              "    .dataframe tbody tr th:only-of-type {\n",
              "        vertical-align: middle;\n",
              "    }\n",
              "\n",
              "    .dataframe tbody tr th {\n",
              "        vertical-align: top;\n",
              "    }\n",
              "\n",
              "    .dataframe thead th {\n",
              "        text-align: right;\n",
              "    }\n",
              "</style>\n",
              "<table border=\"1\" class=\"dataframe\">\n",
              "  <thead>\n",
              "    <tr style=\"text-align: right;\">\n",
              "      <th></th>\n",
              "      <th>0</th>\n",
              "      <th>1</th>\n",
              "      <th>2</th>\n",
              "      <th>3</th>\n",
              "    </tr>\n",
              "  </thead>\n",
              "  <tbody>\n",
              "    <tr>\n",
              "      <th>0</th>\n",
              "      <td>0.436012</td>\n",
              "      <td>0.940035</td>\n",
              "      <td>-1.023520</td>\n",
              "      <td>1.319841</td>\n",
              "    </tr>\n",
              "    <tr>\n",
              "      <th>1</th>\n",
              "      <td>-0.269103</td>\n",
              "      <td>-0.217796</td>\n",
              "      <td>-1.472993</td>\n",
              "      <td>-1.444462</td>\n",
              "    </tr>\n",
              "    <tr>\n",
              "      <th>2</th>\n",
              "      <td>-0.161043</td>\n",
              "      <td>1.422705</td>\n",
              "      <td>0.874943</td>\n",
              "      <td>0.352590</td>\n",
              "    </tr>\n",
              "    <tr>\n",
              "      <th>3</th>\n",
              "      <td>0.325462</td>\n",
              "      <td>-1.763786</td>\n",
              "      <td>-0.856201</td>\n",
              "      <td>1.169572</td>\n",
              "    </tr>\n",
              "    <tr>\n",
              "      <th>4</th>\n",
              "      <td>-1.449221</td>\n",
              "      <td>1.662774</td>\n",
              "      <td>-0.428687</td>\n",
              "      <td>-0.741814</td>\n",
              "    </tr>\n",
              "    <tr>\n",
              "      <th>5</th>\n",
              "      <td>2.513067</td>\n",
              "      <td>-2.435929</td>\n",
              "      <td>-0.063508</td>\n",
              "      <td>1.096188</td>\n",
              "    </tr>\n",
              "    <tr>\n",
              "      <th>6</th>\n",
              "      <td>0.247377</td>\n",
              "      <td>0.425464</td>\n",
              "      <td>-0.102655</td>\n",
              "      <td>1.018937</td>\n",
              "    </tr>\n",
              "    <tr>\n",
              "      <th>7</th>\n",
              "      <td>-1.440490</td>\n",
              "      <td>-0.142596</td>\n",
              "      <td>-0.588306</td>\n",
              "      <td>-1.074983</td>\n",
              "    </tr>\n",
              "    <tr>\n",
              "      <th>8</th>\n",
              "      <td>1.667843</td>\n",
              "      <td>-0.982932</td>\n",
              "      <td>1.554279</td>\n",
              "      <td>1.147997</td>\n",
              "    </tr>\n",
              "    <tr>\n",
              "      <th>9</th>\n",
              "      <td>-1.141361</td>\n",
              "      <td>-0.264493</td>\n",
              "      <td>0.118485</td>\n",
              "      <td>0.594584</td>\n",
              "    </tr>\n",
              "  </tbody>\n",
              "</table>\n",
              "</div>"
            ],
            "text/plain": [
              "          0         1         2         3\n",
              "0  0.436012  0.940035 -1.023520  1.319841\n",
              "1 -0.269103 -0.217796 -1.472993 -1.444462\n",
              "2 -0.161043  1.422705  0.874943  0.352590\n",
              "3  0.325462 -1.763786 -0.856201  1.169572\n",
              "4 -1.449221  1.662774 -0.428687 -0.741814\n",
              "5  2.513067 -2.435929 -0.063508  1.096188\n",
              "6  0.247377  0.425464 -0.102655  1.018937\n",
              "7 -1.440490 -0.142596 -0.588306 -1.074983\n",
              "8  1.667843 -0.982932  1.554279  1.147997\n",
              "9 -1.141361 -0.264493  0.118485  0.594584"
            ]
          },
          "metadata": {
            "tags": []
          },
          "execution_count": 31
        }
      ]
    },
    {
      "cell_type": "code",
      "metadata": {
        "id": "eq2Wa0tFQ3ii"
      },
      "source": [
        "left = pd.DataFrame(\n",
        "    \n",
        "  {\n",
        "      'key':['foo', 'foo'],\n",
        "     'lval': [1, 2]\n",
        "   }\n",
        "    )\n",
        "right = pd.DataFrame({'key':['foo', 'foo'], 'rval': [4, 5]})\n"
      ],
      "execution_count": 32,
      "outputs": []
    },
    {
      "cell_type": "code",
      "metadata": {
        "colab": {
          "base_uri": "https://localhost:8080/",
          "height": 106
        },
        "id": "MM8HZSNVehQF",
        "outputId": "1ad84e50-6d56-4f88-a0a7-55ae7b597c03"
      },
      "source": [
        "left"
      ],
      "execution_count": 33,
      "outputs": [
        {
          "output_type": "execute_result",
          "data": {
            "text/html": [
              "<div>\n",
              "<style scoped>\n",
              "    .dataframe tbody tr th:only-of-type {\n",
              "        vertical-align: middle;\n",
              "    }\n",
              "\n",
              "    .dataframe tbody tr th {\n",
              "        vertical-align: top;\n",
              "    }\n",
              "\n",
              "    .dataframe thead th {\n",
              "        text-align: right;\n",
              "    }\n",
              "</style>\n",
              "<table border=\"1\" class=\"dataframe\">\n",
              "  <thead>\n",
              "    <tr style=\"text-align: right;\">\n",
              "      <th></th>\n",
              "      <th>key</th>\n",
              "      <th>lval</th>\n",
              "    </tr>\n",
              "  </thead>\n",
              "  <tbody>\n",
              "    <tr>\n",
              "      <th>0</th>\n",
              "      <td>foo</td>\n",
              "      <td>1</td>\n",
              "    </tr>\n",
              "    <tr>\n",
              "      <th>1</th>\n",
              "      <td>foo</td>\n",
              "      <td>2</td>\n",
              "    </tr>\n",
              "  </tbody>\n",
              "</table>\n",
              "</div>"
            ],
            "text/plain": [
              "   key  lval\n",
              "0  foo     1\n",
              "1  foo     2"
            ]
          },
          "metadata": {
            "tags": []
          },
          "execution_count": 33
        }
      ]
    },
    {
      "cell_type": "code",
      "metadata": {
        "colab": {
          "base_uri": "https://localhost:8080/",
          "height": 106
        },
        "id": "NpUJDQhqeiQ9",
        "outputId": "5a27e027-052a-4170-a389-bbbfebd0be99"
      },
      "source": [
        "right"
      ],
      "execution_count": 34,
      "outputs": [
        {
          "output_type": "execute_result",
          "data": {
            "text/html": [
              "<div>\n",
              "<style scoped>\n",
              "    .dataframe tbody tr th:only-of-type {\n",
              "        vertical-align: middle;\n",
              "    }\n",
              "\n",
              "    .dataframe tbody tr th {\n",
              "        vertical-align: top;\n",
              "    }\n",
              "\n",
              "    .dataframe thead th {\n",
              "        text-align: right;\n",
              "    }\n",
              "</style>\n",
              "<table border=\"1\" class=\"dataframe\">\n",
              "  <thead>\n",
              "    <tr style=\"text-align: right;\">\n",
              "      <th></th>\n",
              "      <th>key</th>\n",
              "      <th>rval</th>\n",
              "    </tr>\n",
              "  </thead>\n",
              "  <tbody>\n",
              "    <tr>\n",
              "      <th>0</th>\n",
              "      <td>foo</td>\n",
              "      <td>4</td>\n",
              "    </tr>\n",
              "    <tr>\n",
              "      <th>1</th>\n",
              "      <td>foo</td>\n",
              "      <td>5</td>\n",
              "    </tr>\n",
              "  </tbody>\n",
              "</table>\n",
              "</div>"
            ],
            "text/plain": [
              "   key  rval\n",
              "0  foo     4\n",
              "1  foo     5"
            ]
          },
          "metadata": {
            "tags": []
          },
          "execution_count": 34
        }
      ]
    },
    {
      "cell_type": "code",
      "metadata": {
        "colab": {
          "base_uri": "https://localhost:8080/",
          "height": 166
        },
        "id": "I95VXvETekgN",
        "outputId": "58b65142-abfe-4142-919b-3c4448450cc4"
      },
      "source": [
        " pd.merge(left, right, on = 'key')"
      ],
      "execution_count": 35,
      "outputs": [
        {
          "output_type": "execute_result",
          "data": {
            "text/html": [
              "<div>\n",
              "<style scoped>\n",
              "    .dataframe tbody tr th:only-of-type {\n",
              "        vertical-align: middle;\n",
              "    }\n",
              "\n",
              "    .dataframe tbody tr th {\n",
              "        vertical-align: top;\n",
              "    }\n",
              "\n",
              "    .dataframe thead th {\n",
              "        text-align: right;\n",
              "    }\n",
              "</style>\n",
              "<table border=\"1\" class=\"dataframe\">\n",
              "  <thead>\n",
              "    <tr style=\"text-align: right;\">\n",
              "      <th></th>\n",
              "      <th>key</th>\n",
              "      <th>lval</th>\n",
              "      <th>rval</th>\n",
              "    </tr>\n",
              "  </thead>\n",
              "  <tbody>\n",
              "    <tr>\n",
              "      <th>0</th>\n",
              "      <td>foo</td>\n",
              "      <td>1</td>\n",
              "      <td>4</td>\n",
              "    </tr>\n",
              "    <tr>\n",
              "      <th>1</th>\n",
              "      <td>foo</td>\n",
              "      <td>1</td>\n",
              "      <td>5</td>\n",
              "    </tr>\n",
              "    <tr>\n",
              "      <th>2</th>\n",
              "      <td>foo</td>\n",
              "      <td>2</td>\n",
              "      <td>4</td>\n",
              "    </tr>\n",
              "    <tr>\n",
              "      <th>3</th>\n",
              "      <td>foo</td>\n",
              "      <td>2</td>\n",
              "      <td>5</td>\n",
              "    </tr>\n",
              "  </tbody>\n",
              "</table>\n",
              "</div>"
            ],
            "text/plain": [
              "   key  lval  rval\n",
              "0  foo     1     4\n",
              "1  foo     1     5\n",
              "2  foo     2     4\n",
              "3  foo     2     5"
            ]
          },
          "metadata": {
            "tags": []
          },
          "execution_count": 35
        }
      ]
    },
    {
      "cell_type": "code",
      "metadata": {
        "id": "7JzRdf2Ne21e"
      },
      "source": [
        "df = pd.DataFrame(np.random.randn(8, 4), columns=['A', 'B', 'C', 'D'])\n"
      ],
      "execution_count": 36,
      "outputs": []
    },
    {
      "cell_type": "code",
      "metadata": {
        "colab": {
          "base_uri": "https://localhost:8080/",
          "height": 284
        },
        "id": "2gewdaPOfD_N",
        "outputId": "fa472dba-ded9-49a8-93ae-2d487115bd06"
      },
      "source": [
        "df"
      ],
      "execution_count": 37,
      "outputs": [
        {
          "output_type": "execute_result",
          "data": {
            "text/html": [
              "<div>\n",
              "<style scoped>\n",
              "    .dataframe tbody tr th:only-of-type {\n",
              "        vertical-align: middle;\n",
              "    }\n",
              "\n",
              "    .dataframe tbody tr th {\n",
              "        vertical-align: top;\n",
              "    }\n",
              "\n",
              "    .dataframe thead th {\n",
              "        text-align: right;\n",
              "    }\n",
              "</style>\n",
              "<table border=\"1\" class=\"dataframe\">\n",
              "  <thead>\n",
              "    <tr style=\"text-align: right;\">\n",
              "      <th></th>\n",
              "      <th>A</th>\n",
              "      <th>B</th>\n",
              "      <th>C</th>\n",
              "      <th>D</th>\n",
              "    </tr>\n",
              "  </thead>\n",
              "  <tbody>\n",
              "    <tr>\n",
              "      <th>0</th>\n",
              "      <td>-1.674363</td>\n",
              "      <td>-0.688392</td>\n",
              "      <td>-0.809182</td>\n",
              "      <td>-0.179638</td>\n",
              "    </tr>\n",
              "    <tr>\n",
              "      <th>1</th>\n",
              "      <td>-1.411284</td>\n",
              "      <td>0.987489</td>\n",
              "      <td>-2.534303</td>\n",
              "      <td>0.324461</td>\n",
              "    </tr>\n",
              "    <tr>\n",
              "      <th>2</th>\n",
              "      <td>-0.491541</td>\n",
              "      <td>0.328425</td>\n",
              "      <td>0.419632</td>\n",
              "      <td>1.216067</td>\n",
              "    </tr>\n",
              "    <tr>\n",
              "      <th>3</th>\n",
              "      <td>-0.853763</td>\n",
              "      <td>-0.716446</td>\n",
              "      <td>1.213368</td>\n",
              "      <td>0.290018</td>\n",
              "    </tr>\n",
              "    <tr>\n",
              "      <th>4</th>\n",
              "      <td>1.091785</td>\n",
              "      <td>3.145260</td>\n",
              "      <td>0.152008</td>\n",
              "      <td>-0.693461</td>\n",
              "    </tr>\n",
              "    <tr>\n",
              "      <th>5</th>\n",
              "      <td>-0.225818</td>\n",
              "      <td>0.621315</td>\n",
              "      <td>0.510015</td>\n",
              "      <td>0.322380</td>\n",
              "    </tr>\n",
              "    <tr>\n",
              "      <th>6</th>\n",
              "      <td>-1.535661</td>\n",
              "      <td>-0.409910</td>\n",
              "      <td>-1.084993</td>\n",
              "      <td>1.427695</td>\n",
              "    </tr>\n",
              "    <tr>\n",
              "      <th>7</th>\n",
              "      <td>0.387008</td>\n",
              "      <td>0.343996</td>\n",
              "      <td>2.147984</td>\n",
              "      <td>0.807494</td>\n",
              "    </tr>\n",
              "  </tbody>\n",
              "</table>\n",
              "</div>"
            ],
            "text/plain": [
              "          A         B         C         D\n",
              "0 -1.674363 -0.688392 -0.809182 -0.179638\n",
              "1 -1.411284  0.987489 -2.534303  0.324461\n",
              "2 -0.491541  0.328425  0.419632  1.216067\n",
              "3 -0.853763 -0.716446  1.213368  0.290018\n",
              "4  1.091785  3.145260  0.152008 -0.693461\n",
              "5 -0.225818  0.621315  0.510015  0.322380\n",
              "6 -1.535661 -0.409910 -1.084993  1.427695\n",
              "7  0.387008  0.343996  2.147984  0.807494"
            ]
          },
          "metadata": {
            "tags": []
          },
          "execution_count": 37
        }
      ]
    },
    {
      "cell_type": "code",
      "metadata": {
        "colab": {
          "base_uri": "https://localhost:8080/"
        },
        "id": "ZnSqq-DUfEWO",
        "outputId": "9a7a9373-0864-41e7-e993-e73dce3534fd"
      },
      "source": [
        "s = df.iloc[3]\n",
        "s"
      ],
      "execution_count": 40,
      "outputs": [
        {
          "output_type": "execute_result",
          "data": {
            "text/plain": [
              "A   -0.853763\n",
              "B   -0.716446\n",
              "C    1.213368\n",
              "D    0.290018\n",
              "Name: 3, dtype: float64"
            ]
          },
          "metadata": {
            "tags": []
          },
          "execution_count": 40
        }
      ]
    },
    {
      "cell_type": "code",
      "metadata": {
        "colab": {
          "base_uri": "https://localhost:8080/"
        },
        "id": "vl4NN6ayfHRO",
        "outputId": "2c09f0c8-bd13-4d53-d46f-fcabea170e1f"
      },
      "source": [
        "s"
      ],
      "execution_count": 41,
      "outputs": [
        {
          "output_type": "execute_result",
          "data": {
            "text/plain": [
              "A   -0.853763\n",
              "B   -0.716446\n",
              "C    1.213368\n",
              "D    0.290018\n",
              "Name: 3, dtype: float64"
            ]
          },
          "metadata": {
            "tags": []
          },
          "execution_count": 41
        }
      ]
    },
    {
      "cell_type": "code",
      "metadata": {
        "colab": {
          "base_uri": "https://localhost:8080/"
        },
        "id": "bp2AaAowfJPu",
        "outputId": "e46f173c-e8dd-4836-f561-f8d2745df99b"
      },
      "source": [
        "print(df.append(s, ignore_index=True))"
      ],
      "execution_count": 42,
      "outputs": [
        {
          "output_type": "stream",
          "text": [
            "          A         B         C         D\n",
            "0 -1.674363 -0.688392 -0.809182 -0.179638\n",
            "1 -1.411284  0.987489 -2.534303  0.324461\n",
            "2 -0.491541  0.328425  0.419632  1.216067\n",
            "3 -0.853763 -0.716446  1.213368  0.290018\n",
            "4  1.091785  3.145260  0.152008 -0.693461\n",
            "5 -0.225818  0.621315  0.510015  0.322380\n",
            "6 -1.535661 -0.409910 -1.084993  1.427695\n",
            "7  0.387008  0.343996  2.147984  0.807494\n",
            "8 -0.853763 -0.716446  1.213368  0.290018\n"
          ],
          "name": "stdout"
        }
      ]
    },
    {
      "cell_type": "code",
      "metadata": {
        "id": "mfeRoYwTfSg9"
      },
      "source": [
        ""
      ],
      "execution_count": null,
      "outputs": []
    }
  ]
}