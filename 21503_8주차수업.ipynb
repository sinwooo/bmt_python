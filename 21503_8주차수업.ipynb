{
  "nbformat": 4,
  "nbformat_minor": 0,
  "metadata": {
    "colab": {
      "name": "21503_8주차수업.ipynb",
      "provenance": [],
      "mount_file_id": "1QEO6sDk1Bn0MlyhRzAEmphUfCw4Oyixs",
      "authorship_tag": "ABX9TyPytT8YORiIGffzeFd1DMlt",
      "include_colab_link": true
    },
    "kernelspec": {
      "name": "python3",
      "display_name": "Python 3"
    },
    "language_info": {
      "name": "python"
    }
  },
  "cells": [
    {
      "cell_type": "markdown",
      "metadata": {
        "id": "view-in-github",
        "colab_type": "text"
      },
      "source": [
        "<a href=\"https://colab.research.google.com/github/sinwooo/bmt_python/blob/main/21503_8%EC%A3%BC%EC%B0%A8%EC%88%98%EC%97%85.ipynb\" target=\"_parent\"><img src=\"https://colab.research.google.com/assets/colab-badge.svg\" alt=\"Open In Colab\"/></a>"
      ]
    },
    {
      "cell_type": "code",
      "metadata": {
        "colab": {
          "base_uri": "https://localhost:8080/",
          "height": 298
        },
        "id": "YiIAT_wK-gP3",
        "outputId": "d4885f71-563e-4b65-eef7-7ffac4275ba6"
      },
      "source": [
        "lst_even= list()\n",
        "lst_odd=[]\n",
        "\n",
        "for i in range(5):\n",
        "  num=int(input('숫자 입력 :'))\n",
        "\n",
        "  if num % 2==0:\n",
        "    lst_even.append(num)\n",
        "  else :\n",
        "    lst_odd.append(num)\n",
        "\n",
        "print(f'짝수 리스트{lst_even}')\n",
        "print(f'홀수 리스트{lst_odd}')"
      ],
      "execution_count": 4,
      "outputs": [
        {
          "output_type": "stream",
          "text": [
            "숫자 입력 :5\n",
            "숫자 입력 :2\n",
            "숫자 입력 :\n"
          ],
          "name": "stdout"
        },
        {
          "output_type": "error",
          "ename": "ValueError",
          "evalue": "ignored",
          "traceback": [
            "\u001b[0;31m---------------------------------------------------------------------------\u001b[0m",
            "\u001b[0;31mValueError\u001b[0m                                Traceback (most recent call last)",
            "\u001b[0;32m<ipython-input-4-f4817f4b5133>\u001b[0m in \u001b[0;36m<module>\u001b[0;34m()\u001b[0m\n\u001b[1;32m      3\u001b[0m \u001b[0;34m\u001b[0m\u001b[0m\n\u001b[1;32m      4\u001b[0m \u001b[0;32mfor\u001b[0m \u001b[0mi\u001b[0m \u001b[0;32min\u001b[0m \u001b[0mrange\u001b[0m\u001b[0;34m(\u001b[0m\u001b[0;36m5\u001b[0m\u001b[0;34m)\u001b[0m\u001b[0;34m:\u001b[0m\u001b[0;34m\u001b[0m\u001b[0;34m\u001b[0m\u001b[0m\n\u001b[0;32m----> 5\u001b[0;31m   \u001b[0mnum\u001b[0m\u001b[0;34m=\u001b[0m\u001b[0mint\u001b[0m\u001b[0;34m(\u001b[0m\u001b[0minput\u001b[0m\u001b[0;34m(\u001b[0m\u001b[0;34m'숫자 입력 :'\u001b[0m\u001b[0;34m)\u001b[0m\u001b[0;34m)\u001b[0m\u001b[0;34m\u001b[0m\u001b[0;34m\u001b[0m\u001b[0m\n\u001b[0m\u001b[1;32m      6\u001b[0m \u001b[0;34m\u001b[0m\u001b[0m\n\u001b[1;32m      7\u001b[0m   \u001b[0;32mif\u001b[0m \u001b[0mnum\u001b[0m \u001b[0;34m%\u001b[0m \u001b[0;36m2\u001b[0m\u001b[0;34m==\u001b[0m\u001b[0;36m0\u001b[0m\u001b[0;34m:\u001b[0m\u001b[0;34m\u001b[0m\u001b[0;34m\u001b[0m\u001b[0m\n",
            "\u001b[0;31mValueError\u001b[0m: invalid literal for int() with base 10: ''"
          ]
        }
      ]
    },
    {
      "cell_type": "code",
      "metadata": {
        "id": "NIFIj2nWAQO7"
      },
      "source": [
        "area = { '서울시':57, '부산시':62, '대구시':59,\n",
        "         '인천시':59, '강화군':58, '서해5도':64,\n",
        "         '광주시':62, '대전시':60, '울산시':53,\n",
        "         '세종시':58 }\n",
        "\n",
        "report = { '위험':'설사, 구토 등 식중독 의심 증상이 있으면 의료기관을 방문하여 의사 지시에 따름',\n",
        "           '경고':'조리도구는 세척, 소독 등을 거쳐 세균 오염을 방지하고 유통기한, 보관 방법 등을 확인하여 음식물 조리, 보관에 각별히 주의하여야 함',\n",
        "           '주의':'조리 음식은 중심부까지 75도(어패류 85도)로 1분 이상 완전히 익히고 외부로 운반할 때에는 가급적 아이스박스 등을 이용하여 10도 이하에서 보관 및 운반',\n",
        "           '관심':'화장실 사용 후, 귀가 후, 조리 전에 손 씻기를 생활화'\n",
        "          }\n",
        "\n",
        "areashow = {}\n",
        "\n",
        "for key, value in area.items():\n",
        "  if value >= 86: check = '위험'\n",
        "  elif value >= 71 : check = '경고'\n",
        "  elif value >= 55 : check = '주의'\n",
        "  else : check = '관심'\n",
        "\n",
        "  areashow[key] = check\n"
      ],
      "execution_count": 15,
      "outputs": []
    },
    {
      "cell_type": "code",
      "metadata": {
        "colab": {
          "base_uri": "https://localhost:8080/"
        },
        "id": "mRn9TQ3tAwfT",
        "outputId": "9824530e-d33e-4850-8489-1dc1a8b29d33"
      },
      "source": [
        "print('지역목록', list(area.keys()))"
      ],
      "execution_count": 13,
      "outputs": [
        {
          "output_type": "stream",
          "text": [
            "지역목록 ['서울시', '부산시', '대구시', '인천시', '강화군', '서해5도', '광주시', '대전시', '울산시', '세종시']\n"
          ],
          "name": "stdout"
        }
      ]
    },
    {
      "cell_type": "code",
      "metadata": {
        "colab": {
          "base_uri": "https://localhost:8080/"
        },
        "id": "_wUBlyTaDV7U",
        "outputId": "42bdf4b2-3200-41e7-ff30-9273d99494e1"
      },
      "source": [
        "indata=input('지역별 대처요령의 지역을 입력 : ')\n",
        "inrest=areashow[indata]\n",
        "print(report[indata])"
      ],
      "execution_count": 14,
      "outputs": [
        {
          "output_type": "stream",
          "text": [
            "지역별 대처요령의 지역을 입력 : 부산시\n",
            "조리 음식은 중심부까지 75도(어패류 85도)로 1분 이상 완전히 익히고 외부로 운반할 때에는 가급적 아이스박스 등을 이용하여 10도 이하에서 보관 및 운반\n"
          ],
          "name": "stdout"
        }
      ]
    },
    {
      "cell_type": "code",
      "metadata": {
        "colab": {
          "base_uri": "https://localhost:8080/",
          "height": 35
        },
        "id": "XqsMcIlEDq30",
        "outputId": "ca7fa08c-f8ad-4dca-a351-08355a6c6db0"
      },
      "source": [
        "areashow['서울시']"
      ],
      "execution_count": 18,
      "outputs": [
        {
          "output_type": "execute_result",
          "data": {
            "application/vnd.google.colaboratory.intrinsic+json": {
              "type": "string"
            },
            "text/plain": [
              "'주의'"
            ]
          },
          "metadata": {
            "tags": []
          },
          "execution_count": 18
        }
      ]
    },
    {
      "cell_type": "code",
      "metadata": {
        "colab": {
          "base_uri": "https://localhost:8080/",
          "height": 53
        },
        "id": "MalsBBqdEDrV",
        "outputId": "45db99db-d6cb-4ca0-a531-659c9804d45c"
      },
      "source": [
        "report['주의']"
      ],
      "execution_count": 20,
      "outputs": [
        {
          "output_type": "execute_result",
          "data": {
            "application/vnd.google.colaboratory.intrinsic+json": {
              "type": "string"
            },
            "text/plain": [
              "'조리 음식은 중심부까지 75도(어패류 85도)로 1분 이상 완전히 익히고 외부로 운반할 때에는 가급적 아이스박스 등을 이용하여 10도 이하에서 보관 및 운반'"
            ]
          },
          "metadata": {
            "tags": []
          },
          "execution_count": 20
        }
      ]
    },
    {
      "cell_type": "code",
      "metadata": {
        "id": "mpspLgJoEQjF"
      },
      "source": [
        "def cal(num1,num2,op):\n",
        "  ans=0\n",
        "\n",
        "  if op=='+':ans=num1+num2\n",
        "  elif op=='-':ans=num1-num2\n",
        "  elif op=='*':ans=num1*num2\n",
        "  elif op=='/':ans=num1/num2\n",
        "  print(f'{num1}{op}{num2} = {ans}')\n",
        "  return 'hellow'"
      ],
      "execution_count": 28,
      "outputs": []
    },
    {
      "cell_type": "code",
      "metadata": {
        "colab": {
          "base_uri": "https://localhost:8080/"
        },
        "id": "L_WKjKCxGFhk",
        "outputId": "809ae56f-183f-4443-cf54-a7e30f8cefe4"
      },
      "source": [
        "a=cal(2,3,'+')"
      ],
      "execution_count": 32,
      "outputs": [
        {
          "output_type": "stream",
          "text": [
            "23+ = 0\n"
          ],
          "name": "stdout"
        }
      ]
    },
    {
      "cell_type": "code",
      "metadata": {
        "colab": {
          "base_uri": "https://localhost:8080/",
          "height": 35
        },
        "id": "AYZqJcKtGKqU",
        "outputId": "4990224e-42ce-4dd9-cf61-969a1e143c2c"
      },
      "source": [
        "a"
      ],
      "execution_count": 30,
      "outputs": [
        {
          "output_type": "execute_result",
          "data": {
            "application/vnd.google.colaboratory.intrinsic+json": {
              "type": "string"
            },
            "text/plain": [
              "'hellow'"
            ]
          },
          "metadata": {
            "tags": []
          },
          "execution_count": 30
        }
      ]
    },
    {
      "cell_type": "code",
      "metadata": {
        "colab": {
          "base_uri": "https://localhost:8080/"
        },
        "id": "ln5zx7fPGrr0",
        "outputId": "8cdf8d08-7521-4878-8f44-a4d00d99fe1a"
      },
      "source": [
        "width=int(input('가로길이를 입력하시오 : '))\n",
        "height=int(input('높이를 입력하시오 : '))\n",
        "area=width*height\n",
        "if width==height:\n",
        "  print(f'정사각형의 넓이 : {area}')\n",
        "else:\n",
        "  print(f'직사각형의 넓이 : {area}')"
      ],
      "execution_count": 34,
      "outputs": [
        {
          "output_type": "stream",
          "text": [
            "가로길이를 입력하시오 : 322\n",
            "높이를 입력하시오 : 41\n",
            "직사각형의 넓이 : 13202\n"
          ],
          "name": "stdout"
        }
      ]
    },
    {
      "cell_type": "code",
      "metadata": {
        "colab": {
          "base_uri": "https://localhost:8080/"
        },
        "id": "W3trbljMHa9b",
        "outputId": "7cbbfd81-7a0c-42b3-cf7d-d7b130291f2a"
      },
      "source": [
        "path = '/content/drive/My Drive/data/'\n",
        "f=open(path+'test1.txt','w')\n",
        "f.write('안녕하세요')\n",
        "f.close"
      ],
      "execution_count": 4,
      "outputs": [
        {
          "output_type": "execute_result",
          "data": {
            "text/plain": [
              "<function TextIOWrapper.close>"
            ]
          },
          "metadata": {
            "tags": []
          },
          "execution_count": 4
        }
      ]
    },
    {
      "cell_type": "code",
      "metadata": {
        "colab": {
          "base_uri": "https://localhost:8080/"
        },
        "id": "ovHnrfJJLotS",
        "outputId": "391232a2-1bdc-4186-834e-9c7639a23103"
      },
      "source": [
        "##path = '/content/drive/My Drive/data/'\n",
        "f=open('지역 평균 기온.txt') \n",
        "data = f.read()\n",
        "f.close()\n",
        "print(data)"
      ],
      "execution_count": 14,
      "outputs": [
        {
          "output_type": "stream",
          "text": [
            "서울,20\n",
            "부산,26\n",
            "대구,24\n",
            "인천,24\n",
            "광주,25\n",
            "대전,22\n",
            "울산,26\n",
            "세종,23\n",
            "경기,24\n",
            "강원,23\n",
            "충북,26\n",
            "충남,22\n",
            "전북,24\n",
            "전남,23\n",
            "경북,28\n",
            "경남,29\n",
            "제주,26\n"
          ],
          "name": "stdout"
        }
      ]
    },
    {
      "cell_type": "code",
      "metadata": {
        "colab": {
          "base_uri": "https://localhost:8080/"
        },
        "id": "FOEeRXsWRnPb",
        "outputId": "4cef147e-2235-4403-bc7d-3441aad9e6a6"
      },
      "source": [
        "fp=open('지역 평균 기온.txt')\n",
        "data=fp.readlines()\n",
        "fp.close\n",
        "data"
      ],
      "execution_count": 13,
      "outputs": [
        {
          "output_type": "execute_result",
          "data": {
            "text/plain": [
              "['서울,20\\n',\n",
              " '부산,26\\n',\n",
              " '대구,24\\n',\n",
              " '인천,24\\n',\n",
              " '광주,25\\n',\n",
              " '대전,22\\n',\n",
              " '울산,26\\n',\n",
              " '세종,23\\n',\n",
              " '경기,24\\n',\n",
              " '강원,23\\n',\n",
              " '충북,26\\n',\n",
              " '충남,22\\n',\n",
              " '전북,24\\n',\n",
              " '전남,23\\n',\n",
              " '경북,28\\n',\n",
              " '경남,29\\n',\n",
              " '제주,26']"
            ]
          },
          "metadata": {
            "tags": []
          },
          "execution_count": 13
        }
      ]
    },
    {
      "cell_type": "code",
      "metadata": {
        "colab": {
          "base_uri": "https://localhost:8080/"
        },
        "id": "_AAk6trXTDZQ",
        "outputId": "abcbc28d-bba3-4251-b592-9959ccd9e5a9"
      },
      "source": [
        "fp=open('지역 평균 기온.txt')\n",
        "data=fp.readlines()\n",
        "fp.close\n",
        "data\n",
        "dt={}\n",
        "for line in data:\n",
        "  line=line.replace('\\n','')\n",
        "  items=line.split(',')\n",
        "  dt[items[0]]=int(items[1])\n",
        "dt"
      ],
      "execution_count": 20,
      "outputs": [
        {
          "output_type": "execute_result",
          "data": {
            "text/plain": [
              "{'강원': 23,\n",
              " '경기': 24,\n",
              " '경남': 29,\n",
              " '경북': 28,\n",
              " '광주': 25,\n",
              " '대구': 24,\n",
              " '대전': 22,\n",
              " '부산': 26,\n",
              " '서울': 20,\n",
              " '세종': 23,\n",
              " '울산': 26,\n",
              " '인천': 24,\n",
              " '전남': 23,\n",
              " '전북': 24,\n",
              " '제주': 26,\n",
              " '충남': 22,\n",
              " '충북': 26}"
            ]
          },
          "metadata": {
            "tags": []
          },
          "execution_count": 20
        }
      ]
    },
    {
      "cell_type": "code",
      "metadata": {
        "id": "FxxnbnpgVhCh"
      },
      "source": [
        ""
      ],
      "execution_count": null,
      "outputs": []
    }
  ]
}